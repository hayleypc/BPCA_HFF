{
  "nbformat": 4,
  "nbformat_minor": 0,
  "metadata": {
    "colab": {
      "provenance": [],
      "authorship_tag": "ABX9TyNwlVqbyOBhj+/2pTNzqL24",
      "include_colab_link": true
    },
    "kernelspec": {
      "name": "ir",
      "display_name": "R"
    },
    "language_info": {
      "name": "R"
    }
  },
  "cells": [
    {
      "cell_type": "markdown",
      "metadata": {
        "id": "view-in-github",
        "colab_type": "text"
      },
      "source": [
        "<a href=\"https://colab.research.google.com/github/hayleypc/BPCA_HFF/blob/main/HI_SOC_munging.ipynb\" target=\"_parent\"><img src=\"https://colab.research.google.com/assets/colab-badge.svg\" alt=\"Open In Colab\"/></a>"
      ]
    },
    {
      "cell_type": "code",
      "execution_count": 1,
      "metadata": {
        "colab": {
          "base_uri": "https://localhost:8080/"
        },
        "id": "oyj6Yndft76V",
        "outputId": "df016ad8-a9f0-4e24-b032-4df8e3366244"
      },
      "outputs": [
        {
          "output_type": "stream",
          "name": "stderr",
          "text": [
            "Installing packages into ‘/usr/local/lib/R/site-library’\n",
            "(as ‘lib’ is unspecified)\n",
            "\n",
            "also installing the dependency ‘Rcpp’\n",
            "\n",
            "\n"
          ]
        }
      ],
      "source": [
        "install.packages(c('data.table','ggplot2','magrittr','googledrive','openxlsx'))"
      ]
    },
    {
      "cell_type": "code",
      "source": [
        "library(data.table)\n",
        "library(ggplot2)\n",
        "library(magrittr)\n",
        "library(googledrive)\n",
        "library(openxlsx)"
      ],
      "metadata": {
        "id": "MD04wdqWwwfI"
      },
      "execution_count": 2,
      "outputs": []
    },
    {
      "cell_type": "code",
      "source": [
        "drive_auth(use_oob = TRUE, cache = FALSE)"
      ],
      "metadata": {
        "colab": {
          "base_uri": "https://localhost:8080/"
        },
        "id": "sCXG-A-lxNEt",
        "outputId": "59a5282b-86d9-4a5b-d9f5-c73b57f2290e"
      },
      "execution_count": 3,
      "outputs": [
        {
          "output_type": "stream",
          "name": "stderr",
          "text": [
            "Please point your browser to the following url: \n",
            "\n",
            "https://accounts.google.com/o/oauth2/v2/auth?client_id=603366585132-frjlouoa3s2ono25d2l9ukvhlsrlnr7k.apps.googleusercontent.com&scope=https%3A%2F%2Fwww.googleapis.com%2Fauth%2Fdrive%20https%3A%2F%2Fwww.googleapis.com%2Fauth%2Fuserinfo.email&redirect_uri=https%3A%2F%2Fwww.tidyverse.org%2Fgoogle-callback%2F&response_type=code&state=0395e61e50e58f50b10794a65a0287b7&access_type=offline&prompt=consent\n",
            "\n"
          ]
        },
        {
          "name": "stdout",
          "output_type": "stream",
          "text": [
            "Enter authorization code: eyJjb2RlIjoiNC8wQWZKb2hYblNrV2ZaOV9Ub2RDVDcxaHdRb05fNFdrZnNPdjJlaWticFBnMjNWcVhKQ2kxMWxGd3ZlLWR2SXZSdURCQXhRUSIsInN0YXRlIjoiMDM5NWU2MWU1MGU1OGY1MGIxMDc5NGE2NWEwMjg3YjcifQ==\n"
          ]
        }
      ]
    },
    {
      "cell_type": "markdown",
      "source": [
        "Soil Health Data"
      ],
      "metadata": {
        "id": "kYjN5rjpxa_b"
      }
    },
    {
      "cell_type": "code",
      "source": [
        "# https://docs.google.com/spreadsheets/d/1mCucq9SaugOtadGLqL5BH9yLMgZcJlcn/edit?usp=drive_link&ouid=116908933518305479206&rtpof=true&sd=true\n",
        "drive_download(file = as_id('1mCucq9SaugOtadGLqL5BH9yLMgZcJlcn'), path = '/content/SH_database.xlsx', overwrite = TRUE)"
      ],
      "metadata": {
        "colab": {
          "base_uri": "https://localhost:8080/"
        },
        "id": "8PuLgOYmxRcl",
        "outputId": "c67e9518-2700-42f2-b7a4-2e6ebda43bfe"
      },
      "execution_count": 4,
      "outputs": [
        {
          "output_type": "stream",
          "name": "stderr",
          "text": [
            "File downloaded:\n",
            "\n",
            "• \u001b[36mworking copy SH database.xlsx\u001b[39m \u001b[90m<id: 1mCucq9SaugOtadGLqL5BH9yLMgZcJlcn>\u001b[39m\n",
            "\n",
            "Saved locally as:\n",
            "\n",
            "• \u001b[34m/content/SH_database.xlsx\u001b[39m\n",
            "\n"
          ]
        }
      ]
    },
    {
      "cell_type": "markdown",
      "source": [
        "FIA Data"
      ],
      "metadata": {
        "id": "8WomRSzixZen"
      }
    },
    {
      "cell_type": "code",
      "source": [
        "# https://drive.google.com/file/d/1wGx6RbEyorRCy9Xhm_WdfpHmAUbkuzMk/view?usp=drive_link\n",
        "drive_download(file = as_id('1wGx6RbEyorRCy9Xhm_WdfpHmAUbkuzMk'), path = '/content/FIA.csv', overwrite = TRUE)"
      ],
      "metadata": {
        "colab": {
          "base_uri": "https://localhost:8080/"
        },
        "id": "m3ibEZIoxUYU",
        "outputId": "241facaa-1be5-4833-f16e-d7616247fac4"
      },
      "execution_count": 28,
      "outputs": [
        {
          "output_type": "stream",
          "name": "stderr",
          "text": [
            "Auto-refreshing stale OAuth token.\n",
            "\n",
            "File downloaded:\n",
            "\n",
            "• \u001b[36m2023_11_01FIA_soilcstocks.csv\u001b[39m \u001b[90m<id: 1wGx6RbEyorRCy9Xhm_WdfpHmAUbkuzMk>\u001b[39m\n",
            "\n",
            "Saved locally as:\n",
            "\n",
            "• \u001b[34m/content/FIA.csv\u001b[39m\n",
            "\n"
          ]
        }
      ]
    },
    {
      "cell_type": "markdown",
      "source": [
        "Soil C Database Data"
      ],
      "metadata": {
        "id": "6FyDlz3Yxgm_"
      }
    },
    {
      "cell_type": "code",
      "source": [
        "FIA_dt <- read.csv('/content/FIA.csv') %>% as.data.table()\n",
        "head(FIA_dt)"
      ],
      "metadata": {
        "colab": {
          "base_uri": "https://localhost:8080/",
          "height": 306
        },
        "id": "UNSgUm17-8nb",
        "outputId": "be4dc4b8-f719-4156-b9aa-597168f33bdd"
      },
      "execution_count": 31,
      "outputs": [
        {
          "output_type": "display_data",
          "data": {
            "text/html": [
              "<table class=\"dataframe\">\n",
              "<caption>A data.table: 6 × 105</caption>\n",
              "<thead>\n",
              "\t<tr><th scope=col>PLOT</th><th scope=col>INVYR</th><th scope=col>CN_loc</th><th scope=col>STATECD_loc</th><th scope=col>COUNTYCD_loc</th><th scope=col>SUBP_loc</th><th scope=col>INV_VST_NBR_loc</th><th scope=col>PLT_CN_loc</th><th scope=col>CYCLE_loc</th><th scope=col>CONDID</th><th scope=col>⋯</th><th scope=col>TOPO_POSITION_PNW</th><th scope=col>REMPER</th><th scope=col>NBP_CN</th><th scope=col>CONSERVATION_ZONE</th><th scope=col>Sum_C_TOTAL_PCT</th><th scope=col>NOTES_FLAG</th><th scope=col>SOC_Mg_Ac</th><th scope=col>SOC_Mg_Ha</th><th scope=col>Sum_SOC_Mg_Ha</th><th scope=col>Proportion_C_Stock</th></tr>\n",
              "\t<tr><th scope=col>&lt;int&gt;</th><th scope=col>&lt;int&gt;</th><th scope=col>&lt;dbl&gt;</th><th scope=col>&lt;int&gt;</th><th scope=col>&lt;int&gt;</th><th scope=col>&lt;int&gt;</th><th scope=col>&lt;int&gt;</th><th scope=col>&lt;dbl&gt;</th><th scope=col>&lt;int&gt;</th><th scope=col>&lt;int&gt;</th><th scope=col>⋯</th><th scope=col>&lt;int&gt;</th><th scope=col>&lt;dbl&gt;</th><th scope=col>&lt;dbl&gt;</th><th scope=col>&lt;chr&gt;</th><th scope=col>&lt;dbl&gt;</th><th scope=col>&lt;chr&gt;</th><th scope=col>&lt;dbl&gt;</th><th scope=col>&lt;dbl&gt;</th><th scope=col>&lt;dbl&gt;</th><th scope=col>&lt;dbl&gt;</th></tr>\n",
              "</thead>\n",
              "<tbody>\n",
              "\t<tr><td>1060</td><td>2019</td><td>1.219122e+15</td><td>15</td><td>7</td><td>2</td><td>1</td><td>4.975537e+14</td><td>3</td><td>1</td><td>⋯</td><td>4</td><td> NA</td><td>4.819775e+13</td><td> </td><td>12.16</td><td></td><td>35.07369</td><td>86.66884</td><td>298.8214</td><td>0.2900356</td></tr>\n",
              "\t<tr><td>1060</td><td>2019</td><td>1.219122e+15</td><td>15</td><td>7</td><td>2</td><td>1</td><td>4.975537e+14</td><td>3</td><td>1</td><td>⋯</td><td>4</td><td> NA</td><td>4.819775e+13</td><td> </td><td>12.16</td><td></td><td>33.76894</td><td>83.44473</td><td>298.8214</td><td>0.2792462</td></tr>\n",
              "\t<tr><td>1060</td><td>2019</td><td>1.219122e+15</td><td>15</td><td>7</td><td>2</td><td>1</td><td>4.975537e+14</td><td>3</td><td>1</td><td>⋯</td><td>4</td><td> NA</td><td>4.819775e+13</td><td> </td><td>12.16</td><td></td><td>20.08232</td><td>49.62441</td><td>298.8214</td><td>0.1660671</td></tr>\n",
              "\t<tr><td>1060</td><td>2019</td><td>1.219122e+15</td><td>15</td><td>7</td><td>2</td><td>1</td><td>4.975537e+14</td><td>3</td><td>1</td><td>⋯</td><td>4</td><td> NA</td><td>4.819775e+13</td><td> </td><td>12.16</td><td></td><td>18.03497</td><td>44.56532</td><td>298.8214</td><td>0.1491370</td></tr>\n",
              "\t<tr><td>1060</td><td>2019</td><td>1.219122e+15</td><td>15</td><td>7</td><td>2</td><td>1</td><td>4.975537e+14</td><td>3</td><td>1</td><td>⋯</td><td>4</td><td> NA</td><td>4.819775e+13</td><td> </td><td>12.16</td><td></td><td>13.96901</td><td>34.51811</td><td>298.8214</td><td>0.1155142</td></tr>\n",
              "\t<tr><td>1076</td><td>2019</td><td>1.219123e+15</td><td>15</td><td>7</td><td>2</td><td>1</td><td>4.975537e+14</td><td>3</td><td>1</td><td>⋯</td><td>4</td><td>6.6</td><td>4.819776e+13</td><td>P</td><td>32.84</td><td></td><td>33.67137</td><td>83.20364</td><td>325.0640</td><td>0.2559608</td></tr>\n",
              "</tbody>\n",
              "</table>\n"
            ],
            "text/markdown": "\nA data.table: 6 × 105\n\n| PLOT &lt;int&gt; | INVYR &lt;int&gt; | CN_loc &lt;dbl&gt; | STATECD_loc &lt;int&gt; | COUNTYCD_loc &lt;int&gt; | SUBP_loc &lt;int&gt; | INV_VST_NBR_loc &lt;int&gt; | PLT_CN_loc &lt;dbl&gt; | CYCLE_loc &lt;int&gt; | CONDID &lt;int&gt; | ⋯ ⋯ | TOPO_POSITION_PNW &lt;int&gt; | REMPER &lt;dbl&gt; | NBP_CN &lt;dbl&gt; | CONSERVATION_ZONE &lt;chr&gt; | Sum_C_TOTAL_PCT &lt;dbl&gt; | NOTES_FLAG &lt;chr&gt; | SOC_Mg_Ac &lt;dbl&gt; | SOC_Mg_Ha &lt;dbl&gt; | Sum_SOC_Mg_Ha &lt;dbl&gt; | Proportion_C_Stock &lt;dbl&gt; |\n|---|---|---|---|---|---|---|---|---|---|---|---|---|---|---|---|---|---|---|---|---|\n| 1060 | 2019 | 1.219122e+15 | 15 | 7 | 2 | 1 | 4.975537e+14 | 3 | 1 | ⋯ | 4 |  NA | 4.819775e+13 | <!----> | 12.16 | <!----> | 35.07369 | 86.66884 | 298.8214 | 0.2900356 |\n| 1060 | 2019 | 1.219122e+15 | 15 | 7 | 2 | 1 | 4.975537e+14 | 3 | 1 | ⋯ | 4 |  NA | 4.819775e+13 | <!----> | 12.16 | <!----> | 33.76894 | 83.44473 | 298.8214 | 0.2792462 |\n| 1060 | 2019 | 1.219122e+15 | 15 | 7 | 2 | 1 | 4.975537e+14 | 3 | 1 | ⋯ | 4 |  NA | 4.819775e+13 | <!----> | 12.16 | <!----> | 20.08232 | 49.62441 | 298.8214 | 0.1660671 |\n| 1060 | 2019 | 1.219122e+15 | 15 | 7 | 2 | 1 | 4.975537e+14 | 3 | 1 | ⋯ | 4 |  NA | 4.819775e+13 | <!----> | 12.16 | <!----> | 18.03497 | 44.56532 | 298.8214 | 0.1491370 |\n| 1060 | 2019 | 1.219122e+15 | 15 | 7 | 2 | 1 | 4.975537e+14 | 3 | 1 | ⋯ | 4 |  NA | 4.819775e+13 | <!----> | 12.16 | <!----> | 13.96901 | 34.51811 | 298.8214 | 0.1155142 |\n| 1076 | 2019 | 1.219123e+15 | 15 | 7 | 2 | 1 | 4.975537e+14 | 3 | 1 | ⋯ | 4 | 6.6 | 4.819776e+13 | P | 32.84 | <!----> | 33.67137 | 83.20364 | 325.0640 | 0.2559608 |\n\n",
            "text/latex": "A data.table: 6 × 105\n\\begin{tabular}{lllllllllllllllllllll}\n PLOT & INVYR & CN\\_loc & STATECD\\_loc & COUNTYCD\\_loc & SUBP\\_loc & INV\\_VST\\_NBR\\_loc & PLT\\_CN\\_loc & CYCLE\\_loc & CONDID & ⋯ & TOPO\\_POSITION\\_PNW & REMPER & NBP\\_CN & CONSERVATION\\_ZONE & Sum\\_C\\_TOTAL\\_PCT & NOTES\\_FLAG & SOC\\_Mg\\_Ac & SOC\\_Mg\\_Ha & Sum\\_SOC\\_Mg\\_Ha & Proportion\\_C\\_Stock\\\\\n <int> & <int> & <dbl> & <int> & <int> & <int> & <int> & <dbl> & <int> & <int> & ⋯ & <int> & <dbl> & <dbl> & <chr> & <dbl> & <chr> & <dbl> & <dbl> & <dbl> & <dbl>\\\\\n\\hline\n\t 1060 & 2019 & 1.219122e+15 & 15 & 7 & 2 & 1 & 4.975537e+14 & 3 & 1 & ⋯ & 4 &  NA & 4.819775e+13 &   & 12.16 &  & 35.07369 & 86.66884 & 298.8214 & 0.2900356\\\\\n\t 1060 & 2019 & 1.219122e+15 & 15 & 7 & 2 & 1 & 4.975537e+14 & 3 & 1 & ⋯ & 4 &  NA & 4.819775e+13 &   & 12.16 &  & 33.76894 & 83.44473 & 298.8214 & 0.2792462\\\\\n\t 1060 & 2019 & 1.219122e+15 & 15 & 7 & 2 & 1 & 4.975537e+14 & 3 & 1 & ⋯ & 4 &  NA & 4.819775e+13 &   & 12.16 &  & 20.08232 & 49.62441 & 298.8214 & 0.1660671\\\\\n\t 1060 & 2019 & 1.219122e+15 & 15 & 7 & 2 & 1 & 4.975537e+14 & 3 & 1 & ⋯ & 4 &  NA & 4.819775e+13 &   & 12.16 &  & 18.03497 & 44.56532 & 298.8214 & 0.1491370\\\\\n\t 1060 & 2019 & 1.219122e+15 & 15 & 7 & 2 & 1 & 4.975537e+14 & 3 & 1 & ⋯ & 4 &  NA & 4.819775e+13 &   & 12.16 &  & 13.96901 & 34.51811 & 298.8214 & 0.1155142\\\\\n\t 1076 & 2019 & 1.219123e+15 & 15 & 7 & 2 & 1 & 4.975537e+14 & 3 & 1 & ⋯ & 4 & 6.6 & 4.819776e+13 & P & 32.84 &  & 33.67137 & 83.20364 & 325.0640 & 0.2559608\\\\\n\\end{tabular}\n",
            "text/plain": [
              "  PLOT INVYR CN_loc       STATECD_loc COUNTYCD_loc SUBP_loc INV_VST_NBR_loc\n",
              "1 1060 2019  1.219122e+15 15          7            2        1              \n",
              "2 1060 2019  1.219122e+15 15          7            2        1              \n",
              "3 1060 2019  1.219122e+15 15          7            2        1              \n",
              "4 1060 2019  1.219122e+15 15          7            2        1              \n",
              "5 1060 2019  1.219122e+15 15          7            2        1              \n",
              "6 1076 2019  1.219123e+15 15          7            2        1              \n",
              "  PLT_CN_loc   CYCLE_loc CONDID ⋯ TOPO_POSITION_PNW REMPER NBP_CN      \n",
              "1 4.975537e+14 3         1      ⋯ 4                  NA    4.819775e+13\n",
              "2 4.975537e+14 3         1      ⋯ 4                  NA    4.819775e+13\n",
              "3 4.975537e+14 3         1      ⋯ 4                  NA    4.819775e+13\n",
              "4 4.975537e+14 3         1      ⋯ 4                  NA    4.819775e+13\n",
              "5 4.975537e+14 3         1      ⋯ 4                  NA    4.819775e+13\n",
              "6 4.975537e+14 3         1      ⋯ 4                 6.6    4.819776e+13\n",
              "  CONSERVATION_ZONE Sum_C_TOTAL_PCT NOTES_FLAG SOC_Mg_Ac SOC_Mg_Ha\n",
              "1                   12.16                      35.07369  86.66884 \n",
              "2                   12.16                      33.76894  83.44473 \n",
              "3                   12.16                      20.08232  49.62441 \n",
              "4                   12.16                      18.03497  44.56532 \n",
              "5                   12.16                      13.96901  34.51811 \n",
              "6 P                 32.84                      33.67137  83.20364 \n",
              "  Sum_SOC_Mg_Ha Proportion_C_Stock\n",
              "1 298.8214      0.2900356         \n",
              "2 298.8214      0.2792462         \n",
              "3 298.8214      0.1660671         \n",
              "4 298.8214      0.1491370         \n",
              "5 298.8214      0.1155142         \n",
              "6 325.0640      0.2559608         "
            ]
          },
          "metadata": {}
        }
      ]
    },
    {
      "cell_type": "code",
      "source": [
        "# https://drive.google.com/file/d/1-6qbEZ7Fg8hBKhFf8KLh1EFcDVaudyZF/view?usp=drive_link\n",
        "drive_download(file = as_id('1-6qbEZ7Fg8hBKhFf8KLh1EFcDVaudyZF'), path = '/content/HISOC_dbase.csv', overwrite = TRUE)"
      ],
      "metadata": {
        "colab": {
          "base_uri": "https://localhost:8080/"
        },
        "id": "hZlrmyxk9qj9",
        "outputId": "1a776830-22cd-4f96-bc12-bff99e34f08c"
      },
      "execution_count": 36,
      "outputs": [
        {
          "output_type": "stream",
          "name": "stderr",
          "text": [
            "File downloaded:\n",
            "\n",
            "• \u001b[36mHI_soil_C_crow_data_REV.csv\u001b[39m \u001b[90m<id: 1-6qbEZ7Fg8hBKhFf8KLh1EFcDVaudyZF>\u001b[39m\n",
            "\n",
            "Saved locally as:\n",
            "\n",
            "• \u001b[34m/content/HISOC_dbase.csv\u001b[39m\n",
            "\n"
          ]
        }
      ]
    },
    {
      "cell_type": "code",
      "source": [
        "SOC_dbase_dt <- read.csv('/content/HISOC_dbase.csv') %>% as.data.table()\n",
        "head(SOC_dbase_dt)"
      ],
      "metadata": {
        "colab": {
          "base_uri": "https://localhost:8080/",
          "height": 410
        },
        "id": "5BCwsuv1_s_7",
        "outputId": "4c727f05-e457-45f7-fd1e-b3644953da46"
      },
      "execution_count": 38,
      "outputs": [
        {
          "output_type": "display_data",
          "data": {
            "text/html": [
              "<table class=\"dataframe\">\n",
              "<caption>A data.table: 6 × 39</caption>\n",
              "<thead>\n",
              "\t<tr><th scope=col>PubID</th><th scope=col>DataID</th><th scope=col>Date.sampled</th><th scope=col>Island</th><th scope=col>Location</th><th scope=col>Latitude</th><th scope=col>Longitude</th><th scope=col>Land.use</th><th scope=col>Soil.cover</th><th scope=col>soil.order</th><th scope=col>⋯</th><th scope=col>Previous.land.use</th><th scope=col>Previous.plant.cover</th><th scope=col>Fertilizer.type</th><th scope=col>Fertilizer.rate..not.required.</th><th scope=col>Tillage.type</th><th scope=col>Tillage.frequency</th><th scope=col>Herbicide</th><th scope=col>Pesticide</th><th scope=col>Irrigation.type</th><th scope=col>Additional.soil.cover</th></tr>\n",
              "\t<tr><th scope=col>&lt;int&gt;</th><th scope=col>&lt;int&gt;</th><th scope=col>&lt;chr&gt;</th><th scope=col>&lt;chr&gt;</th><th scope=col>&lt;chr&gt;</th><th scope=col>&lt;dbl&gt;</th><th scope=col>&lt;dbl&gt;</th><th scope=col>&lt;chr&gt;</th><th scope=col>&lt;chr&gt;</th><th scope=col>&lt;chr&gt;</th><th scope=col>⋯</th><th scope=col>&lt;lgl&gt;</th><th scope=col>&lt;lgl&gt;</th><th scope=col>&lt;lgl&gt;</th><th scope=col>&lt;lgl&gt;</th><th scope=col>&lt;lgl&gt;</th><th scope=col>&lt;lgl&gt;</th><th scope=col>&lt;lgl&gt;</th><th scope=col>&lt;lgl&gt;</th><th scope=col>&lt;chr&gt;</th><th scope=col>&lt;lgl&gt;</th></tr>\n",
              "</thead>\n",
              "<tbody>\n",
              "\t<tr><td>3</td><td>1</td><td>1995</td><td>Hawaii </td><td>Honaunau Forest</td><td>19.4312</td><td>-155.855</td><td>forest</td><td>F. hudei, A. koa</td><td>Histosol</td><td>⋯</td><td>NA</td><td>NA</td><td>NA</td><td>NA</td><td>NA</td><td>NA</td><td>NA</td><td>NA</td><td></td><td>NA</td></tr>\n",
              "\t<tr><td>3</td><td>2</td><td>1995</td><td>Hawaii </td><td>Honaunau Forest</td><td>19.4333</td><td>-155.847</td><td>forest</td><td>F. hudei, A. koa</td><td>Histosol</td><td>⋯</td><td>NA</td><td>NA</td><td>NA</td><td>NA</td><td>NA</td><td>NA</td><td>NA</td><td>NA</td><td></td><td>NA</td></tr>\n",
              "\t<tr><td>3</td><td>3</td><td>1995</td><td>Hawaii </td><td>Honaunau Forest</td><td>19.4891</td><td>-155.863</td><td>forest</td><td>F. hudei, A. koa</td><td>Andisol </td><td>⋯</td><td>NA</td><td>NA</td><td>NA</td><td>NA</td><td>NA</td><td>NA</td><td>NA</td><td>NA</td><td></td><td>NA</td></tr>\n",
              "\t<tr><td>3</td><td>4</td><td>1995</td><td>Hawaii </td><td>Honaunau Forest</td><td>19.4353</td><td>-155.837</td><td>forest</td><td>F. hudei, A. koa</td><td>Histosol</td><td>⋯</td><td>NA</td><td>NA</td><td>NA</td><td>NA</td><td>NA</td><td>NA</td><td>NA</td><td>NA</td><td></td><td>NA</td></tr>\n",
              "\t<tr><td>3</td><td>5</td><td>1995</td><td>Hawaii </td><td>Honaunau Forest</td><td>19.4874</td><td>-155.841</td><td>forest</td><td>F. hudei, A. koa</td><td>Andisol </td><td>⋯</td><td>NA</td><td>NA</td><td>NA</td><td>NA</td><td>NA</td><td>NA</td><td>NA</td><td>NA</td><td></td><td>NA</td></tr>\n",
              "\t<tr><td>3</td><td>6</td><td>1995</td><td>Hawaii </td><td>Honaunau Forest</td><td>19.4872</td><td>-155.831</td><td>forest</td><td>F. hudei, A. koa</td><td>Andisol </td><td>⋯</td><td>NA</td><td>NA</td><td>NA</td><td>NA</td><td>NA</td><td>NA</td><td>NA</td><td>NA</td><td></td><td>NA</td></tr>\n",
              "</tbody>\n",
              "</table>\n"
            ],
            "text/markdown": "\nA data.table: 6 × 39\n\n| PubID &lt;int&gt; | DataID &lt;int&gt; | Date.sampled &lt;chr&gt; | Island &lt;chr&gt; | Location &lt;chr&gt; | Latitude &lt;dbl&gt; | Longitude &lt;dbl&gt; | Land.use &lt;chr&gt; | Soil.cover &lt;chr&gt; | soil.order &lt;chr&gt; | ⋯ ⋯ | Previous.land.use &lt;lgl&gt; | Previous.plant.cover &lt;lgl&gt; | Fertilizer.type &lt;lgl&gt; | Fertilizer.rate..not.required. &lt;lgl&gt; | Tillage.type &lt;lgl&gt; | Tillage.frequency &lt;lgl&gt; | Herbicide &lt;lgl&gt; | Pesticide &lt;lgl&gt; | Irrigation.type &lt;chr&gt; | Additional.soil.cover &lt;lgl&gt; |\n|---|---|---|---|---|---|---|---|---|---|---|---|---|---|---|---|---|---|---|---|---|\n| 3 | 1 | 1995 | Hawaii  | Honaunau Forest | 19.4312 | -155.855 | forest | F. hudei, A. koa | Histosol | ⋯ | NA | NA | NA | NA | NA | NA | NA | NA | <!----> | NA |\n| 3 | 2 | 1995 | Hawaii  | Honaunau Forest | 19.4333 | -155.847 | forest | F. hudei, A. koa | Histosol | ⋯ | NA | NA | NA | NA | NA | NA | NA | NA | <!----> | NA |\n| 3 | 3 | 1995 | Hawaii  | Honaunau Forest | 19.4891 | -155.863 | forest | F. hudei, A. koa | Andisol  | ⋯ | NA | NA | NA | NA | NA | NA | NA | NA | <!----> | NA |\n| 3 | 4 | 1995 | Hawaii  | Honaunau Forest | 19.4353 | -155.837 | forest | F. hudei, A. koa | Histosol | ⋯ | NA | NA | NA | NA | NA | NA | NA | NA | <!----> | NA |\n| 3 | 5 | 1995 | Hawaii  | Honaunau Forest | 19.4874 | -155.841 | forest | F. hudei, A. koa | Andisol  | ⋯ | NA | NA | NA | NA | NA | NA | NA | NA | <!----> | NA |\n| 3 | 6 | 1995 | Hawaii  | Honaunau Forest | 19.4872 | -155.831 | forest | F. hudei, A. koa | Andisol  | ⋯ | NA | NA | NA | NA | NA | NA | NA | NA | <!----> | NA |\n\n",
            "text/latex": "A data.table: 6 × 39\n\\begin{tabular}{lllllllllllllllllllll}\n PubID & DataID & Date.sampled & Island & Location & Latitude & Longitude & Land.use & Soil.cover & soil.order & ⋯ & Previous.land.use & Previous.plant.cover & Fertilizer.type & Fertilizer.rate..not.required. & Tillage.type & Tillage.frequency & Herbicide & Pesticide & Irrigation.type & Additional.soil.cover\\\\\n <int> & <int> & <chr> & <chr> & <chr> & <dbl> & <dbl> & <chr> & <chr> & <chr> & ⋯ & <lgl> & <lgl> & <lgl> & <lgl> & <lgl> & <lgl> & <lgl> & <lgl> & <chr> & <lgl>\\\\\n\\hline\n\t 3 & 1 & 1995 & Hawaii  & Honaunau Forest & 19.4312 & -155.855 & forest & F. hudei, A. koa & Histosol & ⋯ & NA & NA & NA & NA & NA & NA & NA & NA &  & NA\\\\\n\t 3 & 2 & 1995 & Hawaii  & Honaunau Forest & 19.4333 & -155.847 & forest & F. hudei, A. koa & Histosol & ⋯ & NA & NA & NA & NA & NA & NA & NA & NA &  & NA\\\\\n\t 3 & 3 & 1995 & Hawaii  & Honaunau Forest & 19.4891 & -155.863 & forest & F. hudei, A. koa & Andisol  & ⋯ & NA & NA & NA & NA & NA & NA & NA & NA &  & NA\\\\\n\t 3 & 4 & 1995 & Hawaii  & Honaunau Forest & 19.4353 & -155.837 & forest & F. hudei, A. koa & Histosol & ⋯ & NA & NA & NA & NA & NA & NA & NA & NA &  & NA\\\\\n\t 3 & 5 & 1995 & Hawaii  & Honaunau Forest & 19.4874 & -155.841 & forest & F. hudei, A. koa & Andisol  & ⋯ & NA & NA & NA & NA & NA & NA & NA & NA &  & NA\\\\\n\t 3 & 6 & 1995 & Hawaii  & Honaunau Forest & 19.4872 & -155.831 & forest & F. hudei, A. koa & Andisol  & ⋯ & NA & NA & NA & NA & NA & NA & NA & NA &  & NA\\\\\n\\end{tabular}\n",
            "text/plain": [
              "  PubID DataID Date.sampled Island  Location        Latitude Longitude Land.use\n",
              "1 3     1      1995         Hawaii  Honaunau Forest 19.4312  -155.855  forest  \n",
              "2 3     2      1995         Hawaii  Honaunau Forest 19.4333  -155.847  forest  \n",
              "3 3     3      1995         Hawaii  Honaunau Forest 19.4891  -155.863  forest  \n",
              "4 3     4      1995         Hawaii  Honaunau Forest 19.4353  -155.837  forest  \n",
              "5 3     5      1995         Hawaii  Honaunau Forest 19.4874  -155.841  forest  \n",
              "6 3     6      1995         Hawaii  Honaunau Forest 19.4872  -155.831  forest  \n",
              "  Soil.cover       soil.order ⋯ Previous.land.use Previous.plant.cover\n",
              "1 F. hudei, A. koa Histosol   ⋯ NA                NA                  \n",
              "2 F. hudei, A. koa Histosol   ⋯ NA                NA                  \n",
              "3 F. hudei, A. koa Andisol    ⋯ NA                NA                  \n",
              "4 F. hudei, A. koa Histosol   ⋯ NA                NA                  \n",
              "5 F. hudei, A. koa Andisol    ⋯ NA                NA                  \n",
              "6 F. hudei, A. koa Andisol    ⋯ NA                NA                  \n",
              "  Fertilizer.type Fertilizer.rate..not.required. Tillage.type Tillage.frequency\n",
              "1 NA              NA                             NA           NA               \n",
              "2 NA              NA                             NA           NA               \n",
              "3 NA              NA                             NA           NA               \n",
              "4 NA              NA                             NA           NA               \n",
              "5 NA              NA                             NA           NA               \n",
              "6 NA              NA                             NA           NA               \n",
              "  Herbicide Pesticide Irrigation.type Additional.soil.cover\n",
              "1 NA        NA                        NA                   \n",
              "2 NA        NA                        NA                   \n",
              "3 NA        NA                        NA                   \n",
              "4 NA        NA                        NA                   \n",
              "5 NA        NA                        NA                   \n",
              "6 NA        NA                        NA                   "
            ]
          },
          "metadata": {}
        }
      ]
    },
    {
      "cell_type": "code",
      "source": [
        "SheetNames<-getSheetNames('/content/SH_database.xlsx')\n",
        "print(SheetNames)\n",
        "data_list <- SheetNames %>%\n",
        "             lapply(function(x){\n",
        "                #Read the i'th sheet\n",
        "             openxlsx::read.xlsx('/content/SH_database.xlsx', x) %>% data.table\n",
        "             })\n",
        "\n",
        "names(data_list) <- SheetNames"
      ],
      "metadata": {
        "colab": {
          "base_uri": "https://localhost:8080/"
        },
        "id": "CJzhWEsU6v3v",
        "outputId": "1159e3ae-5406-4ad2-b328-ac74a6a46787"
      },
      "execution_count": 5,
      "outputs": [
        {
          "output_type": "stream",
          "name": "stdout",
          "text": [
            "[1] \"Sheet1\" \"Sheet2\" \"Sheet3\"\n"
          ]
        }
      ]
    },
    {
      "cell_type": "code",
      "source": [
        "SH_dt <- data_list['Sheet1'] %>% as.data.table()"
      ],
      "metadata": {
        "id": "l_03f3oo8DCT"
      },
      "execution_count": 6,
      "outputs": []
    },
    {
      "cell_type": "code",
      "source": [
        "setnames(SH_dt, gsub(\"^Sheet1\\\\.\", \"\", names(SH_dt)))"
      ],
      "metadata": {
        "id": "Nr1aj6MYrTGU"
      },
      "execution_count": 7,
      "outputs": []
    },
    {
      "cell_type": "code",
      "source": [
        "print(SH_dt)"
      ],
      "metadata": {
        "colab": {
          "base_uri": "https://localhost:8080/"
        },
        "id": "a3kRFPlsBjHZ",
        "outputId": "c595fc38-c67d-4f8e-8691-6140c8cf9f16"
      },
      "execution_count": 8,
      "outputs": [
        {
          "output_type": "stream",
          "name": "stdout",
          "text": [
            "     Number depth_top depth_bottom Island                     Site_name\n",
            "  1:    115         0           15   Oahu  Ho`oulu `Aina- Kalihi Valley\n",
            "  2:    116         0           15   Oahu  Ho`oulu `Aina- Kalihi Valley\n",
            "  3:    117         0           15   Oahu  Ho`oulu `Aina- Kalihi Valley\n",
            "  4:    118         0           15   Oahu  Ho`oulu `Aina- Kalihi Valley\n",
            "  5:    119         0           15   Oahu  Ho`oulu `Aina- Kalihi Valley\n",
            " ---                                                                   \n",
            "945:    741         0           15   Oahu                  Kuilima Farm\n",
            "946:    742         0           15   Oahu                   Thrive Farm\n",
            "947:    740         0           15   Oahu                   Ahiki Acres\n",
            "948:    863         0           15  Kauai                        Iwikua\n",
            "949:    908         0           15   Maui Living Earth Systems (2 of 2)\n",
            "     Site_number             Current_land_use Years_under_current_land_use\n",
            "  1:        18.0                 Agroforestry                    2010-2019\n",
            "  2:        18.0                 Agroforestry                    2010-2019\n",
            "  3:        18.0                 Agroforestry                    2010-2019\n",
            "  4:        18.0                 Agroforestry                    2010-2019\n",
            "  5:        18.0                 Agroforestry                    2010-2019\n",
            " ---                                                                      \n",
            "945:        65.0                     Cropland                    2020-2022\n",
            "946:        66.0                     Cropland                    2020-2022\n",
            "947:        64.0                     Cropland                    2019-2022\n",
            "948:         6.0 Unmanaged/abandoned cropland                         <NA>\n",
            "949:       1-3ac          Unmanaged/abandoned                         <NA>\n",
            "     Most_previous_land_use Years_under_most_previous._land_use\n",
            "  1:       Protected forest                                <NA>\n",
            "  2:       Protected forest                                <NA>\n",
            "  3:       Protected forest                                <NA>\n",
            "  4:       Protected forest                                <NA>\n",
            "  5:       Protected forest                                <NA>\n",
            " ---                                                           \n",
            "945:    Unmanaged/abandoned                              X-2020\n",
            "946:    Unmanaged/abandoned                              X-2020\n",
            "947:               Cropland                              x-2019\n",
            "948:                   <NA>                                <NA>\n",
            "949:    Unmanaged/abandoned                                <NA>\n",
            "             Plot_name Plot_area   Current_plant_cover   Previous_crop_cover\n",
            "  1:              39.0      <NA>          Agroforestry             No change\n",
            "  2:              39.0      <NA>          Agroforestry             No change\n",
            "  3:              39.0      <NA>          Agroforestry             No change\n",
            "  4:              40.0      <NA>          Agroforestry             No change\n",
            "  5:              40.0      <NA>          Agroforestry             No change\n",
            " ---                                                                        \n",
            "945:     future greens      <NA>   Nothing/bare fallow  Row crop monoculture\n",
            "946:            greens      <NA>   Nothing/bare fallow Commercial veg/fruits\n",
            "947:          brassica      <NA> Commercial veg/fruits Commercial veg/fruits\n",
            "948:         Reservoir       6.0   Nothing/bare fallow                  <NA>\n",
            "949: Worm Bin Adjacent      <NA>        Managed forest   Nothing/bare fallow\n",
            "     Tillage Tillage_frequency Herbicide Pesticide Irrigation_type\n",
            "  1:    None             Other      <NA>      <NA>            <NA>\n",
            "  2:    None             Other      <NA>      <NA>            <NA>\n",
            "  3:    None             Other      <NA>      <NA>            <NA>\n",
            "  4:    None             Other      <NA>      <NA>            <NA>\n",
            "  5:    None             Other      <NA>      <NA>            <NA>\n",
            " ---                                                              \n",
            "945:    Disc      Twice yearly       Yes       Yes    Surface Drip\n",
            "946:    Roto   More than twice        No       Yes    Surface Drip\n",
            "947:    Roto            Yearly        No       Yes    Surface Drip\n",
            "948:    <NA>              <NA>      <NA>      <NA>            <NA>\n",
            "949:    None              <NA>        No        No            None\n",
            "     Additional_soil_cover Soil_series   Latitude   Longitude\n",
            "  1:                  <NA>    Loleka`a    21.3617   -157.8403\n",
            "  2:                  <NA>    Loleka`a    21.3617   -157.8403\n",
            "  3:                  <NA>    Loleka`a    21.3617   -157.8403\n",
            "  4:                  <NA>    Loleka`a    21.3627   -157.8404\n",
            "  5:                  <NA>    Loleka`a    21.3627   -157.8404\n",
            " ---                                                         \n",
            "945:             Bare soil         WkA  21.681901 -157.960364\n",
            "946:                 Weeds         WkA       <NA>        <NA>\n",
            "947:              Weed Mat         WnB  21.334601 -157.714688\n",
            "948:             Bare soil        <NA> 21.9626212  -159.66893\n",
            "949:                 Weeds        <NA>   20.82332  -156.62628\n",
            "     Management_category PIAL_none DistLevel    Order Minerals swc_fm swc_ad\n",
            "  1:        Agroforestry      None      <NA>  Ultisol      LAC     57     13\n",
            "  2:        Agroforestry      None      <NA>  Ultisol      LAC     58     13\n",
            "  3:        Agroforestry      None      <NA>  Ultisol      LAC     58     13\n",
            "  4:        Agroforestry      None      <NA>  Ultisol      LAC     51     11\n",
            "  5:        Agroforestry      None      <NA>  Ultisol      LAC     60     13\n",
            " ---                                                                        \n",
            "945:                <NA>      <NA>      <NA> Mollisol      HAC    116      7\n",
            "946:                <NA>      <NA>      <NA> Mollisol      HAC    133     11\n",
            "947:                <NA>      <NA>      <NA> Mollisol      HAC    135     15\n",
            "948:                <NA>      <NA>      <NA>     <NA>      HAC     16     11\n",
            "949:                <NA>      <NA>      <NA> Mollisol      HAC    124      8\n",
            "      toc   tn co2_burst beta_glucosidase beta_glucosaminidase pnm_init pmn_fin\n",
            "  1: 2.23 0.20   136.140            55.20                23.48     0.00    9.33\n",
            "  2: 2.71 0.22    92.250            54.77                35.75     0.00    4.05\n",
            "  3: 3.61 0.29   118.450            67.23               102.95     0.00    8.85\n",
            "  4: 6.99 0.47   107.550            62.14                54.27     0.00    9.58\n",
            "  5: 6.99 0.44    84.170            62.36                69.99     0.00    5.43\n",
            " ---                                                                           \n",
            "945: 1.71 0.17    53.492            36.37                24.93     3.58   13.50\n",
            "946: 1.77 0.17    23.497            19.81                 8.61     5.77    1.11\n",
            "947: 3.83 0.40    51.239            45.30                10.13     8.52   19.86\n",
            "948: 1.46 0.18    63.260            10.35                13.39    17.39   32.99\n",
            "949: 4.66 0.49   265.161            98.72                70.65     0.17    0.00\n",
            "       ph    doc   tdn         din   don    hwec   hwen    whc   wsa_mega\n",
            "  1: 5.34 267.58 19.13  0.19956940 19.26  487.54  52.85 107.72 22.5048143\n",
            "  2: 5.51 176.63 13.00  0.00000000 13.34  193.86  21.29 101.26 29.6998429\n",
            "  3: 6.55 281.09 14.57  0.04548219 14.87  532.72  59.01  99.81 47.2584383\n",
            "  4: 5.03 332.46 31.80  3.04450522 28.76 1040.91  96.93  91.89 73.9764268\n",
            "  5: 5.05 245.12 25.32  6.43410853 19.22 1215.28 107.57  86.10 49.1466388\n",
            " ---                                                                     \n",
            "945: 8.84  95.87 13.12  6.64711677  6.47  220.49  24.49  77.64  9.9680368\n",
            "946: 8.04  47.14 29.32 26.04420892  3.28  193.15  27.49  83.14  0.8997007\n",
            "947: 7.67 102.02 27.30 15.54052594 11.76  382.99  49.55  86.89 18.2754709\n",
            "948: 7.71     NA    NA          NA    NA      NA     NA  79.03  3.1000000\n",
            "949: 7.35     NA    NA          NA    NA 1623.52 271.27 105.31  7.0400000\n",
            "     wsa_macro   bd shs assessment      c_n   doc_don   pmn      Status\n",
            "  1:        NA   NA  NA         NA 11.43590 13.890530  9.33        Done\n",
            "  2:        NA   NA  NA         NA 12.58140 13.237658  4.05        Done\n",
            "  3:        NA   NA  NA         NA 12.64912 18.897921  8.85        Done\n",
            "  4:        NA   NA  NA         NA 14.86170 11.560943  9.58        Done\n",
            "  5:        NA   NA  NA         NA 16.06897 12.751661  5.43        Done\n",
            " ---                                                                   \n",
            "945:        NA 1.11  NA         NA 10.05882 14.819837  9.92        Done\n",
            "946:        NA 1.30  NA         NA 10.41176 14.387042 -4.66        Done\n",
            "947:        NA 1.35  NA         NA  9.57500  8.676009 11.34        Done\n",
            "948:        NA 1.08  NA         NA  8.11000        NA 15.60 In progress\n",
            "949:        NA 0.84  NA         NA  9.55000        NA -0.17        Done\n",
            "                                                                                                  hyperlinks\n",
            "  1: https://docs.google.com/spreadsheets/d/1hGlEMKGPfx7rKo0q2c9sM2IpVLl6aTYW1_uPczssraQ/edit#gid=2114689344\n",
            "  2: https://docs.google.com/spreadsheets/d/1hGlEMKGPfx7rKo0q2c9sM2IpVLl6aTYW1_uPczssraQ/edit#gid=2114689344\n",
            "  3: https://docs.google.com/spreadsheets/d/1hGlEMKGPfx7rKo0q2c9sM2IpVLl6aTYW1_uPczssraQ/edit#gid=2114689344\n",
            "  4: https://docs.google.com/spreadsheets/d/1hGlEMKGPfx7rKo0q2c9sM2IpVLl6aTYW1_uPczssraQ/edit#gid=2114689344\n",
            "  5: https://docs.google.com/spreadsheets/d/1hGlEMKGPfx7rKo0q2c9sM2IpVLl6aTYW1_uPczssraQ/edit#gid=2114689344\n",
            " ---                                                                                                        \n",
            "945: https://docs.google.com/spreadsheets/d/1mlqU9zH13GHF_afZSs_ju9Wjtxa9TrjZFf9XEAViy30/edit#gid=1076234647\n",
            "946: https://docs.google.com/spreadsheets/d/1mlqU9zH13GHF_afZSs_ju9Wjtxa9TrjZFf9XEAViy30/edit#gid=1076234648\n",
            "947: https://docs.google.com/spreadsheets/d/1mlqU9zH13GHF_afZSs_ju9Wjtxa9TrjZFf9XEAViy30/edit#gid=1076234646\n",
            "948: https://docs.google.com/spreadsheets/d/1m61bmvtgS4Gqk0l3GPzsqmWNdHMV5PDIf8911iSWvEI/edit#gid=1076234647\n",
            "949: https://docs.google.com/spreadsheets/d/1mlqU9zH13GHF_afZSs_ju9Wjtxa9TrjZFf9XEAViy30/edit#gid=1076234668\n",
            "     Last.updated\n",
            "  1:        44629\n",
            "  2:        44629\n",
            "  3:        44629\n",
            "  4:        44629\n",
            "  5:        44629\n",
            " ---             \n",
            "945:        45203\n",
            "946:        45203\n",
            "947:        45203\n",
            "948:        45203\n",
            "949:        45203\n"
          ]
        }
      ]
    },
    {
      "cell_type": "code",
      "source": [
        "setnames(SH_dt, tolower(names(SH_dt)))\n",
        "SH_dt[, names(SH_dt) := lapply(.SD, function(x) if(is.character(x)) tolower(x) else x), .SDcols = names(SH_dt)]"
      ],
      "metadata": {
        "id": "weATj0ibsEYO"
      },
      "execution_count": 10,
      "outputs": []
    },
    {
      "cell_type": "code",
      "source": [
        "SH_dt[current_land_use == \"crop land\", current_land_use := \"cropland\"]"
      ],
      "metadata": {
        "id": "YqMtOKMQPivg"
      },
      "execution_count": 11,
      "outputs": []
    },
    {
      "cell_type": "code",
      "source": [
        "head(SH_dt)"
      ],
      "metadata": {
        "colab": {
          "base_uri": "https://localhost:8080/",
          "height": 618
        },
        "id": "recyAi2zsISx",
        "outputId": "7ff11344-c56d-406a-eb0e-06d4522aa636"
      },
      "execution_count": 12,
      "outputs": [
        {
          "output_type": "display_data",
          "data": {
            "text/html": [
              "<table class=\"dataframe\">\n",
              "<caption>A data.table: 6 × 56</caption>\n",
              "<thead>\n",
              "\t<tr><th scope=col>number</th><th scope=col>depth_top</th><th scope=col>depth_bottom</th><th scope=col>island</th><th scope=col>site_name</th><th scope=col>site_number</th><th scope=col>current_land_use</th><th scope=col>years_under_current_land_use</th><th scope=col>most_previous_land_use</th><th scope=col>years_under_most_previous._land_use</th><th scope=col>⋯</th><th scope=col>wsa_macro</th><th scope=col>bd</th><th scope=col>shs</th><th scope=col>assessment</th><th scope=col>c_n</th><th scope=col>doc_don</th><th scope=col>pmn</th><th scope=col>status</th><th scope=col>hyperlinks</th><th scope=col>last.updated</th></tr>\n",
              "\t<tr><th scope=col>&lt;dbl&gt;</th><th scope=col>&lt;dbl&gt;</th><th scope=col>&lt;dbl&gt;</th><th scope=col>&lt;chr&gt;</th><th scope=col>&lt;chr&gt;</th><th scope=col>&lt;chr&gt;</th><th scope=col>&lt;chr&gt;</th><th scope=col>&lt;chr&gt;</th><th scope=col>&lt;chr&gt;</th><th scope=col>&lt;chr&gt;</th><th scope=col>⋯</th><th scope=col>&lt;dbl&gt;</th><th scope=col>&lt;dbl&gt;</th><th scope=col>&lt;dbl&gt;</th><th scope=col>&lt;dbl&gt;</th><th scope=col>&lt;dbl&gt;</th><th scope=col>&lt;dbl&gt;</th><th scope=col>&lt;dbl&gt;</th><th scope=col>&lt;chr&gt;</th><th scope=col>&lt;chr&gt;</th><th scope=col>&lt;dbl&gt;</th></tr>\n",
              "</thead>\n",
              "<tbody>\n",
              "\t<tr><td>115</td><td>0</td><td>15</td><td>oahu</td><td>ho`oulu `aina- kalihi valley</td><td>18.0</td><td>agroforestry</td><td>2010-2019</td><td>protected forest</td><td>NA</td><td>⋯</td><td>NA</td><td>NA</td><td>NA</td><td>NA</td><td>11.43590</td><td>13.89053</td><td>9.33</td><td>done</td><td>https://docs.google.com/spreadsheets/d/1hglemkgpfx7rko0q2c9sm2ipvll6atyw1_upczssraq/edit#gid=2114689344</td><td>44629</td></tr>\n",
              "\t<tr><td>116</td><td>0</td><td>15</td><td>oahu</td><td>ho`oulu `aina- kalihi valley</td><td>18.0</td><td>agroforestry</td><td>2010-2019</td><td>protected forest</td><td>NA</td><td>⋯</td><td>NA</td><td>NA</td><td>NA</td><td>NA</td><td>12.58140</td><td>13.23766</td><td>4.05</td><td>done</td><td>https://docs.google.com/spreadsheets/d/1hglemkgpfx7rko0q2c9sm2ipvll6atyw1_upczssraq/edit#gid=2114689344</td><td>44629</td></tr>\n",
              "\t<tr><td>117</td><td>0</td><td>15</td><td>oahu</td><td>ho`oulu `aina- kalihi valley</td><td>18.0</td><td>agroforestry</td><td>2010-2019</td><td>protected forest</td><td>NA</td><td>⋯</td><td>NA</td><td>NA</td><td>NA</td><td>NA</td><td>12.64912</td><td>18.89792</td><td>8.85</td><td>done</td><td>https://docs.google.com/spreadsheets/d/1hglemkgpfx7rko0q2c9sm2ipvll6atyw1_upczssraq/edit#gid=2114689344</td><td>44629</td></tr>\n",
              "\t<tr><td>118</td><td>0</td><td>15</td><td>oahu</td><td>ho`oulu `aina- kalihi valley</td><td>18.0</td><td>agroforestry</td><td>2010-2019</td><td>protected forest</td><td>NA</td><td>⋯</td><td>NA</td><td>NA</td><td>NA</td><td>NA</td><td>14.86170</td><td>11.56094</td><td>9.58</td><td>done</td><td>https://docs.google.com/spreadsheets/d/1hglemkgpfx7rko0q2c9sm2ipvll6atyw1_upczssraq/edit#gid=2114689344</td><td>44629</td></tr>\n",
              "\t<tr><td>119</td><td>0</td><td>15</td><td>oahu</td><td>ho`oulu `aina- kalihi valley</td><td>18.0</td><td>agroforestry</td><td>2010-2019</td><td>protected forest</td><td>NA</td><td>⋯</td><td>NA</td><td>NA</td><td>NA</td><td>NA</td><td>16.06897</td><td>12.75166</td><td>5.43</td><td>done</td><td>https://docs.google.com/spreadsheets/d/1hglemkgpfx7rko0q2c9sm2ipvll6atyw1_upczssraq/edit#gid=2114689344</td><td>44629</td></tr>\n",
              "\t<tr><td>120</td><td>0</td><td>15</td><td>oahu</td><td>ho`oulu `aina- kalihi valley</td><td>18.0</td><td>agroforestry</td><td>2010-2019</td><td>protected forest</td><td>NA</td><td>⋯</td><td>NA</td><td>NA</td><td>NA</td><td>NA</td><td>15.83636</td><td>12.31835</td><td>9.81</td><td>done</td><td>https://docs.google.com/spreadsheets/d/1hglemkgpfx7rko0q2c9sm2ipvll6atyw1_upczssraq/edit#gid=2114689344</td><td>44629</td></tr>\n",
              "</tbody>\n",
              "</table>\n"
            ],
            "text/markdown": "\nA data.table: 6 × 56\n\n| number &lt;dbl&gt; | depth_top &lt;dbl&gt; | depth_bottom &lt;dbl&gt; | island &lt;chr&gt; | site_name &lt;chr&gt; | site_number &lt;chr&gt; | current_land_use &lt;chr&gt; | years_under_current_land_use &lt;chr&gt; | most_previous_land_use &lt;chr&gt; | years_under_most_previous._land_use &lt;chr&gt; | ⋯ ⋯ | wsa_macro &lt;dbl&gt; | bd &lt;dbl&gt; | shs &lt;dbl&gt; | assessment &lt;dbl&gt; | c_n &lt;dbl&gt; | doc_don &lt;dbl&gt; | pmn &lt;dbl&gt; | status &lt;chr&gt; | hyperlinks &lt;chr&gt; | last.updated &lt;dbl&gt; |\n|---|---|---|---|---|---|---|---|---|---|---|---|---|---|---|---|---|---|---|---|---|\n| 115 | 0 | 15 | oahu | ho`oulu `aina- kalihi valley | 18.0 | agroforestry | 2010-2019 | protected forest | NA | ⋯ | NA | NA | NA | NA | 11.43590 | 13.89053 | 9.33 | done | https://docs.google.com/spreadsheets/d/1hglemkgpfx7rko0q2c9sm2ipvll6atyw1_upczssraq/edit#gid=2114689344 | 44629 |\n| 116 | 0 | 15 | oahu | ho`oulu `aina- kalihi valley | 18.0 | agroforestry | 2010-2019 | protected forest | NA | ⋯ | NA | NA | NA | NA | 12.58140 | 13.23766 | 4.05 | done | https://docs.google.com/spreadsheets/d/1hglemkgpfx7rko0q2c9sm2ipvll6atyw1_upczssraq/edit#gid=2114689344 | 44629 |\n| 117 | 0 | 15 | oahu | ho`oulu `aina- kalihi valley | 18.0 | agroforestry | 2010-2019 | protected forest | NA | ⋯ | NA | NA | NA | NA | 12.64912 | 18.89792 | 8.85 | done | https://docs.google.com/spreadsheets/d/1hglemkgpfx7rko0q2c9sm2ipvll6atyw1_upczssraq/edit#gid=2114689344 | 44629 |\n| 118 | 0 | 15 | oahu | ho`oulu `aina- kalihi valley | 18.0 | agroforestry | 2010-2019 | protected forest | NA | ⋯ | NA | NA | NA | NA | 14.86170 | 11.56094 | 9.58 | done | https://docs.google.com/spreadsheets/d/1hglemkgpfx7rko0q2c9sm2ipvll6atyw1_upczssraq/edit#gid=2114689344 | 44629 |\n| 119 | 0 | 15 | oahu | ho`oulu `aina- kalihi valley | 18.0 | agroforestry | 2010-2019 | protected forest | NA | ⋯ | NA | NA | NA | NA | 16.06897 | 12.75166 | 5.43 | done | https://docs.google.com/spreadsheets/d/1hglemkgpfx7rko0q2c9sm2ipvll6atyw1_upczssraq/edit#gid=2114689344 | 44629 |\n| 120 | 0 | 15 | oahu | ho`oulu `aina- kalihi valley | 18.0 | agroforestry | 2010-2019 | protected forest | NA | ⋯ | NA | NA | NA | NA | 15.83636 | 12.31835 | 9.81 | done | https://docs.google.com/spreadsheets/d/1hglemkgpfx7rko0q2c9sm2ipvll6atyw1_upczssraq/edit#gid=2114689344 | 44629 |\n\n",
            "text/latex": "A data.table: 6 × 56\n\\begin{tabular}{lllllllllllllllllllll}\n number & depth\\_top & depth\\_bottom & island & site\\_name & site\\_number & current\\_land\\_use & years\\_under\\_current\\_land\\_use & most\\_previous\\_land\\_use & years\\_under\\_most\\_previous.\\_land\\_use & ⋯ & wsa\\_macro & bd & shs & assessment & c\\_n & doc\\_don & pmn & status & hyperlinks & last.updated\\\\\n <dbl> & <dbl> & <dbl> & <chr> & <chr> & <chr> & <chr> & <chr> & <chr> & <chr> & ⋯ & <dbl> & <dbl> & <dbl> & <dbl> & <dbl> & <dbl> & <dbl> & <chr> & <chr> & <dbl>\\\\\n\\hline\n\t 115 & 0 & 15 & oahu & ho`oulu `aina- kalihi valley & 18.0 & agroforestry & 2010-2019 & protected forest & NA & ⋯ & NA & NA & NA & NA & 11.43590 & 13.89053 & 9.33 & done & https://docs.google.com/spreadsheets/d/1hglemkgpfx7rko0q2c9sm2ipvll6atyw1\\_upczssraq/edit\\#gid=2114689344 & 44629\\\\\n\t 116 & 0 & 15 & oahu & ho`oulu `aina- kalihi valley & 18.0 & agroforestry & 2010-2019 & protected forest & NA & ⋯ & NA & NA & NA & NA & 12.58140 & 13.23766 & 4.05 & done & https://docs.google.com/spreadsheets/d/1hglemkgpfx7rko0q2c9sm2ipvll6atyw1\\_upczssraq/edit\\#gid=2114689344 & 44629\\\\\n\t 117 & 0 & 15 & oahu & ho`oulu `aina- kalihi valley & 18.0 & agroforestry & 2010-2019 & protected forest & NA & ⋯ & NA & NA & NA & NA & 12.64912 & 18.89792 & 8.85 & done & https://docs.google.com/spreadsheets/d/1hglemkgpfx7rko0q2c9sm2ipvll6atyw1\\_upczssraq/edit\\#gid=2114689344 & 44629\\\\\n\t 118 & 0 & 15 & oahu & ho`oulu `aina- kalihi valley & 18.0 & agroforestry & 2010-2019 & protected forest & NA & ⋯ & NA & NA & NA & NA & 14.86170 & 11.56094 & 9.58 & done & https://docs.google.com/spreadsheets/d/1hglemkgpfx7rko0q2c9sm2ipvll6atyw1\\_upczssraq/edit\\#gid=2114689344 & 44629\\\\\n\t 119 & 0 & 15 & oahu & ho`oulu `aina- kalihi valley & 18.0 & agroforestry & 2010-2019 & protected forest & NA & ⋯ & NA & NA & NA & NA & 16.06897 & 12.75166 & 5.43 & done & https://docs.google.com/spreadsheets/d/1hglemkgpfx7rko0q2c9sm2ipvll6atyw1\\_upczssraq/edit\\#gid=2114689344 & 44629\\\\\n\t 120 & 0 & 15 & oahu & ho`oulu `aina- kalihi valley & 18.0 & agroforestry & 2010-2019 & protected forest & NA & ⋯ & NA & NA & NA & NA & 15.83636 & 12.31835 & 9.81 & done & https://docs.google.com/spreadsheets/d/1hglemkgpfx7rko0q2c9sm2ipvll6atyw1\\_upczssraq/edit\\#gid=2114689344 & 44629\\\\\n\\end{tabular}\n",
            "text/plain": [
              "  number depth_top depth_bottom island site_name                    site_number\n",
              "1 115    0         15           oahu   ho`oulu `aina- kalihi valley 18.0       \n",
              "2 116    0         15           oahu   ho`oulu `aina- kalihi valley 18.0       \n",
              "3 117    0         15           oahu   ho`oulu `aina- kalihi valley 18.0       \n",
              "4 118    0         15           oahu   ho`oulu `aina- kalihi valley 18.0       \n",
              "5 119    0         15           oahu   ho`oulu `aina- kalihi valley 18.0       \n",
              "6 120    0         15           oahu   ho`oulu `aina- kalihi valley 18.0       \n",
              "  current_land_use years_under_current_land_use most_previous_land_use\n",
              "1 agroforestry     2010-2019                    protected forest      \n",
              "2 agroforestry     2010-2019                    protected forest      \n",
              "3 agroforestry     2010-2019                    protected forest      \n",
              "4 agroforestry     2010-2019                    protected forest      \n",
              "5 agroforestry     2010-2019                    protected forest      \n",
              "6 agroforestry     2010-2019                    protected forest      \n",
              "  years_under_most_previous._land_use ⋯ wsa_macro bd shs assessment c_n     \n",
              "1 NA                                  ⋯ NA        NA NA  NA         11.43590\n",
              "2 NA                                  ⋯ NA        NA NA  NA         12.58140\n",
              "3 NA                                  ⋯ NA        NA NA  NA         12.64912\n",
              "4 NA                                  ⋯ NA        NA NA  NA         14.86170\n",
              "5 NA                                  ⋯ NA        NA NA  NA         16.06897\n",
              "6 NA                                  ⋯ NA        NA NA  NA         15.83636\n",
              "  doc_don  pmn  status\n",
              "1 13.89053 9.33 done  \n",
              "2 13.23766 4.05 done  \n",
              "3 18.89792 8.85 done  \n",
              "4 11.56094 9.58 done  \n",
              "5 12.75166 5.43 done  \n",
              "6 12.31835 9.81 done  \n",
              "  hyperlinks                                                                                             \n",
              "1 https://docs.google.com/spreadsheets/d/1hglemkgpfx7rko0q2c9sm2ipvll6atyw1_upczssraq/edit#gid=2114689344\n",
              "2 https://docs.google.com/spreadsheets/d/1hglemkgpfx7rko0q2c9sm2ipvll6atyw1_upczssraq/edit#gid=2114689344\n",
              "3 https://docs.google.com/spreadsheets/d/1hglemkgpfx7rko0q2c9sm2ipvll6atyw1_upczssraq/edit#gid=2114689344\n",
              "4 https://docs.google.com/spreadsheets/d/1hglemkgpfx7rko0q2c9sm2ipvll6atyw1_upczssraq/edit#gid=2114689344\n",
              "5 https://docs.google.com/spreadsheets/d/1hglemkgpfx7rko0q2c9sm2ipvll6atyw1_upczssraq/edit#gid=2114689344\n",
              "6 https://docs.google.com/spreadsheets/d/1hglemkgpfx7rko0q2c9sm2ipvll6atyw1_upczssraq/edit#gid=2114689344\n",
              "  last.updated\n",
              "1 44629       \n",
              "2 44629       \n",
              "3 44629       \n",
              "4 44629       \n",
              "5 44629       \n",
              "6 44629       "
            ]
          },
          "metadata": {}
        }
      ]
    },
    {
      "cell_type": "code",
      "source": [
        "names(SH_dt)"
      ],
      "metadata": {
        "colab": {
          "base_uri": "https://localhost:8080/",
          "height": 69
        },
        "id": "fvdERbDms73y",
        "outputId": "713249c6-9ccf-45e0-e811-35537651cd56"
      },
      "execution_count": 13,
      "outputs": [
        {
          "output_type": "display_data",
          "data": {
            "text/html": [
              "<style>\n",
              ".list-inline {list-style: none; margin:0; padding: 0}\n",
              ".list-inline>li {display: inline-block}\n",
              ".list-inline>li:not(:last-child)::after {content: \"\\00b7\"; padding: 0 .5ex}\n",
              "</style>\n",
              "<ol class=list-inline><li>'number'</li><li>'depth_top'</li><li>'depth_bottom'</li><li>'island'</li><li>'site_name'</li><li>'site_number'</li><li>'current_land_use'</li><li>'years_under_current_land_use'</li><li>'most_previous_land_use'</li><li>'years_under_most_previous._land_use'</li><li>'plot_name'</li><li>'plot_area'</li><li>'current_plant_cover'</li><li>'previous_crop_cover'</li><li>'tillage'</li><li>'tillage_frequency'</li><li>'herbicide'</li><li>'pesticide'</li><li>'irrigation_type'</li><li>'additional_soil_cover'</li><li>'soil_series'</li><li>'latitude'</li><li>'longitude'</li><li>'management_category'</li><li>'pial_none'</li><li>'distlevel'</li><li>'order'</li><li>'minerals'</li><li>'swc_fm'</li><li>'swc_ad'</li><li>'toc'</li><li>'tn'</li><li>'co2_burst'</li><li>'beta_glucosidase'</li><li>'beta_glucosaminidase'</li><li>'pnm_init'</li><li>'pmn_fin'</li><li>'ph'</li><li>'doc'</li><li>'tdn'</li><li>'din'</li><li>'don'</li><li>'hwec'</li><li>'hwen'</li><li>'whc'</li><li>'wsa_mega'</li><li>'wsa_macro'</li><li>'bd'</li><li>'shs'</li><li>'assessment'</li><li>'c_n'</li><li>'doc_don'</li><li>'pmn'</li><li>'status'</li><li>'hyperlinks'</li><li>'last.updated'</li></ol>\n"
            ],
            "text/markdown": "1. 'number'\n2. 'depth_top'\n3. 'depth_bottom'\n4. 'island'\n5. 'site_name'\n6. 'site_number'\n7. 'current_land_use'\n8. 'years_under_current_land_use'\n9. 'most_previous_land_use'\n10. 'years_under_most_previous._land_use'\n11. 'plot_name'\n12. 'plot_area'\n13. 'current_plant_cover'\n14. 'previous_crop_cover'\n15. 'tillage'\n16. 'tillage_frequency'\n17. 'herbicide'\n18. 'pesticide'\n19. 'irrigation_type'\n20. 'additional_soil_cover'\n21. 'soil_series'\n22. 'latitude'\n23. 'longitude'\n24. 'management_category'\n25. 'pial_none'\n26. 'distlevel'\n27. 'order'\n28. 'minerals'\n29. 'swc_fm'\n30. 'swc_ad'\n31. 'toc'\n32. 'tn'\n33. 'co2_burst'\n34. 'beta_glucosidase'\n35. 'beta_glucosaminidase'\n36. 'pnm_init'\n37. 'pmn_fin'\n38. 'ph'\n39. 'doc'\n40. 'tdn'\n41. 'din'\n42. 'don'\n43. 'hwec'\n44. 'hwen'\n45. 'whc'\n46. 'wsa_mega'\n47. 'wsa_macro'\n48. 'bd'\n49. 'shs'\n50. 'assessment'\n51. 'c_n'\n52. 'doc_don'\n53. 'pmn'\n54. 'status'\n55. 'hyperlinks'\n56. 'last.updated'\n\n\n",
            "text/latex": "\\begin{enumerate*}\n\\item 'number'\n\\item 'depth\\_top'\n\\item 'depth\\_bottom'\n\\item 'island'\n\\item 'site\\_name'\n\\item 'site\\_number'\n\\item 'current\\_land\\_use'\n\\item 'years\\_under\\_current\\_land\\_use'\n\\item 'most\\_previous\\_land\\_use'\n\\item 'years\\_under\\_most\\_previous.\\_land\\_use'\n\\item 'plot\\_name'\n\\item 'plot\\_area'\n\\item 'current\\_plant\\_cover'\n\\item 'previous\\_crop\\_cover'\n\\item 'tillage'\n\\item 'tillage\\_frequency'\n\\item 'herbicide'\n\\item 'pesticide'\n\\item 'irrigation\\_type'\n\\item 'additional\\_soil\\_cover'\n\\item 'soil\\_series'\n\\item 'latitude'\n\\item 'longitude'\n\\item 'management\\_category'\n\\item 'pial\\_none'\n\\item 'distlevel'\n\\item 'order'\n\\item 'minerals'\n\\item 'swc\\_fm'\n\\item 'swc\\_ad'\n\\item 'toc'\n\\item 'tn'\n\\item 'co2\\_burst'\n\\item 'beta\\_glucosidase'\n\\item 'beta\\_glucosaminidase'\n\\item 'pnm\\_init'\n\\item 'pmn\\_fin'\n\\item 'ph'\n\\item 'doc'\n\\item 'tdn'\n\\item 'din'\n\\item 'don'\n\\item 'hwec'\n\\item 'hwen'\n\\item 'whc'\n\\item 'wsa\\_mega'\n\\item 'wsa\\_macro'\n\\item 'bd'\n\\item 'shs'\n\\item 'assessment'\n\\item 'c\\_n'\n\\item 'doc\\_don'\n\\item 'pmn'\n\\item 'status'\n\\item 'hyperlinks'\n\\item 'last.updated'\n\\end{enumerate*}\n",
            "text/plain": [
              " [1] \"number\"                              \"depth_top\"                          \n",
              " [3] \"depth_bottom\"                        \"island\"                             \n",
              " [5] \"site_name\"                           \"site_number\"                        \n",
              " [7] \"current_land_use\"                    \"years_under_current_land_use\"       \n",
              " [9] \"most_previous_land_use\"              \"years_under_most_previous._land_use\"\n",
              "[11] \"plot_name\"                           \"plot_area\"                          \n",
              "[13] \"current_plant_cover\"                 \"previous_crop_cover\"                \n",
              "[15] \"tillage\"                             \"tillage_frequency\"                  \n",
              "[17] \"herbicide\"                           \"pesticide\"                          \n",
              "[19] \"irrigation_type\"                     \"additional_soil_cover\"              \n",
              "[21] \"soil_series\"                         \"latitude\"                           \n",
              "[23] \"longitude\"                           \"management_category\"                \n",
              "[25] \"pial_none\"                           \"distlevel\"                          \n",
              "[27] \"order\"                               \"minerals\"                           \n",
              "[29] \"swc_fm\"                              \"swc_ad\"                             \n",
              "[31] \"toc\"                                 \"tn\"                                 \n",
              "[33] \"co2_burst\"                           \"beta_glucosidase\"                   \n",
              "[35] \"beta_glucosaminidase\"                \"pnm_init\"                           \n",
              "[37] \"pmn_fin\"                             \"ph\"                                 \n",
              "[39] \"doc\"                                 \"tdn\"                                \n",
              "[41] \"din\"                                 \"don\"                                \n",
              "[43] \"hwec\"                                \"hwen\"                               \n",
              "[45] \"whc\"                                 \"wsa_mega\"                           \n",
              "[47] \"wsa_macro\"                           \"bd\"                                 \n",
              "[49] \"shs\"                                 \"assessment\"                         \n",
              "[51] \"c_n\"                                 \"doc_don\"                            \n",
              "[53] \"pmn\"                                 \"status\"                             \n",
              "[55] \"hyperlinks\"                          \"last.updated\"                       "
            ]
          },
          "metadata": {}
        }
      ]
    },
    {
      "cell_type": "code",
      "source": [
        "SH_dt[, longitude := as.numeric(longitude)]\n",
        "SH_dt[longitude > 0, longitude := -longitude]"
      ],
      "metadata": {
        "colab": {
          "base_uri": "https://localhost:8080/"
        },
        "id": "dzzcjncHtJ99",
        "outputId": "36abf158-7212-40c1-bf16-476e1db0ff42"
      },
      "execution_count": 14,
      "outputs": [
        {
          "output_type": "stream",
          "name": "stderr",
          "text": [
            "Warning message in eval(jsub, SDenv, parent.frame()):\n",
            "“NAs introduced by coercion”\n"
          ]
        }
      ]
    },
    {
      "cell_type": "code",
      "source": [
        "na_count <- sum(is.na(SH_dt$bd)) %>% print"
      ],
      "metadata": {
        "colab": {
          "base_uri": "https://localhost:8080/"
        },
        "id": "x9m7gTqTte4R",
        "outputId": "4642ea0c-4959-44d5-bc5e-50cefa1e9a00"
      },
      "execution_count": 15,
      "outputs": [
        {
          "output_type": "stream",
          "name": "stdout",
          "text": [
            "[1] 524\n"
          ]
        }
      ]
    },
    {
      "cell_type": "markdown",
      "source": [
        "calculate C stocks for the rows that have bd; use pedotransfer function to estimate bd for all others"
      ],
      "metadata": {
        "id": "HkgAH3HBwrCr"
      }
    },
    {
      "cell_type": "code",
      "source": [],
      "metadata": {
        "id": "_McVqZEvJsvu"
      },
      "execution_count": null,
      "outputs": []
    },
    {
      "cell_type": "code",
      "source": [
        "SH_dt[, SOC_stock := (toc/100) * bd * (depth_bottom-depth_top)]"
      ],
      "metadata": {
        "id": "1pP0osT5wl2a"
      },
      "execution_count": 16,
      "outputs": []
    },
    {
      "cell_type": "code",
      "source": [
        "SH_dt[, SOC_stock_kg_m2 := (depth_bottom-depth_top) * (1/100) * bd * 1000 * (toc/100)]\n",
        "\n",
        "#SH_dt$SOC_stock_kg_m2 %>% print"
      ],
      "metadata": {
        "id": "WIMlu2f-E7q2"
      },
      "execution_count": 17,
      "outputs": []
    },
    {
      "cell_type": "code",
      "source": [
        "SH_dt[, SOC_stock_Mg_ha:= SOC_stock_kg_m2 * 10]\n",
        "#SH_dt$SOC_stock_Mg_ha %>% print"
      ],
      "metadata": {
        "id": "WZmnYVGOH-q7"
      },
      "execution_count": 18,
      "outputs": []
    },
    {
      "cell_type": "code",
      "source": [
        "SH_dt$depth_bottom %>% unique"
      ],
      "metadata": {
        "colab": {
          "base_uri": "https://localhost:8080/",
          "height": 34
        },
        "id": "Z2ZFm_2_5dQy",
        "outputId": "172e9278-2c62-4a89-ef58-79771c3368f6"
      },
      "execution_count": 19,
      "outputs": [
        {
          "output_type": "display_data",
          "data": {
            "text/html": [
              "<style>\n",
              ".list-inline {list-style: none; margin:0; padding: 0}\n",
              ".list-inline>li {display: inline-block}\n",
              ".list-inline>li:not(:last-child)::after {content: \"\\00b7\"; padding: 0 .5ex}\n",
              "</style>\n",
              "<ol class=list-inline><li>15</li><li>20</li><li>5</li><li>30</li><li>60</li><li>90</li><li>12.5</li><li>50</li><li>70</li><li>100</li><li>10</li><li>&lt;NA&gt;</li><li>46</li><li>66</li></ol>\n"
            ],
            "text/markdown": "1. 15\n2. 20\n3. 5\n4. 30\n5. 60\n6. 90\n7. 12.5\n8. 50\n9. 70\n10. 100\n11. 10\n12. &lt;NA&gt;\n13. 46\n14. 66\n\n\n",
            "text/latex": "\\begin{enumerate*}\n\\item 15\n\\item 20\n\\item 5\n\\item 30\n\\item 60\n\\item 90\n\\item 12.5\n\\item 50\n\\item 70\n\\item 100\n\\item 10\n\\item <NA>\n\\item 46\n\\item 66\n\\end{enumerate*}\n",
            "text/plain": [
              " [1]  15.0  20.0   5.0  30.0  60.0  90.0  12.5  50.0  70.0 100.0  10.0    NA\n",
              "[13]  46.0  66.0"
            ]
          },
          "metadata": {}
        }
      ]
    },
    {
      "cell_type": "code",
      "source": [
        "table(SH_dt$depth_bottom)"
      ],
      "metadata": {
        "colab": {
          "base_uri": "https://localhost:8080/",
          "height": 72
        },
        "id": "TjlxojLe8PJP",
        "outputId": "ee8bea18-62d0-4bab-d2bf-657a35ab9aff"
      },
      "execution_count": 20,
      "outputs": [
        {
          "output_type": "display_data",
          "data": {
            "text/plain": [
              "\n",
              "   5   10 12.5   15   20   30   46   50   60   66   70   90  100 \n",
              "  24    1    1  764   67    4    1    2    3    1    2    3    6 "
            ]
          },
          "metadata": {}
        }
      ]
    },
    {
      "cell_type": "code",
      "source": [
        "SH_dt$minerals %>% unique\n",
        "SH_dt$management_category %>% unique\n",
        "SH_dt$current_land_use %>% unique"
      ],
      "metadata": {
        "colab": {
          "base_uri": "https://localhost:8080/",
          "height": 69
        },
        "id": "-HrNc9tlMWIW",
        "outputId": "aa30c3cd-6118-4f9f-c992-d08531e84224"
      },
      "execution_count": 21,
      "outputs": [
        {
          "output_type": "display_data",
          "data": {
            "text/html": [
              "<style>\n",
              ".list-inline {list-style: none; margin:0; padding: 0}\n",
              ".list-inline>li {display: inline-block}\n",
              ".list-inline>li:not(:last-child)::after {content: \"\\00b7\"; padding: 0 .5ex}\n",
              "</style>\n",
              "<ol class=list-inline><li>'lac'</li><li>'pncm'</li><li>'hac'</li><li>'sand'</li><li>'hist'</li><li>NA</li></ol>\n"
            ],
            "text/markdown": "1. 'lac'\n2. 'pncm'\n3. 'hac'\n4. 'sand'\n5. 'hist'\n6. NA\n\n\n",
            "text/latex": "\\begin{enumerate*}\n\\item 'lac'\n\\item 'pncm'\n\\item 'hac'\n\\item 'sand'\n\\item 'hist'\n\\item NA\n\\end{enumerate*}\n",
            "text/plain": [
              "[1] \"lac\"  \"pncm\" \"hac\"  \"sand\" \"hist\" NA    "
            ]
          },
          "metadata": {}
        },
        {
          "output_type": "display_data",
          "data": {
            "text/html": [
              "<style>\n",
              ".list-inline {list-style: none; margin:0; padding: 0}\n",
              ".list-inline>li {display: inline-block}\n",
              ".list-inline>li:not(:last-child)::after {content: \"\\00b7\"; padding: 0 .5ex}\n",
              "</style>\n",
              "<ol class=list-inline><li>'agroforestry'</li><li>'city/state park'</li><li>'conventional cropland'</li><li>'does not apply'</li><li>'forest'</li><li>'managed forest'</li><li>'mixed'</li><li>'mixed conventional and organic'</li><li>'orchard'</li><li>'organic'</li><li>'organic cropland'</li><li>'pasture'</li><li>'protected forest'</li><li>'shrubland'</li><li>'upial'</li><li>NA</li></ol>\n"
            ],
            "text/markdown": "1. 'agroforestry'\n2. 'city/state park'\n3. 'conventional cropland'\n4. 'does not apply'\n5. 'forest'\n6. 'managed forest'\n7. 'mixed'\n8. 'mixed conventional and organic'\n9. 'orchard'\n10. 'organic'\n11. 'organic cropland'\n12. 'pasture'\n13. 'protected forest'\n14. 'shrubland'\n15. 'upial'\n16. NA\n\n\n",
            "text/latex": "\\begin{enumerate*}\n\\item 'agroforestry'\n\\item 'city/state park'\n\\item 'conventional cropland'\n\\item 'does not apply'\n\\item 'forest'\n\\item 'managed forest'\n\\item 'mixed'\n\\item 'mixed conventional and organic'\n\\item 'orchard'\n\\item 'organic'\n\\item 'organic cropland'\n\\item 'pasture'\n\\item 'protected forest'\n\\item 'shrubland'\n\\item 'upial'\n\\item NA\n\\end{enumerate*}\n",
            "text/plain": [
              " [1] \"agroforestry\"                   \"city/state park\"               \n",
              " [3] \"conventional cropland\"          \"does not apply\"                \n",
              " [5] \"forest\"                         \"managed forest\"                \n",
              " [7] \"mixed\"                          \"mixed conventional and organic\"\n",
              " [9] \"orchard\"                        \"organic\"                       \n",
              "[11] \"organic cropland\"               \"pasture\"                       \n",
              "[13] \"protected forest\"               \"shrubland\"                     \n",
              "[15] \"upial\"                          NA                              "
            ]
          },
          "metadata": {}
        },
        {
          "output_type": "display_data",
          "data": {
            "text/html": [
              "<style>\n",
              ".list-inline {list-style: none; margin:0; padding: 0}\n",
              ".list-inline>li {display: inline-block}\n",
              ".list-inline>li:not(:last-child)::after {content: \"\\00b7\"; padding: 0 .5ex}\n",
              "</style>\n",
              "<ol class=list-inline><li>'agroforestry'</li><li>'city/state park'</li><li>'cropland'</li><li>'orchard'</li><li>'unmanaged/abandoned'</li><li>'pineapple or sugarcane plantation'</li><li>NA</li><li>'unmanaged forest'</li><li>'protected forest'</li><li>'managed forest'</li><li>'pasture'</li><li>'silvopasture'</li><li>'shrubland'</li><li>'unmanaged/abandoned cropland'</li></ol>\n"
            ],
            "text/markdown": "1. 'agroforestry'\n2. 'city/state park'\n3. 'cropland'\n4. 'orchard'\n5. 'unmanaged/abandoned'\n6. 'pineapple or sugarcane plantation'\n7. NA\n8. 'unmanaged forest'\n9. 'protected forest'\n10. 'managed forest'\n11. 'pasture'\n12. 'silvopasture'\n13. 'shrubland'\n14. 'unmanaged/abandoned cropland'\n\n\n",
            "text/latex": "\\begin{enumerate*}\n\\item 'agroforestry'\n\\item 'city/state park'\n\\item 'cropland'\n\\item 'orchard'\n\\item 'unmanaged/abandoned'\n\\item 'pineapple or sugarcane plantation'\n\\item NA\n\\item 'unmanaged forest'\n\\item 'protected forest'\n\\item 'managed forest'\n\\item 'pasture'\n\\item 'silvopasture'\n\\item 'shrubland'\n\\item 'unmanaged/abandoned cropland'\n\\end{enumerate*}\n",
            "text/plain": [
              " [1] \"agroforestry\"                      \"city/state park\"                  \n",
              " [3] \"cropland\"                          \"orchard\"                          \n",
              " [5] \"unmanaged/abandoned\"               \"pineapple or sugarcane plantation\"\n",
              " [7] NA                                  \"unmanaged forest\"                 \n",
              " [9] \"protected forest\"                  \"managed forest\"                   \n",
              "[11] \"pasture\"                           \"silvopasture\"                     \n",
              "[13] \"shrubland\"                         \"unmanaged/abandoned cropland\"     "
            ]
          },
          "metadata": {}
        }
      ]
    },
    {
      "cell_type": "code",
      "source": [
        "table(SH_dt$management_category)"
      ],
      "metadata": {
        "colab": {
          "base_uri": "https://localhost:8080/",
          "height": 331
        },
        "id": "WeLNwbxtMY4p",
        "outputId": "02edd710-73c9-4b47-a40f-a2907205ede1"
      },
      "execution_count": 22,
      "outputs": [
        {
          "output_type": "display_data",
          "data": {
            "text/plain": [
              "\n",
              "                  agroforestry                city/state park \n",
              "                            28                              3 \n",
              "         conventional cropland                 does not apply \n",
              "                           268                              5 \n",
              "                        forest                 managed forest \n",
              "                             9                             15 \n",
              "                         mixed mixed conventional and organic \n",
              "                            23                             15 \n",
              "                       orchard                        organic \n",
              "                             8                             17 \n",
              "              organic cropland                        pasture \n",
              "                           169                             83 \n",
              "              protected forest                      shrubland \n",
              "                           188                              3 \n",
              "                         upial \n",
              "                            54 "
            ]
          },
          "metadata": {}
        }
      ]
    },
    {
      "cell_type": "code",
      "source": [
        "table(SH_dt$current_land_use)"
      ],
      "metadata": {
        "colab": {
          "base_uri": "https://localhost:8080/",
          "height": 294
        },
        "id": "xqaUVtucNeON",
        "outputId": "f4dfe62e-05a3-4d04-961b-6e6e56240b12"
      },
      "execution_count": 23,
      "outputs": [
        {
          "output_type": "display_data",
          "data": {
            "text/plain": [
              "\n",
              "                     agroforestry                   city/state park \n",
              "                              100                                15 \n",
              "                         cropland                    managed forest \n",
              "                              427                                39 \n",
              "                          orchard                           pasture \n",
              "                               94                                81 \n",
              "pineapple or sugarcane plantation                  protected forest \n",
              "                                3                               114 \n",
              "                        shrubland                      silvopasture \n",
              "                                3                                 3 \n",
              "                 unmanaged forest               unmanaged/abandoned \n",
              "                                5                                62 \n",
              "     unmanaged/abandoned cropland \n",
              "                                1 "
            ]
          },
          "metadata": {}
        }
      ]
    },
    {
      "cell_type": "code",
      "source": [
        "#current_land_use\n",
        "#pial_none\n",
        "#minerals\n",
        "#SOC_stock_Mg_ha\n",
        "#depth_bottom == 15"
      ],
      "metadata": {
        "id": "dQOqXAYVJ8j2"
      },
      "execution_count": 24,
      "outputs": []
    },
    {
      "cell_type": "code",
      "source": [
        "\n",
        " SH_dt_test <- SH_dt[depth_bottom == 15 & minerals == \"lac\" & current_land_use == \"agroforestry\"] %>% print"
      ],
      "metadata": {
        "colab": {
          "base_uri": "https://localhost:8080/"
        },
        "id": "gHjRoJ4FgpGI",
        "outputId": "91280932-45e9-4199-a36f-4e53cdc60c98"
      },
      "execution_count": 27,
      "outputs": [
        {
          "output_type": "stream",
          "name": "stdout",
          "text": [
            "    number depth_top depth_bottom island                    site_name\n",
            " 1:    115         0           15   oahu ho`oulu `aina- kalihi valley\n",
            " 2:    116         0           15   oahu ho`oulu `aina- kalihi valley\n",
            " 3:    117         0           15   oahu ho`oulu `aina- kalihi valley\n",
            " 4:    118         0           15   oahu ho`oulu `aina- kalihi valley\n",
            " 5:    119         0           15   oahu ho`oulu `aina- kalihi valley\n",
            " 6:    120         0           15   oahu ho`oulu `aina- kalihi valley\n",
            " 7:    568         0           15   oahu          kukaniloko- wahiawa\n",
            " 8:    569         0           15   oahu          kukaniloko- wahiawa\n",
            " 9:    570         0           15   oahu          kukaniloko- wahiawa\n",
            "10:    571         0           15   oahu          kukaniloko- wahiawa\n",
            "11:    572         0           15   oahu          kukaniloko- wahiawa\n",
            "12:    573         0           15   oahu          kukaniloko- wahiawa\n",
            "13:    574         0           15   oahu          kukaniloko- wahiawa\n",
            "14:    861         0           15  kauai            kauai food forest\n",
            "    site_number current_land_use years_under_current_land_use\n",
            " 1:        18.0     agroforestry                    2010-2019\n",
            " 2:        18.0     agroforestry                    2010-2019\n",
            " 3:        18.0     agroforestry                    2010-2019\n",
            " 4:        18.0     agroforestry                    2010-2019\n",
            " 5:        18.0     agroforestry                    2010-2019\n",
            " 6:        18.0     agroforestry                    2010-2019\n",
            " 7:        26.0     agroforestry                    2020-2021\n",
            " 8:        26.0     agroforestry                    2020-2021\n",
            " 9:        26.0     agroforestry                    2020-2021\n",
            "10:        26.0     agroforestry                    2020-2021\n",
            "11:        26.0     agroforestry                    2020-2021\n",
            "12:        26.0     agroforestry                    2020-2021\n",
            "13:        26.0     agroforestry                    2020-2021\n",
            "14:        98.0     agroforestry                    2012-2022\n",
            "    most_previous_land_use years_under_most_previous._land_use    plot_name\n",
            " 1:       protected forest                                <NA>         39.0\n",
            " 2:       protected forest                                <NA>         39.0\n",
            " 3:       protected forest                                <NA>         39.0\n",
            " 4:       protected forest                                <NA>         40.0\n",
            " 5:       protected forest                                <NA>         40.0\n",
            " 6:       protected forest                                <NA>         40.0\n",
            " 7:    unmanaged/abandoned                            cropland        108.0\n",
            " 8:    unmanaged/abandoned                            cropland        108.0\n",
            " 9:    unmanaged/abandoned                            cropland        109.0\n",
            "10:    unmanaged/abandoned                            cropland        110.0\n",
            "11:    unmanaged/abandoned                            cropland        110.0\n",
            "12:    unmanaged/abandoned                            cropland        111.0\n",
            "13:    unmanaged/abandoned                            cropland        111.0\n",
            "14:        city/state park                           2009-2012 agroforestry\n",
            "    plot_area current_plant_cover previous_crop_cover tillage tillage_frequency\n",
            " 1:      <NA>        agroforestry           no change    none             other\n",
            " 2:      <NA>        agroforestry           no change    none             other\n",
            " 3:      <NA>        agroforestry           no change    none             other\n",
            " 4:      <NA>        agroforestry           no change    none             other\n",
            " 5:      <NA>        agroforestry           no change    none             other\n",
            " 6:      <NA>        agroforestry           no change    none             other\n",
            " 7:      0.07   orchard/tree crop           no change    none              <NA>\n",
            " 8:      0.07   orchard/tree crop           no change    none              <NA>\n",
            " 9:      0.07   orchard/tree crop           no change    none              <NA>\n",
            "10:      0.07   orchard/tree crop           no change    none              <NA>\n",
            "11:      0.07   orchard/tree crop           no change    none              <NA>\n",
            "12:      0.07   orchard/tree crop           no change    none              <NA>\n",
            "13:      0.07   orchard/tree crop           no change    none              <NA>\n",
            "14:      2 ac        agroforestry        agroforestry    none              none\n",
            "    herbicide pesticide irrigation_type\n",
            " 1:      <NA>      <NA>            <NA>\n",
            " 2:      <NA>      <NA>            <NA>\n",
            " 3:      <NA>      <NA>            <NA>\n",
            " 4:      <NA>      <NA>            <NA>\n",
            " 5:      <NA>      <NA>            <NA>\n",
            " 6:      <NA>      <NA>            <NA>\n",
            " 7:        no        no    surface drip\n",
            " 8:        no        no    surface drip\n",
            " 9:        no        no    surface drip\n",
            "10:        no        no    surface drip\n",
            "11:        no        no    surface drip\n",
            "12:        no        no    surface drip\n",
            "13:        no        no    surface drip\n",
            "14:        no        no           other\n",
            "                                    additional_soil_cover soil_series\n",
            " 1:                                                  <NA>    loleka`a\n",
            " 2:                                                  <NA>    loleka`a\n",
            " 3:                                                  <NA>    loleka`a\n",
            " 4:                                                  <NA>    loleka`a\n",
            " 5:                                                  <NA>    loleka`a\n",
            " 6:                                                  <NA>    loleka`a\n",
            " 7:                                             bare soil     wahiawa\n",
            " 8:                                             bare soil     wahiawa\n",
            " 9:                                             bare soil     wahiawa\n",
            "10:                                             bare soil     wahiawa\n",
            "11:                                             bare soil     wahiawa\n",
            "12:                                             bare soil     wahiawa\n",
            "13:                                             bare soil     wahiawa\n",
            "14: mulch (woodchip, leaf litter, other organic material)       kapaa\n",
            "      latitude longitude management_category pial_none distlevel   order\n",
            " 1:    21.3617 -157.8403        agroforestry      none      <NA> ultisol\n",
            " 2:    21.3617 -157.8403        agroforestry      none      <NA> ultisol\n",
            " 3:    21.3617 -157.8403        agroforestry      none      <NA> ultisol\n",
            " 4:    21.3627 -157.8404        agroforestry      none      <NA> ultisol\n",
            " 5:    21.3627 -157.8404        agroforestry      none      <NA> ultisol\n",
            " 6:    21.3627 -157.8404        agroforestry      none      <NA> ultisol\n",
            " 7: 21.5011257 -158.0318        agroforestry      pial      <NA>  oxisol\n",
            " 8: 21.5011257 -158.0318        agroforestry      pial      <NA>  oxisol\n",
            " 9: 21.5011257 -158.0318        agroforestry      pial      <NA>  oxisol\n",
            "10: 21.5011257 -158.0318        agroforestry      pial      <NA>  oxisol\n",
            "11: 21.5011257 -158.0318        agroforestry      pial      <NA>  oxisol\n",
            "12: 21.5011257 -158.0318        agroforestry      pial      <NA>  oxisol\n",
            "13: 21.5011257 -158.0318        agroforestry      pial      <NA>  oxisol\n",
            "14:  22.205014 -159.4284                <NA>      <NA>      <NA>  oxisol\n",
            "    minerals swc_fm swc_ad  toc   tn co2_burst beta_glucosidase\n",
            " 1:      lac     57     13 2.23 0.20   136.140            55.20\n",
            " 2:      lac     58     13 2.71 0.22    92.250            54.77\n",
            " 3:      lac     58     13 3.61 0.29   118.450            67.23\n",
            " 4:      lac     51     11 6.99 0.47   107.550            62.14\n",
            " 5:      lac     60     13 6.99 0.44    84.170            62.36\n",
            " 6:      lac     60     15 8.71 0.55   109.120            56.63\n",
            " 7:      lac     28      6 2.94 0.25   115.956            83.00\n",
            " 8:      lac     27      7 2.12 0.21    53.719            64.00\n",
            " 9:      lac     24      7 2.33 0.22    41.445           109.00\n",
            "10:      lac     25      5 2.11 0.21    44.607            61.00\n",
            "11:      lac     27      8 2.84 0.25    89.717           122.00\n",
            "12:      lac     26     12 2.32 0.22    64.155            74.00\n",
            "13:      lac     27     10 3.34 0.28   101.047           118.00\n",
            "14:      lac    126     28 5.61 0.37    99.049            65.50\n",
            "    beta_glucosaminidase pnm_init pmn_fin   ph    doc   tdn          din   don\n",
            " 1:                23.48     0.00    9.33 5.34 267.58 19.13   0.19956940 19.26\n",
            " 2:                35.75     0.00    4.05 5.51 176.63 13.00   0.00000000 13.34\n",
            " 3:               102.95     0.00    8.85 6.55 281.09 14.57   0.04548219 14.87\n",
            " 4:                54.27     0.00    9.58 5.03 332.46 31.80   3.04450522 28.76\n",
            " 5:                69.99     0.00    5.43 5.05 245.12 25.32   6.43410853 19.22\n",
            " 6:                43.83     0.00    9.81 4.49 327.01 89.51  63.31909578 26.55\n",
            " 7:                82.00     5.77   43.44 5.15  81.88 16.47   7.47691011  8.99\n",
            " 8:                63.00     3.62   27.45  5.0  39.06  6.28   2.35701226  3.92\n",
            " 9:                67.00     7.34   24.59 5.51  31.56  6.07   1.34964427  4.72\n",
            "10:                50.00     5.72   14.47 5.13  40.98  6.20   1.55839548  4.64\n",
            "11:                86.00     7.19   37.06 5.48  42.22 12.11   6.81902251  5.29\n",
            "12:                65.00     4.13   24.28 6.02  22.79  5.61   1.13835808  4.47\n",
            "13:                49.00     7.29   51.82 6.34  78.51 10.98   0.16699350 10.82\n",
            "14:                33.83    14.38   85.55 6.38  22.40 46.58 111.87000000  0.19\n",
            "       hwec   hwen    whc  wsa_mega wsa_macro   bd shs assessment      c_n\n",
            " 1:  487.54  52.85 107.72 22.504814        NA   NA  NA         NA 11.43590\n",
            " 2:  193.86  21.29 101.26 29.699843        NA   NA  NA         NA 12.58140\n",
            " 3:  532.72  59.01  99.81 47.258438        NA   NA  NA         NA 12.64912\n",
            " 4: 1040.91  96.93  91.89 73.976427        NA   NA  NA         NA 14.86170\n",
            " 5: 1215.28 107.57  86.10 49.146639        NA   NA  NA         NA 16.06897\n",
            " 6: 1631.58 162.00  96.89 95.857173        NA   NA  NA         NA 15.83636\n",
            " 7:  202.35  25.48  75.23 24.345461        NA   NA  NA         NA 11.76000\n",
            " 8:  140.12  16.58  76.12 33.176115        NA   NA  NA         NA 10.09524\n",
            " 9:  125.96  14.94  73.86  3.098002        NA   NA  NA         NA 10.59091\n",
            "10:   51.98   6.56  74.61 20.515462        NA   NA  NA         NA 10.04762\n",
            "11:  263.04  33.93  79.10 50.203149        NA   NA  NA         NA 11.36000\n",
            "12:   87.70  13.02  77.04 14.634090        NA   NA  NA         NA 10.54545\n",
            "13:  271.01  33.28  78.95 51.599293        NA   NA  NA         NA 11.92857\n",
            "14:  967.42 110.17 106.43 36.420000        NA 0.74  NA         NA 15.16000\n",
            "       doc_don   pmn status\n",
            " 1:  13.890530  9.33   done\n",
            " 2:  13.237658  4.05   done\n",
            " 3:  18.897921  8.85   done\n",
            " 4:  11.560943  9.58   done\n",
            " 5:  12.751661  5.43   done\n",
            " 6:  12.318351  9.81   done\n",
            " 7:   9.109108 37.67   done\n",
            " 8:   9.955216 23.83   done\n",
            " 9:   6.681597 17.25   done\n",
            "10:   8.827756  8.75   done\n",
            "11:   7.977204 29.87   done\n",
            "12:   5.095120 20.15   done\n",
            "13:   7.258412 44.53   done\n",
            "14: 117.880000 71.17   done\n",
            "                                                                                                 hyperlinks\n",
            " 1: https://docs.google.com/spreadsheets/d/1hglemkgpfx7rko0q2c9sm2ipvll6atyw1_upczssraq/edit#gid=2114689344\n",
            " 2: https://docs.google.com/spreadsheets/d/1hglemkgpfx7rko0q2c9sm2ipvll6atyw1_upczssraq/edit#gid=2114689344\n",
            " 3: https://docs.google.com/spreadsheets/d/1hglemkgpfx7rko0q2c9sm2ipvll6atyw1_upczssraq/edit#gid=2114689344\n",
            " 4: https://docs.google.com/spreadsheets/d/1hglemkgpfx7rko0q2c9sm2ipvll6atyw1_upczssraq/edit#gid=2114689344\n",
            " 5: https://docs.google.com/spreadsheets/d/1hglemkgpfx7rko0q2c9sm2ipvll6atyw1_upczssraq/edit#gid=2114689344\n",
            " 6: https://docs.google.com/spreadsheets/d/1hglemkgpfx7rko0q2c9sm2ipvll6atyw1_upczssraq/edit#gid=2114689344\n",
            " 7: https://docs.google.com/spreadsheets/d/15hrydxvmwgupdz4ede2mna7zdzxikiou38hj6hlybw0/edit#gid=1076234646\n",
            " 8: https://docs.google.com/spreadsheets/d/15hrydxvmwgupdz4ede2mna7zdzxikiou38hj6hlybw0/edit#gid=1076234646\n",
            " 9: https://docs.google.com/spreadsheets/d/15hrydxvmwgupdz4ede2mna7zdzxikiou38hj6hlybw0/edit#gid=1076234646\n",
            "10: https://docs.google.com/spreadsheets/d/15hrydxvmwgupdz4ede2mna7zdzxikiou38hj6hlybw0/edit#gid=1076234646\n",
            "11: https://docs.google.com/spreadsheets/d/15hrydxvmwgupdz4ede2mna7zdzxikiou38hj6hlybw0/edit#gid=1076234646\n",
            "12: https://docs.google.com/spreadsheets/d/15hrydxvmwgupdz4ede2mna7zdzxikiou38hj6hlybw0/edit#gid=1076234646\n",
            "13: https://docs.google.com/spreadsheets/d/15hrydxvmwgupdz4ede2mna7zdzxikiou38hj6hlybw0/edit#gid=1076234646\n",
            "14: https://docs.google.com/spreadsheets/d/1mlqu9zh13ghf_afzss_ju9wjtxa9trjzff9xeaviy30/edit#gid=1076234660\n",
            "    last.updated SOC_stock SOC_stock_kg_m2 SOC_stock_Mg_ha\n",
            " 1:        44629        NA              NA              NA\n",
            " 2:        44629        NA              NA              NA\n",
            " 3:        44629        NA              NA              NA\n",
            " 4:        44629        NA              NA              NA\n",
            " 5:        44629        NA              NA              NA\n",
            " 6:        44629        NA              NA              NA\n",
            " 7:        44629        NA              NA              NA\n",
            " 8:        44629        NA              NA              NA\n",
            " 9:        44629        NA              NA              NA\n",
            "10:        44629        NA              NA              NA\n",
            "11:        44629        NA              NA              NA\n",
            "12:        44629        NA              NA              NA\n",
            "13:        44629        NA              NA              NA\n",
            "14:        45203   0.62271          6.2271          62.271\n"
          ]
        }
      ]
    },
    {
      "cell_type": "markdown",
      "source": [
        "below is summaries by land use and mineralogy only, not PIAL"
      ],
      "metadata": {
        "id": "YUXE6bO2d20_"
      }
    },
    {
      "cell_type": "code",
      "source": [
        "SH_dt_sub <- SH_dt[depth_bottom == 15]\n",
        "\n",
        "summary_table <- SH_dt_sub[, .(\n",
        "  mean_SOC_stock_Mg_ha = mean(SOC_stock_Mg_ha,  na.rm = TRUE),\n",
        "  n_obs = .N,\n",
        "  se_SOC_stock_Mg_ha = sd(SOC_stock_Mg_ha, na.rm = TRUE) / sqrt(.N)\n",
        "), by = .(current_land_use, minerals)]\n",
        "\n",
        "print(summary_table)"
      ],
      "metadata": {
        "colab": {
          "base_uri": "https://localhost:8080/"
        },
        "id": "NXYX5O5CW3WO",
        "outputId": "66c20112-9471-43d0-dc5a-fb2da723ca13"
      },
      "execution_count": 26,
      "outputs": [
        {
          "output_type": "stream",
          "name": "stdout",
          "text": [
            "                     current_land_use minerals mean_SOC_stock_Mg_ha n_obs\n",
            " 1:                      agroforestry      lac             62.27100    14\n",
            " 2:                      agroforestry     pncm            137.29600     3\n",
            " 3:                      agroforestry      hac                  NaN    13\n",
            " 4:                   city/state park     sand                  NaN     3\n",
            " 5:                          cropland      lac             36.29770    74\n",
            " 6:                           orchard     pncm             78.99240    37\n",
            " 7:                          cropland     pncm             56.67699    21\n",
            " 8:               unmanaged/abandoned     pncm             59.14500     2\n",
            " 9:                          cropland      hac             27.44755   305\n",
            "10: pineapple or sugarcane plantation      lac             14.80309     3\n",
            "11:                           orchard      lac             48.03192    18\n",
            "12:                              <NA>      hac                  NaN     2\n",
            "13:                  unmanaged forest      hac             36.07080     5\n",
            "14:                  protected forest     pncm             93.39383    24\n",
            "15:                    managed forest      hac             13.37437    13\n",
            "16:                    managed forest      lac             34.04481    18\n",
            "17:                           orchard     sand                  NaN     6\n",
            "18:                           orchard      hac             58.57247    16\n",
            "19:                           pasture      lac             29.33576    16\n",
            "20:                          cropland     hist                  NaN    10\n",
            "21:               unmanaged/abandoned      hac             39.00596    37\n",
            "22:                           pasture     pncm            107.28928    47\n",
            "23:                      silvopasture     pncm            114.68350     3\n",
            "24:                           pasture      hac             33.23350     5\n",
            "25:                   city/state park     pncm                  NaN     3\n",
            "26:                   city/state park      hac                  NaN     6\n",
            "27:                   city/state park      lac                  NaN     3\n",
            "28:                  protected forest     hist            108.82263     3\n",
            "29:                  protected forest      lac                  NaN     6\n",
            "30:                    managed forest     pncm            130.27351     8\n",
            "31:                         shrubland     pncm            159.53700     2\n",
            "32:                         shrubland     hist            149.87700     1\n",
            "33:               unmanaged/abandoned      lac             35.35975    16\n",
            "34:               unmanaged/abandoned     sand                  NaN     3\n",
            "35:                           orchard     hist                  NaN    15\n",
            "36:                          cropland     <NA>             33.57525     2\n",
            "37:      unmanaged/abandoned cropland      hac             23.65200     1\n",
            "                     current_land_use minerals mean_SOC_stock_Mg_ha n_obs\n",
            "    se_SOC_stock_Mg_ha\n",
            " 1:                 NA\n",
            " 2:         39.9729891\n",
            " 3:                 NA\n",
            " 4:                 NA\n",
            " 5:          1.9387816\n",
            " 6:          2.0207238\n",
            " 7:          2.2971506\n",
            " 8:          4.5750000\n",
            " 9:          0.8008318\n",
            "10:          2.4510251\n",
            "11:          4.7225501\n",
            "12:                 NA\n",
            "13:          4.1671183\n",
            "14:          4.6600304\n",
            "15:          1.5417980\n",
            "16:          6.1761871\n",
            "17:                 NA\n",
            "18:          6.5686731\n",
            "19:          6.4915363\n",
            "20:                 NA\n",
            "21:          2.7633538\n",
            "22:          4.3671343\n",
            "23:          8.8713816\n",
            "24:          2.8461227\n",
            "25:                 NA\n",
            "26:                 NA\n",
            "27:                 NA\n",
            "28:          9.3541337\n",
            "29:                 NA\n",
            "30:          4.2169751\n",
            "31:         63.9030000\n",
            "32:                 NA\n",
            "33:          4.7822194\n",
            "34:                 NA\n",
            "35:                 NA\n",
            "36:         11.8402500\n",
            "37:                 NA\n",
            "    se_SOC_stock_Mg_ha\n"
          ]
        }
      ]
    },
    {
      "cell_type": "code",
      "source": [
        "names(SOC_dbase_dt)"
      ],
      "metadata": {
        "colab": {
          "base_uri": "https://localhost:8080/",
          "height": 69
        },
        "id": "eIQ5zBrkDDsy",
        "outputId": "8d90412d-740b-417e-9cc6-f8c9bab26ca4"
      },
      "execution_count": 39,
      "outputs": [
        {
          "output_type": "display_data",
          "data": {
            "text/html": [
              "<style>\n",
              ".list-inline {list-style: none; margin:0; padding: 0}\n",
              ".list-inline>li {display: inline-block}\n",
              ".list-inline>li:not(:last-child)::after {content: \"\\00b7\"; padding: 0 .5ex}\n",
              "</style>\n",
              "<ol class=list-inline><li>'PubID'</li><li>'DataID'</li><li>'Date.sampled'</li><li>'Island'</li><li>'Location'</li><li>'Latitude'</li><li>'Longitude'</li><li>'Land.use'</li><li>'Soil.cover'</li><li>'soil.order'</li><li>'soil.series'</li><li>'soil.taxonomy'</li><li>'depth_upper_cm'</li><li>'depth_lower_cm'</li><li>'soil.depth..m.'</li><li>'X..C'</li><li>'X..C.1'</li><li>'C_perc'</li><li>'TC..Mg.C.ha.'</li><li>'bulk.density..g.cm3.or.Mg.m3.or.kg.L.'</li><li>'C.N'</li><li>'soil.pH'</li><li>'X..N'</li><li>'TN..Mg.ha.'</li><li>'P..kg.ha.'</li><li>'elevation..m.'</li><li>'MAT..C.'</li><li>'MAP..mm.'</li><li>'soil.sampling'</li><li>'Previous.land.use'</li><li>'Previous.plant.cover'</li><li>'Fertilizer.type'</li><li>'Fertilizer.rate..not.required.'</li><li>'Tillage.type'</li><li>'Tillage.frequency'</li><li>'Herbicide'</li><li>'Pesticide'</li><li>'Irrigation.type'</li><li>'Additional.soil.cover'</li></ol>\n"
            ],
            "text/markdown": "1. 'PubID'\n2. 'DataID'\n3. 'Date.sampled'\n4. 'Island'\n5. 'Location'\n6. 'Latitude'\n7. 'Longitude'\n8. 'Land.use'\n9. 'Soil.cover'\n10. 'soil.order'\n11. 'soil.series'\n12. 'soil.taxonomy'\n13. 'depth_upper_cm'\n14. 'depth_lower_cm'\n15. 'soil.depth..m.'\n16. 'X..C'\n17. 'X..C.1'\n18. 'C_perc'\n19. 'TC..Mg.C.ha.'\n20. 'bulk.density..g.cm3.or.Mg.m3.or.kg.L.'\n21. 'C.N'\n22. 'soil.pH'\n23. 'X..N'\n24. 'TN..Mg.ha.'\n25. 'P..kg.ha.'\n26. 'elevation..m.'\n27. 'MAT..C.'\n28. 'MAP..mm.'\n29. 'soil.sampling'\n30. 'Previous.land.use'\n31. 'Previous.plant.cover'\n32. 'Fertilizer.type'\n33. 'Fertilizer.rate..not.required.'\n34. 'Tillage.type'\n35. 'Tillage.frequency'\n36. 'Herbicide'\n37. 'Pesticide'\n38. 'Irrigation.type'\n39. 'Additional.soil.cover'\n\n\n",
            "text/latex": "\\begin{enumerate*}\n\\item 'PubID'\n\\item 'DataID'\n\\item 'Date.sampled'\n\\item 'Island'\n\\item 'Location'\n\\item 'Latitude'\n\\item 'Longitude'\n\\item 'Land.use'\n\\item 'Soil.cover'\n\\item 'soil.order'\n\\item 'soil.series'\n\\item 'soil.taxonomy'\n\\item 'depth\\_upper\\_cm'\n\\item 'depth\\_lower\\_cm'\n\\item 'soil.depth..m.'\n\\item 'X..C'\n\\item 'X..C.1'\n\\item 'C\\_perc'\n\\item 'TC..Mg.C.ha.'\n\\item 'bulk.density..g.cm3.or.Mg.m3.or.kg.L.'\n\\item 'C.N'\n\\item 'soil.pH'\n\\item 'X..N'\n\\item 'TN..Mg.ha.'\n\\item 'P..kg.ha.'\n\\item 'elevation..m.'\n\\item 'MAT..C.'\n\\item 'MAP..mm.'\n\\item 'soil.sampling'\n\\item 'Previous.land.use'\n\\item 'Previous.plant.cover'\n\\item 'Fertilizer.type'\n\\item 'Fertilizer.rate..not.required.'\n\\item 'Tillage.type'\n\\item 'Tillage.frequency'\n\\item 'Herbicide'\n\\item 'Pesticide'\n\\item 'Irrigation.type'\n\\item 'Additional.soil.cover'\n\\end{enumerate*}\n",
            "text/plain": [
              " [1] \"PubID\"                                \n",
              " [2] \"DataID\"                               \n",
              " [3] \"Date.sampled\"                         \n",
              " [4] \"Island\"                               \n",
              " [5] \"Location\"                             \n",
              " [6] \"Latitude\"                             \n",
              " [7] \"Longitude\"                            \n",
              " [8] \"Land.use\"                             \n",
              " [9] \"Soil.cover\"                           \n",
              "[10] \"soil.order\"                           \n",
              "[11] \"soil.series\"                          \n",
              "[12] \"soil.taxonomy\"                        \n",
              "[13] \"depth_upper_cm\"                       \n",
              "[14] \"depth_lower_cm\"                       \n",
              "[15] \"soil.depth..m.\"                       \n",
              "[16] \"X..C\"                                 \n",
              "[17] \"X..C.1\"                               \n",
              "[18] \"C_perc\"                               \n",
              "[19] \"TC..Mg.C.ha.\"                         \n",
              "[20] \"bulk.density..g.cm3.or.Mg.m3.or.kg.L.\"\n",
              "[21] \"C.N\"                                  \n",
              "[22] \"soil.pH\"                              \n",
              "[23] \"X..N\"                                 \n",
              "[24] \"TN..Mg.ha.\"                           \n",
              "[25] \"P..kg.ha.\"                            \n",
              "[26] \"elevation..m.\"                        \n",
              "[27] \"MAT..C.\"                              \n",
              "[28] \"MAP..mm.\"                             \n",
              "[29] \"soil.sampling\"                        \n",
              "[30] \"Previous.land.use\"                    \n",
              "[31] \"Previous.plant.cover\"                 \n",
              "[32] \"Fertilizer.type\"                      \n",
              "[33] \"Fertilizer.rate..not.required.\"       \n",
              "[34] \"Tillage.type\"                         \n",
              "[35] \"Tillage.frequency\"                    \n",
              "[36] \"Herbicide\"                            \n",
              "[37] \"Pesticide\"                            \n",
              "[38] \"Irrigation.type\"                      \n",
              "[39] \"Additional.soil.cover\"                "
            ]
          },
          "metadata": {}
        }
      ]
    }
  ]
}