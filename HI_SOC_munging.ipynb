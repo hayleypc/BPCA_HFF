{
  "nbformat": 4,
  "nbformat_minor": 0,
  "metadata": {
    "colab": {
      "provenance": [],
      "authorship_tag": "ABX9TyPFzdJwvQ+3AZY+WWuNQWAj",
      "include_colab_link": true
    },
    "kernelspec": {
      "name": "ir",
      "display_name": "R"
    },
    "language_info": {
      "name": "R"
    }
  },
  "cells": [
    {
      "cell_type": "markdown",
      "metadata": {
        "id": "view-in-github",
        "colab_type": "text"
      },
      "source": [
        "<a href=\"https://colab.research.google.com/github/hayleypc/BPCA_HFF/blob/main/HI_SOC_munging.ipynb\" target=\"_parent\"><img src=\"https://colab.research.google.com/assets/colab-badge.svg\" alt=\"Open In Colab\"/></a>"
      ]
    },
    {
      "cell_type": "code",
      "execution_count": 27,
      "metadata": {
        "colab": {
          "base_uri": "https://localhost:8080/"
        },
        "id": "oyj6Yndft76V",
        "outputId": "74251d98-ca31-40f5-e630-5c29d511579d"
      },
      "outputs": [
        {
          "output_type": "stream",
          "name": "stderr",
          "text": [
            "Installing packages into ‘/usr/local/lib/R/site-library’\n",
            "(as ‘lib’ is unspecified)\n",
            "\n"
          ]
        }
      ],
      "source": [
        "install.packages(c('data.table','ggplot2','magrittr','googledrive','openxlsx'))"
      ]
    },
    {
      "cell_type": "code",
      "source": [
        "library(data.table)\n",
        "library(ggplot2)\n",
        "library(magrittr)\n",
        "library(googledrive)\n",
        "library(openxlsx)"
      ],
      "metadata": {
        "id": "MD04wdqWwwfI"
      },
      "execution_count": 28,
      "outputs": []
    },
    {
      "cell_type": "code",
      "source": [
        "drive_auth(use_oob = TRUE, cache = FALSE)"
      ],
      "metadata": {
        "colab": {
          "base_uri": "https://localhost:8080/"
        },
        "id": "sCXG-A-lxNEt",
        "outputId": "f18d93f9-83b9-4ede-c399-bcf8b3454f32"
      },
      "execution_count": 29,
      "outputs": [
        {
          "output_type": "stream",
          "name": "stderr",
          "text": [
            "Please point your browser to the following url: \n",
            "\n",
            "https://accounts.google.com/o/oauth2/v2/auth?client_id=603366585132-frjlouoa3s2ono25d2l9ukvhlsrlnr7k.apps.googleusercontent.com&scope=https%3A%2F%2Fwww.googleapis.com%2Fauth%2Fdrive%20https%3A%2F%2Fwww.googleapis.com%2Fauth%2Fuserinfo.email&redirect_uri=https%3A%2F%2Fwww.tidyverse.org%2Fgoogle-callback%2F&response_type=code&state=927c5121e239e74212ad1a215da7baf4&access_type=offline&prompt=consent\n",
            "\n"
          ]
        },
        {
          "name": "stdout",
          "output_type": "stream",
          "text": [
            "Enter authorization code: eyJjb2RlIjoiNC8wQWZKb2hYbkhldGZqeEh2RzlULXJUZ01VMG5QSmNGQVN4aDVRTG9XUXdMYjFaY2lEUEppOTNxcnpIdjk0Q1JPUjBmdmFTZyIsInN0YXRlIjoiOTI3YzUxMjFlMjM5ZTc0MjEyYWQxYTIxNWRhN2JhZjQifQ==\n"
          ]
        }
      ]
    },
    {
      "cell_type": "code",
      "source": [
        "# https://docs.google.com/spreadsheets/d/1mCucq9SaugOtadGLqL5BH9yLMgZcJlcn/edit?usp=drive_link&ouid=116908933518305479206&rtpof=true&sd=true\n",
        "drive_download(file = as_id('1mCucq9SaugOtadGLqL5BH9yLMgZcJlcn'), path = '/content/SH_database.xlsx', overwrite = TRUE)"
      ],
      "metadata": {
        "colab": {
          "base_uri": "https://localhost:8080/"
        },
        "id": "8PuLgOYmxRcl",
        "outputId": "7cf5fa4f-6937-40be-9090-e49d0d5acef2"
      },
      "execution_count": 66,
      "outputs": [
        {
          "output_type": "stream",
          "name": "stderr",
          "text": [
            "File downloaded:\n",
            "\n",
            "• \u001b[36mworking copy SH database.xlsx\u001b[39m \u001b[90m<id: 1mCucq9SaugOtadGLqL5BH9yLMgZcJlcn>\u001b[39m\n",
            "\n",
            "Saved locally as:\n",
            "\n",
            "• \u001b[34m/content/SH_database.xlsx\u001b[39m\n",
            "\n"
          ]
        }
      ]
    },
    {
      "cell_type": "code",
      "source": [
        "SheetNames<-getSheetNames('/content/SH_database.xlsx')\n",
        "print(SheetNames)\n",
        "data_list <- SheetNames %>%\n",
        "             lapply(function(x){\n",
        "                #Read the i'th sheet\n",
        "             openxlsx::read.xlsx('/content/SH_database.xlsx', x) %>% data.table\n",
        "             })\n",
        "\n",
        "names(data_list) <- SheetNames"
      ],
      "metadata": {
        "colab": {
          "base_uri": "https://localhost:8080/"
        },
        "id": "CJzhWEsU6v3v",
        "outputId": "79f15bd2-6102-4c1d-bb6e-cada230e2646"
      },
      "execution_count": 67,
      "outputs": [
        {
          "output_type": "stream",
          "name": "stdout",
          "text": [
            "[1] \"Sheet1\" \"Sheet2\" \"Sheet3\"\n"
          ]
        }
      ]
    },
    {
      "cell_type": "code",
      "source": [
        "SH_dt <- data_list['Sheet1'] %>% as.data.table()"
      ],
      "metadata": {
        "id": "l_03f3oo8DCT"
      },
      "execution_count": 68,
      "outputs": []
    },
    {
      "cell_type": "code",
      "source": [
        "setnames(SH_dt, gsub(\"^Sheet1\\\\.\", \"\", names(SH_dt)))"
      ],
      "metadata": {
        "id": "Nr1aj6MYrTGU"
      },
      "execution_count": 69,
      "outputs": []
    },
    {
      "cell_type": "code",
      "source": [
        "print(SH_dt)"
      ],
      "metadata": {
        "colab": {
          "base_uri": "https://localhost:8080/"
        },
        "id": "a3kRFPlsBjHZ",
        "outputId": "918f9f4f-adea-4620-dd0b-381da2f89f52"
      },
      "execution_count": 50,
      "outputs": [
        {
          "output_type": "stream",
          "name": "stdout",
          "text": [
            "     Number depth_top depth_bottom Island                     Site_name\n",
            "  1:    115         0           15   Oahu  Ho`oulu `Aina- Kalihi Valley\n",
            "  2:    116         0           15   Oahu  Ho`oulu `Aina- Kalihi Valley\n",
            "  3:    117         0           15   Oahu  Ho`oulu `Aina- Kalihi Valley\n",
            "  4:    118         0           15   Oahu  Ho`oulu `Aina- Kalihi Valley\n",
            "  5:    119         0           15   Oahu  Ho`oulu `Aina- Kalihi Valley\n",
            " ---                                                                   \n",
            "945:    741         0           15   Oahu                  Kuilima Farm\n",
            "946:    742         0           15   Oahu                   Thrive Farm\n",
            "947:    740         0           15   Oahu                   Ahiki Acres\n",
            "948:    863         0           15  Kauai                        Iwikua\n",
            "949:    908         0           15   Maui Living Earth Systems (2 of 2)\n",
            "     Site_number             Current_land_use Years_under_current_land_use\n",
            "  1:        18.0                 Agroforestry                    2010-2019\n",
            "  2:        18.0                 Agroforestry                    2010-2019\n",
            "  3:        18.0                 Agroforestry                    2010-2019\n",
            "  4:        18.0                 Agroforestry                    2010-2019\n",
            "  5:        18.0                 Agroforestry                    2010-2019\n",
            " ---                                                                      \n",
            "945:        65.0                     Cropland                    2020-2022\n",
            "946:        66.0                     Cropland                    2020-2022\n",
            "947:        64.0                     Cropland                    2019-2022\n",
            "948:         6.0 Unmanaged/abandoned cropland                         <NA>\n",
            "949:       1-3ac          Unmanaged/abandoned                         <NA>\n",
            "     Most_previous_land_use Years_under_most_previous._land_use\n",
            "  1:       Protected forest                                <NA>\n",
            "  2:       Protected forest                                <NA>\n",
            "  3:       Protected forest                                <NA>\n",
            "  4:       Protected forest                                <NA>\n",
            "  5:       Protected forest                                <NA>\n",
            " ---                                                           \n",
            "945:    Unmanaged/abandoned                              X-2020\n",
            "946:    Unmanaged/abandoned                              X-2020\n",
            "947:               Cropland                              x-2019\n",
            "948:                   <NA>                                <NA>\n",
            "949:    Unmanaged/abandoned                                <NA>\n",
            "             Plot_name Plot_area   Current_plant_cover   Previous_crop_cover\n",
            "  1:              39.0      <NA>          Agroforestry             No change\n",
            "  2:              39.0      <NA>          Agroforestry             No change\n",
            "  3:              39.0      <NA>          Agroforestry             No change\n",
            "  4:              40.0      <NA>          Agroforestry             No change\n",
            "  5:              40.0      <NA>          Agroforestry             No change\n",
            " ---                                                                        \n",
            "945:     future greens      <NA>   Nothing/bare fallow  Row crop monoculture\n",
            "946:            greens      <NA>   Nothing/bare fallow Commercial veg/fruits\n",
            "947:          brassica      <NA> Commercial veg/fruits Commercial veg/fruits\n",
            "948:         Reservoir       6.0   Nothing/bare fallow                  <NA>\n",
            "949: Worm Bin Adjacent      <NA>        Managed forest   Nothing/bare fallow\n",
            "     Tillage Tillage_frequency Herbicide Pesticide Irrigation_type\n",
            "  1:    None             Other      <NA>      <NA>            <NA>\n",
            "  2:    None             Other      <NA>      <NA>            <NA>\n",
            "  3:    None             Other      <NA>      <NA>            <NA>\n",
            "  4:    None             Other      <NA>      <NA>            <NA>\n",
            "  5:    None             Other      <NA>      <NA>            <NA>\n",
            " ---                                                              \n",
            "945:    Disc      Twice yearly       Yes       Yes    Surface Drip\n",
            "946:    Roto   More than twice        No       Yes    Surface Drip\n",
            "947:    Roto            Yearly        No       Yes    Surface Drip\n",
            "948:    <NA>              <NA>      <NA>      <NA>            <NA>\n",
            "949:    None              <NA>        No        No            None\n",
            "     Additional_soil_cover Soil_series   Latitude   Longitude\n",
            "  1:                  <NA>    Loleka`a    21.3617   -157.8403\n",
            "  2:                  <NA>    Loleka`a    21.3617   -157.8403\n",
            "  3:                  <NA>    Loleka`a    21.3617   -157.8403\n",
            "  4:                  <NA>    Loleka`a    21.3627   -157.8404\n",
            "  5:                  <NA>    Loleka`a    21.3627   -157.8404\n",
            " ---                                                         \n",
            "945:             Bare soil         WkA  21.681901 -157.960364\n",
            "946:                 Weeds         WkA       <NA>        <NA>\n",
            "947:              Weed Mat         WnB  21.334601 -157.714688\n",
            "948:             Bare soil        <NA> 21.9626212  -159.66893\n",
            "949:                 Weeds        <NA>   20.82332  -156.62628\n",
            "     Management_category PIAL_none DistLevel    Order Minerals swc_fm swc_ad\n",
            "  1:        Agroforestry      None      <NA>  Ultisol      LAC     57     13\n",
            "  2:        Agroforestry      None      <NA>  Ultisol      LAC     58     13\n",
            "  3:        Agroforestry      None      <NA>  Ultisol      LAC     58     13\n",
            "  4:        Agroforestry      None      <NA>  Ultisol      LAC     51     11\n",
            "  5:        Agroforestry      None      <NA>  Ultisol      LAC     60     13\n",
            " ---                                                                        \n",
            "945:                <NA>      <NA>      <NA> Mollisol      HAC    116      7\n",
            "946:                <NA>      <NA>      <NA> Mollisol      HAC    133     11\n",
            "947:                <NA>      <NA>      <NA> Mollisol      HAC    135     15\n",
            "948:                <NA>      <NA>      <NA>     <NA>      HAC     16     11\n",
            "949:                <NA>      <NA>      <NA> Mollisol      HAC    124      8\n",
            "      toc   tn co2_burst beta_glucosidase beta_glucosaminidase pnm_init pmn_fin\n",
            "  1: 2.23 0.20   136.140            55.20                23.48     0.00    9.33\n",
            "  2: 2.71 0.22    92.250            54.77                35.75     0.00    4.05\n",
            "  3: 3.61 0.29   118.450            67.23               102.95     0.00    8.85\n",
            "  4: 6.99 0.47   107.550            62.14                54.27     0.00    9.58\n",
            "  5: 6.99 0.44    84.170            62.36                69.99     0.00    5.43\n",
            " ---                                                                           \n",
            "945: 1.71 0.17    53.492            36.37                24.93     3.58   13.50\n",
            "946: 1.77 0.17    23.497            19.81                 8.61     5.77    1.11\n",
            "947: 3.83 0.40    51.239            45.30                10.13     8.52   19.86\n",
            "948: 1.46 0.18    63.260            10.35                13.39    17.39   32.99\n",
            "949: 4.66 0.49   265.161            98.72                70.65     0.17    0.00\n",
            "       ph    doc   tdn         din   don    hwec   hwen    whc   wsa_mega\n",
            "  1: 5.34 267.58 19.13  0.19956940 19.26  487.54  52.85 107.72 22.5048143\n",
            "  2: 5.51 176.63 13.00  0.00000000 13.34  193.86  21.29 101.26 29.6998429\n",
            "  3: 6.55 281.09 14.57  0.04548219 14.87  532.72  59.01  99.81 47.2584383\n",
            "  4: 5.03 332.46 31.80  3.04450522 28.76 1040.91  96.93  91.89 73.9764268\n",
            "  5: 5.05 245.12 25.32  6.43410853 19.22 1215.28 107.57  86.10 49.1466388\n",
            " ---                                                                     \n",
            "945: 8.84  95.87 13.12  6.64711677  6.47  220.49  24.49  77.64  9.9680368\n",
            "946: 8.04  47.14 29.32 26.04420892  3.28  193.15  27.49  83.14  0.8997007\n",
            "947: 7.67 102.02 27.30 15.54052594 11.76  382.99  49.55  86.89 18.2754709\n",
            "948: 7.71     NA    NA          NA    NA      NA     NA  79.03  3.1000000\n",
            "949: 7.35     NA    NA          NA    NA 1623.52 271.27 105.31  7.0400000\n",
            "     wsa_macro   bd shs assessment      c_n   doc_don   pmn      Status\n",
            "  1:        NA   NA  NA         NA 11.43590 13.890530  9.33        Done\n",
            "  2:        NA   NA  NA         NA 12.58140 13.237658  4.05        Done\n",
            "  3:        NA   NA  NA         NA 12.64912 18.897921  8.85        Done\n",
            "  4:        NA   NA  NA         NA 14.86170 11.560943  9.58        Done\n",
            "  5:        NA   NA  NA         NA 16.06897 12.751661  5.43        Done\n",
            " ---                                                                   \n",
            "945:        NA 1.11  NA         NA 10.05882 14.819837  9.92        Done\n",
            "946:        NA 1.30  NA         NA 10.41176 14.387042 -4.66        Done\n",
            "947:        NA 1.35  NA         NA  9.57500  8.676009 11.34        Done\n",
            "948:        NA 1.08  NA         NA  8.11000        NA 15.60 In progress\n",
            "949:        NA 0.84  NA         NA  9.55000        NA -0.17        Done\n",
            "                                                                                                  hyperlinks\n",
            "  1: https://docs.google.com/spreadsheets/d/1hGlEMKGPfx7rKo0q2c9sM2IpVLl6aTYW1_uPczssraQ/edit#gid=2114689344\n",
            "  2: https://docs.google.com/spreadsheets/d/1hGlEMKGPfx7rKo0q2c9sM2IpVLl6aTYW1_uPczssraQ/edit#gid=2114689344\n",
            "  3: https://docs.google.com/spreadsheets/d/1hGlEMKGPfx7rKo0q2c9sM2IpVLl6aTYW1_uPczssraQ/edit#gid=2114689344\n",
            "  4: https://docs.google.com/spreadsheets/d/1hGlEMKGPfx7rKo0q2c9sM2IpVLl6aTYW1_uPczssraQ/edit#gid=2114689344\n",
            "  5: https://docs.google.com/spreadsheets/d/1hGlEMKGPfx7rKo0q2c9sM2IpVLl6aTYW1_uPczssraQ/edit#gid=2114689344\n",
            " ---                                                                                                        \n",
            "945: https://docs.google.com/spreadsheets/d/1mlqU9zH13GHF_afZSs_ju9Wjtxa9TrjZFf9XEAViy30/edit#gid=1076234647\n",
            "946: https://docs.google.com/spreadsheets/d/1mlqU9zH13GHF_afZSs_ju9Wjtxa9TrjZFf9XEAViy30/edit#gid=1076234648\n",
            "947: https://docs.google.com/spreadsheets/d/1mlqU9zH13GHF_afZSs_ju9Wjtxa9TrjZFf9XEAViy30/edit#gid=1076234646\n",
            "948: https://docs.google.com/spreadsheets/d/1m61bmvtgS4Gqk0l3GPzsqmWNdHMV5PDIf8911iSWvEI/edit#gid=1076234647\n",
            "949: https://docs.google.com/spreadsheets/d/1mlqU9zH13GHF_afZSs_ju9Wjtxa9TrjZFf9XEAViy30/edit#gid=1076234668\n",
            "     Last.updated\n",
            "  1:        44629\n",
            "  2:        44629\n",
            "  3:        44629\n",
            "  4:        44629\n",
            "  5:        44629\n",
            " ---             \n",
            "945:        45203\n",
            "946:        45203\n",
            "947:        45203\n",
            "948:        45203\n",
            "949:        45203\n"
          ]
        }
      ]
    },
    {
      "cell_type": "code",
      "source": [
        "#SH_dt[, names(SH_dt) := lapply(.SD, function(x) if(is.character(x)) tolower(x)), .SDcols = names(SH_dt)]"
      ],
      "metadata": {
        "id": "E9xhrP0KrsPE"
      },
      "execution_count": 52,
      "outputs": []
    },
    {
      "cell_type": "code",
      "source": [
        "setnames(SH_dt, tolower(names(SH_dt)))\n",
        "SH_dt[, names(SH_dt) := lapply(.SD, function(x) if(is.character(x)) tolower(x) else x), .SDcols = names(SH_dt)]"
      ],
      "metadata": {
        "id": "weATj0ibsEYO"
      },
      "execution_count": 70,
      "outputs": []
    },
    {
      "cell_type": "code",
      "source": [
        "head(SH_dt)"
      ],
      "metadata": {
        "colab": {
          "base_uri": "https://localhost:8080/",
          "height": 618
        },
        "id": "recyAi2zsISx",
        "outputId": "0385093b-9859-4d4d-d882-b9645fb64221"
      },
      "execution_count": 71,
      "outputs": [
        {
          "output_type": "display_data",
          "data": {
            "text/html": [
              "<table class=\"dataframe\">\n",
              "<caption>A data.table: 6 × 56</caption>\n",
              "<thead>\n",
              "\t<tr><th scope=col>number</th><th scope=col>depth_top</th><th scope=col>depth_bottom</th><th scope=col>island</th><th scope=col>site_name</th><th scope=col>site_number</th><th scope=col>current_land_use</th><th scope=col>years_under_current_land_use</th><th scope=col>most_previous_land_use</th><th scope=col>years_under_most_previous._land_use</th><th scope=col>⋯</th><th scope=col>wsa_macro</th><th scope=col>bd</th><th scope=col>shs</th><th scope=col>assessment</th><th scope=col>c_n</th><th scope=col>doc_don</th><th scope=col>pmn</th><th scope=col>status</th><th scope=col>hyperlinks</th><th scope=col>last.updated</th></tr>\n",
              "\t<tr><th scope=col>&lt;dbl&gt;</th><th scope=col>&lt;dbl&gt;</th><th scope=col>&lt;dbl&gt;</th><th scope=col>&lt;chr&gt;</th><th scope=col>&lt;chr&gt;</th><th scope=col>&lt;chr&gt;</th><th scope=col>&lt;chr&gt;</th><th scope=col>&lt;chr&gt;</th><th scope=col>&lt;chr&gt;</th><th scope=col>&lt;chr&gt;</th><th scope=col>⋯</th><th scope=col>&lt;dbl&gt;</th><th scope=col>&lt;dbl&gt;</th><th scope=col>&lt;dbl&gt;</th><th scope=col>&lt;dbl&gt;</th><th scope=col>&lt;dbl&gt;</th><th scope=col>&lt;dbl&gt;</th><th scope=col>&lt;dbl&gt;</th><th scope=col>&lt;chr&gt;</th><th scope=col>&lt;chr&gt;</th><th scope=col>&lt;dbl&gt;</th></tr>\n",
              "</thead>\n",
              "<tbody>\n",
              "\t<tr><td>115</td><td>0</td><td>15</td><td>oahu</td><td>ho`oulu `aina- kalihi valley</td><td>18.0</td><td>agroforestry</td><td>2010-2019</td><td>protected forest</td><td>NA</td><td>⋯</td><td>NA</td><td>NA</td><td>NA</td><td>NA</td><td>11.43590</td><td>13.89053</td><td>9.33</td><td>done</td><td>https://docs.google.com/spreadsheets/d/1hglemkgpfx7rko0q2c9sm2ipvll6atyw1_upczssraq/edit#gid=2114689344</td><td>44629</td></tr>\n",
              "\t<tr><td>116</td><td>0</td><td>15</td><td>oahu</td><td>ho`oulu `aina- kalihi valley</td><td>18.0</td><td>agroforestry</td><td>2010-2019</td><td>protected forest</td><td>NA</td><td>⋯</td><td>NA</td><td>NA</td><td>NA</td><td>NA</td><td>12.58140</td><td>13.23766</td><td>4.05</td><td>done</td><td>https://docs.google.com/spreadsheets/d/1hglemkgpfx7rko0q2c9sm2ipvll6atyw1_upczssraq/edit#gid=2114689344</td><td>44629</td></tr>\n",
              "\t<tr><td>117</td><td>0</td><td>15</td><td>oahu</td><td>ho`oulu `aina- kalihi valley</td><td>18.0</td><td>agroforestry</td><td>2010-2019</td><td>protected forest</td><td>NA</td><td>⋯</td><td>NA</td><td>NA</td><td>NA</td><td>NA</td><td>12.64912</td><td>18.89792</td><td>8.85</td><td>done</td><td>https://docs.google.com/spreadsheets/d/1hglemkgpfx7rko0q2c9sm2ipvll6atyw1_upczssraq/edit#gid=2114689344</td><td>44629</td></tr>\n",
              "\t<tr><td>118</td><td>0</td><td>15</td><td>oahu</td><td>ho`oulu `aina- kalihi valley</td><td>18.0</td><td>agroforestry</td><td>2010-2019</td><td>protected forest</td><td>NA</td><td>⋯</td><td>NA</td><td>NA</td><td>NA</td><td>NA</td><td>14.86170</td><td>11.56094</td><td>9.58</td><td>done</td><td>https://docs.google.com/spreadsheets/d/1hglemkgpfx7rko0q2c9sm2ipvll6atyw1_upczssraq/edit#gid=2114689344</td><td>44629</td></tr>\n",
              "\t<tr><td>119</td><td>0</td><td>15</td><td>oahu</td><td>ho`oulu `aina- kalihi valley</td><td>18.0</td><td>agroforestry</td><td>2010-2019</td><td>protected forest</td><td>NA</td><td>⋯</td><td>NA</td><td>NA</td><td>NA</td><td>NA</td><td>16.06897</td><td>12.75166</td><td>5.43</td><td>done</td><td>https://docs.google.com/spreadsheets/d/1hglemkgpfx7rko0q2c9sm2ipvll6atyw1_upczssraq/edit#gid=2114689344</td><td>44629</td></tr>\n",
              "\t<tr><td>120</td><td>0</td><td>15</td><td>oahu</td><td>ho`oulu `aina- kalihi valley</td><td>18.0</td><td>agroforestry</td><td>2010-2019</td><td>protected forest</td><td>NA</td><td>⋯</td><td>NA</td><td>NA</td><td>NA</td><td>NA</td><td>15.83636</td><td>12.31835</td><td>9.81</td><td>done</td><td>https://docs.google.com/spreadsheets/d/1hglemkgpfx7rko0q2c9sm2ipvll6atyw1_upczssraq/edit#gid=2114689344</td><td>44629</td></tr>\n",
              "</tbody>\n",
              "</table>\n"
            ],
            "text/markdown": "\nA data.table: 6 × 56\n\n| number &lt;dbl&gt; | depth_top &lt;dbl&gt; | depth_bottom &lt;dbl&gt; | island &lt;chr&gt; | site_name &lt;chr&gt; | site_number &lt;chr&gt; | current_land_use &lt;chr&gt; | years_under_current_land_use &lt;chr&gt; | most_previous_land_use &lt;chr&gt; | years_under_most_previous._land_use &lt;chr&gt; | ⋯ ⋯ | wsa_macro &lt;dbl&gt; | bd &lt;dbl&gt; | shs &lt;dbl&gt; | assessment &lt;dbl&gt; | c_n &lt;dbl&gt; | doc_don &lt;dbl&gt; | pmn &lt;dbl&gt; | status &lt;chr&gt; | hyperlinks &lt;chr&gt; | last.updated &lt;dbl&gt; |\n|---|---|---|---|---|---|---|---|---|---|---|---|---|---|---|---|---|---|---|---|---|\n| 115 | 0 | 15 | oahu | ho`oulu `aina- kalihi valley | 18.0 | agroforestry | 2010-2019 | protected forest | NA | ⋯ | NA | NA | NA | NA | 11.43590 | 13.89053 | 9.33 | done | https://docs.google.com/spreadsheets/d/1hglemkgpfx7rko0q2c9sm2ipvll6atyw1_upczssraq/edit#gid=2114689344 | 44629 |\n| 116 | 0 | 15 | oahu | ho`oulu `aina- kalihi valley | 18.0 | agroforestry | 2010-2019 | protected forest | NA | ⋯ | NA | NA | NA | NA | 12.58140 | 13.23766 | 4.05 | done | https://docs.google.com/spreadsheets/d/1hglemkgpfx7rko0q2c9sm2ipvll6atyw1_upczssraq/edit#gid=2114689344 | 44629 |\n| 117 | 0 | 15 | oahu | ho`oulu `aina- kalihi valley | 18.0 | agroforestry | 2010-2019 | protected forest | NA | ⋯ | NA | NA | NA | NA | 12.64912 | 18.89792 | 8.85 | done | https://docs.google.com/spreadsheets/d/1hglemkgpfx7rko0q2c9sm2ipvll6atyw1_upczssraq/edit#gid=2114689344 | 44629 |\n| 118 | 0 | 15 | oahu | ho`oulu `aina- kalihi valley | 18.0 | agroforestry | 2010-2019 | protected forest | NA | ⋯ | NA | NA | NA | NA | 14.86170 | 11.56094 | 9.58 | done | https://docs.google.com/spreadsheets/d/1hglemkgpfx7rko0q2c9sm2ipvll6atyw1_upczssraq/edit#gid=2114689344 | 44629 |\n| 119 | 0 | 15 | oahu | ho`oulu `aina- kalihi valley | 18.0 | agroforestry | 2010-2019 | protected forest | NA | ⋯ | NA | NA | NA | NA | 16.06897 | 12.75166 | 5.43 | done | https://docs.google.com/spreadsheets/d/1hglemkgpfx7rko0q2c9sm2ipvll6atyw1_upczssraq/edit#gid=2114689344 | 44629 |\n| 120 | 0 | 15 | oahu | ho`oulu `aina- kalihi valley | 18.0 | agroforestry | 2010-2019 | protected forest | NA | ⋯ | NA | NA | NA | NA | 15.83636 | 12.31835 | 9.81 | done | https://docs.google.com/spreadsheets/d/1hglemkgpfx7rko0q2c9sm2ipvll6atyw1_upczssraq/edit#gid=2114689344 | 44629 |\n\n",
            "text/latex": "A data.table: 6 × 56\n\\begin{tabular}{lllllllllllllllllllll}\n number & depth\\_top & depth\\_bottom & island & site\\_name & site\\_number & current\\_land\\_use & years\\_under\\_current\\_land\\_use & most\\_previous\\_land\\_use & years\\_under\\_most\\_previous.\\_land\\_use & ⋯ & wsa\\_macro & bd & shs & assessment & c\\_n & doc\\_don & pmn & status & hyperlinks & last.updated\\\\\n <dbl> & <dbl> & <dbl> & <chr> & <chr> & <chr> & <chr> & <chr> & <chr> & <chr> & ⋯ & <dbl> & <dbl> & <dbl> & <dbl> & <dbl> & <dbl> & <dbl> & <chr> & <chr> & <dbl>\\\\\n\\hline\n\t 115 & 0 & 15 & oahu & ho`oulu `aina- kalihi valley & 18.0 & agroforestry & 2010-2019 & protected forest & NA & ⋯ & NA & NA & NA & NA & 11.43590 & 13.89053 & 9.33 & done & https://docs.google.com/spreadsheets/d/1hglemkgpfx7rko0q2c9sm2ipvll6atyw1\\_upczssraq/edit\\#gid=2114689344 & 44629\\\\\n\t 116 & 0 & 15 & oahu & ho`oulu `aina- kalihi valley & 18.0 & agroforestry & 2010-2019 & protected forest & NA & ⋯ & NA & NA & NA & NA & 12.58140 & 13.23766 & 4.05 & done & https://docs.google.com/spreadsheets/d/1hglemkgpfx7rko0q2c9sm2ipvll6atyw1\\_upczssraq/edit\\#gid=2114689344 & 44629\\\\\n\t 117 & 0 & 15 & oahu & ho`oulu `aina- kalihi valley & 18.0 & agroforestry & 2010-2019 & protected forest & NA & ⋯ & NA & NA & NA & NA & 12.64912 & 18.89792 & 8.85 & done & https://docs.google.com/spreadsheets/d/1hglemkgpfx7rko0q2c9sm2ipvll6atyw1\\_upczssraq/edit\\#gid=2114689344 & 44629\\\\\n\t 118 & 0 & 15 & oahu & ho`oulu `aina- kalihi valley & 18.0 & agroforestry & 2010-2019 & protected forest & NA & ⋯ & NA & NA & NA & NA & 14.86170 & 11.56094 & 9.58 & done & https://docs.google.com/spreadsheets/d/1hglemkgpfx7rko0q2c9sm2ipvll6atyw1\\_upczssraq/edit\\#gid=2114689344 & 44629\\\\\n\t 119 & 0 & 15 & oahu & ho`oulu `aina- kalihi valley & 18.0 & agroforestry & 2010-2019 & protected forest & NA & ⋯ & NA & NA & NA & NA & 16.06897 & 12.75166 & 5.43 & done & https://docs.google.com/spreadsheets/d/1hglemkgpfx7rko0q2c9sm2ipvll6atyw1\\_upczssraq/edit\\#gid=2114689344 & 44629\\\\\n\t 120 & 0 & 15 & oahu & ho`oulu `aina- kalihi valley & 18.0 & agroforestry & 2010-2019 & protected forest & NA & ⋯ & NA & NA & NA & NA & 15.83636 & 12.31835 & 9.81 & done & https://docs.google.com/spreadsheets/d/1hglemkgpfx7rko0q2c9sm2ipvll6atyw1\\_upczssraq/edit\\#gid=2114689344 & 44629\\\\\n\\end{tabular}\n",
            "text/plain": [
              "  number depth_top depth_bottom island site_name                    site_number\n",
              "1 115    0         15           oahu   ho`oulu `aina- kalihi valley 18.0       \n",
              "2 116    0         15           oahu   ho`oulu `aina- kalihi valley 18.0       \n",
              "3 117    0         15           oahu   ho`oulu `aina- kalihi valley 18.0       \n",
              "4 118    0         15           oahu   ho`oulu `aina- kalihi valley 18.0       \n",
              "5 119    0         15           oahu   ho`oulu `aina- kalihi valley 18.0       \n",
              "6 120    0         15           oahu   ho`oulu `aina- kalihi valley 18.0       \n",
              "  current_land_use years_under_current_land_use most_previous_land_use\n",
              "1 agroforestry     2010-2019                    protected forest      \n",
              "2 agroforestry     2010-2019                    protected forest      \n",
              "3 agroforestry     2010-2019                    protected forest      \n",
              "4 agroforestry     2010-2019                    protected forest      \n",
              "5 agroforestry     2010-2019                    protected forest      \n",
              "6 agroforestry     2010-2019                    protected forest      \n",
              "  years_under_most_previous._land_use ⋯ wsa_macro bd shs assessment c_n     \n",
              "1 NA                                  ⋯ NA        NA NA  NA         11.43590\n",
              "2 NA                                  ⋯ NA        NA NA  NA         12.58140\n",
              "3 NA                                  ⋯ NA        NA NA  NA         12.64912\n",
              "4 NA                                  ⋯ NA        NA NA  NA         14.86170\n",
              "5 NA                                  ⋯ NA        NA NA  NA         16.06897\n",
              "6 NA                                  ⋯ NA        NA NA  NA         15.83636\n",
              "  doc_don  pmn  status\n",
              "1 13.89053 9.33 done  \n",
              "2 13.23766 4.05 done  \n",
              "3 18.89792 8.85 done  \n",
              "4 11.56094 9.58 done  \n",
              "5 12.75166 5.43 done  \n",
              "6 12.31835 9.81 done  \n",
              "  hyperlinks                                                                                             \n",
              "1 https://docs.google.com/spreadsheets/d/1hglemkgpfx7rko0q2c9sm2ipvll6atyw1_upczssraq/edit#gid=2114689344\n",
              "2 https://docs.google.com/spreadsheets/d/1hglemkgpfx7rko0q2c9sm2ipvll6atyw1_upczssraq/edit#gid=2114689344\n",
              "3 https://docs.google.com/spreadsheets/d/1hglemkgpfx7rko0q2c9sm2ipvll6atyw1_upczssraq/edit#gid=2114689344\n",
              "4 https://docs.google.com/spreadsheets/d/1hglemkgpfx7rko0q2c9sm2ipvll6atyw1_upczssraq/edit#gid=2114689344\n",
              "5 https://docs.google.com/spreadsheets/d/1hglemkgpfx7rko0q2c9sm2ipvll6atyw1_upczssraq/edit#gid=2114689344\n",
              "6 https://docs.google.com/spreadsheets/d/1hglemkgpfx7rko0q2c9sm2ipvll6atyw1_upczssraq/edit#gid=2114689344\n",
              "  last.updated\n",
              "1 44629       \n",
              "2 44629       \n",
              "3 44629       \n",
              "4 44629       \n",
              "5 44629       \n",
              "6 44629       "
            ]
          },
          "metadata": {}
        }
      ]
    },
    {
      "cell_type": "code",
      "source": [
        "names(SH_dt)"
      ],
      "metadata": {
        "colab": {
          "base_uri": "https://localhost:8080/",
          "height": 69
        },
        "id": "fvdERbDms73y",
        "outputId": "c9dd40ca-abd1-4510-b5ca-1fe6c71367ec"
      },
      "execution_count": 72,
      "outputs": [
        {
          "output_type": "display_data",
          "data": {
            "text/html": [
              "<style>\n",
              ".list-inline {list-style: none; margin:0; padding: 0}\n",
              ".list-inline>li {display: inline-block}\n",
              ".list-inline>li:not(:last-child)::after {content: \"\\00b7\"; padding: 0 .5ex}\n",
              "</style>\n",
              "<ol class=list-inline><li>'number'</li><li>'depth_top'</li><li>'depth_bottom'</li><li>'island'</li><li>'site_name'</li><li>'site_number'</li><li>'current_land_use'</li><li>'years_under_current_land_use'</li><li>'most_previous_land_use'</li><li>'years_under_most_previous._land_use'</li><li>'plot_name'</li><li>'plot_area'</li><li>'current_plant_cover'</li><li>'previous_crop_cover'</li><li>'tillage'</li><li>'tillage_frequency'</li><li>'herbicide'</li><li>'pesticide'</li><li>'irrigation_type'</li><li>'additional_soil_cover'</li><li>'soil_series'</li><li>'latitude'</li><li>'longitude'</li><li>'management_category'</li><li>'pial_none'</li><li>'distlevel'</li><li>'order'</li><li>'minerals'</li><li>'swc_fm'</li><li>'swc_ad'</li><li>'toc'</li><li>'tn'</li><li>'co2_burst'</li><li>'beta_glucosidase'</li><li>'beta_glucosaminidase'</li><li>'pnm_init'</li><li>'pmn_fin'</li><li>'ph'</li><li>'doc'</li><li>'tdn'</li><li>'din'</li><li>'don'</li><li>'hwec'</li><li>'hwen'</li><li>'whc'</li><li>'wsa_mega'</li><li>'wsa_macro'</li><li>'bd'</li><li>'shs'</li><li>'assessment'</li><li>'c_n'</li><li>'doc_don'</li><li>'pmn'</li><li>'status'</li><li>'hyperlinks'</li><li>'last.updated'</li></ol>\n"
            ],
            "text/markdown": "1. 'number'\n2. 'depth_top'\n3. 'depth_bottom'\n4. 'island'\n5. 'site_name'\n6. 'site_number'\n7. 'current_land_use'\n8. 'years_under_current_land_use'\n9. 'most_previous_land_use'\n10. 'years_under_most_previous._land_use'\n11. 'plot_name'\n12. 'plot_area'\n13. 'current_plant_cover'\n14. 'previous_crop_cover'\n15. 'tillage'\n16. 'tillage_frequency'\n17. 'herbicide'\n18. 'pesticide'\n19. 'irrigation_type'\n20. 'additional_soil_cover'\n21. 'soil_series'\n22. 'latitude'\n23. 'longitude'\n24. 'management_category'\n25. 'pial_none'\n26. 'distlevel'\n27. 'order'\n28. 'minerals'\n29. 'swc_fm'\n30. 'swc_ad'\n31. 'toc'\n32. 'tn'\n33. 'co2_burst'\n34. 'beta_glucosidase'\n35. 'beta_glucosaminidase'\n36. 'pnm_init'\n37. 'pmn_fin'\n38. 'ph'\n39. 'doc'\n40. 'tdn'\n41. 'din'\n42. 'don'\n43. 'hwec'\n44. 'hwen'\n45. 'whc'\n46. 'wsa_mega'\n47. 'wsa_macro'\n48. 'bd'\n49. 'shs'\n50. 'assessment'\n51. 'c_n'\n52. 'doc_don'\n53. 'pmn'\n54. 'status'\n55. 'hyperlinks'\n56. 'last.updated'\n\n\n",
            "text/latex": "\\begin{enumerate*}\n\\item 'number'\n\\item 'depth\\_top'\n\\item 'depth\\_bottom'\n\\item 'island'\n\\item 'site\\_name'\n\\item 'site\\_number'\n\\item 'current\\_land\\_use'\n\\item 'years\\_under\\_current\\_land\\_use'\n\\item 'most\\_previous\\_land\\_use'\n\\item 'years\\_under\\_most\\_previous.\\_land\\_use'\n\\item 'plot\\_name'\n\\item 'plot\\_area'\n\\item 'current\\_plant\\_cover'\n\\item 'previous\\_crop\\_cover'\n\\item 'tillage'\n\\item 'tillage\\_frequency'\n\\item 'herbicide'\n\\item 'pesticide'\n\\item 'irrigation\\_type'\n\\item 'additional\\_soil\\_cover'\n\\item 'soil\\_series'\n\\item 'latitude'\n\\item 'longitude'\n\\item 'management\\_category'\n\\item 'pial\\_none'\n\\item 'distlevel'\n\\item 'order'\n\\item 'minerals'\n\\item 'swc\\_fm'\n\\item 'swc\\_ad'\n\\item 'toc'\n\\item 'tn'\n\\item 'co2\\_burst'\n\\item 'beta\\_glucosidase'\n\\item 'beta\\_glucosaminidase'\n\\item 'pnm\\_init'\n\\item 'pmn\\_fin'\n\\item 'ph'\n\\item 'doc'\n\\item 'tdn'\n\\item 'din'\n\\item 'don'\n\\item 'hwec'\n\\item 'hwen'\n\\item 'whc'\n\\item 'wsa\\_mega'\n\\item 'wsa\\_macro'\n\\item 'bd'\n\\item 'shs'\n\\item 'assessment'\n\\item 'c\\_n'\n\\item 'doc\\_don'\n\\item 'pmn'\n\\item 'status'\n\\item 'hyperlinks'\n\\item 'last.updated'\n\\end{enumerate*}\n",
            "text/plain": [
              " [1] \"number\"                              \"depth_top\"                          \n",
              " [3] \"depth_bottom\"                        \"island\"                             \n",
              " [5] \"site_name\"                           \"site_number\"                        \n",
              " [7] \"current_land_use\"                    \"years_under_current_land_use\"       \n",
              " [9] \"most_previous_land_use\"              \"years_under_most_previous._land_use\"\n",
              "[11] \"plot_name\"                           \"plot_area\"                          \n",
              "[13] \"current_plant_cover\"                 \"previous_crop_cover\"                \n",
              "[15] \"tillage\"                             \"tillage_frequency\"                  \n",
              "[17] \"herbicide\"                           \"pesticide\"                          \n",
              "[19] \"irrigation_type\"                     \"additional_soil_cover\"              \n",
              "[21] \"soil_series\"                         \"latitude\"                           \n",
              "[23] \"longitude\"                           \"management_category\"                \n",
              "[25] \"pial_none\"                           \"distlevel\"                          \n",
              "[27] \"order\"                               \"minerals\"                           \n",
              "[29] \"swc_fm\"                              \"swc_ad\"                             \n",
              "[31] \"toc\"                                 \"tn\"                                 \n",
              "[33] \"co2_burst\"                           \"beta_glucosidase\"                   \n",
              "[35] \"beta_glucosaminidase\"                \"pnm_init\"                           \n",
              "[37] \"pmn_fin\"                             \"ph\"                                 \n",
              "[39] \"doc\"                                 \"tdn\"                                \n",
              "[41] \"din\"                                 \"don\"                                \n",
              "[43] \"hwec\"                                \"hwen\"                               \n",
              "[45] \"whc\"                                 \"wsa_mega\"                           \n",
              "[47] \"wsa_macro\"                           \"bd\"                                 \n",
              "[49] \"shs\"                                 \"assessment\"                         \n",
              "[51] \"c_n\"                                 \"doc_don\"                            \n",
              "[53] \"pmn\"                                 \"status\"                             \n",
              "[55] \"hyperlinks\"                          \"last.updated\"                       "
            ]
          },
          "metadata": {}
        }
      ]
    },
    {
      "cell_type": "code",
      "source": [
        "SH_dt$bd"
      ],
      "metadata": {
        "colab": {
          "base_uri": "https://localhost:8080/",
          "height": 173
        },
        "id": "dzzcjncHtJ99",
        "outputId": "c010a0bd-1d3e-4180-c61d-9f47dd7662fb"
      },
      "execution_count": 74,
      "outputs": [
        {
          "output_type": "display_data",
          "data": {
            "text/html": [
              "<style>\n",
              ".list-inline {list-style: none; margin:0; padding: 0}\n",
              ".list-inline>li {display: inline-block}\n",
              ".list-inline>li:not(:last-child)::after {content: \"\\00b7\"; padding: 0 .5ex}\n",
              "</style>\n",
              "<ol class=list-inline><li>&lt;NA&gt;</li><li>&lt;NA&gt;</li><li>&lt;NA&gt;</li><li>&lt;NA&gt;</li><li>&lt;NA&gt;</li><li>&lt;NA&gt;</li><li>0.56</li><li>0.56</li><li>1.28</li><li>&lt;NA&gt;</li><li>&lt;NA&gt;</li><li>&lt;NA&gt;</li><li>&lt;NA&gt;</li><li>&lt;NA&gt;</li><li>&lt;NA&gt;</li><li>&lt;NA&gt;</li><li>&lt;NA&gt;</li><li>&lt;NA&gt;</li><li>&lt;NA&gt;</li><li>&lt;NA&gt;</li><li>&lt;NA&gt;</li><li>&lt;NA&gt;</li><li>&lt;NA&gt;</li><li>&lt;NA&gt;</li><li>&lt;NA&gt;</li><li>&lt;NA&gt;</li><li>&lt;NA&gt;</li><li>&lt;NA&gt;</li><li>&lt;NA&gt;</li><li>&lt;NA&gt;</li><li>&lt;NA&gt;</li><li>0.74</li><li>0.94</li><li>0.85</li><li>&lt;NA&gt;</li><li>&lt;NA&gt;</li><li>&lt;NA&gt;</li><li>&lt;NA&gt;</li><li>&lt;NA&gt;</li><li>&lt;NA&gt;</li><li>&lt;NA&gt;</li><li>&lt;NA&gt;</li><li>&lt;NA&gt;</li><li>&lt;NA&gt;</li><li>&lt;NA&gt;</li><li>&lt;NA&gt;</li><li>&lt;NA&gt;</li><li>&lt;NA&gt;</li><li>&lt;NA&gt;</li><li>0.6053</li><li>0.3944</li><li>0.6129</li><li>0.7</li><li>0.8</li><li>0.85</li><li>0.87</li><li>0.63</li><li>0.81</li><li>0.45</li><li>0.71</li><li>1.04</li><li>1.11</li><li>1.09</li><li>1</li><li>1.17</li><li>1.12</li><li>1.8</li><li>1.05</li><li>1.28</li><li>1.02</li><li>1.2</li><li>1</li><li>1.11</li><li>1.14</li><li>0.69</li><li>&lt;NA&gt;</li><li>1.15</li><li>1.13</li><li>1.19</li><li>1.06</li><li>1.22</li><li>1.02</li><li>1.13</li><li>0.96</li><li>0.96</li><li>1.16</li><li>0.94</li><li>0.97</li><li>0.91</li><li>1.08</li><li>0.89</li><li>1.17</li><li>0.93</li><li>0.9</li><li>1.17</li><li>0.89</li><li>&lt;NA&gt;</li><li>&lt;NA&gt;</li><li>0.72</li><li>0.85</li><li>0.85</li><li>0.91</li><li>0.8</li><li>0.72</li><li>0.83</li><li>0.75</li><li>0.78</li><li>0.82</li><li>0.85</li><li>1.026</li><li>1.0749</li><li>&lt;NA&gt;</li><li>&lt;NA&gt;</li><li>&lt;NA&gt;</li><li>&lt;NA&gt;</li><li>&lt;NA&gt;</li><li>&lt;NA&gt;</li><li>&lt;NA&gt;</li><li>&lt;NA&gt;</li><li>&lt;NA&gt;</li><li>&lt;NA&gt;</li><li>&lt;NA&gt;</li><li>&lt;NA&gt;</li><li>&lt;NA&gt;</li><li>&lt;NA&gt;</li><li>&lt;NA&gt;</li><li>&lt;NA&gt;</li><li>&lt;NA&gt;</li><li>&lt;NA&gt;</li><li>&lt;NA&gt;</li><li>&lt;NA&gt;</li><li>&lt;NA&gt;</li><li>&lt;NA&gt;</li><li>&lt;NA&gt;</li><li>&lt;NA&gt;</li><li>0.7676</li><li>0.8824</li><li>0.9459</li><li>&lt;NA&gt;</li><li>&lt;NA&gt;</li><li>&lt;NA&gt;</li><li>&lt;NA&gt;</li><li>&lt;NA&gt;</li><li>&lt;NA&gt;</li><li>0.96</li><li>0.86</li><li>1.01</li><li>1.113</li><li>1.0315</li><li>1.0639</li><li>0.7586</li><li>0.7594</li><li>0.7729</li><li>&lt;NA&gt;</li><li>&lt;NA&gt;</li><li>&lt;NA&gt;</li><li>&lt;NA&gt;</li><li>&lt;NA&gt;</li><li>&lt;NA&gt;</li><li>&lt;NA&gt;</li><li>&lt;NA&gt;</li><li>&lt;NA&gt;</li><li>&lt;NA&gt;</li><li>&lt;NA&gt;</li><li>&lt;NA&gt;</li><li>&lt;NA&gt;</li><li>&lt;NA&gt;</li><li>&lt;NA&gt;</li><li>&lt;NA&gt;</li><li>&lt;NA&gt;</li><li>&lt;NA&gt;</li><li>&lt;NA&gt;</li><li>&lt;NA&gt;</li><li>&lt;NA&gt;</li><li>&lt;NA&gt;</li><li>&lt;NA&gt;</li><li>1.23</li><li>1.09</li><li>1.1</li><li>1.17</li><li>1.15</li><li>1.06</li><li>1.12</li><li>1.21</li><li>1.17</li><li>1.22</li><li>&lt;NA&gt;</li><li>&lt;NA&gt;</li><li>0.9177</li><li>0.8759</li><li>0.9258</li><li>&lt;NA&gt;</li><li>&lt;NA&gt;</li><li>&lt;NA&gt;</li><li>&lt;NA&gt;</li><li>&lt;NA&gt;</li><li>&lt;NA&gt;</li><li>&lt;NA&gt;</li><li>&lt;NA&gt;</li><li>&lt;NA&gt;</li><li>⋯</li><li>0.76</li><li>0.63</li><li>0.76</li><li>0.56</li><li>0.73</li><li>0.76</li><li>0.78</li><li>0.74</li><li>0.66</li><li>0.76</li><li>0.66</li><li>0.67</li><li>0.75</li><li>0.72</li><li>0.74</li><li>0.7</li><li>0.8</li><li>0.79</li><li>0.68</li><li>0.7</li><li>0.76</li><li>0.75</li><li>0.67</li><li>0.72</li><li>0.72</li><li>0.66</li><li>0.82</li><li>0.69</li><li>0.68</li><li>0.67</li><li>0.79</li><li>0.76</li><li>0.67</li><li>0.79</li><li>0.62</li><li>0.64</li><li>0.78</li><li>0.72</li><li>0.71</li><li>0.64</li><li>0.72</li><li>0.72</li><li>0.64</li><li>0.69</li><li>0.76</li><li>0.91</li><li>0.78</li><li>0.66</li><li>0.7</li><li>0.76</li><li>0.6</li><li>0.84</li><li>0.76</li><li>0.74</li><li>0.74</li><li>0.68</li><li>&lt;NA&gt;</li><li>&lt;NA&gt;</li><li>&lt;NA&gt;</li><li>&lt;NA&gt;</li><li>&lt;NA&gt;</li><li>&lt;NA&gt;</li><li>&lt;NA&gt;</li><li>&lt;NA&gt;</li><li>&lt;NA&gt;</li><li>&lt;NA&gt;</li><li>&lt;NA&gt;</li><li>&lt;NA&gt;</li><li>&lt;NA&gt;</li><li>&lt;NA&gt;</li><li>&lt;NA&gt;</li><li>&lt;NA&gt;</li><li>&lt;NA&gt;</li><li>&lt;NA&gt;</li><li>&lt;NA&gt;</li><li>&lt;NA&gt;</li><li>&lt;NA&gt;</li><li>&lt;NA&gt;</li><li>&lt;NA&gt;</li><li>&lt;NA&gt;</li><li>&lt;NA&gt;</li><li>&lt;NA&gt;</li><li>0.92</li><li>0.61</li><li>0.76</li><li>1.04</li><li>0.9</li><li>1.01</li><li>0.89</li><li>0.92</li><li>1.07</li><li>0.9883</li><li>0.9865</li><li>0.9957</li><li>1.37</li><li>1.02</li><li>1.26</li><li>0.91</li><li>&lt;NA&gt;</li><li>&lt;NA&gt;</li><li>&lt;NA&gt;</li><li>&lt;NA&gt;</li><li>&lt;NA&gt;</li><li>&lt;NA&gt;</li><li>&lt;NA&gt;</li><li>&lt;NA&gt;</li><li>&lt;NA&gt;</li><li>&lt;NA&gt;</li><li>&lt;NA&gt;</li><li>1.31</li><li>1.24</li><li>0.9874</li><li>0.889</li><li>0.8699</li><li>0.9375</li><li>1.0717</li><li>1.019</li><li>1.6</li><li>1.65</li><li>1.24</li><li>0.87</li><li>1.04</li><li>&lt;NA&gt;</li><li>&lt;NA&gt;</li><li>0.84</li><li>1.03</li><li>1.01</li><li>1.34</li><li>0.8833</li><li>0.897</li><li>1.0941</li><li>&lt;NA&gt;</li><li>&lt;NA&gt;</li><li>&lt;NA&gt;</li><li>&lt;NA&gt;</li><li>&lt;NA&gt;</li><li>1.2584</li><li>1.1625</li><li>1.0823</li><li>1.06</li><li>1.17</li><li>1.2</li><li>1.04</li><li>0.99</li><li>&lt;NA&gt;</li><li>&lt;NA&gt;</li><li>&lt;NA&gt;</li><li>&lt;NA&gt;</li><li>&lt;NA&gt;</li><li>&lt;NA&gt;</li><li>&lt;NA&gt;</li><li>&lt;NA&gt;</li><li>&lt;NA&gt;</li><li>&lt;NA&gt;</li><li>&lt;NA&gt;</li><li>&lt;NA&gt;</li><li>&lt;NA&gt;</li><li>&lt;NA&gt;</li><li>&lt;NA&gt;</li><li>1</li><li>1.09</li><li>1.09</li><li>1.21</li><li>1.22</li><li>1.02</li><li>1.48</li><li>1.33</li><li>1.37</li><li>0.88</li><li>1.35</li><li>0.83</li><li>1.05</li><li>0.74</li><li>0.74</li><li>0.82</li><li>0.89</li><li>1.2</li><li>1.14</li><li>0.78</li><li>0.72</li><li>0.87</li><li>0.9</li><li>0.89</li><li>1.07</li><li>1.18</li><li>0.64</li><li>1.01</li><li>0.98</li><li>1.08</li><li>0.5</li><li>1.36</li><li>0.91</li><li>1.32</li><li>1.4</li><li>1.02</li><li>1.11</li><li>1.3</li><li>1.35</li><li>1.08</li><li>0.84</li></ol>\n"
            ],
            "text/markdown": "1. &lt;NA&gt;\n2. &lt;NA&gt;\n3. &lt;NA&gt;\n4. &lt;NA&gt;\n5. &lt;NA&gt;\n6. &lt;NA&gt;\n7. 0.56\n8. 0.56\n9. 1.28\n10. &lt;NA&gt;\n11. &lt;NA&gt;\n12. &lt;NA&gt;\n13. &lt;NA&gt;\n14. &lt;NA&gt;\n15. &lt;NA&gt;\n16. &lt;NA&gt;\n17. &lt;NA&gt;\n18. &lt;NA&gt;\n19. &lt;NA&gt;\n20. &lt;NA&gt;\n21. &lt;NA&gt;\n22. &lt;NA&gt;\n23. &lt;NA&gt;\n24. &lt;NA&gt;\n25. &lt;NA&gt;\n26. &lt;NA&gt;\n27. &lt;NA&gt;\n28. &lt;NA&gt;\n29. &lt;NA&gt;\n30. &lt;NA&gt;\n31. &lt;NA&gt;\n32. 0.74\n33. 0.94\n34. 0.85\n35. &lt;NA&gt;\n36. &lt;NA&gt;\n37. &lt;NA&gt;\n38. &lt;NA&gt;\n39. &lt;NA&gt;\n40. &lt;NA&gt;\n41. &lt;NA&gt;\n42. &lt;NA&gt;\n43. &lt;NA&gt;\n44. &lt;NA&gt;\n45. &lt;NA&gt;\n46. &lt;NA&gt;\n47. &lt;NA&gt;\n48. &lt;NA&gt;\n49. &lt;NA&gt;\n50. 0.6053\n51. 0.3944\n52. 0.6129\n53. 0.7\n54. 0.8\n55. 0.85\n56. 0.87\n57. 0.63\n58. 0.81\n59. 0.45\n60. 0.71\n61. 1.04\n62. 1.11\n63. 1.09\n64. 1\n65. 1.17\n66. 1.12\n67. 1.8\n68. 1.05\n69. 1.28\n70. 1.02\n71. 1.2\n72. 1\n73. 1.11\n74. 1.14\n75. 0.69\n76. &lt;NA&gt;\n77. 1.15\n78. 1.13\n79. 1.19\n80. 1.06\n81. 1.22\n82. 1.02\n83. 1.13\n84. 0.96\n85. 0.96\n86. 1.16\n87. 0.94\n88. 0.97\n89. 0.91\n90. 1.08\n91. 0.89\n92. 1.17\n93. 0.93\n94. 0.9\n95. 1.17\n96. 0.89\n97. &lt;NA&gt;\n98. &lt;NA&gt;\n99. 0.72\n100. 0.85\n101. 0.85\n102. 0.91\n103. 0.8\n104. 0.72\n105. 0.83\n106. 0.75\n107. 0.78\n108. 0.82\n109. 0.85\n110. 1.026\n111. 1.0749\n112. &lt;NA&gt;\n113. &lt;NA&gt;\n114. &lt;NA&gt;\n115. &lt;NA&gt;\n116. &lt;NA&gt;\n117. &lt;NA&gt;\n118. &lt;NA&gt;\n119. &lt;NA&gt;\n120. &lt;NA&gt;\n121. &lt;NA&gt;\n122. &lt;NA&gt;\n123. &lt;NA&gt;\n124. &lt;NA&gt;\n125. &lt;NA&gt;\n126. &lt;NA&gt;\n127. &lt;NA&gt;\n128. &lt;NA&gt;\n129. &lt;NA&gt;\n130. &lt;NA&gt;\n131. &lt;NA&gt;\n132. &lt;NA&gt;\n133. &lt;NA&gt;\n134. &lt;NA&gt;\n135. &lt;NA&gt;\n136. 0.7676\n137. 0.8824\n138. 0.9459\n139. &lt;NA&gt;\n140. &lt;NA&gt;\n141. &lt;NA&gt;\n142. &lt;NA&gt;\n143. &lt;NA&gt;\n144. &lt;NA&gt;\n145. 0.96\n146. 0.86\n147. 1.01\n148. 1.113\n149. 1.0315\n150. 1.0639\n151. 0.7586\n152. 0.7594\n153. 0.7729\n154. &lt;NA&gt;\n155. &lt;NA&gt;\n156. &lt;NA&gt;\n157. &lt;NA&gt;\n158. &lt;NA&gt;\n159. &lt;NA&gt;\n160. &lt;NA&gt;\n161. &lt;NA&gt;\n162. &lt;NA&gt;\n163. &lt;NA&gt;\n164. &lt;NA&gt;\n165. &lt;NA&gt;\n166. &lt;NA&gt;\n167. &lt;NA&gt;\n168. &lt;NA&gt;\n169. &lt;NA&gt;\n170. &lt;NA&gt;\n171. &lt;NA&gt;\n172. &lt;NA&gt;\n173. &lt;NA&gt;\n174. &lt;NA&gt;\n175. &lt;NA&gt;\n176. &lt;NA&gt;\n177. 1.23\n178. 1.09\n179. 1.1\n180. 1.17\n181. 1.15\n182. 1.06\n183. 1.12\n184. 1.21\n185. 1.17\n186. 1.22\n187. &lt;NA&gt;\n188. &lt;NA&gt;\n189. 0.9177\n190. 0.8759\n191. 0.9258\n192. &lt;NA&gt;\n193. &lt;NA&gt;\n194. &lt;NA&gt;\n195. &lt;NA&gt;\n196. &lt;NA&gt;\n197. &lt;NA&gt;\n198. &lt;NA&gt;\n199. &lt;NA&gt;\n200. &lt;NA&gt;\n201. ⋯\n202. 0.76\n203. 0.63\n204. 0.76\n205. 0.56\n206. 0.73\n207. 0.76\n208. 0.78\n209. 0.74\n210. 0.66\n211. 0.76\n212. 0.66\n213. 0.67\n214. 0.75\n215. 0.72\n216. 0.74\n217. 0.7\n218. 0.8\n219. 0.79\n220. 0.68\n221. 0.7\n222. 0.76\n223. 0.75\n224. 0.67\n225. 0.72\n226. 0.72\n227. 0.66\n228. 0.82\n229. 0.69\n230. 0.68\n231. 0.67\n232. 0.79\n233. 0.76\n234. 0.67\n235. 0.79\n236. 0.62\n237. 0.64\n238. 0.78\n239. 0.72\n240. 0.71\n241. 0.64\n242. 0.72\n243. 0.72\n244. 0.64\n245. 0.69\n246. 0.76\n247. 0.91\n248. 0.78\n249. 0.66\n250. 0.7\n251. 0.76\n252. 0.6\n253. 0.84\n254. 0.76\n255. 0.74\n256. 0.74\n257. 0.68\n258. &lt;NA&gt;\n259. &lt;NA&gt;\n260. &lt;NA&gt;\n261. &lt;NA&gt;\n262. &lt;NA&gt;\n263. &lt;NA&gt;\n264. &lt;NA&gt;\n265. &lt;NA&gt;\n266. &lt;NA&gt;\n267. &lt;NA&gt;\n268. &lt;NA&gt;\n269. &lt;NA&gt;\n270. &lt;NA&gt;\n271. &lt;NA&gt;\n272. &lt;NA&gt;\n273. &lt;NA&gt;\n274. &lt;NA&gt;\n275. &lt;NA&gt;\n276. &lt;NA&gt;\n277. &lt;NA&gt;\n278. &lt;NA&gt;\n279. &lt;NA&gt;\n280. &lt;NA&gt;\n281. &lt;NA&gt;\n282. &lt;NA&gt;\n283. &lt;NA&gt;\n284. 0.92\n285. 0.61\n286. 0.76\n287. 1.04\n288. 0.9\n289. 1.01\n290. 0.89\n291. 0.92\n292. 1.07\n293. 0.9883\n294. 0.9865\n295. 0.9957\n296. 1.37\n297. 1.02\n298. 1.26\n299. 0.91\n300. &lt;NA&gt;\n301. &lt;NA&gt;\n302. &lt;NA&gt;\n303. &lt;NA&gt;\n304. &lt;NA&gt;\n305. &lt;NA&gt;\n306. &lt;NA&gt;\n307. &lt;NA&gt;\n308. &lt;NA&gt;\n309. &lt;NA&gt;\n310. &lt;NA&gt;\n311. 1.31\n312. 1.24\n313. 0.9874\n314. 0.889\n315. 0.8699\n316. 0.9375\n317. 1.0717\n318. 1.019\n319. 1.6\n320. 1.65\n321. 1.24\n322. 0.87\n323. 1.04\n324. &lt;NA&gt;\n325. &lt;NA&gt;\n326. 0.84\n327. 1.03\n328. 1.01\n329. 1.34\n330. 0.8833\n331. 0.897\n332. 1.0941\n333. &lt;NA&gt;\n334. &lt;NA&gt;\n335. &lt;NA&gt;\n336. &lt;NA&gt;\n337. &lt;NA&gt;\n338. 1.2584\n339. 1.1625\n340. 1.0823\n341. 1.06\n342. 1.17\n343. 1.2\n344. 1.04\n345. 0.99\n346. &lt;NA&gt;\n347. &lt;NA&gt;\n348. &lt;NA&gt;\n349. &lt;NA&gt;\n350. &lt;NA&gt;\n351. &lt;NA&gt;\n352. &lt;NA&gt;\n353. &lt;NA&gt;\n354. &lt;NA&gt;\n355. &lt;NA&gt;\n356. &lt;NA&gt;\n357. &lt;NA&gt;\n358. &lt;NA&gt;\n359. &lt;NA&gt;\n360. &lt;NA&gt;\n361. 1\n362. 1.09\n363. 1.09\n364. 1.21\n365. 1.22\n366. 1.02\n367. 1.48\n368. 1.33\n369. 1.37\n370. 0.88\n371. 1.35\n372. 0.83\n373. 1.05\n374. 0.74\n375. 0.74\n376. 0.82\n377. 0.89\n378. 1.2\n379. 1.14\n380. 0.78\n381. 0.72\n382. 0.87\n383. 0.9\n384. 0.89\n385. 1.07\n386. 1.18\n387. 0.64\n388. 1.01\n389. 0.98\n390. 1.08\n391. 0.5\n392. 1.36\n393. 0.91\n394. 1.32\n395. 1.4\n396. 1.02\n397. 1.11\n398. 1.3\n399. 1.35\n400. 1.08\n401. 0.84\n\n\n",
            "text/latex": "\\begin{enumerate*}\n\\item <NA>\n\\item <NA>\n\\item <NA>\n\\item <NA>\n\\item <NA>\n\\item <NA>\n\\item 0.56\n\\item 0.56\n\\item 1.28\n\\item <NA>\n\\item <NA>\n\\item <NA>\n\\item <NA>\n\\item <NA>\n\\item <NA>\n\\item <NA>\n\\item <NA>\n\\item <NA>\n\\item <NA>\n\\item <NA>\n\\item <NA>\n\\item <NA>\n\\item <NA>\n\\item <NA>\n\\item <NA>\n\\item <NA>\n\\item <NA>\n\\item <NA>\n\\item <NA>\n\\item <NA>\n\\item <NA>\n\\item 0.74\n\\item 0.94\n\\item 0.85\n\\item <NA>\n\\item <NA>\n\\item <NA>\n\\item <NA>\n\\item <NA>\n\\item <NA>\n\\item <NA>\n\\item <NA>\n\\item <NA>\n\\item <NA>\n\\item <NA>\n\\item <NA>\n\\item <NA>\n\\item <NA>\n\\item <NA>\n\\item 0.6053\n\\item 0.3944\n\\item 0.6129\n\\item 0.7\n\\item 0.8\n\\item 0.85\n\\item 0.87\n\\item 0.63\n\\item 0.81\n\\item 0.45\n\\item 0.71\n\\item 1.04\n\\item 1.11\n\\item 1.09\n\\item 1\n\\item 1.17\n\\item 1.12\n\\item 1.8\n\\item 1.05\n\\item 1.28\n\\item 1.02\n\\item 1.2\n\\item 1\n\\item 1.11\n\\item 1.14\n\\item 0.69\n\\item <NA>\n\\item 1.15\n\\item 1.13\n\\item 1.19\n\\item 1.06\n\\item 1.22\n\\item 1.02\n\\item 1.13\n\\item 0.96\n\\item 0.96\n\\item 1.16\n\\item 0.94\n\\item 0.97\n\\item 0.91\n\\item 1.08\n\\item 0.89\n\\item 1.17\n\\item 0.93\n\\item 0.9\n\\item 1.17\n\\item 0.89\n\\item <NA>\n\\item <NA>\n\\item 0.72\n\\item 0.85\n\\item 0.85\n\\item 0.91\n\\item 0.8\n\\item 0.72\n\\item 0.83\n\\item 0.75\n\\item 0.78\n\\item 0.82\n\\item 0.85\n\\item 1.026\n\\item 1.0749\n\\item <NA>\n\\item <NA>\n\\item <NA>\n\\item <NA>\n\\item <NA>\n\\item <NA>\n\\item <NA>\n\\item <NA>\n\\item <NA>\n\\item <NA>\n\\item <NA>\n\\item <NA>\n\\item <NA>\n\\item <NA>\n\\item <NA>\n\\item <NA>\n\\item <NA>\n\\item <NA>\n\\item <NA>\n\\item <NA>\n\\item <NA>\n\\item <NA>\n\\item <NA>\n\\item <NA>\n\\item 0.7676\n\\item 0.8824\n\\item 0.9459\n\\item <NA>\n\\item <NA>\n\\item <NA>\n\\item <NA>\n\\item <NA>\n\\item <NA>\n\\item 0.96\n\\item 0.86\n\\item 1.01\n\\item 1.113\n\\item 1.0315\n\\item 1.0639\n\\item 0.7586\n\\item 0.7594\n\\item 0.7729\n\\item <NA>\n\\item <NA>\n\\item <NA>\n\\item <NA>\n\\item <NA>\n\\item <NA>\n\\item <NA>\n\\item <NA>\n\\item <NA>\n\\item <NA>\n\\item <NA>\n\\item <NA>\n\\item <NA>\n\\item <NA>\n\\item <NA>\n\\item <NA>\n\\item <NA>\n\\item <NA>\n\\item <NA>\n\\item <NA>\n\\item <NA>\n\\item <NA>\n\\item <NA>\n\\item 1.23\n\\item 1.09\n\\item 1.1\n\\item 1.17\n\\item 1.15\n\\item 1.06\n\\item 1.12\n\\item 1.21\n\\item 1.17\n\\item 1.22\n\\item <NA>\n\\item <NA>\n\\item 0.9177\n\\item 0.8759\n\\item 0.9258\n\\item <NA>\n\\item <NA>\n\\item <NA>\n\\item <NA>\n\\item <NA>\n\\item <NA>\n\\item <NA>\n\\item <NA>\n\\item <NA>\n\\item ⋯\n\\item 0.76\n\\item 0.63\n\\item 0.76\n\\item 0.56\n\\item 0.73\n\\item 0.76\n\\item 0.78\n\\item 0.74\n\\item 0.66\n\\item 0.76\n\\item 0.66\n\\item 0.67\n\\item 0.75\n\\item 0.72\n\\item 0.74\n\\item 0.7\n\\item 0.8\n\\item 0.79\n\\item 0.68\n\\item 0.7\n\\item 0.76\n\\item 0.75\n\\item 0.67\n\\item 0.72\n\\item 0.72\n\\item 0.66\n\\item 0.82\n\\item 0.69\n\\item 0.68\n\\item 0.67\n\\item 0.79\n\\item 0.76\n\\item 0.67\n\\item 0.79\n\\item 0.62\n\\item 0.64\n\\item 0.78\n\\item 0.72\n\\item 0.71\n\\item 0.64\n\\item 0.72\n\\item 0.72\n\\item 0.64\n\\item 0.69\n\\item 0.76\n\\item 0.91\n\\item 0.78\n\\item 0.66\n\\item 0.7\n\\item 0.76\n\\item 0.6\n\\item 0.84\n\\item 0.76\n\\item 0.74\n\\item 0.74\n\\item 0.68\n\\item <NA>\n\\item <NA>\n\\item <NA>\n\\item <NA>\n\\item <NA>\n\\item <NA>\n\\item <NA>\n\\item <NA>\n\\item <NA>\n\\item <NA>\n\\item <NA>\n\\item <NA>\n\\item <NA>\n\\item <NA>\n\\item <NA>\n\\item <NA>\n\\item <NA>\n\\item <NA>\n\\item <NA>\n\\item <NA>\n\\item <NA>\n\\item <NA>\n\\item <NA>\n\\item <NA>\n\\item <NA>\n\\item <NA>\n\\item 0.92\n\\item 0.61\n\\item 0.76\n\\item 1.04\n\\item 0.9\n\\item 1.01\n\\item 0.89\n\\item 0.92\n\\item 1.07\n\\item 0.9883\n\\item 0.9865\n\\item 0.9957\n\\item 1.37\n\\item 1.02\n\\item 1.26\n\\item 0.91\n\\item <NA>\n\\item <NA>\n\\item <NA>\n\\item <NA>\n\\item <NA>\n\\item <NA>\n\\item <NA>\n\\item <NA>\n\\item <NA>\n\\item <NA>\n\\item <NA>\n\\item 1.31\n\\item 1.24\n\\item 0.9874\n\\item 0.889\n\\item 0.8699\n\\item 0.9375\n\\item 1.0717\n\\item 1.019\n\\item 1.6\n\\item 1.65\n\\item 1.24\n\\item 0.87\n\\item 1.04\n\\item <NA>\n\\item <NA>\n\\item 0.84\n\\item 1.03\n\\item 1.01\n\\item 1.34\n\\item 0.8833\n\\item 0.897\n\\item 1.0941\n\\item <NA>\n\\item <NA>\n\\item <NA>\n\\item <NA>\n\\item <NA>\n\\item 1.2584\n\\item 1.1625\n\\item 1.0823\n\\item 1.06\n\\item 1.17\n\\item 1.2\n\\item 1.04\n\\item 0.99\n\\item <NA>\n\\item <NA>\n\\item <NA>\n\\item <NA>\n\\item <NA>\n\\item <NA>\n\\item <NA>\n\\item <NA>\n\\item <NA>\n\\item <NA>\n\\item <NA>\n\\item <NA>\n\\item <NA>\n\\item <NA>\n\\item <NA>\n\\item 1\n\\item 1.09\n\\item 1.09\n\\item 1.21\n\\item 1.22\n\\item 1.02\n\\item 1.48\n\\item 1.33\n\\item 1.37\n\\item 0.88\n\\item 1.35\n\\item 0.83\n\\item 1.05\n\\item 0.74\n\\item 0.74\n\\item 0.82\n\\item 0.89\n\\item 1.2\n\\item 1.14\n\\item 0.78\n\\item 0.72\n\\item 0.87\n\\item 0.9\n\\item 0.89\n\\item 1.07\n\\item 1.18\n\\item 0.64\n\\item 1.01\n\\item 0.98\n\\item 1.08\n\\item 0.5\n\\item 1.36\n\\item 0.91\n\\item 1.32\n\\item 1.4\n\\item 1.02\n\\item 1.11\n\\item 1.3\n\\item 1.35\n\\item 1.08\n\\item 0.84\n\\end{enumerate*}\n",
            "text/plain": [
              "  [1]     NA     NA     NA     NA     NA     NA 0.5600 0.5600 1.2800     NA\n",
              " [11]     NA     NA     NA     NA     NA     NA     NA     NA     NA     NA\n",
              " [21]     NA     NA     NA     NA     NA     NA     NA     NA     NA     NA\n",
              " [31]     NA 0.7400 0.9400 0.8500     NA     NA     NA     NA     NA     NA\n",
              " [41]     NA     NA     NA     NA     NA     NA     NA     NA     NA 0.6053\n",
              " [51] 0.3944 0.6129 0.7000 0.8000 0.8500 0.8700 0.6300 0.8100 0.4500 0.7100\n",
              " [61] 1.0400 1.1100 1.0900 1.0000 1.1700 1.1200 1.8000 1.0500 1.2800 1.0200\n",
              " [71] 1.2000 1.0000 1.1100 1.1400 0.6900     NA 1.1500 1.1300 1.1900 1.0600\n",
              " [81] 1.2200 1.0200 1.1300 0.9600 0.9600 1.1600 0.9400 0.9700 0.9100 1.0800\n",
              " [91] 0.8900 1.1700 0.9300 0.9000 1.1700 0.8900     NA     NA 0.7200 0.8500\n",
              "[101] 0.8500 0.9100 0.8000 0.7200 0.8300 0.7500 0.7800 0.8200 0.8500 1.0260\n",
              "[111] 1.0749     NA     NA     NA     NA     NA     NA     NA     NA     NA\n",
              "[121]     NA     NA     NA     NA     NA     NA     NA     NA     NA     NA\n",
              "[131]     NA     NA     NA     NA     NA 0.7676 0.8824 0.9459     NA     NA\n",
              "[141]     NA     NA     NA     NA 0.9600 0.8600 1.0100 1.1130 1.0315 1.0639\n",
              "[151] 0.7586 0.7594 0.7729     NA     NA     NA     NA     NA     NA     NA\n",
              "[161]     NA     NA     NA     NA     NA     NA     NA     NA     NA     NA\n",
              "[171]     NA     NA     NA     NA     NA     NA 1.2300 1.0900 1.1000 1.1700\n",
              "[181] 1.1500 1.0600 1.1200 1.2100 1.1700 1.2200     NA     NA 0.9177 0.8759\n",
              "[191] 0.9258     NA     NA     NA     NA     NA     NA     NA     NA     NA\n",
              "[201]     NA     NA     NA 0.9600 0.9200 1.0400 1.2000 0.9600 1.2900 1.1000\n",
              "[211] 1.0900 1.1500 1.0600 0.9100 0.8700 0.9900 0.8600 0.9100 0.7900 1.0300\n",
              "[221] 0.7800 0.8000 0.9400 0.8700 0.9300 0.9200 0.8900 0.8100 0.8100 0.8700\n",
              "[231] 0.9900 0.9500 0.8700 1.0600 0.8400 0.9400 0.9400 0.8600     NA     NA\n",
              "[241]     NA     NA     NA     NA     NA     NA     NA     NA     NA     NA\n",
              "[251]     NA     NA     NA     NA     NA     NA     NA     NA     NA     NA\n",
              "[261]     NA     NA     NA     NA     NA     NA     NA     NA     NA     NA\n",
              "[271]     NA     NA     NA     NA     NA     NA     NA     NA     NA     NA\n",
              "[281]     NA     NA     NA     NA     NA     NA     NA     NA     NA 1.0200\n",
              "[291] 1.0200 1.1100 1.1300 1.0600 1.0900 1.1000 0.9300 0.9200 1.0400 1.1200\n",
              "[301] 1.2400 1.4000 1.3800 1.5200 0.5800 0.5400 0.4900 0.3500 0.5600 0.5800\n",
              "[311] 0.3900 0.6300 0.3300     NA     NA     NA     NA     NA     NA     NA\n",
              "[321]     NA     NA     NA     NA     NA     NA     NA     NA     NA     NA\n",
              "[331]     NA     NA     NA     NA     NA     NA     NA     NA     NA     NA\n",
              "[341]     NA     NA     NA     NA     NA     NA     NA     NA     NA     NA\n",
              "[351]     NA 1.1500 1.1500 1.1700 1.2200 1.0300 1.2300 1.1600 1.3400 1.2500\n",
              "[361] 1.0800 1.3000 1.1700 1.3500 1.2800 0.9500     NA     NA     NA     NA\n",
              "[371]     NA     NA     NA     NA 0.8800 0.9300 1.2300 0.9800 0.9600 1.2000\n",
              "[381] 1.0900 0.0000 1.3500 1.2900 1.2800 0.0000 0.0000 0.0000 0.0000 0.0000\n",
              "[391] 1.3800     NA     NA 1.0325 0.7999 0.9131     NA 0.5100     NA     NA\n",
              "[401]     NA     NA     NA     NA     NA     NA     NA     NA     NA     NA\n",
              "[411]     NA     NA     NA     NA     NA     NA 1.0400     NA     NA     NA\n",
              "[421]     NA     NA     NA     NA 0.6721 0.7653 0.8545 0.9452 0.7126 0.9626\n",
              "[431] 0.8200 0.9900 1.0600     NA     NA     NA     NA     NA     NA     NA\n",
              "[441]     NA     NA     NA     NA     NA     NA     NA     NA     NA     NA\n",
              "[451]     NA     NA     NA     NA     NA     NA     NA     NA     NA     NA\n",
              "[461]     NA     NA     NA     NA     NA     NA     NA     NA     NA     NA\n",
              "[471]     NA     NA     NA     NA     NA     NA     NA     NA     NA     NA\n",
              "[481]     NA     NA     NA     NA     NA     NA     NA     NA     NA     NA\n",
              "[491]     NA     NA     NA     NA     NA     NA     NA     NA     NA     NA\n",
              "[501]     NA     NA     NA     NA     NA     NA     NA     NA     NA     NA\n",
              "[511]     NA     NA     NA     NA     NA     NA     NA     NA     NA     NA\n",
              "[521]     NA     NA     NA     NA     NA     NA     NA     NA 0.7000 0.8400\n",
              "[531] 0.7400 1.0400 1.0500 1.1000 0.8000 0.7400 1.0400 0.5500 1.6200 0.9200\n",
              "[541] 1.6100 1.3200 1.3500 0.9800 1.0600     NA     NA     NA 0.7700 0.8400\n",
              "[551] 1.0500     NA     NA     NA 0.9400 0.9200 1.0000 1.0500 1.0100 0.9900\n",
              "[561] 1.1031 1.1386 1.1000 0.4818 0.5476 0.5149 0.3700 0.7100 0.5000 0.4300\n",
              "[571] 0.3700 0.7000 0.5000 0.4300 0.5300 0.5100 0.5000 0.4600 0.3500     NA\n",
              "[581]     NA     NA     NA     NA     NA     NA     NA 0.3994 0.4192 0.3773\n",
              "[591] 0.4800 0.6400 0.5800 0.4300 0.4700 0.7200 0.7600 0.8300 0.7500 0.6700\n",
              "[601] 0.6600 0.6300 0.6400 0.6200 0.5800     NA     NA     NA     NA     NA\n",
              "[611]     NA     NA     NA     NA     NA     NA     NA 1.2575 1.1940 1.1142\n",
              "[621]     NA     NA     NA     NA     NA     NA     NA     NA     NA     NA\n",
              "[631]     NA     NA     NA     NA 1.0900 0.7400 1.1900     NA 1.3300     NA\n",
              "[641]     NA     NA     NA     NA     NA     NA     NA     NA 0.2450 0.1940\n",
              "[651] 0.2329 0.9027 0.9113 0.9053     NA     NA     NA     NA     NA     NA\n",
              "[661]     NA     NA     NA     NA     NA     NA     NA 0.5011 0.4188 0.5474\n",
              "[671]     NA     NA     NA     NA     NA     NA     NA     NA     NA     NA\n",
              "[681]     NA     NA     NA     NA     NA     NA     NA     NA     NA     NA\n",
              "[691]     NA     NA     NA     NA     NA     NA     NA     NA     NA     NA\n",
              "[701]     NA     NA     NA     NA     NA     NA     NA     NA     NA     NA\n",
              "[711]     NA     NA     NA     NA     NA     NA     NA     NA     NA     NA\n",
              "[721]     NA     NA     NA     NA     NA     NA     NA     NA     NA     NA\n",
              "[731]     NA     NA     NA     NA     NA     NA     NA     NA     NA 0.6300\n",
              "[741] 0.6500 0.6800 0.7400 0.5100 0.7500 0.7900 0.8400 0.6300 0.7400 0.7600\n",
              "[751] 0.6300 0.7600 0.5600 0.7300 0.7600 0.7800 0.7400 0.6600 0.7600 0.6600\n",
              "[761] 0.6700 0.7500 0.7200 0.7400 0.7000 0.8000 0.7900 0.6800 0.7000 0.7600\n",
              "[771] 0.7500 0.6700 0.7200 0.7200 0.6600 0.8200 0.6900 0.6800 0.6700 0.7900\n",
              "[781] 0.7600 0.6700 0.7900 0.6200 0.6400 0.7800 0.7200 0.7100 0.6400 0.7200\n",
              "[791] 0.7200 0.6400 0.6900 0.7600 0.9100 0.7800 0.6600 0.7000 0.7600 0.6000\n",
              "[801] 0.8400 0.7600 0.7400 0.7400 0.6800     NA     NA     NA     NA     NA\n",
              "[811]     NA     NA     NA     NA     NA     NA     NA     NA     NA     NA\n",
              "[821]     NA     NA     NA     NA     NA     NA     NA     NA     NA     NA\n",
              "[831]     NA 0.9200 0.6100 0.7600 1.0400 0.9000 1.0100 0.8900 0.9200 1.0700\n",
              "[841] 0.9883 0.9865 0.9957 1.3700 1.0200 1.2600 0.9100     NA     NA     NA\n",
              "[851]     NA     NA     NA     NA     NA     NA     NA     NA 1.3100 1.2400\n",
              "[861] 0.9874 0.8890 0.8699 0.9375 1.0717 1.0190 1.6000 1.6500 1.2400 0.8700\n",
              "[871] 1.0400     NA     NA 0.8400 1.0300 1.0100 1.3400 0.8833 0.8970 1.0941\n",
              "[881]     NA     NA     NA     NA     NA 1.2584 1.1625 1.0823 1.0600 1.1700\n",
              "[891] 1.2000 1.0400 0.9900     NA     NA     NA     NA     NA     NA     NA\n",
              "[901]     NA     NA     NA     NA     NA     NA     NA     NA 1.0000 1.0900\n",
              "[911] 1.0900 1.2100 1.2200 1.0200 1.4800 1.3300 1.3700 0.8800 1.3500 0.8300\n",
              "[921] 1.0500 0.7400 0.7400 0.8200 0.8900 1.2000 1.1400 0.7800 0.7200 0.8700\n",
              "[931] 0.9000 0.8900 1.0700 1.1800 0.6400 1.0100 0.9800 1.0800 0.5000 1.3600\n",
              "[941] 0.9100 1.3200 1.4000 1.0200 1.1100 1.3000 1.3500 1.0800 0.8400"
            ]
          },
          "metadata": {}
        }
      ]
    },
    {
      "cell_type": "code",
      "source": [
        "na_count <- sum(is.na(SH_dt$bd)) %>% print"
      ],
      "metadata": {
        "colab": {
          "base_uri": "https://localhost:8080/"
        },
        "id": "x9m7gTqTte4R",
        "outputId": "b2a7c33a-f798-470a-9b65-068e1c090d13"
      },
      "execution_count": 77,
      "outputs": [
        {
          "output_type": "stream",
          "name": "stdout",
          "text": [
            "[1] 524\n"
          ]
        }
      ]
    },
    {
      "cell_type": "markdown",
      "source": [
        "calculate C stocks for the rows that have bd"
      ],
      "metadata": {
        "id": "HkgAH3HBwrCr"
      }
    },
    {
      "cell_type": "code",
      "source": [
        "SH_dt[, SOC_stock := (toc/100) * bd * (depth_bottom-depth_top)]"
      ],
      "metadata": {
        "id": "1pP0osT5wl2a"
      },
      "execution_count": 82,
      "outputs": []
    },
    {
      "cell_type": "code",
      "source": [
        "SH_dt$SOC_stock"
      ],
      "metadata": {
        "colab": {
          "base_uri": "https://localhost:8080/",
          "height": 225
        },
        "id": "3K81WZhs0uJg",
        "outputId": "ad5a8a82-a918-4591-8b70-92e3c422c56b"
      },
      "execution_count": 91,
      "outputs": [
        {
          "output_type": "display_data",
          "data": {
            "text/html": [
              "<style>\n",
              ".list-inline {list-style: none; margin:0; padding: 0}\n",
              ".list-inline>li {display: inline-block}\n",
              ".list-inline>li:not(:last-child)::after {content: \"\\00b7\"; padding: 0 .5ex}\n",
              "</style>\n",
              "<ol class=list-inline><li>&lt;NA&gt;</li><li>&lt;NA&gt;</li><li>&lt;NA&gt;</li><li>&lt;NA&gt;</li><li>&lt;NA&gt;</li><li>&lt;NA&gt;</li><li>1.10292</li><li>2.15964</li><li>0.85632</li><li>&lt;NA&gt;</li><li>&lt;NA&gt;</li><li>&lt;NA&gt;</li><li>&lt;NA&gt;</li><li>&lt;NA&gt;</li><li>&lt;NA&gt;</li><li>&lt;NA&gt;</li><li>&lt;NA&gt;</li><li>&lt;NA&gt;</li><li>&lt;NA&gt;</li><li>&lt;NA&gt;</li><li>&lt;NA&gt;</li><li>&lt;NA&gt;</li><li>&lt;NA&gt;</li><li>&lt;NA&gt;</li><li>&lt;NA&gt;</li><li>&lt;NA&gt;</li><li>&lt;NA&gt;</li><li>&lt;NA&gt;</li><li>&lt;NA&gt;</li><li>&lt;NA&gt;</li><li>&lt;NA&gt;</li><li>0.49839</li><li>0.5358</li><li>0.600525</li><li>&lt;NA&gt;</li><li>&lt;NA&gt;</li><li>&lt;NA&gt;</li><li>&lt;NA&gt;</li><li>&lt;NA&gt;</li><li>&lt;NA&gt;</li><li>&lt;NA&gt;</li><li>&lt;NA&gt;</li><li>&lt;NA&gt;</li><li>&lt;NA&gt;</li><li>&lt;NA&gt;</li><li>&lt;NA&gt;</li><li>&lt;NA&gt;</li><li>&lt;NA&gt;</li><li>&lt;NA&gt;</li><li>0.61286625</li><li>0.3567348</li><li>0.5975775</li><li>0.68985</li><li>0.6372</li><li>0.5457</li><li>0.50373</li><li>0.547155</li><li>0.664605</li><li>0.44145</li><li>0.64326</li><li>0.21372</li><li>0.201465</li><li>0.15369</li><li>0.138</li><li>0.156195</li><li>0.1512</li><li>0.2295</li><li>0.121275</li><li>0.17088</li><li>0.11934</li><li>0.171</li><li>0.1365</li><li>0.15318</li><li>0.16074</li><li>0.135585</li><li>&lt;NA&gt;</li><li>0.263925</li><li>0.249165</li><li>0.244545</li><li>0.15582</li><li>0.25437</li><li>0.15453</li><li>0.171195</li><li>0.1512</li><li>0.19296</li><li>0.24012</li><li>0.17202</li><li>0.196425</li><li>0.17199</li><li>0.22032</li><li>0.20559</li><li>0.24219</li><li>0.16182</li><li>0.16875</li><li>0.22464</li><li>0.1869</li><li>&lt;NA&gt;</li><li>&lt;NA&gt;</li><li>0.63072</li><li>0.7803</li><li>1.100325</li><li>0.749385</li><li>0.7416</li><li>0.7938</li><li>0.735795</li><li>0.858375</li><li>0.7488</li><li>0.76014</li><li>0.26265</li><li>0.327807</li><li>0.33698115</li><li>&lt;NA&gt;</li><li>&lt;NA&gt;</li><li>&lt;NA&gt;</li><li>&lt;NA&gt;</li><li>&lt;NA&gt;</li><li>&lt;NA&gt;</li><li>&lt;NA&gt;</li><li>&lt;NA&gt;</li><li>&lt;NA&gt;</li><li>&lt;NA&gt;</li><li>&lt;NA&gt;</li><li>&lt;NA&gt;</li><li>&lt;NA&gt;</li><li>&lt;NA&gt;</li><li>&lt;NA&gt;</li><li>&lt;NA&gt;</li><li>&lt;NA&gt;</li><li>&lt;NA&gt;</li><li>&lt;NA&gt;</li><li>&lt;NA&gt;</li><li>&lt;NA&gt;</li><li>&lt;NA&gt;</li><li>&lt;NA&gt;</li><li>&lt;NA&gt;</li><li>0.0990204</li><li>0.1733916</li><li>0.17168085</li><li>&lt;NA&gt;</li><li>&lt;NA&gt;</li><li>&lt;NA&gt;</li><li>&lt;NA&gt;</li><li>&lt;NA&gt;</li><li>&lt;NA&gt;</li><li>0.42048</li><li>0.53664</li><li>0.43935</li><li>0.237069</li><li>0.204237</li><li>0.20905635</li><li>0.1001352</li><li>0.0934062</li><li>0.0904293</li><li>&lt;NA&gt;</li><li>&lt;NA&gt;</li><li>&lt;NA&gt;</li><li>&lt;NA&gt;</li><li>&lt;NA&gt;</li><li>&lt;NA&gt;</li><li>&lt;NA&gt;</li><li>&lt;NA&gt;</li><li>&lt;NA&gt;</li><li>&lt;NA&gt;</li><li>&lt;NA&gt;</li><li>&lt;NA&gt;</li><li>&lt;NA&gt;</li><li>&lt;NA&gt;</li><li>&lt;NA&gt;</li><li>&lt;NA&gt;</li><li>&lt;NA&gt;</li><li>&lt;NA&gt;</li><li>&lt;NA&gt;</li><li>&lt;NA&gt;</li><li>&lt;NA&gt;</li><li>&lt;NA&gt;</li><li>&lt;NA&gt;</li><li>0.267525</li><li>0.223995</li><li>0.21945</li><li>0.265005</li><li>0.23115</li><li>0.2226</li><li>0.24528</li><li>0.259545</li><li>0.265005</li><li>0.23973</li><li>&lt;NA&gt;</li><li>&lt;NA&gt;</li><li>0.1183833</li><li>0.1261296</li><li>0.1208169</li><li>&lt;NA&gt;</li><li>&lt;NA&gt;</li><li>&lt;NA&gt;</li><li>&lt;NA&gt;</li><li>&lt;NA&gt;</li><li>&lt;NA&gt;</li><li>&lt;NA&gt;</li><li>&lt;NA&gt;</li><li>&lt;NA&gt;</li><li>⋯</li><li>&lt;NA&gt;</li><li>&lt;NA&gt;</li><li>&lt;NA&gt;</li><li>&lt;NA&gt;</li><li>&lt;NA&gt;</li><li>&lt;NA&gt;</li><li>&lt;NA&gt;</li><li>&lt;NA&gt;</li><li>&lt;NA&gt;</li><li>&lt;NA&gt;</li><li>&lt;NA&gt;</li><li>&lt;NA&gt;</li><li>&lt;NA&gt;</li><li>&lt;NA&gt;</li><li>&lt;NA&gt;</li><li>&lt;NA&gt;</li><li>&lt;NA&gt;</li><li>&lt;NA&gt;</li><li>&lt;NA&gt;</li><li>&lt;NA&gt;</li><li>&lt;NA&gt;</li><li>&lt;NA&gt;</li><li>&lt;NA&gt;</li><li>&lt;NA&gt;</li><li>&lt;NA&gt;</li><li>&lt;NA&gt;</li><li>&lt;NA&gt;</li><li>&lt;NA&gt;</li><li>&lt;NA&gt;</li><li>&lt;NA&gt;</li><li>&lt;NA&gt;</li><li>&lt;NA&gt;</li><li>&lt;NA&gt;</li><li>&lt;NA&gt;</li><li>&lt;NA&gt;</li><li>&lt;NA&gt;</li><li>&lt;NA&gt;</li><li>&lt;NA&gt;</li><li>&lt;NA&gt;</li><li>&lt;NA&gt;</li><li>&lt;NA&gt;</li><li>&lt;NA&gt;</li><li>&lt;NA&gt;</li><li>&lt;NA&gt;</li><li>&lt;NA&gt;</li><li>&lt;NA&gt;</li><li>&lt;NA&gt;</li><li>&lt;NA&gt;</li><li>&lt;NA&gt;</li><li>&lt;NA&gt;</li><li>&lt;NA&gt;</li><li>&lt;NA&gt;</li><li>&lt;NA&gt;</li><li>&lt;NA&gt;</li><li>&lt;NA&gt;</li><li>&lt;NA&gt;</li><li>&lt;NA&gt;</li><li>&lt;NA&gt;</li><li>&lt;NA&gt;</li><li>&lt;NA&gt;</li><li>&lt;NA&gt;</li><li>&lt;NA&gt;</li><li>&lt;NA&gt;</li><li>&lt;NA&gt;</li><li>&lt;NA&gt;</li><li>&lt;NA&gt;</li><li>&lt;NA&gt;</li><li>&lt;NA&gt;</li><li>&lt;NA&gt;</li><li>&lt;NA&gt;</li><li>&lt;NA&gt;</li><li>&lt;NA&gt;</li><li>&lt;NA&gt;</li><li>&lt;NA&gt;</li><li>&lt;NA&gt;</li><li>&lt;NA&gt;</li><li>&lt;NA&gt;</li><li>&lt;NA&gt;</li><li>&lt;NA&gt;</li><li>&lt;NA&gt;</li><li>&lt;NA&gt;</li><li>&lt;NA&gt;</li><li>0.95634</li><li>1.49877</li><li>2.2344</li><li>0.47892</li><li>0.2457</li><li>0.44844</li><li>0.39783</li><li>0.31602</li><li>0.412485</li><li>0.41360355</li><li>0.378816</li><li>0.35397135</li><li>&lt;NA&gt;</li><li>&lt;NA&gt;</li><li>&lt;NA&gt;</li><li>&lt;NA&gt;</li><li>&lt;NA&gt;</li><li>&lt;NA&gt;</li><li>&lt;NA&gt;</li><li>&lt;NA&gt;</li><li>&lt;NA&gt;</li><li>&lt;NA&gt;</li><li>&lt;NA&gt;</li><li>&lt;NA&gt;</li><li>&lt;NA&gt;</li><li>&lt;NA&gt;</li><li>&lt;NA&gt;</li><li>0.630765</li><li>0.32736</li><li>0.2991822</li><li>0.2707005</li><li>0.24139725</li><li>0.4246875</li><li>0.36169875</li><li>0.376011</li><li>0.2112</li><li>0.180675</li><li>0.25296</li><li>0.17748</li><li>0.195</li><li>&lt;NA&gt;</li><li>&lt;NA&gt;</li><li>0.11592</li><li>0.21321</li><li>0.25149</li><li>0.3015</li><li>0.2172918</li><li>0.3054285</li><li>0.34628265</li><li>&lt;NA&gt;</li><li>&lt;NA&gt;</li><li>&lt;NA&gt;</li><li>&lt;NA&gt;</li><li>&lt;NA&gt;</li><li>0.3529812</li><li>0.34003125</li><li>0.2987148</li><li>0.18921</li><li>0.096525</li><li>0.1728</li><li>0.07644</li><li>0.268785</li><li>&lt;NA&gt;</li><li>&lt;NA&gt;</li><li>&lt;NA&gt;</li><li>&lt;NA&gt;</li><li>&lt;NA&gt;</li><li>&lt;NA&gt;</li><li>&lt;NA&gt;</li><li>&lt;NA&gt;</li><li>&lt;NA&gt;</li><li>&lt;NA&gt;</li><li>&lt;NA&gt;</li><li>&lt;NA&gt;</li><li>&lt;NA&gt;</li><li>&lt;NA&gt;</li><li>&lt;NA&gt;</li><li>0.1095</li><li>0.10464</li><li>0.17331</li><li>0.05445</li><li>0.06222</li><li>0.27234</li><li>0.53724</li><li>0.33117</li><li>0.454155</li><li>0.24156</li><li>0.366525</li><li>0.5976</li><li>0.21735</li><li>0.68376</li><li>0.62271</li><li>0.49692</li><li>0.64881</li><li>0.2106</li><li>0.80028</li><li>0.3978</li><li>0.24948</li><li>0.392805</li><li>0.5454</li><li>0.25632</li><li>0.45261</li><li>0.20886</li><li>0.7296</li><li>0.465105</li><li>0.70413</li><li>0.57996</li><li>0.85875</li><li>0.75072</li><li>0.285285</li><li>0.45144</li><li>0.5334</li><li>0.39627</li><li>0.284715</li><li>0.34515</li><li>0.775575</li><li>0.23652</li><li>0.58716</li></ol>\n"
            ],
            "text/markdown": "1. &lt;NA&gt;\n2. &lt;NA&gt;\n3. &lt;NA&gt;\n4. &lt;NA&gt;\n5. &lt;NA&gt;\n6. &lt;NA&gt;\n7. 1.10292\n8. 2.15964\n9. 0.85632\n10. &lt;NA&gt;\n11. &lt;NA&gt;\n12. &lt;NA&gt;\n13. &lt;NA&gt;\n14. &lt;NA&gt;\n15. &lt;NA&gt;\n16. &lt;NA&gt;\n17. &lt;NA&gt;\n18. &lt;NA&gt;\n19. &lt;NA&gt;\n20. &lt;NA&gt;\n21. &lt;NA&gt;\n22. &lt;NA&gt;\n23. &lt;NA&gt;\n24. &lt;NA&gt;\n25. &lt;NA&gt;\n26. &lt;NA&gt;\n27. &lt;NA&gt;\n28. &lt;NA&gt;\n29. &lt;NA&gt;\n30. &lt;NA&gt;\n31. &lt;NA&gt;\n32. 0.49839\n33. 0.5358\n34. 0.600525\n35. &lt;NA&gt;\n36. &lt;NA&gt;\n37. &lt;NA&gt;\n38. &lt;NA&gt;\n39. &lt;NA&gt;\n40. &lt;NA&gt;\n41. &lt;NA&gt;\n42. &lt;NA&gt;\n43. &lt;NA&gt;\n44. &lt;NA&gt;\n45. &lt;NA&gt;\n46. &lt;NA&gt;\n47. &lt;NA&gt;\n48. &lt;NA&gt;\n49. &lt;NA&gt;\n50. 0.61286625\n51. 0.3567348\n52. 0.5975775\n53. 0.68985\n54. 0.6372\n55. 0.5457\n56. 0.50373\n57. 0.547155\n58. 0.664605\n59. 0.44145\n60. 0.64326\n61. 0.21372\n62. 0.201465\n63. 0.15369\n64. 0.138\n65. 0.156195\n66. 0.1512\n67. 0.2295\n68. 0.121275\n69. 0.17088\n70. 0.11934\n71. 0.171\n72. 0.1365\n73. 0.15318\n74. 0.16074\n75. 0.135585\n76. &lt;NA&gt;\n77. 0.263925\n78. 0.249165\n79. 0.244545\n80. 0.15582\n81. 0.25437\n82. 0.15453\n83. 0.171195\n84. 0.1512\n85. 0.19296\n86. 0.24012\n87. 0.17202\n88. 0.196425\n89. 0.17199\n90. 0.22032\n91. 0.20559\n92. 0.24219\n93. 0.16182\n94. 0.16875\n95. 0.22464\n96. 0.1869\n97. &lt;NA&gt;\n98. &lt;NA&gt;\n99. 0.63072\n100. 0.7803\n101. 1.100325\n102. 0.749385\n103. 0.7416\n104. 0.7938\n105. 0.735795\n106. 0.858375\n107. 0.7488\n108. 0.76014\n109. 0.26265\n110. 0.327807\n111. 0.33698115\n112. &lt;NA&gt;\n113. &lt;NA&gt;\n114. &lt;NA&gt;\n115. &lt;NA&gt;\n116. &lt;NA&gt;\n117. &lt;NA&gt;\n118. &lt;NA&gt;\n119. &lt;NA&gt;\n120. &lt;NA&gt;\n121. &lt;NA&gt;\n122. &lt;NA&gt;\n123. &lt;NA&gt;\n124. &lt;NA&gt;\n125. &lt;NA&gt;\n126. &lt;NA&gt;\n127. &lt;NA&gt;\n128. &lt;NA&gt;\n129. &lt;NA&gt;\n130. &lt;NA&gt;\n131. &lt;NA&gt;\n132. &lt;NA&gt;\n133. &lt;NA&gt;\n134. &lt;NA&gt;\n135. &lt;NA&gt;\n136. 0.0990204\n137. 0.1733916\n138. 0.17168085\n139. &lt;NA&gt;\n140. &lt;NA&gt;\n141. &lt;NA&gt;\n142. &lt;NA&gt;\n143. &lt;NA&gt;\n144. &lt;NA&gt;\n145. 0.42048\n146. 0.53664\n147. 0.43935\n148. 0.237069\n149. 0.204237\n150. 0.20905635\n151. 0.1001352\n152. 0.0934062\n153. 0.0904293\n154. &lt;NA&gt;\n155. &lt;NA&gt;\n156. &lt;NA&gt;\n157. &lt;NA&gt;\n158. &lt;NA&gt;\n159. &lt;NA&gt;\n160. &lt;NA&gt;\n161. &lt;NA&gt;\n162. &lt;NA&gt;\n163. &lt;NA&gt;\n164. &lt;NA&gt;\n165. &lt;NA&gt;\n166. &lt;NA&gt;\n167. &lt;NA&gt;\n168. &lt;NA&gt;\n169. &lt;NA&gt;\n170. &lt;NA&gt;\n171. &lt;NA&gt;\n172. &lt;NA&gt;\n173. &lt;NA&gt;\n174. &lt;NA&gt;\n175. &lt;NA&gt;\n176. &lt;NA&gt;\n177. 0.267525\n178. 0.223995\n179. 0.21945\n180. 0.265005\n181. 0.23115\n182. 0.2226\n183. 0.24528\n184. 0.259545\n185. 0.265005\n186. 0.23973\n187. &lt;NA&gt;\n188. &lt;NA&gt;\n189. 0.1183833\n190. 0.1261296\n191. 0.1208169\n192. &lt;NA&gt;\n193. &lt;NA&gt;\n194. &lt;NA&gt;\n195. &lt;NA&gt;\n196. &lt;NA&gt;\n197. &lt;NA&gt;\n198. &lt;NA&gt;\n199. &lt;NA&gt;\n200. &lt;NA&gt;\n201. ⋯\n202. &lt;NA&gt;\n203. &lt;NA&gt;\n204. &lt;NA&gt;\n205. &lt;NA&gt;\n206. &lt;NA&gt;\n207. &lt;NA&gt;\n208. &lt;NA&gt;\n209. &lt;NA&gt;\n210. &lt;NA&gt;\n211. &lt;NA&gt;\n212. &lt;NA&gt;\n213. &lt;NA&gt;\n214. &lt;NA&gt;\n215. &lt;NA&gt;\n216. &lt;NA&gt;\n217. &lt;NA&gt;\n218. &lt;NA&gt;\n219. &lt;NA&gt;\n220. &lt;NA&gt;\n221. &lt;NA&gt;\n222. &lt;NA&gt;\n223. &lt;NA&gt;\n224. &lt;NA&gt;\n225. &lt;NA&gt;\n226. &lt;NA&gt;\n227. &lt;NA&gt;\n228. &lt;NA&gt;\n229. &lt;NA&gt;\n230. &lt;NA&gt;\n231. &lt;NA&gt;\n232. &lt;NA&gt;\n233. &lt;NA&gt;\n234. &lt;NA&gt;\n235. &lt;NA&gt;\n236. &lt;NA&gt;\n237. &lt;NA&gt;\n238. &lt;NA&gt;\n239. &lt;NA&gt;\n240. &lt;NA&gt;\n241. &lt;NA&gt;\n242. &lt;NA&gt;\n243. &lt;NA&gt;\n244. &lt;NA&gt;\n245. &lt;NA&gt;\n246. &lt;NA&gt;\n247. &lt;NA&gt;\n248. &lt;NA&gt;\n249. &lt;NA&gt;\n250. &lt;NA&gt;\n251. &lt;NA&gt;\n252. &lt;NA&gt;\n253. &lt;NA&gt;\n254. &lt;NA&gt;\n255. &lt;NA&gt;\n256. &lt;NA&gt;\n257. &lt;NA&gt;\n258. &lt;NA&gt;\n259. &lt;NA&gt;\n260. &lt;NA&gt;\n261. &lt;NA&gt;\n262. &lt;NA&gt;\n263. &lt;NA&gt;\n264. &lt;NA&gt;\n265. &lt;NA&gt;\n266. &lt;NA&gt;\n267. &lt;NA&gt;\n268. &lt;NA&gt;\n269. &lt;NA&gt;\n270. &lt;NA&gt;\n271. &lt;NA&gt;\n272. &lt;NA&gt;\n273. &lt;NA&gt;\n274. &lt;NA&gt;\n275. &lt;NA&gt;\n276. &lt;NA&gt;\n277. &lt;NA&gt;\n278. &lt;NA&gt;\n279. &lt;NA&gt;\n280. &lt;NA&gt;\n281. &lt;NA&gt;\n282. &lt;NA&gt;\n283. &lt;NA&gt;\n284. 0.95634\n285. 1.49877\n286. 2.2344\n287. 0.47892\n288. 0.2457\n289. 0.44844\n290. 0.39783\n291. 0.31602\n292. 0.412485\n293. 0.41360355\n294. 0.378816\n295. 0.35397135\n296. &lt;NA&gt;\n297. &lt;NA&gt;\n298. &lt;NA&gt;\n299. &lt;NA&gt;\n300. &lt;NA&gt;\n301. &lt;NA&gt;\n302. &lt;NA&gt;\n303. &lt;NA&gt;\n304. &lt;NA&gt;\n305. &lt;NA&gt;\n306. &lt;NA&gt;\n307. &lt;NA&gt;\n308. &lt;NA&gt;\n309. &lt;NA&gt;\n310. &lt;NA&gt;\n311. 0.630765\n312. 0.32736\n313. 0.2991822\n314. 0.2707005\n315. 0.24139725\n316. 0.4246875\n317. 0.36169875\n318. 0.376011\n319. 0.2112\n320. 0.180675\n321. 0.25296\n322. 0.17748\n323. 0.195\n324. &lt;NA&gt;\n325. &lt;NA&gt;\n326. 0.11592\n327. 0.21321\n328. 0.25149\n329. 0.3015\n330. 0.2172918\n331. 0.3054285\n332. 0.34628265\n333. &lt;NA&gt;\n334. &lt;NA&gt;\n335. &lt;NA&gt;\n336. &lt;NA&gt;\n337. &lt;NA&gt;\n338. 0.3529812\n339. 0.34003125\n340. 0.2987148\n341. 0.18921\n342. 0.096525\n343. 0.1728\n344. 0.07644\n345. 0.268785\n346. &lt;NA&gt;\n347. &lt;NA&gt;\n348. &lt;NA&gt;\n349. &lt;NA&gt;\n350. &lt;NA&gt;\n351. &lt;NA&gt;\n352. &lt;NA&gt;\n353. &lt;NA&gt;\n354. &lt;NA&gt;\n355. &lt;NA&gt;\n356. &lt;NA&gt;\n357. &lt;NA&gt;\n358. &lt;NA&gt;\n359. &lt;NA&gt;\n360. &lt;NA&gt;\n361. 0.1095\n362. 0.10464\n363. 0.17331\n364. 0.05445\n365. 0.06222\n366. 0.27234\n367. 0.53724\n368. 0.33117\n369. 0.454155\n370. 0.24156\n371. 0.366525\n372. 0.5976\n373. 0.21735\n374. 0.68376\n375. 0.62271\n376. 0.49692\n377. 0.64881\n378. 0.2106\n379. 0.80028\n380. 0.3978\n381. 0.24948\n382. 0.392805\n383. 0.5454\n384. 0.25632\n385. 0.45261\n386. 0.20886\n387. 0.7296\n388. 0.465105\n389. 0.70413\n390. 0.57996\n391. 0.85875\n392. 0.75072\n393. 0.285285\n394. 0.45144\n395. 0.5334\n396. 0.39627\n397. 0.284715\n398. 0.34515\n399. 0.775575\n400. 0.23652\n401. 0.58716\n\n\n",
            "text/latex": "\\begin{enumerate*}\n\\item <NA>\n\\item <NA>\n\\item <NA>\n\\item <NA>\n\\item <NA>\n\\item <NA>\n\\item 1.10292\n\\item 2.15964\n\\item 0.85632\n\\item <NA>\n\\item <NA>\n\\item <NA>\n\\item <NA>\n\\item <NA>\n\\item <NA>\n\\item <NA>\n\\item <NA>\n\\item <NA>\n\\item <NA>\n\\item <NA>\n\\item <NA>\n\\item <NA>\n\\item <NA>\n\\item <NA>\n\\item <NA>\n\\item <NA>\n\\item <NA>\n\\item <NA>\n\\item <NA>\n\\item <NA>\n\\item <NA>\n\\item 0.49839\n\\item 0.5358\n\\item 0.600525\n\\item <NA>\n\\item <NA>\n\\item <NA>\n\\item <NA>\n\\item <NA>\n\\item <NA>\n\\item <NA>\n\\item <NA>\n\\item <NA>\n\\item <NA>\n\\item <NA>\n\\item <NA>\n\\item <NA>\n\\item <NA>\n\\item <NA>\n\\item 0.61286625\n\\item 0.3567348\n\\item 0.5975775\n\\item 0.68985\n\\item 0.6372\n\\item 0.5457\n\\item 0.50373\n\\item 0.547155\n\\item 0.664605\n\\item 0.44145\n\\item 0.64326\n\\item 0.21372\n\\item 0.201465\n\\item 0.15369\n\\item 0.138\n\\item 0.156195\n\\item 0.1512\n\\item 0.2295\n\\item 0.121275\n\\item 0.17088\n\\item 0.11934\n\\item 0.171\n\\item 0.1365\n\\item 0.15318\n\\item 0.16074\n\\item 0.135585\n\\item <NA>\n\\item 0.263925\n\\item 0.249165\n\\item 0.244545\n\\item 0.15582\n\\item 0.25437\n\\item 0.15453\n\\item 0.171195\n\\item 0.1512\n\\item 0.19296\n\\item 0.24012\n\\item 0.17202\n\\item 0.196425\n\\item 0.17199\n\\item 0.22032\n\\item 0.20559\n\\item 0.24219\n\\item 0.16182\n\\item 0.16875\n\\item 0.22464\n\\item 0.1869\n\\item <NA>\n\\item <NA>\n\\item 0.63072\n\\item 0.7803\n\\item 1.100325\n\\item 0.749385\n\\item 0.7416\n\\item 0.7938\n\\item 0.735795\n\\item 0.858375\n\\item 0.7488\n\\item 0.76014\n\\item 0.26265\n\\item 0.327807\n\\item 0.33698115\n\\item <NA>\n\\item <NA>\n\\item <NA>\n\\item <NA>\n\\item <NA>\n\\item <NA>\n\\item <NA>\n\\item <NA>\n\\item <NA>\n\\item <NA>\n\\item <NA>\n\\item <NA>\n\\item <NA>\n\\item <NA>\n\\item <NA>\n\\item <NA>\n\\item <NA>\n\\item <NA>\n\\item <NA>\n\\item <NA>\n\\item <NA>\n\\item <NA>\n\\item <NA>\n\\item <NA>\n\\item 0.0990204\n\\item 0.1733916\n\\item 0.17168085\n\\item <NA>\n\\item <NA>\n\\item <NA>\n\\item <NA>\n\\item <NA>\n\\item <NA>\n\\item 0.42048\n\\item 0.53664\n\\item 0.43935\n\\item 0.237069\n\\item 0.204237\n\\item 0.20905635\n\\item 0.1001352\n\\item 0.0934062\n\\item 0.0904293\n\\item <NA>\n\\item <NA>\n\\item <NA>\n\\item <NA>\n\\item <NA>\n\\item <NA>\n\\item <NA>\n\\item <NA>\n\\item <NA>\n\\item <NA>\n\\item <NA>\n\\item <NA>\n\\item <NA>\n\\item <NA>\n\\item <NA>\n\\item <NA>\n\\item <NA>\n\\item <NA>\n\\item <NA>\n\\item <NA>\n\\item <NA>\n\\item <NA>\n\\item <NA>\n\\item 0.267525\n\\item 0.223995\n\\item 0.21945\n\\item 0.265005\n\\item 0.23115\n\\item 0.2226\n\\item 0.24528\n\\item 0.259545\n\\item 0.265005\n\\item 0.23973\n\\item <NA>\n\\item <NA>\n\\item 0.1183833\n\\item 0.1261296\n\\item 0.1208169\n\\item <NA>\n\\item <NA>\n\\item <NA>\n\\item <NA>\n\\item <NA>\n\\item <NA>\n\\item <NA>\n\\item <NA>\n\\item <NA>\n\\item ⋯\n\\item <NA>\n\\item <NA>\n\\item <NA>\n\\item <NA>\n\\item <NA>\n\\item <NA>\n\\item <NA>\n\\item <NA>\n\\item <NA>\n\\item <NA>\n\\item <NA>\n\\item <NA>\n\\item <NA>\n\\item <NA>\n\\item <NA>\n\\item <NA>\n\\item <NA>\n\\item <NA>\n\\item <NA>\n\\item <NA>\n\\item <NA>\n\\item <NA>\n\\item <NA>\n\\item <NA>\n\\item <NA>\n\\item <NA>\n\\item <NA>\n\\item <NA>\n\\item <NA>\n\\item <NA>\n\\item <NA>\n\\item <NA>\n\\item <NA>\n\\item <NA>\n\\item <NA>\n\\item <NA>\n\\item <NA>\n\\item <NA>\n\\item <NA>\n\\item <NA>\n\\item <NA>\n\\item <NA>\n\\item <NA>\n\\item <NA>\n\\item <NA>\n\\item <NA>\n\\item <NA>\n\\item <NA>\n\\item <NA>\n\\item <NA>\n\\item <NA>\n\\item <NA>\n\\item <NA>\n\\item <NA>\n\\item <NA>\n\\item <NA>\n\\item <NA>\n\\item <NA>\n\\item <NA>\n\\item <NA>\n\\item <NA>\n\\item <NA>\n\\item <NA>\n\\item <NA>\n\\item <NA>\n\\item <NA>\n\\item <NA>\n\\item <NA>\n\\item <NA>\n\\item <NA>\n\\item <NA>\n\\item <NA>\n\\item <NA>\n\\item <NA>\n\\item <NA>\n\\item <NA>\n\\item <NA>\n\\item <NA>\n\\item <NA>\n\\item <NA>\n\\item <NA>\n\\item <NA>\n\\item 0.95634\n\\item 1.49877\n\\item 2.2344\n\\item 0.47892\n\\item 0.2457\n\\item 0.44844\n\\item 0.39783\n\\item 0.31602\n\\item 0.412485\n\\item 0.41360355\n\\item 0.378816\n\\item 0.35397135\n\\item <NA>\n\\item <NA>\n\\item <NA>\n\\item <NA>\n\\item <NA>\n\\item <NA>\n\\item <NA>\n\\item <NA>\n\\item <NA>\n\\item <NA>\n\\item <NA>\n\\item <NA>\n\\item <NA>\n\\item <NA>\n\\item <NA>\n\\item 0.630765\n\\item 0.32736\n\\item 0.2991822\n\\item 0.2707005\n\\item 0.24139725\n\\item 0.4246875\n\\item 0.36169875\n\\item 0.376011\n\\item 0.2112\n\\item 0.180675\n\\item 0.25296\n\\item 0.17748\n\\item 0.195\n\\item <NA>\n\\item <NA>\n\\item 0.11592\n\\item 0.21321\n\\item 0.25149\n\\item 0.3015\n\\item 0.2172918\n\\item 0.3054285\n\\item 0.34628265\n\\item <NA>\n\\item <NA>\n\\item <NA>\n\\item <NA>\n\\item <NA>\n\\item 0.3529812\n\\item 0.34003125\n\\item 0.2987148\n\\item 0.18921\n\\item 0.096525\n\\item 0.1728\n\\item 0.07644\n\\item 0.268785\n\\item <NA>\n\\item <NA>\n\\item <NA>\n\\item <NA>\n\\item <NA>\n\\item <NA>\n\\item <NA>\n\\item <NA>\n\\item <NA>\n\\item <NA>\n\\item <NA>\n\\item <NA>\n\\item <NA>\n\\item <NA>\n\\item <NA>\n\\item 0.1095\n\\item 0.10464\n\\item 0.17331\n\\item 0.05445\n\\item 0.06222\n\\item 0.27234\n\\item 0.53724\n\\item 0.33117\n\\item 0.454155\n\\item 0.24156\n\\item 0.366525\n\\item 0.5976\n\\item 0.21735\n\\item 0.68376\n\\item 0.62271\n\\item 0.49692\n\\item 0.64881\n\\item 0.2106\n\\item 0.80028\n\\item 0.3978\n\\item 0.24948\n\\item 0.392805\n\\item 0.5454\n\\item 0.25632\n\\item 0.45261\n\\item 0.20886\n\\item 0.7296\n\\item 0.465105\n\\item 0.70413\n\\item 0.57996\n\\item 0.85875\n\\item 0.75072\n\\item 0.285285\n\\item 0.45144\n\\item 0.5334\n\\item 0.39627\n\\item 0.284715\n\\item 0.34515\n\\item 0.775575\n\\item 0.23652\n\\item 0.58716\n\\end{enumerate*}\n",
            "text/plain": [
              "  [1]        NA        NA        NA        NA        NA        NA 1.1029200\n",
              "  [8] 2.1596400 0.8563200        NA        NA        NA        NA        NA\n",
              " [15]        NA        NA        NA        NA        NA        NA        NA\n",
              " [22]        NA        NA        NA        NA        NA        NA        NA\n",
              " [29]        NA        NA        NA 0.4983900 0.5358000 0.6005250        NA\n",
              " [36]        NA        NA        NA        NA        NA        NA        NA\n",
              " [43]        NA        NA        NA        NA        NA        NA        NA\n",
              " [50] 0.6128662 0.3567348 0.5975775 0.6898500 0.6372000 0.5457000 0.5037300\n",
              " [57] 0.5471550 0.6646050 0.4414500 0.6432600 0.2137200 0.2014650 0.1536900\n",
              " [64] 0.1380000 0.1561950 0.1512000 0.2295000 0.1212750 0.1708800 0.1193400\n",
              " [71] 0.1710000 0.1365000 0.1531800 0.1607400 0.1355850        NA 0.2639250\n",
              " [78] 0.2491650 0.2445450 0.1558200 0.2543700 0.1545300 0.1711950 0.1512000\n",
              " [85] 0.1929600 0.2401200 0.1720200 0.1964250 0.1719900 0.2203200 0.2055900\n",
              " [92] 0.2421900 0.1618200 0.1687500 0.2246400 0.1869000        NA        NA\n",
              " [99] 0.6307200 0.7803000 1.1003250 0.7493850 0.7416000 0.7938000 0.7357950\n",
              "[106] 0.8583750 0.7488000 0.7601400 0.2626500 0.3278070 0.3369811        NA\n",
              "[113]        NA        NA        NA        NA        NA        NA        NA\n",
              "[120]        NA        NA        NA        NA        NA        NA        NA\n",
              "[127]        NA        NA        NA        NA        NA        NA        NA\n",
              "[134]        NA        NA 0.0990204 0.1733916 0.1716808        NA        NA\n",
              "[141]        NA        NA        NA        NA 0.4204800 0.5366400 0.4393500\n",
              "[148] 0.2370690 0.2042370 0.2090564 0.1001352 0.0934062 0.0904293        NA\n",
              "[155]        NA        NA        NA        NA        NA        NA        NA\n",
              "[162]        NA        NA        NA        NA        NA        NA        NA\n",
              "[169]        NA        NA        NA        NA        NA        NA        NA\n",
              "[176]        NA 0.2675250 0.2239950 0.2194500 0.2650050 0.2311500 0.2226000\n",
              "[183] 0.2452800 0.2595450 0.2650050 0.2397300        NA        NA 0.1183833\n",
              "[190] 0.1261296 0.1208169        NA        NA        NA        NA        NA\n",
              "[197]        NA        NA        NA        NA        NA        NA        NA\n",
              "[204] 0.2692800 0.2898000 0.2792400 0.3726000 0.2534400 0.4431150 0.6418500\n",
              "[211] 0.3760500 0.3087750 0.2544000 0.5596500 0.4123800 0.9504000 0.6437100\n",
              "[218] 0.5896800 0.3495750 0.7385100 0.3287700 0.3528000 0.5245200 0.3092850\n",
              "[225] 0.2971350 0.3450000 0.2950350 0.3122550 0.2709450 0.3680100 0.3771900\n",
              "[232] 0.3591000 0.3132000 0.3291300 0.2608200 0.2791800 0.2552100 0.2670300\n",
              "[239]        NA        NA        NA        NA        NA        NA        NA\n",
              "[246]        NA        NA        NA        NA        NA        NA        NA\n",
              "[253]        NA        NA        NA        NA        NA        NA        NA\n",
              "[260]        NA        NA        NA        NA        NA        NA        NA\n",
              "[267]        NA        NA        NA        NA        NA        NA        NA\n",
              "[274]        NA        NA        NA        NA        NA        NA        NA\n",
              "[281]        NA        NA        NA        NA        NA        NA        NA\n",
              "[288]        NA        NA 0.1912500 0.1836000 0.1898100 0.2271300 0.2178300\n",
              "[295] 0.2289000 0.2772000 0.2245950 0.2001000 0.2308800 0.4183200 0.4538400\n",
              "[302] 0.3024000 0.2277000 0.4012800 1.0335600 0.6868800 1.1230800 0.6321000\n",
              "[309] 0.8089200 1.3772100 0.9301500 0.9591750 0.8543700        NA        NA\n",
              "[316]        NA        NA        NA        NA        NA        NA        NA\n",
              "[323]        NA        NA        NA        NA        NA        NA        NA\n",
              "[330]        NA        NA        NA        NA        NA        NA        NA\n",
              "[337]        NA        NA        NA        NA        NA        NA        NA\n",
              "[344]        NA        NA        NA        NA        NA        NA        NA\n",
              "[351]        NA 0.3708750 0.2880750 0.3229200 0.3092700 0.2580150 0.2675250\n",
              "[358] 0.2523000 0.3236100 0.3131250 0.3029400 0.2749500 0.2720250 0.3523500\n",
              "[365] 0.3264000 0.2679000        NA        NA        NA        NA        NA\n",
              "[372]        NA        NA        NA 0.7022400 0.5049900 0.6383700 0.5762400\n",
              "[379] 0.7574400 0.2916000 0.3253650 0.0000000 0.3584250 0.4431150 0.4185600\n",
              "[386] 0.0000000 0.0000000 0.0000000 0.0000000 0.0000000 0.3519000        NA\n",
              "[393]        NA 0.7666312 0.8026996 0.7094787        NA 0.6104700        NA\n",
              "[400]        NA        NA        NA        NA        NA        NA        NA\n",
              "[407]        NA        NA        NA        NA        NA        NA        NA\n",
              "[414]        NA        NA        NA 0.6848400        NA        NA        NA\n",
              "[421]        NA        NA        NA        NA 0.3730155 0.3627522 0.3704258\n",
              "[428] 0.2637108 0.1998843 0.2959995 0.3161100 0.3415500 0.2718900        NA\n",
              "[435]        NA        NA        NA        NA        NA        NA        NA\n",
              "[442]        NA        NA        NA        NA        NA        NA        NA\n",
              "[449]        NA        NA        NA        NA        NA        NA        NA\n",
              "[456]        NA        NA        NA        NA        NA        NA        NA\n",
              "[463]        NA        NA        NA        NA        NA        NA        NA\n",
              "[470]        NA        NA        NA        NA        NA        NA        NA\n",
              "[477]        NA        NA        NA        NA        NA        NA        NA\n",
              "[484]        NA        NA        NA        NA        NA        NA        NA\n",
              "[491]        NA        NA        NA        NA        NA        NA        NA\n",
              "[498]        NA        NA        NA        NA        NA        NA        NA\n",
              "[505]        NA        NA        NA        NA        NA        NA        NA\n",
              "[512]        NA        NA        NA        NA        NA        NA        NA\n",
              "[519]        NA        NA        NA        NA        NA        NA        NA\n",
              "[526]        NA        NA        NA 0.6625500 0.2280600 0.1698300 0.4804800\n",
              "[533] 0.5418000 1.1896500 0.3600000 0.6238200 0.8642400 0.2103750 0.9063900\n",
              "[540] 0.3877800 0.4105500 0.3385800 0.7148250 0.2190300 0.2067000        NA\n",
              "[547]        NA        NA 0.1940400 0.1990800 0.2378250        NA        NA\n",
              "[554]        NA 0.4258200 0.3960600 0.5700000 0.6394500 0.7332600 0.2880900\n",
              "[561] 0.6684786 0.6524178 0.6039000 0.6829515 0.9922512 0.9067389 0.6021750\n",
              "[568] 1.4739600 1.4512500 1.1461650 0.9923400 1.4773500 0.9990000 1.1932500\n",
              "[575] 1.3252650 1.3119750 1.1745000 1.2847800 0.9812250        NA        NA\n",
              "[582]        NA        NA        NA        NA        NA        NA 1.0735872\n",
              "[589] 1.0941120 0.9615491 0.9914400 1.1731200 1.1449200 1.0655400 1.0553850\n",
              "[596] 1.1793600 1.2163800 1.3981350 1.2487500 1.1768550 1.2672000 1.2247200\n",
              "[603] 1.3267200 1.1039100 1.1779800        NA        NA        NA        NA\n",
              "[610]        NA        NA        NA        NA        NA        NA        NA\n",
              "[617]        NA 0.3697050 0.3617820 0.3125331        NA        NA        NA\n",
              "[624]        NA        NA        NA        NA        NA        NA        NA\n",
              "[631]        NA        NA        NA        NA 0.2697750 0.0777000 0.3302250\n",
              "[638]        NA 0.3970050        NA        NA        NA        NA        NA\n",
              "[645]        NA        NA        NA        NA 1.0598700 0.9422580 1.2625509\n",
              "[652] 0.6512980 0.7203827 0.7944007        NA        NA        NA        NA\n",
              "[659]        NA        NA        NA        NA        NA        NA        NA\n",
              "[666]        NA        NA 1.2815633 1.1954646 1.4311773        NA        NA\n",
              "[673]        NA        NA        NA        NA        NA        NA        NA\n",
              "[680]        NA        NA        NA        NA        NA        NA        NA\n",
              "[687]        NA        NA        NA        NA        NA        NA        NA\n",
              "[694]        NA        NA        NA        NA        NA        NA        NA\n",
              "[701]        NA        NA        NA        NA        NA        NA        NA\n",
              "[708]        NA        NA        NA        NA        NA        NA        NA\n",
              "[715]        NA        NA        NA        NA        NA        NA        NA\n",
              "[722]        NA        NA        NA        NA        NA        NA        NA\n",
              "[729]        NA        NA        NA        NA        NA        NA        NA\n",
              "[736]        NA        NA        NA        NA        NA        NA        NA\n",
              "[743]        NA        NA        NA        NA        NA        NA        NA\n",
              "[750]        NA        NA        NA        NA        NA        NA        NA\n",
              "[757]        NA        NA        NA        NA        NA        NA        NA\n",
              "[764]        NA        NA        NA        NA        NA        NA        NA\n",
              "[771]        NA        NA        NA        NA        NA        NA        NA\n",
              "[778]        NA        NA        NA        NA        NA        NA        NA\n",
              "[785]        NA        NA        NA        NA        NA        NA        NA\n",
              "[792]        NA        NA        NA        NA        NA        NA        NA\n",
              "[799]        NA        NA        NA        NA        NA        NA        NA\n",
              "[806]        NA        NA        NA        NA        NA        NA        NA\n",
              "[813]        NA        NA        NA        NA        NA        NA        NA\n",
              "[820]        NA        NA        NA        NA        NA        NA        NA\n",
              "[827]        NA        NA        NA        NA        NA 0.9563400 1.4987700\n",
              "[834] 2.2344000 0.4789200 0.2457000 0.4484400 0.3978300 0.3160200 0.4124850\n",
              "[841] 0.4136035 0.3788160 0.3539714        NA        NA        NA        NA\n",
              "[848]        NA        NA        NA        NA        NA        NA        NA\n",
              "[855]        NA        NA        NA        NA 0.6307650 0.3273600 0.2991822\n",
              "[862] 0.2707005 0.2413973 0.4246875 0.3616988 0.3760110 0.2112000 0.1806750\n",
              "[869] 0.2529600 0.1774800 0.1950000        NA        NA 0.1159200 0.2132100\n",
              "[876] 0.2514900 0.3015000 0.2172918 0.3054285 0.3462827        NA        NA\n",
              "[883]        NA        NA        NA 0.3529812 0.3400313 0.2987148 0.1892100\n",
              "[890] 0.0965250 0.1728000 0.0764400 0.2687850        NA        NA        NA\n",
              "[897]        NA        NA        NA        NA        NA        NA        NA\n",
              "[904]        NA        NA        NA        NA        NA 0.1095000 0.1046400\n",
              "[911] 0.1733100 0.0544500 0.0622200 0.2723400 0.5372400 0.3311700 0.4541550\n",
              "[918] 0.2415600 0.3665250 0.5976000 0.2173500 0.6837600 0.6227100 0.4969200\n",
              "[925] 0.6488100 0.2106000 0.8002800 0.3978000 0.2494800 0.3928050 0.5454000\n",
              "[932] 0.2563200 0.4526100 0.2088600 0.7296000 0.4651050 0.7041300 0.5799600\n",
              "[939] 0.8587500 0.7507200 0.2852850 0.4514400 0.5334000 0.3962700 0.2847150\n",
              "[946] 0.3451500 0.7755750 0.2365200 0.5871600"
            ]
          },
          "metadata": {}
        }
      ]
    },
    {
      "cell_type": "code",
      "source": [
        "SH_dt[, SOC_stock_kg_m2 := (depth_bottom-depth_top) * (1/100) * bd * 1000 * (toc/100)]\n",
        "\n",
        "#SH_dt$SOC_stock_kg_m2 %>% print"
      ],
      "metadata": {
        "id": "WIMlu2f-E7q2"
      },
      "execution_count": 96,
      "outputs": []
    },
    {
      "cell_type": "code",
      "source": [
        "SH_dt[, SOC_stock_Mg_ha:= SOC_stock_kg_m2 * 10]\n",
        "#SH_dt$SOC_stock_Mg_ha %>% print"
      ],
      "metadata": {
        "id": "WZmnYVGOH-q7"
      },
      "execution_count": 97,
      "outputs": []
    },
    {
      "cell_type": "code",
      "source": [
        "SH_dt$depth_bottom %>% unique"
      ],
      "metadata": {
        "colab": {
          "base_uri": "https://localhost:8080/",
          "height": 34
        },
        "id": "Z2ZFm_2_5dQy",
        "outputId": "645c6b0d-579a-4f5a-e803-44bbe835a06e"
      },
      "execution_count": 90,
      "outputs": [
        {
          "output_type": "display_data",
          "data": {
            "text/html": [
              "<style>\n",
              ".list-inline {list-style: none; margin:0; padding: 0}\n",
              ".list-inline>li {display: inline-block}\n",
              ".list-inline>li:not(:last-child)::after {content: \"\\00b7\"; padding: 0 .5ex}\n",
              "</style>\n",
              "<ol class=list-inline><li>15</li><li>20</li><li>5</li><li>30</li><li>60</li><li>90</li><li>12.5</li><li>50</li><li>70</li><li>100</li><li>10</li><li>&lt;NA&gt;</li><li>46</li><li>66</li></ol>\n"
            ],
            "text/markdown": "1. 15\n2. 20\n3. 5\n4. 30\n5. 60\n6. 90\n7. 12.5\n8. 50\n9. 70\n10. 100\n11. 10\n12. &lt;NA&gt;\n13. 46\n14. 66\n\n\n",
            "text/latex": "\\begin{enumerate*}\n\\item 15\n\\item 20\n\\item 5\n\\item 30\n\\item 60\n\\item 90\n\\item 12.5\n\\item 50\n\\item 70\n\\item 100\n\\item 10\n\\item <NA>\n\\item 46\n\\item 66\n\\end{enumerate*}\n",
            "text/plain": [
              " [1]  15.0  20.0   5.0  30.0  60.0  90.0  12.5  50.0  70.0 100.0  10.0    NA\n",
              "[13]  46.0  66.0"
            ]
          },
          "metadata": {}
        }
      ]
    },
    {
      "cell_type": "code",
      "source": [
        "table(SH_dt$depth_bottom)"
      ],
      "metadata": {
        "colab": {
          "base_uri": "https://localhost:8080/",
          "height": 72
        },
        "id": "TjlxojLe8PJP",
        "outputId": "f54a8d9d-2ed6-43a1-9a1d-e689a3e6b806"
      },
      "execution_count": 89,
      "outputs": [
        {
          "output_type": "display_data",
          "data": {
            "text/plain": [
              "\n",
              "   5   10 12.5   15   20   30   46   50   60   66   70   90  100 \n",
              "  24    1    1  764   67    4    1    2    3    1    2    3    6 "
            ]
          },
          "metadata": {}
        }
      ]
    }
  ]
}