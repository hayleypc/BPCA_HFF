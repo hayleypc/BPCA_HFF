{
  "nbformat": 4,
  "nbformat_minor": 0,
  "metadata": {
    "colab": {
      "provenance": [],
      "authorship_tag": "ABX9TyNl2q+qdAf7ivyDjCHvG43u",
      "include_colab_link": true
    },
    "kernelspec": {
      "name": "ir",
      "display_name": "R"
    },
    "language_info": {
      "name": "R"
    }
  },
  "cells": [
    {
      "cell_type": "markdown",
      "metadata": {
        "id": "view-in-github",
        "colab_type": "text"
      },
      "source": [
        "<a href=\"https://colab.research.google.com/github/hayleypc/BPCA_HFF/blob/main/BPCA_analysis_plotting.ipynb\" target=\"_parent\"><img src=\"https://colab.research.google.com/assets/colab-badge.svg\" alt=\"Open In Colab\"/></a>"
      ]
    },
    {
      "cell_type": "code",
      "source": [
        "install.packages(c('data.table','ggplot2','magrittr','rstatix','plotrix','ggsignif',\"googledrive\",'openxlsx'))"
      ],
      "metadata": {
        "colab": {
          "base_uri": "https://localhost:8080/"
        },
        "id": "Weq65XrlMbXx",
        "outputId": "5fbb8a81-ab36-43d8-f215-5d33ea6723ed"
      },
      "execution_count": 1,
      "outputs": [
        {
          "output_type": "stream",
          "name": "stderr",
          "text": [
            "Installing packages into ‘/usr/local/lib/R/site-library’\n",
            "(as ‘lib’ is unspecified)\n",
            "\n",
            "also installing the dependencies ‘numDeriv’, ‘SparseM’, ‘MatrixModels’, ‘minqa’, ‘nloptr’, ‘RcppEigen’, ‘carData’, ‘abind’, ‘pbkrtest’, ‘quantreg’, ‘lme4’, ‘corrplot’, ‘car’, ‘Rcpp’\n",
            "\n",
            "\n"
          ]
        }
      ]
    },
    {
      "cell_type": "code",
      "source": [
        "library(data.table)\n",
        "library(ggplot2)\n",
        "library(magrittr)\n",
        "library(rstatix)\n",
        "library(ggsignif)\n",
        "library(plotrix)\n",
        "library(googledrive)\n",
        "library(openxlsx)"
      ],
      "metadata": {
        "colab": {
          "base_uri": "https://localhost:8080/"
        },
        "id": "sXmKHIq0MfZW",
        "outputId": "a82b3186-6746-4a6d-d4e9-90b936c60a5b"
      },
      "execution_count": 2,
      "outputs": [
        {
          "output_type": "stream",
          "name": "stderr",
          "text": [
            "\n",
            "Attaching package: ‘rstatix’\n",
            "\n",
            "\n",
            "The following object is masked from ‘package:stats’:\n",
            "\n",
            "    filter\n",
            "\n",
            "\n"
          ]
        }
      ]
    },
    {
      "cell_type": "code",
      "source": [
        "drive_auth(use_oob = TRUE, cache = FALSE)"
      ],
      "metadata": {
        "colab": {
          "base_uri": "https://localhost:8080/"
        },
        "id": "ClsFSfbxMkft",
        "outputId": "38ffbd65-fc8c-4092-e93d-172c75f86d77"
      },
      "execution_count": 3,
      "outputs": [
        {
          "output_type": "stream",
          "name": "stderr",
          "text": [
            "Please point your browser to the following url: \n",
            "\n",
            "https://accounts.google.com/o/oauth2/v2/auth?client_id=603366585132-frjlouoa3s2ono25d2l9ukvhlsrlnr7k.apps.googleusercontent.com&scope=https%3A%2F%2Fwww.googleapis.com%2Fauth%2Fdrive%20https%3A%2F%2Fwww.googleapis.com%2Fauth%2Fuserinfo.email&redirect_uri=https%3A%2F%2Fwww.tidyverse.org%2Fgoogle-callback%2F&response_type=code&state=8c7bbb732b92a15e1a7c32e5634681e2&access_type=offline&prompt=consent\n",
            "\n"
          ]
        },
        {
          "name": "stdout",
          "output_type": "stream",
          "text": [
            "Enter authorization code: eyJjb2RlIjoiNC8wQWZKb2hYbnMxbDdjai0tUVNmSTVfTWhjTktuS2NjdzRJUG1KYmNoU3E0OVUzTTZiUU0xYkpNdXo4VW5qZ3B0UVkzX2puZyIsInN0YXRlIjoiOGM3YmJiNzMyYjkyYTE1ZTFhN2MzMmU1NjM0NjgxZTIifQ==\n"
          ]
        }
      ]
    },
    {
      "cell_type": "code",
      "source": [
        "\n",
        "# https://drive.google.com/file/d/1HlTOdV5IfKyUPac13dOoKbng7VKLvqVv/view?usp=drive_link\n",
        "drive_download(file = as_id('1HlTOdV5IfKyUPac13dOoKbng7VKLvqVv'), path = '/content/firehistory_region_intersect.gpkg', overwrite = FALSE)"
      ],
      "metadata": {
        "colab": {
          "base_uri": "https://localhost:8080/"
        },
        "id": "bFo_f73jm8ue",
        "outputId": "9bf567ff-3362-4a5d-be83-9c8cd73d6975"
      },
      "execution_count": 4,
      "outputs": [
        {
          "output_type": "stream",
          "name": "stderr",
          "text": [
            "File downloaded:\n",
            "\n",
            "• \u001b[36mfirehistory_region_intersect.gpkg\u001b[39m \u001b[90m<id: 1HlTOdV5IfKyUPac13dOoKbng7VKLvqVv>\u001b[39m\n",
            "\n",
            "Saved locally as:\n",
            "\n",
            "• \u001b[34m/content/firehistory_region_intersect.gpkg\u001b[39m\n",
            "\n"
          ]
        }
      ]
    },
    {
      "cell_type": "code",
      "source": [
        "# Coarse Woody Debris\n",
        "# https://drive.google.com/file/d/1pXM6XIxxWL_Lsqyms1jtuuFcEHCjyLF0/view?usp=drive_link\n",
        "drive_download(file = as_id('1pXM6XIxxWL_Lsqyms1jtuuFcEHCjyLF0'), path = '/content/cwd_rate_table.csv', overwrite = FALSE)"
      ],
      "metadata": {
        "colab": {
          "base_uri": "https://localhost:8080/"
        },
        "id": "ahkDEkfQMlJt",
        "outputId": "17516060-389c-4b24-f4c2-3751b87b6b23"
      },
      "execution_count": 5,
      "outputs": [
        {
          "output_type": "stream",
          "name": "stderr",
          "text": [
            "File downloaded:\n",
            "\n",
            "• \u001b[36mcwd_rate_table.csv\u001b[39m \u001b[90m<id: 1pXM6XIxxWL_Lsqyms1jtuuFcEHCjyLF0>\u001b[39m\n",
            "\n",
            "Saved locally as:\n",
            "\n",
            "• \u001b[34m/content/cwd_rate_table.csv\u001b[39m\n",
            "\n"
          ]
        }
      ]
    },
    {
      "cell_type": "code",
      "source": [
        "# LF fractionation\n",
        "# https://drive.google.com/file/d/17BqkL6xDs2k7Q4PZEZNYMLqot95N5HEI/view?usp=sharing\n",
        "drive_download(file = as_id('17BqkL6xDs2k7Q4PZEZNYMLqot95N5HEI'), path = '/content/LF_stoic_dt.csv', overwrite = TRUE)"
      ],
      "metadata": {
        "colab": {
          "base_uri": "https://localhost:8080/"
        },
        "id": "Om9VDXVoOX1G",
        "outputId": "ccb678f6-cd82-40f7-9db0-5970e6d964b2"
      },
      "execution_count": 6,
      "outputs": [
        {
          "output_type": "stream",
          "name": "stderr",
          "text": [
            "File downloaded:\n",
            "\n",
            "• \u001b[36mLF_stoic_dt.csv\u001b[39m \u001b[90m<id: 17BqkL6xDs2k7Q4PZEZNYMLqot95N5HEI>\u001b[39m\n",
            "\n",
            "Saved locally as:\n",
            "\n",
            "• \u001b[34m/content/LF_stoic_dt.csv\u001b[39m\n",
            "\n"
          ]
        }
      ]
    },
    {
      "cell_type": "code",
      "source": [
        "cwd_rate_table <- fread('/content/cwd_rate_table.csv')\n",
        "#bpca_dt <- fread('/content/bpca_dt.csv')\n",
        "LF_stoic_dt <- fread('/content/LF_stoic_dt.csv')\n",
        "\n",
        "\n",
        "\n"
      ],
      "metadata": {
        "id": "wdlrkZFRUFmw"
      },
      "execution_count": 51,
      "outputs": []
    },
    {
      "cell_type": "code",
      "source": [
        "LF_stoic_dt %>% names"
      ],
      "metadata": {
        "colab": {
          "base_uri": "https://localhost:8080/",
          "height": 69
        },
        "id": "D5dDGxZWf3JX",
        "outputId": "afbb489b-c9ba-44f0-c3e8-2ac0d22d6a99"
      },
      "execution_count": 22,
      "outputs": [
        {
          "output_type": "display_data",
          "data": {
            "text/html": [
              "<style>\n",
              ".list-inline {list-style: none; margin:0; padding: 0}\n",
              ".list-inline>li {display: inline-block}\n",
              ".list-inline>li:not(:last-child)::after {content: \"\\00b7\"; padding: 0 .5ex}\n",
              "</style>\n",
              "<ol class=list-inline><li>'V1'</li><li>'site'</li><li>'Depth'</li><li>'fraction'</li><li>'burn_severity'</li><li>'depth_upper_cm'</li><li>'depth_lower_cm'</li><li>'fractionation_mass_recovered_g'</li><li>'starting_fract_mass_soil_g'</li><li>'mass_proportion_recovered'</li><li>'recovery'</li><li>'C_perc'</li><li>'N_perc'</li><li>'rerun'</li><li>'frac_notes'</li><li>'accept'</li><li>'BPCA_Run'</li><li>'BPCA_Run2'</li><li>'240_nm_PA'</li><li>'216_nm_PA'</li><li>'BPCA_rep1_notes'</li><li>'240_nm_PA_dupe'</li><li>'216_nm_PA_dupe'</li><li>'BPCA_rep2_notes'</li><li>'blank1_240_nm_PA'</li><li>'blank1_216_nm_PA'</li><li>'blank2_240_nm_PA'</li><li>'blank2_216_nm_PA'</li><li>'PA_240_nm'</li><li>'PA_216_nm'</li><li>'conc_240'</li><li>'conc_216'</li><li>'blank_conc_240'</li><li>'blank_conc_216'</li><li>'conc_avg'</li><li>'bpca_starting_mass_mg'</li></ol>\n"
            ],
            "text/markdown": "1. 'V1'\n2. 'site'\n3. 'Depth'\n4. 'fraction'\n5. 'burn_severity'\n6. 'depth_upper_cm'\n7. 'depth_lower_cm'\n8. 'fractionation_mass_recovered_g'\n9. 'starting_fract_mass_soil_g'\n10. 'mass_proportion_recovered'\n11. 'recovery'\n12. 'C_perc'\n13. 'N_perc'\n14. 'rerun'\n15. 'frac_notes'\n16. 'accept'\n17. 'BPCA_Run'\n18. 'BPCA_Run2'\n19. '240_nm_PA'\n20. '216_nm_PA'\n21. 'BPCA_rep1_notes'\n22. '240_nm_PA_dupe'\n23. '216_nm_PA_dupe'\n24. 'BPCA_rep2_notes'\n25. 'blank1_240_nm_PA'\n26. 'blank1_216_nm_PA'\n27. 'blank2_240_nm_PA'\n28. 'blank2_216_nm_PA'\n29. 'PA_240_nm'\n30. 'PA_216_nm'\n31. 'conc_240'\n32. 'conc_216'\n33. 'blank_conc_240'\n34. 'blank_conc_216'\n35. 'conc_avg'\n36. 'bpca_starting_mass_mg'\n\n\n",
            "text/latex": "\\begin{enumerate*}\n\\item 'V1'\n\\item 'site'\n\\item 'Depth'\n\\item 'fraction'\n\\item 'burn\\_severity'\n\\item 'depth\\_upper\\_cm'\n\\item 'depth\\_lower\\_cm'\n\\item 'fractionation\\_mass\\_recovered\\_g'\n\\item 'starting\\_fract\\_mass\\_soil\\_g'\n\\item 'mass\\_proportion\\_recovered'\n\\item 'recovery'\n\\item 'C\\_perc'\n\\item 'N\\_perc'\n\\item 'rerun'\n\\item 'frac\\_notes'\n\\item 'accept'\n\\item 'BPCA\\_Run'\n\\item 'BPCA\\_Run2'\n\\item '240\\_nm\\_PA'\n\\item '216\\_nm\\_PA'\n\\item 'BPCA\\_rep1\\_notes'\n\\item '240\\_nm\\_PA\\_dupe'\n\\item '216\\_nm\\_PA\\_dupe'\n\\item 'BPCA\\_rep2\\_notes'\n\\item 'blank1\\_240\\_nm\\_PA'\n\\item 'blank1\\_216\\_nm\\_PA'\n\\item 'blank2\\_240\\_nm\\_PA'\n\\item 'blank2\\_216\\_nm\\_PA'\n\\item 'PA\\_240\\_nm'\n\\item 'PA\\_216\\_nm'\n\\item 'conc\\_240'\n\\item 'conc\\_216'\n\\item 'blank\\_conc\\_240'\n\\item 'blank\\_conc\\_216'\n\\item 'conc\\_avg'\n\\item 'bpca\\_starting\\_mass\\_mg'\n\\end{enumerate*}\n",
            "text/plain": [
              " [1] \"V1\"                             \"site\"                          \n",
              " [3] \"Depth\"                          \"fraction\"                      \n",
              " [5] \"burn_severity\"                  \"depth_upper_cm\"                \n",
              " [7] \"depth_lower_cm\"                 \"fractionation_mass_recovered_g\"\n",
              " [9] \"starting_fract_mass_soil_g\"     \"mass_proportion_recovered\"     \n",
              "[11] \"recovery\"                       \"C_perc\"                        \n",
              "[13] \"N_perc\"                         \"rerun\"                         \n",
              "[15] \"frac_notes\"                     \"accept\"                        \n",
              "[17] \"BPCA_Run\"                       \"BPCA_Run2\"                     \n",
              "[19] \"240_nm_PA\"                      \"216_nm_PA\"                     \n",
              "[21] \"BPCA_rep1_notes\"                \"240_nm_PA_dupe\"                \n",
              "[23] \"216_nm_PA_dupe\"                 \"BPCA_rep2_notes\"               \n",
              "[25] \"blank1_240_nm_PA\"               \"blank1_216_nm_PA\"              \n",
              "[27] \"blank2_240_nm_PA\"               \"blank2_216_nm_PA\"              \n",
              "[29] \"PA_240_nm\"                      \"PA_216_nm\"                     \n",
              "[31] \"conc_240\"                       \"conc_216\"                      \n",
              "[33] \"blank_conc_240\"                 \"blank_conc_216\"                \n",
              "[35] \"conc_avg\"                       \"bpca_starting_mass_mg\"         "
            ]
          },
          "metadata": {}
        }
      ]
    },
    {
      "cell_type": "code",
      "source": [
        "LF_stoic_dt$Depth %>% unique\n"
      ],
      "metadata": {
        "colab": {
          "base_uri": "https://localhost:8080/",
          "height": 34
        },
        "id": "PLlK_CLTgQdt",
        "outputId": "89f6a39f-37dd-44c6-b760-39b9b5d6e41c"
      },
      "execution_count": 23,
      "outputs": [
        {
          "output_type": "display_data",
          "data": {
            "text/html": [
              "<style>\n",
              ".list-inline {list-style: none; margin:0; padding: 0}\n",
              ".list-inline>li {display: inline-block}\n",
              ".list-inline>li:not(:last-child)::after {content: \"\\00b7\"; padding: 0 .5ex}\n",
              "</style>\n",
              "<ol class=list-inline><li>'0-5'</li><li>'20-Oct'</li><li>'20-30'</li><li>'10-May'</li><li>NA</li><li>'30-Oct'</li></ol>\n"
            ],
            "text/markdown": "1. '0-5'\n2. '20-Oct'\n3. '20-30'\n4. '10-May'\n5. NA\n6. '30-Oct'\n\n\n",
            "text/latex": "\\begin{enumerate*}\n\\item '0-5'\n\\item '20-Oct'\n\\item '20-30'\n\\item '10-May'\n\\item NA\n\\item '30-Oct'\n\\end{enumerate*}\n",
            "text/plain": [
              "[1] \"0-5\"    \"20-Oct\" \"20-30\"  \"10-May\" NA       \"30-Oct\""
            ]
          },
          "metadata": {}
        }
      ]
    },
    {
      "cell_type": "code",
      "source": [
        "date_to_depth <- data.table(\n",
        "  date = c(\"0-5\", \"20-Oct\", \"20-30\", \"10-May\",NA,\"30-Oct\"),\n",
        "  depth = c(\"0-5 cm\", \"5-10 cm\", \"20-30 cm\", \"10-20 cm\",NA, \"10-30 cm\"))\n",
        "\n",
        "LF_stoic_dt[, Depth := date_to_depth[Depth, on = \"date\", depth]]\n",
        "\n",
        "  unique(LF_stoic_dt$Depth)"
      ],
      "metadata": {
        "colab": {
          "base_uri": "https://localhost:8080/",
          "height": 34
        },
        "id": "Q_aDejSohVgL",
        "outputId": "6e2adeaf-efe2-4e2e-d846-35a1107b43e8"
      },
      "execution_count": 52,
      "outputs": [
        {
          "output_type": "display_data",
          "data": {
            "text/html": [
              "<style>\n",
              ".list-inline {list-style: none; margin:0; padding: 0}\n",
              ".list-inline>li {display: inline-block}\n",
              ".list-inline>li:not(:last-child)::after {content: \"\\00b7\"; padding: 0 .5ex}\n",
              "</style>\n",
              "<ol class=list-inline><li>'0-5 cm'</li><li>'5-10 cm'</li><li>'20-30 cm'</li><li>'10-20 cm'</li><li>NA</li><li>'10-30 cm'</li></ol>\n"
            ],
            "text/markdown": "1. '0-5 cm'\n2. '5-10 cm'\n3. '20-30 cm'\n4. '10-20 cm'\n5. NA\n6. '10-30 cm'\n\n\n",
            "text/latex": "\\begin{enumerate*}\n\\item '0-5 cm'\n\\item '5-10 cm'\n\\item '20-30 cm'\n\\item '10-20 cm'\n\\item NA\n\\item '10-30 cm'\n\\end{enumerate*}\n",
            "text/plain": [
              "[1] \"0-5 cm\"   \"5-10 cm\"  \"20-30 cm\" \"10-20 cm\" NA         \"10-30 cm\""
            ]
          },
          "metadata": {}
        }
      ]
    },
    {
      "cell_type": "code",
      "source": [
        "LF_stoic_dt %>% head"
      ],
      "metadata": {
        "colab": {
          "base_uri": "https://localhost:8080/",
          "height": 306
        },
        "id": "j4yB1qSUfYbQ",
        "outputId": "32b76bbb-a645-496b-f1b9-01b6f6ff4c76"
      },
      "execution_count": 25,
      "outputs": [
        {
          "output_type": "display_data",
          "data": {
            "text/html": [
              "<table class=\"dataframe\">\n",
              "<caption>A data.table: 6 × 36</caption>\n",
              "<thead>\n",
              "\t<tr><th scope=col>V1</th><th scope=col>site</th><th scope=col>Depth</th><th scope=col>fraction</th><th scope=col>burn_severity</th><th scope=col>depth_upper_cm</th><th scope=col>depth_lower_cm</th><th scope=col>fractionation_mass_recovered_g</th><th scope=col>starting_fract_mass_soil_g</th><th scope=col>mass_proportion_recovered</th><th scope=col>⋯</th><th scope=col>blank2_240_nm_PA</th><th scope=col>blank2_216_nm_PA</th><th scope=col>PA_240_nm</th><th scope=col>PA_216_nm</th><th scope=col>conc_240</th><th scope=col>conc_216</th><th scope=col>blank_conc_240</th><th scope=col>blank_conc_216</th><th scope=col>conc_avg</th><th scope=col>bpca_starting_mass_mg</th></tr>\n",
              "\t<tr><th scope=col>&lt;int&gt;</th><th scope=col>&lt;chr&gt;</th><th scope=col>&lt;chr&gt;</th><th scope=col>&lt;chr&gt;</th><th scope=col>&lt;chr&gt;</th><th scope=col>&lt;chr&gt;</th><th scope=col>&lt;chr&gt;</th><th scope=col>&lt;dbl&gt;</th><th scope=col>&lt;int&gt;</th><th scope=col>&lt;dbl&gt;</th><th scope=col>⋯</th><th scope=col>&lt;int&gt;</th><th scope=col>&lt;int&gt;</th><th scope=col>&lt;int&gt;</th><th scope=col>&lt;int&gt;</th><th scope=col>&lt;dbl&gt;</th><th scope=col>&lt;dbl&gt;</th><th scope=col>&lt;dbl&gt;</th><th scope=col>&lt;dbl&gt;</th><th scope=col>&lt;dbl&gt;</th><th scope=col>&lt;dbl&gt;</th></tr>\n",
              "</thead>\n",
              "<tbody>\n",
              "\t<tr><td>1</td><td>CH1</td><td>0-5 </td><td>BULK</td><td>control</td><td>0 </td><td>5 </td><td>   NA</td><td>NA</td><td>   NA</td><td>⋯</td><td>NA</td><td>NA</td><td>     NA</td><td>      NA</td><td>        NA</td><td>        NA</td><td>        NA</td><td>        NA</td><td>        NA</td><td>   NA</td></tr>\n",
              "\t<tr><td>2</td><td>CH1</td><td>0-5 </td><td>HF  </td><td>control</td><td>0 </td><td>5 </td><td>22.88</td><td>30</td><td>0.763</td><td>⋯</td><td>NA</td><td>NA</td><td>     NA</td><td>      NA</td><td>        NA</td><td>        NA</td><td>        NA</td><td>        NA</td><td>        NA</td><td>   NA</td></tr>\n",
              "\t<tr><td>3</td><td>CH1</td><td>0-5 </td><td>LF  </td><td>control</td><td>0 </td><td>5 </td><td> 6.44</td><td>30</td><td>0.215</td><td>⋯</td><td>NA</td><td>NA</td><td>1554221</td><td>42392019</td><td>0.04890718</td><td>0.05259535</td><td>0.02682928</td><td>0.01878626</td><td>0.05075127</td><td>3.961</td></tr>\n",
              "\t<tr><td>4</td><td>CH1</td><td>5-10</td><td>BULK</td><td>control</td><td>10</td><td>20</td><td>   NA</td><td>NA</td><td>   NA</td><td>⋯</td><td>NA</td><td>NA</td><td>     NA</td><td>      NA</td><td>        NA</td><td>        NA</td><td>        NA</td><td>        NA</td><td>        NA</td><td>   NA</td></tr>\n",
              "\t<tr><td>5</td><td>CH1</td><td>5-10</td><td>HF  </td><td>control</td><td>10</td><td>20</td><td>27.08</td><td>30</td><td>0.903</td><td>⋯</td><td>NA</td><td>NA</td><td>     NA</td><td>      NA</td><td>        NA</td><td>        NA</td><td>        NA</td><td>        NA</td><td>        NA</td><td>   NA</td></tr>\n",
              "\t<tr><td>6</td><td>CH1</td><td>5-10</td><td>LF  </td><td>control</td><td>10</td><td>20</td><td> 4.04</td><td>30</td><td>0.135</td><td>⋯</td><td>NA</td><td>NA</td><td>4136315</td><td>73584560</td><td>0.14852540</td><td>0.16005198</td><td>0.02682928</td><td>0.01878626</td><td>0.15428869</td><td>3.510</td></tr>\n",
              "</tbody>\n",
              "</table>\n"
            ],
            "text/markdown": "\nA data.table: 6 × 36\n\n| V1 &lt;int&gt; | site &lt;chr&gt; | Depth &lt;chr&gt; | fraction &lt;chr&gt; | burn_severity &lt;chr&gt; | depth_upper_cm &lt;chr&gt; | depth_lower_cm &lt;chr&gt; | fractionation_mass_recovered_g &lt;dbl&gt; | starting_fract_mass_soil_g &lt;int&gt; | mass_proportion_recovered &lt;dbl&gt; | ⋯ ⋯ | blank2_240_nm_PA &lt;int&gt; | blank2_216_nm_PA &lt;int&gt; | PA_240_nm &lt;int&gt; | PA_216_nm &lt;int&gt; | conc_240 &lt;dbl&gt; | conc_216 &lt;dbl&gt; | blank_conc_240 &lt;dbl&gt; | blank_conc_216 &lt;dbl&gt; | conc_avg &lt;dbl&gt; | bpca_starting_mass_mg &lt;dbl&gt; |\n|---|---|---|---|---|---|---|---|---|---|---|---|---|---|---|---|---|---|---|---|---|\n| 1 | CH1 | 0-5  | BULK | control | 0  | 5  |    NA | NA |    NA | ⋯ | NA | NA |      NA |       NA |         NA |         NA |         NA |         NA |         NA |    NA |\n| 2 | CH1 | 0-5  | HF   | control | 0  | 5  | 22.88 | 30 | 0.763 | ⋯ | NA | NA |      NA |       NA |         NA |         NA |         NA |         NA |         NA |    NA |\n| 3 | CH1 | 0-5  | LF   | control | 0  | 5  |  6.44 | 30 | 0.215 | ⋯ | NA | NA | 1554221 | 42392019 | 0.04890718 | 0.05259535 | 0.02682928 | 0.01878626 | 0.05075127 | 3.961 |\n| 4 | CH1 | 5-10 | BULK | control | 10 | 20 |    NA | NA |    NA | ⋯ | NA | NA |      NA |       NA |         NA |         NA |         NA |         NA |         NA |    NA |\n| 5 | CH1 | 5-10 | HF   | control | 10 | 20 | 27.08 | 30 | 0.903 | ⋯ | NA | NA |      NA |       NA |         NA |         NA |         NA |         NA |         NA |    NA |\n| 6 | CH1 | 5-10 | LF   | control | 10 | 20 |  4.04 | 30 | 0.135 | ⋯ | NA | NA | 4136315 | 73584560 | 0.14852540 | 0.16005198 | 0.02682928 | 0.01878626 | 0.15428869 | 3.510 |\n\n",
            "text/latex": "A data.table: 6 × 36\n\\begin{tabular}{lllllllllllllllllllll}\n V1 & site & Depth & fraction & burn\\_severity & depth\\_upper\\_cm & depth\\_lower\\_cm & fractionation\\_mass\\_recovered\\_g & starting\\_fract\\_mass\\_soil\\_g & mass\\_proportion\\_recovered & ⋯ & blank2\\_240\\_nm\\_PA & blank2\\_216\\_nm\\_PA & PA\\_240\\_nm & PA\\_216\\_nm & conc\\_240 & conc\\_216 & blank\\_conc\\_240 & blank\\_conc\\_216 & conc\\_avg & bpca\\_starting\\_mass\\_mg\\\\\n <int> & <chr> & <chr> & <chr> & <chr> & <chr> & <chr> & <dbl> & <int> & <dbl> & ⋯ & <int> & <int> & <int> & <int> & <dbl> & <dbl> & <dbl> & <dbl> & <dbl> & <dbl>\\\\\n\\hline\n\t 1 & CH1 & 0-5  & BULK & control & 0  & 5  &    NA & NA &    NA & ⋯ & NA & NA &      NA &       NA &         NA &         NA &         NA &         NA &         NA &    NA\\\\\n\t 2 & CH1 & 0-5  & HF   & control & 0  & 5  & 22.88 & 30 & 0.763 & ⋯ & NA & NA &      NA &       NA &         NA &         NA &         NA &         NA &         NA &    NA\\\\\n\t 3 & CH1 & 0-5  & LF   & control & 0  & 5  &  6.44 & 30 & 0.215 & ⋯ & NA & NA & 1554221 & 42392019 & 0.04890718 & 0.05259535 & 0.02682928 & 0.01878626 & 0.05075127 & 3.961\\\\\n\t 4 & CH1 & 5-10 & BULK & control & 10 & 20 &    NA & NA &    NA & ⋯ & NA & NA &      NA &       NA &         NA &         NA &         NA &         NA &         NA &    NA\\\\\n\t 5 & CH1 & 5-10 & HF   & control & 10 & 20 & 27.08 & 30 & 0.903 & ⋯ & NA & NA &      NA &       NA &         NA &         NA &         NA &         NA &         NA &    NA\\\\\n\t 6 & CH1 & 5-10 & LF   & control & 10 & 20 &  4.04 & 30 & 0.135 & ⋯ & NA & NA & 4136315 & 73584560 & 0.14852540 & 0.16005198 & 0.02682928 & 0.01878626 & 0.15428869 & 3.510\\\\\n\\end{tabular}\n",
            "text/plain": [
              "  V1 site Depth fraction burn_severity depth_upper_cm depth_lower_cm\n",
              "1 1  CH1  0-5   BULK     control       0              5             \n",
              "2 2  CH1  0-5   HF       control       0              5             \n",
              "3 3  CH1  0-5   LF       control       0              5             \n",
              "4 4  CH1  5-10  BULK     control       10             20            \n",
              "5 5  CH1  5-10  HF       control       10             20            \n",
              "6 6  CH1  5-10  LF       control       10             20            \n",
              "  fractionation_mass_recovered_g starting_fract_mass_soil_g\n",
              "1    NA                          NA                        \n",
              "2 22.88                          30                        \n",
              "3  6.44                          30                        \n",
              "4    NA                          NA                        \n",
              "5 27.08                          30                        \n",
              "6  4.04                          30                        \n",
              "  mass_proportion_recovered ⋯ blank2_240_nm_PA blank2_216_nm_PA PA_240_nm\n",
              "1    NA                     ⋯ NA               NA                    NA  \n",
              "2 0.763                     ⋯ NA               NA                    NA  \n",
              "3 0.215                     ⋯ NA               NA               1554221  \n",
              "4    NA                     ⋯ NA               NA                    NA  \n",
              "5 0.903                     ⋯ NA               NA                    NA  \n",
              "6 0.135                     ⋯ NA               NA               4136315  \n",
              "  PA_216_nm conc_240   conc_216   blank_conc_240 blank_conc_216 conc_avg  \n",
              "1       NA          NA         NA         NA             NA             NA\n",
              "2       NA          NA         NA         NA             NA             NA\n",
              "3 42392019  0.04890718 0.05259535 0.02682928     0.01878626     0.05075127\n",
              "4       NA          NA         NA         NA             NA             NA\n",
              "5       NA          NA         NA         NA             NA             NA\n",
              "6 73584560  0.14852540 0.16005198 0.02682928     0.01878626     0.15428869\n",
              "  bpca_starting_mass_mg\n",
              "1    NA                \n",
              "2    NA                \n",
              "3 3.961                \n",
              "4    NA                \n",
              "5    NA                \n",
              "6 3.510                "
            ]
          },
          "metadata": {}
        }
      ]
    },
    {
      "cell_type": "code",
      "source": [
        "LF_stoic_dt$burn_severity <- factor(LF_stoic_dt$burn_severity,\n",
        "                                    levels = c('control', 'low', 'moderate', 'high'))"
      ],
      "metadata": {
        "id": "YTstbjpBjzOy"
      },
      "execution_count": 53,
      "outputs": []
    },
    {
      "cell_type": "code",
      "source": [
        "LF_stoic_dt$Depth <- factor(LF_stoic_dt$Depth,\n",
        "                                   levels = c('0-5 cm', '5-10 cm', '10-20 cm', '20-30 cm','10-30 cm'))\n",
        "\n",
        " LF_stoic_dt$Depth %>% unique"
      ],
      "metadata": {
        "colab": {
          "base_uri": "https://localhost:8080/",
          "height": 52
        },
        "id": "bBwK93QSj9ED",
        "outputId": "f39dae00-7741-4f46-9586-de1480881491"
      },
      "execution_count": 54,
      "outputs": [
        {
          "output_type": "display_data",
          "data": {
            "text/html": [
              "<style>\n",
              ".list-inline {list-style: none; margin:0; padding: 0}\n",
              ".list-inline>li {display: inline-block}\n",
              ".list-inline>li:not(:last-child)::after {content: \"\\00b7\"; padding: 0 .5ex}\n",
              "</style>\n",
              "<ol class=list-inline><li>0-5 cm</li><li>5-10 cm</li><li>20-30 cm</li><li>10-20 cm</li><li>&lt;NA&gt;</li><li>10-30 cm</li></ol>\n",
              "\n",
              "<details>\n",
              "\t<summary style=display:list-item;cursor:pointer>\n",
              "\t\t<strong>Levels</strong>:\n",
              "\t</summary>\n",
              "\t<style>\n",
              "\t.list-inline {list-style: none; margin:0; padding: 0}\n",
              "\t.list-inline>li {display: inline-block}\n",
              "\t.list-inline>li:not(:last-child)::after {content: \"\\00b7\"; padding: 0 .5ex}\n",
              "\t</style>\n",
              "\t<ol class=list-inline><li>'0-5 cm'</li><li>'5-10 cm'</li><li>'10-20 cm'</li><li>'20-30 cm'</li><li>'10-30 cm'</li></ol>\n",
              "</details>"
            ],
            "text/markdown": "1. 0-5 cm\n2. 5-10 cm\n3. 20-30 cm\n4. 10-20 cm\n5. &lt;NA&gt;\n6. 10-30 cm\n\n\n\n**Levels**: 1. '0-5 cm'\n2. '5-10 cm'\n3. '10-20 cm'\n4. '20-30 cm'\n5. '10-30 cm'\n\n\n",
            "text/latex": "\\begin{enumerate*}\n\\item 0-5 cm\n\\item 5-10 cm\n\\item 20-30 cm\n\\item 10-20 cm\n\\item <NA>\n\\item 10-30 cm\n\\end{enumerate*}\n\n\\emph{Levels}: \\begin{enumerate*}\n\\item '0-5 cm'\n\\item '5-10 cm'\n\\item '10-20 cm'\n\\item '20-30 cm'\n\\item '10-30 cm'\n\\end{enumerate*}\n",
            "text/plain": [
              "[1] 0-5 cm   5-10 cm  20-30 cm 10-20 cm <NA>     10-30 cm\n",
              "Levels: 0-5 cm 5-10 cm 10-20 cm 20-30 cm 10-30 cm"
            ]
          },
          "metadata": {}
        }
      ]
    },
    {
      "cell_type": "code",
      "source": [
        "#LF_stoic_dt$Depth <- factor(LF_stoic_dt$Depth,\n",
        " #                                   levels = c('0-5', '5-10', '10-20', '20-30','10-30'))"
      ],
      "metadata": {
        "id": "ZpAcHpW9pbqU"
      },
      "execution_count": 42,
      "outputs": []
    },
    {
      "cell_type": "code",
      "source": [
        "LF_stoic_dt <- LF_stoic_dt[!is.na(burn_severity) & burn_severity != 'blank' & Depth != '10-30']\n",
        "\n",
        "ggplot(LF_stoic_dt, aes(x = burn_severity, y = conc_avg)) +\n",
        "  geom_boxplot() +\n",
        "  geom_point() +\n",
        "  facet_grid(. ~ Depth) +\n",
        "  xlab('Burn Severity Class') +\n",
        "  theme(axis.text.x = element_text(angle = 45, hjust = 1))"
      ],
      "metadata": {
        "colab": {
          "base_uri": "https://localhost:8080/",
          "height": 506
        },
        "id": "DBFv_Xpcjmod",
        "outputId": "11a7a8f9-4f83-472a-978a-503de74c7cf7"
      },
      "execution_count": 55,
      "outputs": [
        {
          "output_type": "stream",
          "name": "stderr",
          "text": [
            "Warning message:\n",
            "“\u001b[1m\u001b[22mRemoved 323 rows containing non-finite values (`stat_boxplot()`).”\n",
            "Warning message:\n",
            "“\u001b[1m\u001b[22mRemoved 323 rows containing missing values (`geom_point()`).”\n"
          ]
        },
        {
          "output_type": "display_data",
          "data": {
            "text/plain": [
              "plot without title"
            ],
            "image/png": "[encoded data removed]"
          },
          "metadata": {
            "image/png": {
              "width": 420,
              "height": 420
            }
          }
        }
      ]
    },
    {
      "cell_type": "code",
      "source": [
        "ggplot(LF_stoic_dt[!is.na(burn_severity) & burn_severity != 'blank' & Depth != '10-30 cm' & fraction == 'LF' & accept == \"T\",], aes(x = conc_avg)) +\n",
        "  geom_histogram() +\n",
        "  labs(x = \"Mean Concentration\", y = \"Frequency\") +\n",
        "  theme_minimal()\n"
      ],
      "metadata": {
        "colab": {
          "base_uri": "https://localhost:8080/",
          "height": 489
        },
        "id": "nQzc8QRT4XTP",
        "outputId": "9d8a24c2-266c-4f46-d709-b51dbe8d3d4f"
      },
      "execution_count": 79,
      "outputs": [
        {
          "output_type": "stream",
          "name": "stderr",
          "text": [
            "\u001b[1m\u001b[22m`stat_bin()` using `bins = 30`. Pick better value with `binwidth`.\n",
            "Warning message:\n",
            "“\u001b[1m\u001b[22mRemoved 3 rows containing non-finite values (`stat_bin()`).”\n"
          ]
        },
        {
          "output_type": "display_data",
          "data": {
            "text/plain": [
              "plot without title"
            ],
            "image/png": "[encoded data removed]"
          },
          "metadata": {
            "image/png": {
              "width": 420,
              "height": 420
            }
          }
        }
      ]
    },
    {
      "cell_type": "code",
      "source": [
        "ggplot(LF_stoic_dt, aes(x = conc_avg)) +\n",
        "  geom_histogram() +\n",
        "  labs(x = \"Mean Concentration\", y = \"Frequency\") +\n",
        "  theme_minimal()"
      ],
      "metadata": {
        "colab": {
          "base_uri": "https://localhost:8080/",
          "height": 489
        },
        "id": "P94bMrNSwPEk",
        "outputId": "2fc1c00f-1075-476d-e4b6-bfce329a3294"
      },
      "execution_count": 70,
      "outputs": [
        {
          "output_type": "stream",
          "name": "stderr",
          "text": [
            "\u001b[1m\u001b[22m`stat_bin()` using `bins = 30`. Pick better value with `binwidth`.\n",
            "Warning message:\n",
            "“\u001b[1m\u001b[22mRemoved 323 rows containing non-finite values (`stat_bin()`).”\n"
          ]
        },
        {
          "output_type": "display_data",
          "data": {
            "text/plain": [
              "plot without title"
            ],
            "image/png": "[encoded data removed]"
          },
          "metadata": {
            "image/png": {
              "width": 420,
              "height": 420
            }
          }
        }
      ]
    },
    {
      "cell_type": "code",
      "source": [
        "#LF_stoic_dt[conc_avg<0.01] %>% print\n",
        "\n",
        "LF_stoic_dt$accept %>% unique\n",
        "\n",
        "LF_stoic_dt %>% names\n"
      ],
      "metadata": {
        "colab": {
          "base_uri": "https://localhost:8080/",
          "height": 86
        },
        "id": "aOEuwCKJ0hfx",
        "outputId": "f691a3f8-c065-43b1-906a-5e656c002fc2"
      },
      "execution_count": 76,
      "outputs": [
        {
          "output_type": "display_data",
          "data": {
            "text/html": [
              "<style>\n",
              ".list-inline {list-style: none; margin:0; padding: 0}\n",
              ".list-inline>li {display: inline-block}\n",
              ".list-inline>li:not(:last-child)::after {content: \"\\00b7\"; padding: 0 .5ex}\n",
              "</style>\n",
              "<ol class=list-inline><li>'T'</li><li>'F'</li></ol>\n"
            ],
            "text/markdown": "1. 'T'\n2. 'F'\n\n\n",
            "text/latex": "\\begin{enumerate*}\n\\item 'T'\n\\item 'F'\n\\end{enumerate*}\n",
            "text/plain": [
              "[1] \"T\" \"F\""
            ]
          },
          "metadata": {}
        },
        {
          "output_type": "display_data",
          "data": {
            "text/html": [
              "<style>\n",
              ".list-inline {list-style: none; margin:0; padding: 0}\n",
              ".list-inline>li {display: inline-block}\n",
              ".list-inline>li:not(:last-child)::after {content: \"\\00b7\"; padding: 0 .5ex}\n",
              "</style>\n",
              "<ol class=list-inline><li>'V1'</li><li>'site'</li><li>'Depth'</li><li>'fraction'</li><li>'burn_severity'</li><li>'depth_upper_cm'</li><li>'depth_lower_cm'</li><li>'fractionation_mass_recovered_g'</li><li>'starting_fract_mass_soil_g'</li><li>'mass_proportion_recovered'</li><li>'recovery'</li><li>'C_perc'</li><li>'N_perc'</li><li>'rerun'</li><li>'frac_notes'</li><li>'accept'</li><li>'BPCA_Run'</li><li>'BPCA_Run2'</li><li>'240_nm_PA'</li><li>'216_nm_PA'</li><li>'BPCA_rep1_notes'</li><li>'240_nm_PA_dupe'</li><li>'216_nm_PA_dupe'</li><li>'BPCA_rep2_notes'</li><li>'blank1_240_nm_PA'</li><li>'blank1_216_nm_PA'</li><li>'blank2_240_nm_PA'</li><li>'blank2_216_nm_PA'</li><li>'PA_240_nm'</li><li>'PA_216_nm'</li><li>'conc_240'</li><li>'conc_216'</li><li>'blank_conc_240'</li><li>'blank_conc_216'</li><li>'conc_avg'</li><li>'bpca_starting_mass_mg'</li></ol>\n"
            ],
            "text/markdown": "1. 'V1'\n2. 'site'\n3. 'Depth'\n4. 'fraction'\n5. 'burn_severity'\n6. 'depth_upper_cm'\n7. 'depth_lower_cm'\n8. 'fractionation_mass_recovered_g'\n9. 'starting_fract_mass_soil_g'\n10. 'mass_proportion_recovered'\n11. 'recovery'\n12. 'C_perc'\n13. 'N_perc'\n14. 'rerun'\n15. 'frac_notes'\n16. 'accept'\n17. 'BPCA_Run'\n18. 'BPCA_Run2'\n19. '240_nm_PA'\n20. '216_nm_PA'\n21. 'BPCA_rep1_notes'\n22. '240_nm_PA_dupe'\n23. '216_nm_PA_dupe'\n24. 'BPCA_rep2_notes'\n25. 'blank1_240_nm_PA'\n26. 'blank1_216_nm_PA'\n27. 'blank2_240_nm_PA'\n28. 'blank2_216_nm_PA'\n29. 'PA_240_nm'\n30. 'PA_216_nm'\n31. 'conc_240'\n32. 'conc_216'\n33. 'blank_conc_240'\n34. 'blank_conc_216'\n35. 'conc_avg'\n36. 'bpca_starting_mass_mg'\n\n\n",
            "text/latex": "\\begin{enumerate*}\n\\item 'V1'\n\\item 'site'\n\\item 'Depth'\n\\item 'fraction'\n\\item 'burn\\_severity'\n\\item 'depth\\_upper\\_cm'\n\\item 'depth\\_lower\\_cm'\n\\item 'fractionation\\_mass\\_recovered\\_g'\n\\item 'starting\\_fract\\_mass\\_soil\\_g'\n\\item 'mass\\_proportion\\_recovered'\n\\item 'recovery'\n\\item 'C\\_perc'\n\\item 'N\\_perc'\n\\item 'rerun'\n\\item 'frac\\_notes'\n\\item 'accept'\n\\item 'BPCA\\_Run'\n\\item 'BPCA\\_Run2'\n\\item '240\\_nm\\_PA'\n\\item '216\\_nm\\_PA'\n\\item 'BPCA\\_rep1\\_notes'\n\\item '240\\_nm\\_PA\\_dupe'\n\\item '216\\_nm\\_PA\\_dupe'\n\\item 'BPCA\\_rep2\\_notes'\n\\item 'blank1\\_240\\_nm\\_PA'\n\\item 'blank1\\_216\\_nm\\_PA'\n\\item 'blank2\\_240\\_nm\\_PA'\n\\item 'blank2\\_216\\_nm\\_PA'\n\\item 'PA\\_240\\_nm'\n\\item 'PA\\_216\\_nm'\n\\item 'conc\\_240'\n\\item 'conc\\_216'\n\\item 'blank\\_conc\\_240'\n\\item 'blank\\_conc\\_216'\n\\item 'conc\\_avg'\n\\item 'bpca\\_starting\\_mass\\_mg'\n\\end{enumerate*}\n",
            "text/plain": [
              " [1] \"V1\"                             \"site\"                          \n",
              " [3] \"Depth\"                          \"fraction\"                      \n",
              " [5] \"burn_severity\"                  \"depth_upper_cm\"                \n",
              " [7] \"depth_lower_cm\"                 \"fractionation_mass_recovered_g\"\n",
              " [9] \"starting_fract_mass_soil_g\"     \"mass_proportion_recovered\"     \n",
              "[11] \"recovery\"                       \"C_perc\"                        \n",
              "[13] \"N_perc\"                         \"rerun\"                         \n",
              "[15] \"frac_notes\"                     \"accept\"                        \n",
              "[17] \"BPCA_Run\"                       \"BPCA_Run2\"                     \n",
              "[19] \"240_nm_PA\"                      \"216_nm_PA\"                     \n",
              "[21] \"BPCA_rep1_notes\"                \"240_nm_PA_dupe\"                \n",
              "[23] \"216_nm_PA_dupe\"                 \"BPCA_rep2_notes\"               \n",
              "[25] \"blank1_240_nm_PA\"               \"blank1_216_nm_PA\"              \n",
              "[27] \"blank2_240_nm_PA\"               \"blank2_216_nm_PA\"              \n",
              "[29] \"PA_240_nm\"                      \"PA_216_nm\"                     \n",
              "[31] \"conc_240\"                       \"conc_216\"                      \n",
              "[33] \"blank_conc_240\"                 \"blank_conc_216\"                \n",
              "[35] \"conc_avg\"                       \"bpca_starting_mass_mg\"         "
            ]
          },
          "metadata": {}
        }
      ]
    },
    {
      "cell_type": "code",
      "source": [
        "means_data <- LF_stoic_dt[!is.na(burn_severity) & burn_severity != 'blank' & Depth != '10-30 cm' & fraction == 'LF' & accept == \"T\",\n",
        "                          .(mean_conc = mean(conc_avg, na.rm = TRUE)*100),\n",
        "                          by = .(burn_severity, Depth)]\n",
        "\n",
        "ggplot(LF_stoic_dt[!is.na(burn_severity) & burn_severity != 'blank' & Depth != '10-30 cm' & fraction == 'LF' & accept == \"T\",],\n",
        "  aes(x = burn_severity, y = conc_avg*100)) +\n",
        "  geom_boxplot() +\n",
        "  geom_point(data = means_data, aes(y = mean_conc), color = \"red\", size = 2) +\n",
        "  facet_grid(. ~ Depth) +\n",
        "  ylab('Percent B6CA in POM soil fraction') +\n",
        "  xlab('Burn Severity Class') +\n",
        "  theme_bw()+\n",
        "  theme(axis.text.x = element_text(angle = 45, hjust = 1), text = element_text(size = 14))\n",
        " # scale_y_continuous(limits = c(0, NA))\n"
      ],
      "metadata": {
        "colab": {
          "base_uri": "https://localhost:8080/",
          "height": 472
        },
        "id": "e7isOB8_lQG5",
        "outputId": "b78fb7ec-f4b6-47a7-b64c-08367ed6de7e"
      },
      "execution_count": 78,
      "outputs": [
        {
          "output_type": "stream",
          "name": "stderr",
          "text": [
            "Warning message:\n",
            "“\u001b[1m\u001b[22mRemoved 3 rows containing non-finite values (`stat_boxplot()`).”\n"
          ]
        },
        {
          "output_type": "display_data",
          "data": {
            "text/plain": [
              "plot without title"
            ],
            "image/png": "[encoded data removed]"
          },
          "metadata": {
            "image/png": {
              "width": 420,
              "height": 420
            }
          }
        }
      ]
    },
    {
      "cell_type": "code",
      "source": [
        "means_data <- LF_stoic_dt[!is.na(burn_severity) & burn_severity != 'blank' & Depth != '10-30 cm',\n",
        "                          .(mean_conc = mean(conc_avg, na.rm = TRUE)*100),\n",
        "                          by = .(burn_severity)]\n",
        "\n",
        "ggplot(LF_stoic_dt, aes(x = burn_severity, y = conc_avg*100)) +\n",
        "    geom_boxplot( ) +\n",
        "    geom_point(data = means_data, aes(y = mean_conc), color = \"red\", size = 2) +\n",
        "    # facet_grid(.~.) +\n",
        "    # ylim(0,1000000)+\n",
        "    xlab('Burn Severity Class') +\n",
        "        theme(axis.text.x = element_text(angle = 45, hjust=1))"
      ],
      "metadata": {
        "colab": {
          "base_uri": "https://localhost:8080/",
          "height": 472
        },
        "id": "pXxAT18GtSsu",
        "outputId": "c8aa22a2-ee45-421e-ce64-fa658800cb2c"
      },
      "execution_count": 62,
      "outputs": [
        {
          "output_type": "stream",
          "name": "stderr",
          "text": [
            "Warning message:\n",
            "“\u001b[1m\u001b[22mRemoved 323 rows containing non-finite values (`stat_boxplot()`).”\n"
          ]
        },
        {
          "output_type": "display_data",
          "data": {
            "text/plain": [
              "plot without title"
            ],
            "image/png": "[encoded data removed]"
          },
          "metadata": {
            "image/png": {
              "width": 420,
              "height": 420
            }
          }
        }
      ]
    },
    {
      "cell_type": "code",
      "source": [
        "bpca_dt[!is.na(`Burn_severity`) &\n",
        "        Burn_severity != 'blank'  &\n",
        "        Depth != '10-30' ] %>%\n",
        "\n",
        "ggplot(aes(x = factor(Burn_severity,\n",
        "        level=c('control', 'low', 'moderate','high')),\n",
        "        y = conc_mean)) +\n",
        "    geom_boxplot( ) +\n",
        "    geom_point()+\n",
        "    # geom_smooth(method = 'lm')+\n",
        "    # facet_grid(.~.) +\n",
        "    #  ylim(0,10000000)+\n",
        "#   geom_smooth(method = 'lm')+\n",
        "    xlab('Burn Severity Class') +\n",
        "        theme(axis.text.x = element_text(angle = 45, hjust=1))"
      ],
      "metadata": {
        "id": "ppkxaDJvtW5B"
      },
      "execution_count": null,
      "outputs": []
    },
    {
      "cell_type": "code",
      "source": [
        "\n",
        "LF_stoic_dt[,Depth := factor(Depth, levels = c('0-5','5-10','10-20','20-30'))]\n",
        "LF_stoic_dt[,conc_avg := mean(c(conc_216,conc_240),na.rm=T),by=1:nrow(LF_stoic_dt)]\n",
        "\n",
        "\n",
        "\n",
        "LF_stoic_dt[!is.na(Depth)][,list(conc_avg = mean(conc_avg,na.rm=T)),by=.(site,burn_severity)] %>%\n",
        "ggplot(aes(y=conc_avg,x=burn_severity))+\n",
        "  geom_signif(aes(),comparisons = list(c(1,2),c(1,3),c(1,4)),\n",
        "            map_signif_level=TRUE,step_increase=.05) +\n",
        "    geom_boxplot(aes(group=burn_severity))\n",
        "    # facet_wrap(.~.)"
      ],
      "metadata": {
        "id": "_-azAIijtaNt"
      },
      "execution_count": null,
      "outputs": []
    },
    {
      "cell_type": "code",
      "source": [
        "LF_stoic_dt %>% names"
      ],
      "metadata": {
        "id": "kQkWRfhVsin5"
      },
      "execution_count": null,
      "outputs": []
    },
    {
      "cell_type": "code",
      "source": [
        "# LF_stoic_dt <- fread\n",
        "LF_stoic_dt[,Depth := paste0(depth_upper_cm %>% as.numeric,'-',depth_lower_cm %>% as.numeric) %>%  factor(levels= c('0-5','5-10','10-20','10-30','20-30','blank'))]"
      ],
      "metadata": {
        "id": "wzTP2w6gs7lJ"
      },
      "execution_count": null,
      "outputs": []
    },
    {
      "cell_type": "code",
      "source": [
        "LF_stoic_dt %>% names"
      ],
      "metadata": {
        "id": "bLoGTPpnXKSa"
      },
      "execution_count": null,
      "outputs": []
    },
    {
      "cell_type": "code",
      "source": [
        "# (conc_240/bpca_starting_mass_mg)*(fractionation_mass_recovered_g/starting_fract_mass_soil_g)*(C/100)\n",
        "LF_stoic_dt[,g_kg := (conc_avg/bpca_starting_mass_mg) ]\n",
        "LF_stoic_dt[,g_kg := mass_proportion_recovered/conc_avg,by=1:nrow(LF_stoic_dt)]\n",
        "LF_stoic_dt$g_kg <- (LF_stoic_dt$conc_avg/LF_stoic_dt$bpca_starting_mass_mg)\n",
        "LF_stoic_dt[!is.na(Depth)&!is.na(burn_severity),list(g_kg=mean(g_kg,na.rm = T)),by=.(burn_severity,site)] %>%\n",
        "ggplot(aes(x = burn_severity, y = g_kg)) +\n",
        "  geom_boxplot() +\n",
        "  # geom_point(aes(y=group_mean),color='red')+\n",
        "  #(bquote('Mean light fraction soil carbon content ('*mg~ 'C' ~g^-1~'soil'*')'))\n",
        "  ylab(bquote('PyC concentration ('*g~ 'B6CA'~kg^-1~' C'*')'))+\n",
        "  xlab('Soil Burn Severity Class') +\n",
        "      theme_bw()+\n",
        "      theme(text = element_text(size=15),axis.text.x = element_text(angle = 45, hjust=1)) +\n",
        "  geom_signif(aes(),comparisons = list(c(1,2),c(1,3),c(1,4)),\n",
        "            map_signif_level=TRUE,step_increase=.05) +\n",
        "  # facet_grid(.~Depth) +\n",
        "  coord_cartesian(expand=TRUE)"
      ],
      "metadata": {
        "id": "a2F5SU0Utf9A"
      },
      "execution_count": null,
      "outputs": []
    },
    {
      "cell_type": "code",
      "source": [
        "\n",
        "LF_stoic_dt$g_kg <- (LF_stoic_dt$conc_avg/LF_stoic_dt$bpca_starting_mass_mg)\n",
        "LF_stoic_dt[!is.na(Depth)&!is.na(burn_severity),list(g_kg=mean(g_kg,na.rm = T)),by=.(burn_severity,site,Depth)] %>%\n",
        "aov(g_kg ~ burn_severity, data = .) %>%\n",
        "summary()"
      ],
      "metadata": {
        "id": "7XEjT7ansZRw"
      },
      "execution_count": null,
      "outputs": []
    },
    {
      "cell_type": "code",
      "source": [
        "\n",
        "LF_stoic_dt$g_kg <- (LF_stoic_dt$conc_avg/LF_stoic_dt$bpca_starting_mass_mg)\n",
        "LF_stoic_dt[!is.na(Depth)&!is.na(burn_severity),] %>%\n",
        "ggplot(aes(x = burn_severity, y = g_kg)) +\n",
        "  geom_boxplot() +\n",
        "  # geom_point(aes(y=group_mean),color='red')+\n",
        "  #(bquote('Mean light fraction soil carbon content ('*mg~ 'C' ~g^-1~'soil'*')'))\n",
        "  ylab(bquote('PyC concentration ('*g~ 'B6CA'~kg^-1~' C'*')'))+\n",
        "  xlab('Soil Burn Severity Class') +\n",
        "      theme_bw()+\n",
        "      theme(text = element_text(size=15),axis.text.x = element_text(angle = 45, hjust=1)) +\n",
        "  geom_signif(aes(),comparisons = list(c(1,2),c(1,3),c(1,4)),\n",
        "            map_signif_level=TRUE,step_increase=.05) +\n",
        "  facet_grid(.~Depth) +\n",
        "  coord_cartesian(expand=TRUE)"
      ],
      "metadata": {
        "id": "RGkSx-oNtoCe"
      },
      "execution_count": null,
      "outputs": []
    },
    {
      "cell_type": "code",
      "source": [
        "LF_stoic_dt$g_kg <- (LF_stoic_dt$conc_avg/LF_stoic_dt$bpca_starting_mass_mg)\n",
        "LF_stoic_dt[!is.na(Depth)&!is.na(burn_severity)&fraction!='BULK',] %>%\n",
        "ggplot(aes(x = burn_severity, y = C_perc)) +\n",
        "  geom_boxplot() +\n",
        "  # geom_point(aes(y=group_mean),color='red')+\n",
        "  #(bquote('Mean light fraction soil carbon content ('*mg~ 'C' ~g^-1~'soil'*')'))\n",
        "  ylab(bquote('PyC concentration ('*g~ 'B6CA'~kg^-1~' C'*')'))+\n",
        "  xlab('Soil Burn Severity Class') +\n",
        "      theme_bw()+\n",
        "      theme(text = element_text(size=15),axis.text.x = element_text(angle = 45, hjust=1)) +\n",
        "  # geom_signif(aes(),comparisons = list(c(1,2),c(1,3),c(1,4)),\n",
        "  #           map_signif_level=TRUE,step_increase=.05) +\n",
        "  facet_grid(fraction~Depth,scales='free') +\n",
        "  coord_cartesian(expand=TRUE)"
      ],
      "metadata": {
        "id": "d2i9UhExts9d"
      },
      "execution_count": null,
      "outputs": []
    },
    {
      "cell_type": "code",
      "source": [
        "LF_stoic_dt[!is.na(Depth)&!is.na(burn_severity),][fraction !='BULK'][C_perc/N_perc <100] %>%\n",
        "ggplot(aes(x = burn_severity, y =C_N)) +\n",
        "  geom_boxplot() +\n",
        "  # geom_point(aes(y=group_mean),color='red')+\n",
        "  #(bquote('Mean light fraction soil carbon content ('*mg~ 'C' ~g^-1~'soil'*')'))\n",
        "  ylab(bquote('PyC concentration ('*g~ 'B6CA'~kg^-1~' C'*')'))+\n",
        "  xlab('Soil Burn Severity Class') +\n",
        "      theme_bw()+\n",
        "      theme(text = element_text(size=15),axis.text.x = element_text(angle = 45, hjust=1)) +\n",
        "  # geom_signif(aes(),comparisons = list(c(1,2),c(1,3),c(1,4)),\n",
        "  #           map_signif_level=TRUE,step_increase=.05) +\n",
        "  facet_grid(fraction~Depth,scales = 'free_y') +\n",
        "  coord_cartesian(expand=TRUE)"
      ],
      "metadata": {
        "id": "nOGTzIWMtxMR"
      },
      "execution_count": null,
      "outputs": []
    },
    {
      "cell_type": "code",
      "source": [
        "LF_stoic_dt[!is.na(Depth)&!is.na(burn_severity),][fraction !='BULK'][C_perc/N_perc <100] %>%\n",
        "ggplot(aes(x = burn_severity, y =C_N,group=burn_severity)) +\n",
        "  geom_boxplot() +\n",
        "  # geom_point(aes(y=group_mean),color='red')+\n",
        "  #(bquote('Mean light fraction soil carbon content ('*mg~ 'C' ~g^-1~'soil'*')'))\n",
        "  #ylab(bquote('PyC concentration ('*g~ 'B6CA'~kg^-1~' C'*')'))+\n",
        "  ylab('') +\n",
        "  xlab('Soil Burn Severity Class') +\n",
        "      theme_bw()+\n",
        "      theme(text = element_text(size=15),axis.text.x = element_text(angle = 45, hjust=1)) +\n",
        "  # geom_signif(aes(),comparisons = list(c(1,2),c(1,3),c(1,4)),\n",
        "  #           map_signif_level=TRUE,step_increase=.05) +\n",
        "  facet_grid(fraction~Depth,scales = 'free_y') +\n",
        "  coord_cartesian(expand=TRUE)"
      ],
      "metadata": {
        "id": "ebp0fgoPt0cX"
      },
      "execution_count": null,
      "outputs": []
    }
  ]
}