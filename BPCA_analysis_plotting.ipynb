{
  "nbformat": 4,
  "nbformat_minor": 0,
  "metadata": {
    "colab": {
      "provenance": [],
      "authorship_tag": "ABX9TyPl0RI0mM7TxHe0KmVmjLOl",
      "include_colab_link": true
    },
    "kernelspec": {
      "name": "ir",
      "display_name": "R"
    },
    "language_info": {
      "name": "R"
    }
  },
  "cells": [
    {
      "cell_type": "markdown",
      "metadata": {
        "id": "view-in-github",
        "colab_type": "text"
      },
      "source": [
        "<a href=\"https://colab.research.google.com/github/hayleypc/BPCA_HFF/blob/main/BPCA_analysis_plotting.ipynb\" target=\"_parent\"><img src=\"https://colab.research.google.com/assets/colab-badge.svg\" alt=\"Open In Colab\"/></a>"
      ]
    },
    {
      "cell_type": "code",
      "source": [
        "install.packages(c('data.table','ggplot2','magrittr','rstatix','plotrix','ggsignif',\"googledrive\",'openxlsx'))"
      ],
      "metadata": {
        "colab": {
          "base_uri": "https://localhost:8080/"
        },
        "id": "Weq65XrlMbXx",
        "outputId": "feb0059a-664f-44a7-96c3-ab8a3ff69cf0"
      },
      "execution_count": 3,
      "outputs": [
        {
          "output_type": "stream",
          "name": "stderr",
          "text": [
            "Installing packages into ‘/usr/local/lib/R/site-library’\n",
            "(as ‘lib’ is unspecified)\n",
            "\n",
            "also installing the dependencies ‘numDeriv’, ‘SparseM’, ‘MatrixModels’, ‘minqa’, ‘nloptr’, ‘RcppEigen’, ‘carData’, ‘abind’, ‘pbkrtest’, ‘quantreg’, ‘lme4’, ‘corrplot’, ‘car’, ‘Rcpp’\n",
            "\n",
            "\n"
          ]
        }
      ]
    },
    {
      "cell_type": "code",
      "source": [
        "library(data.table)\n",
        "library(ggplot2)\n",
        "library(magrittr)\n",
        "library(rstatix)\n",
        "library(ggsignif)\n",
        "library(plotrix)\n",
        "library(googledrive)\n",
        "library(openxlsx)"
      ],
      "metadata": {
        "colab": {
          "base_uri": "https://localhost:8080/"
        },
        "id": "sXmKHIq0MfZW",
        "outputId": "ee0afe73-0bbe-4a59-e5b2-52d56fec0d63"
      },
      "execution_count": 4,
      "outputs": [
        {
          "output_type": "stream",
          "name": "stderr",
          "text": [
            "\n",
            "Attaching package: ‘rstatix’\n",
            "\n",
            "\n",
            "The following object is masked from ‘package:stats’:\n",
            "\n",
            "    filter\n",
            "\n",
            "\n"
          ]
        }
      ]
    },
    {
      "cell_type": "code",
      "source": [
        "drive_auth(use_oob = TRUE, cache = FALSE)"
      ],
      "metadata": {
        "colab": {
          "base_uri": "https://localhost:8080/"
        },
        "id": "ClsFSfbxMkft",
        "outputId": "1f6afac9-d8cd-438e-ba00-24f4293e2828"
      },
      "execution_count": 5,
      "outputs": [
        {
          "output_type": "stream",
          "name": "stderr",
          "text": [
            "Please point your browser to the following url: \n",
            "\n",
            "https://accounts.google.com/o/oauth2/v2/auth?client_id=603366585132-frjlouoa3s2ono25d2l9ukvhlsrlnr7k.apps.googleusercontent.com&scope=https%3A%2F%2Fwww.googleapis.com%2Fauth%2Fdrive%20https%3A%2F%2Fwww.googleapis.com%2Fauth%2Fuserinfo.email&redirect_uri=https%3A%2F%2Fwww.tidyverse.org%2Fgoogle-callback%2F&response_type=code&state=bf481dc2501a8c4e362c857eb8d19670&access_type=offline&prompt=consent\n",
            "\n"
          ]
        },
        {
          "name": "stdout",
          "output_type": "stream",
          "text": [
            "Enter authorization code: eyJjb2RlIjoiNC8wQWZKb2hYbGlDeXl0UjVLQzhYMWY2Zl8xd1RMYkJ6d1Zoa1cyd1p4NGI3bDRaV0dBMDBhbHdheFpzSDNEay0yS21TaGs1QSIsInN0YXRlIjoiYmY0ODFkYzI1MDFhOGM0ZTM2MmM4NTdlYjhkMTk2NzAifQ==\n"
          ]
        }
      ]
    },
    {
      "cell_type": "code",
      "source": [
        "\n",
        "# https://drive.google.com/file/d/1HlTOdV5IfKyUPac13dOoKbng7VKLvqVv/view?usp=drive_link\n",
        "drive_download(file = as_id('1HlTOdV5IfKyUPac13dOoKbng7VKLvqVv'), path = '/content/firehistory_region_intersect.gpkg', overwrite = TRUE)"
      ],
      "metadata": {
        "colab": {
          "base_uri": "https://localhost:8080/"
        },
        "id": "bFo_f73jm8ue",
        "outputId": "a759b990-ee53-43d1-a93a-2af375e0d292"
      },
      "execution_count": 7,
      "outputs": [
        {
          "output_type": "stream",
          "name": "stderr",
          "text": [
            "File downloaded:\n",
            "\n",
            "• \u001b[36mfirehistory_region_intersect.gpkg\u001b[39m \u001b[90m<id: 1HlTOdV5IfKyUPac13dOoKbng7VKLvqVv>\u001b[39m\n",
            "\n",
            "Saved locally as:\n",
            "\n",
            "• \u001b[34m/content/firehistory_region_intersect.gpkg\u001b[39m\n",
            "\n"
          ]
        }
      ]
    },
    {
      "cell_type": "code",
      "source": [
        "# Coarse Woody Debris\n",
        "# https://drive.google.com/file/d/1pXM6XIxxWL_Lsqyms1jtuuFcEHCjyLF0/view?usp=drive_link\n",
        "drive_download(file = as_id('1pXM6XIxxWL_Lsqyms1jtuuFcEHCjyLF0'), path = '/content/cwd_rate_table.csv', overwrite = TRUE)"
      ],
      "metadata": {
        "colab": {
          "base_uri": "https://localhost:8080/"
        },
        "id": "ahkDEkfQMlJt",
        "outputId": "43f5a592-cba1-4c71-926e-f3d979e2f745"
      },
      "execution_count": 8,
      "outputs": [
        {
          "output_type": "stream",
          "name": "stderr",
          "text": [
            "File downloaded:\n",
            "\n",
            "• \u001b[36mcwd_rate_table.csv\u001b[39m \u001b[90m<id: 1pXM6XIxxWL_Lsqyms1jtuuFcEHCjyLF0>\u001b[39m\n",
            "\n",
            "Saved locally as:\n",
            "\n",
            "• \u001b[34m/content/cwd_rate_table.csv\u001b[39m\n",
            "\n"
          ]
        }
      ]
    },
    {
      "cell_type": "code",
      "source": [
        "# LF fractionation\n",
        "file_id <- (drive_ls(path = as_id('1zi4l899vHE0cXpNpOkbafP3cmdkXhwKm')) %>% data.table)[name == 'full_bpca_exp_dt.csv']$id\n",
        "\n",
        "drive_download(file = as_id(file_id), path = '/content/full_bpca_exp_dt.csv', overwrite = TRUE)"
      ],
      "metadata": {
        "colab": {
          "base_uri": "https://localhost:8080/"
        },
        "id": "Om9VDXVoOX1G",
        "outputId": "9fb4e710-a19e-4c58-d059-0863e33b8745"
      },
      "execution_count": 23,
      "outputs": [
        {
          "output_type": "stream",
          "name": "stderr",
          "text": [
            "File downloaded:\n",
            "\n",
            "• \u001b[36mfull_bpca_exp_dt.csv\u001b[39m \u001b[90m<id: 1664xblDUK5yG4zzhhXXomgwK-wR6p31b>\u001b[39m\n",
            "\n",
            "Saved locally as:\n",
            "\n",
            "• \u001b[34m/content/full_bpca_exp_dt.csv\u001b[39m\n",
            "\n"
          ]
        }
      ]
    },
    {
      "cell_type": "code",
      "source": [
        "# BPCA Standards\n",
        "file_id <- (drive_ls(path = as_id('1zi4l899vHE0cXpNpOkbafP3cmdkXhwKm')) %>% data.table)[name == 'standards.csv']$id\n",
        "\n",
        "drive_download(file = as_id(file_id), path = '/content/standards.csv', overwrite = TRUE)"
      ],
      "metadata": {
        "colab": {
          "base_uri": "https://localhost:8080/"
        },
        "id": "aJPaxL93BJzs",
        "outputId": "2f716b1f-dad4-4e7b-d17b-3329d621cf51"
      },
      "execution_count": 10,
      "outputs": [
        {
          "output_type": "stream",
          "name": "stderr",
          "text": [
            "File downloaded:\n",
            "\n",
            "• \u001b[36mstandards.csv\u001b[39m \u001b[90m<id: 1zNR-qpUKPnO6OpArQYuuweoMG505F7pw>\u001b[39m\n",
            "\n",
            "Saved locally as:\n",
            "\n",
            "• \u001b[34m/content/standards.csv\u001b[39m\n",
            "\n"
          ]
        }
      ]
    },
    {
      "cell_type": "code",
      "source": [
        "# Site level data\n",
        "#https://drive.google.com/file/d/1jl5hrmDSY_4Fw6C7y0tXifYITMI7EzIh/view?usp=drive_link\n",
        "\n",
        "file_id <- (drive_ls(path = as_id('1zi4l899vHE0cXpNpOkbafP3cmdkXhwKm')) %>% data.table)[name == '2023_01_07_HFF_site_level.csv']$id\n",
        "\n",
        "drive_download(file = as_id(file_id), path = '/content/2023_01_07_HFF_site_level.csv', overwrite = TRUE)"
      ],
      "metadata": {
        "colab": {
          "base_uri": "https://localhost:8080/"
        },
        "id": "XeP8XlrOpKVJ",
        "outputId": "8e9e3779-5ad3-4b3c-9452-20b06e1ab2c0"
      },
      "execution_count": 178,
      "outputs": [
        {
          "output_type": "stream",
          "name": "stderr",
          "text": [
            "File downloaded:\n",
            "\n",
            "• \u001b[36m2023_01_07_HFF_site_level.csv\u001b[39m \u001b[90m<id: 1jl5hrmDSY_4Fw6C7y0tXifYITMI7EzIh>\u001b[39m\n",
            "\n",
            "Saved locally as:\n",
            "\n",
            "• \u001b[34m/content/2023_01_07_HFF_site_level.csv\u001b[39m\n",
            "\n"
          ]
        }
      ]
    },
    {
      "cell_type": "code",
      "source": [
        "# Bulk Density\n",
        "\n",
        "#https://drive.google.com/file/d/1qc7PMNOWeV-XAByKg157Ztvtnxj_7D35/view?usp=drive_link\n",
        "\n",
        "file_id <- (drive_ls(path = as_id('1zi4l899vHE0cXpNpOkbafP3cmdkXhwKm')) %>% data.table)[name == 'HFF_soil_Db.csv']$id\n",
        "\n",
        "drive_download(file = as_id(file_id), path = '/content/HFF_soil_Db.csv', overwrite = TRUE)"
      ],
      "metadata": {
        "colab": {
          "base_uri": "https://localhost:8080/"
        },
        "id": "8vRKdHR3pSgY",
        "outputId": "cd06a0a0-fe0c-4784-b448-e24362bd1f26"
      },
      "execution_count": 179,
      "outputs": [
        {
          "output_type": "stream",
          "name": "stderr",
          "text": [
            "File downloaded:\n",
            "\n",
            "• \u001b[36mHFF_soil_Db.csv\u001b[39m \u001b[90m<id: 1qc7PMNOWeV-XAByKg157Ztvtnxj_7D35>\u001b[39m\n",
            "\n",
            "Saved locally as:\n",
            "\n",
            "• \u001b[34m/content/HFF_soil_Db.csv\u001b[39m\n",
            "\n"
          ]
        }
      ]
    },
    {
      "cell_type": "code",
      "source": [
        "cwd_rate_table <- fread('/content/cwd_rate_table.csv')"
      ],
      "metadata": {
        "id": "wdlrkZFRUFmw"
      },
      "execution_count": 346,
      "outputs": []
    },
    {
      "cell_type": "code",
      "source": [
        "full_bpca_exp_dt <- fread('/content/full_bpca_exp_dt.csv')"
      ],
      "metadata": {
        "id": "VVnqOiigBjOz"
      },
      "execution_count": 347,
      "outputs": []
    },
    {
      "cell_type": "code",
      "source": [
        "sites_dt <- fread('/content/2023_01_07_HFF_site_level.csv')"
      ],
      "metadata": {
        "id": "2Ro2RRpAvAPq"
      },
      "execution_count": 348,
      "outputs": []
    },
    {
      "cell_type": "code",
      "source": [
        "stocks_dt <- fread('/content/HFF_soil_Db.csv')"
      ],
      "metadata": {
        "id": "0TZ9XzBIu_-9"
      },
      "execution_count": 349,
      "outputs": []
    },
    {
      "cell_type": "code",
      "source": [
        "full_bpca_exp_dt$V1 <- NULL"
      ],
      "metadata": {
        "id": "mevCy7BOBnFi"
      },
      "execution_count": 350,
      "outputs": []
    },
    {
      "cell_type": "code",
      "source": [
        "cwd_rate_table$V1 <- NULL\n",
        "names(cwd_rate_table)[1] <- 'SITE'"
      ],
      "metadata": {
        "id": "1zuu058563lh"
      },
      "execution_count": 351,
      "outputs": []
    },
    {
      "cell_type": "code",
      "source": [
        "full_bpca_exp_dt <- merge(full_bpca_exp_dt,stocks_dt[,c('SITE','DEPTH','BULKD')],by=c('SITE','DEPTH'))"
      ],
      "metadata": {
        "id": "6uZoDv2I1QIO"
      },
      "execution_count": 352,
      "outputs": []
    },
    {
      "cell_type": "code",
      "source": [
        "full_bpca_exp_dt <- merge(full_bpca_exp_dt,cwd_rate_table,by=c('SITE'))"
      ],
      "metadata": {
        "id": "tRUuxZbHFXnR"
      },
      "execution_count": 354,
      "outputs": []
    },
    {
      "cell_type": "code",
      "source": [
        "full_bpca_exp_dt$FRACTION <- full_bpca_exp_dt$FRACTION  %>% factor(levels = c('LF','HF','BULK'))\n",
        "full_bpca_exp_dt$DEPTH <- full_bpca_exp_dt$DEPTH  %>% factor(levels = c('0-5','5-10','10-20','20-30'))\n",
        "full_bpca_exp_dt$BURN_SEVERITY <- full_bpca_exp_dt$BURN_SEVERITY  %>% factor(levels = c('control','low','moderate','high'))"
      ],
      "metadata": {
        "id": "1Hb0yGktGAZs"
      },
      "execution_count": 355,
      "outputs": []
    },
    {
      "cell_type": "code",
      "source": [
        "full_bpca_exp_dt %>% names"
      ],
      "metadata": {
        "colab": {
          "base_uri": "https://localhost:8080/",
          "height": 86
        },
        "id": "CxJVXXC5FqoL",
        "outputId": "ef18d8be-ad47-4f2b-db65-455646a31c94"
      },
      "execution_count": 373,
      "outputs": [
        {
          "output_type": "display_data",
          "data": {
            "text/html": [
              "<style>\n",
              ".list-inline {list-style: none; margin:0; padding: 0}\n",
              ".list-inline>li {display: inline-block}\n",
              ".list-inline>li:not(:last-child)::after {content: \"\\00b7\"; padding: 0 .5ex}\n",
              "</style>\n",
              "<ol class=list-inline><li>'SITE'</li><li>'DEPTH'</li><li>'FRACTION'</li><li>'BURN_SEVERITY'</li><li>'TREATMENT'</li><li>'DEPTH_UPPER'</li><li>'DEPTH_LOWER'</li><li>'CONC_240'</li><li>'CONC_216'</li><li>'CONC_MEAN'</li><li>'PEARSONS'</li><li>'FRACTIONATION_MASS_RECOVERED_G'</li><li>'STARTING_FRACT_MASS_SOIL_G'</li><li>'MASS_PROPORTION_RECOVERED'</li><li>'RECOVERY'</li><li>'C_PERC'</li><li>'N_PERC'</li><li>'ACCEPT'</li><li>'BPCA_STARTING_MASS_MG'</li><li>'BULKD'</li><li>'decayed_mass_kg'</li><li>'total_input'</li><li>'burn_decayed_mass_kg'</li><li>'wood_input_rate'</li><li>'wood_departure_rate'</li><li>'wood_accumulation_rate'</li><li>'years_to_capacity'</li><li>'years_to_recovery'</li><li>'mg_ml_bpca'</li><li>'g_kg_bpca_lf'</li><li>'per_bpca_carb_lf'</li><li>'C_N'</li><li>'carbon_stock'</li><li>'exp_group'</li></ol>\n"
            ],
            "text/markdown": "1. 'SITE'\n2. 'DEPTH'\n3. 'FRACTION'\n4. 'BURN_SEVERITY'\n5. 'TREATMENT'\n6. 'DEPTH_UPPER'\n7. 'DEPTH_LOWER'\n8. 'CONC_240'\n9. 'CONC_216'\n10. 'CONC_MEAN'\n11. 'PEARSONS'\n12. 'FRACTIONATION_MASS_RECOVERED_G'\n13. 'STARTING_FRACT_MASS_SOIL_G'\n14. 'MASS_PROPORTION_RECOVERED'\n15. 'RECOVERY'\n16. 'C_PERC'\n17. 'N_PERC'\n18. 'ACCEPT'\n19. 'BPCA_STARTING_MASS_MG'\n20. 'BULKD'\n21. 'decayed_mass_kg'\n22. 'total_input'\n23. 'burn_decayed_mass_kg'\n24. 'wood_input_rate'\n25. 'wood_departure_rate'\n26. 'wood_accumulation_rate'\n27. 'years_to_capacity'\n28. 'years_to_recovery'\n29. 'mg_ml_bpca'\n30. 'g_kg_bpca_lf'\n31. 'per_bpca_carb_lf'\n32. 'C_N'\n33. 'carbon_stock'\n34. 'exp_group'\n\n\n",
            "text/latex": "\\begin{enumerate*}\n\\item 'SITE'\n\\item 'DEPTH'\n\\item 'FRACTION'\n\\item 'BURN\\_SEVERITY'\n\\item 'TREATMENT'\n\\item 'DEPTH\\_UPPER'\n\\item 'DEPTH\\_LOWER'\n\\item 'CONC\\_240'\n\\item 'CONC\\_216'\n\\item 'CONC\\_MEAN'\n\\item 'PEARSONS'\n\\item 'FRACTIONATION\\_MASS\\_RECOVERED\\_G'\n\\item 'STARTING\\_FRACT\\_MASS\\_SOIL\\_G'\n\\item 'MASS\\_PROPORTION\\_RECOVERED'\n\\item 'RECOVERY'\n\\item 'C\\_PERC'\n\\item 'N\\_PERC'\n\\item 'ACCEPT'\n\\item 'BPCA\\_STARTING\\_MASS\\_MG'\n\\item 'BULKD'\n\\item 'decayed\\_mass\\_kg'\n\\item 'total\\_input'\n\\item 'burn\\_decayed\\_mass\\_kg'\n\\item 'wood\\_input\\_rate'\n\\item 'wood\\_departure\\_rate'\n\\item 'wood\\_accumulation\\_rate'\n\\item 'years\\_to\\_capacity'\n\\item 'years\\_to\\_recovery'\n\\item 'mg\\_ml\\_bpca'\n\\item 'g\\_kg\\_bpca\\_lf'\n\\item 'per\\_bpca\\_carb\\_lf'\n\\item 'C\\_N'\n\\item 'carbon\\_stock'\n\\item 'exp\\_group'\n\\end{enumerate*}\n",
            "text/plain": [
              " [1] \"SITE\"                           \"DEPTH\"                         \n",
              " [3] \"FRACTION\"                       \"BURN_SEVERITY\"                 \n",
              " [5] \"TREATMENT\"                      \"DEPTH_UPPER\"                   \n",
              " [7] \"DEPTH_LOWER\"                    \"CONC_240\"                      \n",
              " [9] \"CONC_216\"                       \"CONC_MEAN\"                     \n",
              "[11] \"PEARSONS\"                       \"FRACTIONATION_MASS_RECOVERED_G\"\n",
              "[13] \"STARTING_FRACT_MASS_SOIL_G\"     \"MASS_PROPORTION_RECOVERED\"     \n",
              "[15] \"RECOVERY\"                       \"C_PERC\"                        \n",
              "[17] \"N_PERC\"                         \"ACCEPT\"                        \n",
              "[19] \"BPCA_STARTING_MASS_MG\"          \"BULKD\"                         \n",
              "[21] \"decayed_mass_kg\"                \"total_input\"                   \n",
              "[23] \"burn_decayed_mass_kg\"           \"wood_input_rate\"               \n",
              "[25] \"wood_departure_rate\"            \"wood_accumulation_rate\"        \n",
              "[27] \"years_to_capacity\"              \"years_to_recovery\"             \n",
              "[29] \"mg_ml_bpca\"                     \"g_kg_bpca_lf\"                  \n",
              "[31] \"per_bpca_carb_lf\"               \"C_N\"                           \n",
              "[33] \"carbon_stock\"                   \"exp_group\"                     "
            ]
          },
          "metadata": {}
        }
      ]
    },
    {
      "cell_type": "code",
      "source": [
        "full_bpca_exp_dt$DEPTH_UPPER  <- full_bpca_exp_dt$DEPTH %>% paste0 %>% strsplit('-') %>% lapply(function(x){x[1]}) %>% unlist %>% as.numeric\n",
        "full_bpca_exp_dt$DEPTH_LOWER  <- full_bpca_exp_dt$DEPTH %>% paste0 %>% strsplit('-') %>% lapply(function(x){x[2]}) %>% unlist %>% as.numeric\n",
        "full_bpca_exp_dt[,mg_ml_bpca := (CONC_MEAN/BPCA_STARTING_MASS_MG) ]\n",
        "full_bpca_exp_dt[,g_kg_bpca_lf := MASS_PROPORTION_RECOVERED*mg_ml_bpca,by=1:nrow(full_bpca_exp_dt)]\n",
        "full_bpca_exp_dt[,per_bpca_carb_lf := mg_ml_bpca/(C_PERC/100),by=1:nrow(full_bpca_exp_dt)]\n",
        "full_bpca_exp_dt[,C_N := C_PERC/N_PERC,by=1:nrow(full_bpca_exp_dt)]\n",
        "full_bpca_exp_dt[,carbon_stock:= (DEPTH_LOWER %>% as.numeric - DEPTH_UPPER%>% as.numeric )*((BULKD %>% as.numeric ))*(C_PERC/100)*100]\n",
        "full_bpca_exp_dt[BURN_SEVERITY!='control',TREATMENT := 'treatment']\n",
        "full_bpca_exp_dt[BURN_SEVERITY=='control',TREATMENT := 'control']\n",
        "full_bpca_exp_dt[ ,TREATMENT := 'control']\n",
        "full_bpca_exp_dt[,exp_group:= SITE %>% gsub('C','',.) %>% substr(1,1)]"
      ],
      "metadata": {
        "id": "iOKJ8frbR0TT"
      },
      "execution_count": 357,
      "outputs": []
    },
    {
      "cell_type": "code",
      "source": [
        "analysis_full_bpca_exp_dt <-\n",
        "full_bpca_exp_dt[ACCEPT =='T' &!is.na(DEPTH),list(\n",
        "  CONC_MEAN=mean(CONC_MEAN,na.rm=T),\n",
        "  C_PERC=mean(C_PERC,na.rm=T),\n",
        "  N_PERC=mean(N_PERC,na.rm=T),\n",
        "  C_N = mean(C_N,na.rm=T),\n",
        "  mg_ml_bpca=mean(mg_ml_bpca,na.rm=T),\n",
        "  g_kg_bpca_lf=mean(g_kg_bpca_lf,na.rm=T),\n",
        "  per_bpca_carb_lf = mean(per_bpca_carb_lf,na.rm=T),\n",
        "  carbon_stock = mean(carbon_stock,na.rm=T),\n",
        "  MASS_PROPORTION_RECOVERED=mean(MASS_PROPORTION_RECOVERED,na.rm=T),\n",
        "  decayed_mass_kg = mean(decayed_mass_kg,na.rm=T),\n",
        "  total_input = mean(total_input,na.rm=T),\n",
        "  burn_decayed_mass_kg = mean(burn_decayed_mass_kg,na.rm=T),\n",
        "  wood_input_rate = mean(wood_input_rate,na.rm=T),\n",
        "  wood_departure_rate = mean(wood_departure_rate,na.rm=T),\n",
        "  wood_accumulation_rate = mean(wood_accumulation_rate,na.rm=T),\n",
        "  years_to_capacity = mean(years_to_capacity,na.rm=T),\n",
        "  years_to_recovery = mean(years_to_recovery,na.rm=T)\n",
        "  # 'decayed_mass_kg''total_input''burn_decayed_mass_kg''wood_input_rate''wood_departure_rate''wood_accumulation_rate''years_to_capacity''years_to_recovery\n",
        "  ),by=c('SITE','exp_group','FRACTION','DEPTH','BURN_SEVERITY','TREATMENT','DEPTH_UPPER','DEPTH_LOWER')]"
      ],
      "metadata": {
        "id": "LP2oqhBbWeYv"
      },
      "execution_count": 375,
      "outputs": []
    },
    {
      "cell_type": "code",
      "source": [
        "names(analysis_full_bpca_exp_dt)"
      ],
      "metadata": {
        "colab": {
          "base_uri": "https://localhost:8080/",
          "height": 69
        },
        "id": "R3ktogAi97mg",
        "outputId": "787abb12-0857-4c36-e83b-14390af8d67f"
      },
      "execution_count": 376,
      "outputs": [
        {
          "output_type": "display_data",
          "data": {
            "text/html": [
              "<style>\n",
              ".list-inline {list-style: none; margin:0; padding: 0}\n",
              ".list-inline>li {display: inline-block}\n",
              ".list-inline>li:not(:last-child)::after {content: \"\\00b7\"; padding: 0 .5ex}\n",
              "</style>\n",
              "<ol class=list-inline><li>'SITE'</li><li>'exp_group'</li><li>'FRACTION'</li><li>'DEPTH'</li><li>'BURN_SEVERITY'</li><li>'TREATMENT'</li><li>'DEPTH_UPPER'</li><li>'DEPTH_LOWER'</li><li>'CONC_MEAN'</li><li>'C_PERC'</li><li>'N_PERC'</li><li>'C_N'</li><li>'mg_ml_bpca'</li><li>'g_kg_bpca_lf'</li><li>'per_bpca_carb_lf'</li><li>'carbon_stock'</li><li>'MASS_PROPORTION_RECOVERED'</li><li>'decayed_mass_kg'</li><li>'total_input'</li><li>'burn_decayed_mass_kg'</li><li>'wood_input_rate'</li><li>'wood_departure_rate'</li><li>'wood_accumulation_rate'</li><li>'years_to_capacity'</li><li>'years_to_recovery'</li></ol>\n"
            ],
            "text/markdown": "1. 'SITE'\n2. 'exp_group'\n3. 'FRACTION'\n4. 'DEPTH'\n5. 'BURN_SEVERITY'\n6. 'TREATMENT'\n7. 'DEPTH_UPPER'\n8. 'DEPTH_LOWER'\n9. 'CONC_MEAN'\n10. 'C_PERC'\n11. 'N_PERC'\n12. 'C_N'\n13. 'mg_ml_bpca'\n14. 'g_kg_bpca_lf'\n15. 'per_bpca_carb_lf'\n16. 'carbon_stock'\n17. 'MASS_PROPORTION_RECOVERED'\n18. 'decayed_mass_kg'\n19. 'total_input'\n20. 'burn_decayed_mass_kg'\n21. 'wood_input_rate'\n22. 'wood_departure_rate'\n23. 'wood_accumulation_rate'\n24. 'years_to_capacity'\n25. 'years_to_recovery'\n\n\n",
            "text/latex": "\\begin{enumerate*}\n\\item 'SITE'\n\\item 'exp\\_group'\n\\item 'FRACTION'\n\\item 'DEPTH'\n\\item 'BURN\\_SEVERITY'\n\\item 'TREATMENT'\n\\item 'DEPTH\\_UPPER'\n\\item 'DEPTH\\_LOWER'\n\\item 'CONC\\_MEAN'\n\\item 'C\\_PERC'\n\\item 'N\\_PERC'\n\\item 'C\\_N'\n\\item 'mg\\_ml\\_bpca'\n\\item 'g\\_kg\\_bpca\\_lf'\n\\item 'per\\_bpca\\_carb\\_lf'\n\\item 'carbon\\_stock'\n\\item 'MASS\\_PROPORTION\\_RECOVERED'\n\\item 'decayed\\_mass\\_kg'\n\\item 'total\\_input'\n\\item 'burn\\_decayed\\_mass\\_kg'\n\\item 'wood\\_input\\_rate'\n\\item 'wood\\_departure\\_rate'\n\\item 'wood\\_accumulation\\_rate'\n\\item 'years\\_to\\_capacity'\n\\item 'years\\_to\\_recovery'\n\\end{enumerate*}\n",
            "text/plain": [
              " [1] \"SITE\"                      \"exp_group\"                \n",
              " [3] \"FRACTION\"                  \"DEPTH\"                    \n",
              " [5] \"BURN_SEVERITY\"             \"TREATMENT\"                \n",
              " [7] \"DEPTH_UPPER\"               \"DEPTH_LOWER\"              \n",
              " [9] \"CONC_MEAN\"                 \"C_PERC\"                   \n",
              "[11] \"N_PERC\"                    \"C_N\"                      \n",
              "[13] \"mg_ml_bpca\"                \"g_kg_bpca_lf\"             \n",
              "[15] \"per_bpca_carb_lf\"          \"carbon_stock\"             \n",
              "[17] \"MASS_PROPORTION_RECOVERED\" \"decayed_mass_kg\"          \n",
              "[19] \"total_input\"               \"burn_decayed_mass_kg\"     \n",
              "[21] \"wood_input_rate\"           \"wood_departure_rate\"      \n",
              "[23] \"wood_accumulation_rate\"    \"years_to_capacity\"        \n",
              "[25] \"years_to_recovery\"        "
            ]
          },
          "metadata": {}
        }
      ]
    },
    {
      "cell_type": "code",
      "source": [
        "t_tests_fractions_dt <-\n",
        "c('HF','LF','BULK') %>%\n",
        "lapply(function(frac){\n",
        "# ,'CONC_MEAN','mg_ml_bpca','g_kg_bpca_lf','per_bpca_carb_lf'\n",
        "c('C_N','C_PERC','N_PERC','carbon_stock') %>%\n",
        "lapply(function(variable){\n",
        "c('H','M','L') %>%\n",
        "lapply(function(group){\n",
        "control_dt <- analysis_full_bpca_exp_dt[exp_group ==group][BURN_SEVERITY=='control'][FRACTION == frac]\n",
        "exp_dt <- analysis_full_bpca_exp_dt[exp_group ==group][BURN_SEVERITY!='control'][FRACTION == frac]\n",
        "\n",
        "\n",
        "exp_dt$DEPTH %>% levels %>%\n",
        "lapply(function(y){\n",
        "\n",
        "# if( (length(!(control_dt[FRACTION == frac][DEPTH==y][[variable]]%>% is.na)) >2) &\n",
        "#     (length(!(exp_dt[FRACTION == frac][DEPTH==y][[variable]] %>% is.na)) >2) ){\n",
        "      # print((length(!(control_dt[FRACTION == frac][DEPTH==y][[variable]]%>% is.na)) >2))\n",
        "      # print((length(!(exp_dt[FRACTION == frac][DEPTH==y][[variable]] %>% is.na)) >2) )\n",
        "      # print(frac)\n",
        "      # print(variable)\n",
        "t_result <- t.test(control_dt[FRACTION == frac][DEPTH==y][[variable]] ,exp_dt[FRACTION == frac][DEPTH==y][[variable]] )\n",
        "data.table(fraction=frac,\n",
        "          variable=variable,\n",
        "          burn_severity = unique(exp_dt$burn_severity),\n",
        "          depth=y,p=t_result$p.value,\n",
        "          control_m = mean(control_dt[FRACTION == frac][DEPTH==y][[variable]],na.rm=T),\n",
        "          control_sd = sd(control_dt[FRACTION == frac][DEPTH==y][[variable]],na.rm=T),\n",
        "          control_n = length(control_dt[FRACTION == frac][DEPTH==y][[variable]] ),\n",
        "          exp_m = mean(exp_dt[FRACTION == frac][DEPTH==y][[variable]],na.rm=T),\n",
        "          exp_sd = sd(exp_dt[FRACTION == frac][DEPTH==y][[variable]],na.rm=T),\n",
        "          exp_n = length(exp_dt[FRACTION == frac][DEPTH==y][[variable]] ),\n",
        "          exp_group = group\n",
        "          )\n",
        "# }else(return(NULL))\n",
        "}) %>% rbindlist\n",
        "}) %>% rbindlist\n",
        "}) %>% rbindlist\n",
        "}) %>% rbindlist"
      ],
      "metadata": {
        "id": "bdUjqxg1wV8k"
      },
      "execution_count": 360,
      "outputs": []
    },
    {
      "cell_type": "code",
      "source": [
        "t_tests_bpca_dt <-\n",
        "c( 'LF') %>%\n",
        "lapply(function(frac){\n",
        "# ,'CONC_MEAN','mg_ml_bpca','g_kg_bpca_lf','per_bpca_carb_lf'\n",
        "c('CONC_MEAN','mg_ml_bpca','g_kg_bpca_lf','per_bpca_carb_lf') %>%\n",
        "lapply(function(variable){\n",
        "c('H','M','L') %>%\n",
        "lapply(function(group){\n",
        "control_dt <- analysis_full_bpca_exp_dt[exp_group ==group][BURN_SEVERITY=='control'][FRACTION == frac]\n",
        "exp_dt <- analysis_full_bpca_exp_dt[exp_group ==group][BURN_SEVERITY!='control'][FRACTION == frac]\n",
        "\n",
        "\n",
        "exp_dt$DEPTH %>% levels %>%\n",
        "lapply(function(y){\n",
        "\n",
        "# if( (length(!(control_dt[FRACTION == frac][DEPTH==y][[variable]]%>% is.na)) >2) &\n",
        "#     (length(!(exp_dt[FRACTION == frac][DEPTH==y][[variable]] %>% is.na)) >2) ){\n",
        "      # print((length(!(control_dt[FRACTION == frac][DEPTH==y][[variable]]%>% is.na)) >2))\n",
        "      # print((length(!(exp_dt[FRACTION == frac][DEPTH==y][[variable]] %>% is.na)) >2) )\n",
        "      # print(frac)\n",
        "      # print(variable)\n",
        "t_result <- t.test(control_dt[FRACTION == frac][DEPTH==y][[variable]] ,exp_dt[FRACTION == frac][DEPTH==y][[variable]] )\n",
        "data.table(fraction=frac,\n",
        "          variable=variable,\n",
        "          burn_severity = unique(exp_dt$burn_severity),\n",
        "          depth=y,p=t_result$p.value,\n",
        "          control_m = mean(control_dt[FRACTION == frac][DEPTH==y][[variable]],na.rm=T),\n",
        "          control_sd = sd(control_dt[FRACTION == frac][DEPTH==y][[variable]],na.rm=T),\n",
        "          control_n = length(control_dt[FRACTION == frac][DEPTH==y][[variable]] ),\n",
        "          exp_m = mean(exp_dt[FRACTION == frac][DEPTH==y][[variable]],na.rm=T),\n",
        "          exp_sd = sd(exp_dt[FRACTION == frac][DEPTH==y][[variable]],na.rm=T),\n",
        "          exp_n = length(exp_dt[FRACTION == frac][DEPTH==y][[variable]] ),\n",
        "          exp_group = group\n",
        "          )\n",
        "# }else(return(NULL))\n",
        "}) %>% rbindlist\n",
        "}) %>% rbindlist\n",
        "}) %>% rbindlist\n",
        "}) %>% rbindlist"
      ],
      "metadata": {
        "id": "EUWoaAKYAXDb"
      },
      "execution_count": 361,
      "outputs": []
    },
    {
      "cell_type": "code",
      "source": [
        "t_tests_dwd_dt <-\n",
        "c('BULK') %>%\n",
        "lapply(function(frac){\n",
        "# ,'CONC_MEAN','mg_ml_bpca','g_kg_bpca_lf','per_bpca_carb_lf'\n",
        "c('decayed_mass_kg','total_input','burn_decayed_mass_kg','wood_input_rate','wood_departure_rate','wood_accumulation_rate','years_to_capacity','years_to_recovery') %>%\n",
        "lapply(function(variable){\n",
        "c('H','M','L') %>%\n",
        "lapply(function(group){\n",
        "control_dt <- analysis_full_bpca_exp_dt[exp_group ==group][BURN_SEVERITY=='control'][FRACTION == frac]\n",
        "exp_dt <- analysis_full_bpca_exp_dt[exp_group ==group][BURN_SEVERITY!='control'][FRACTION == frac]\n",
        "\n",
        "\n",
        "(exp_dt$DEPTH %>% levels)[1] %>%\n",
        "lapply(function(y){\n",
        "\n",
        "# if( (length(!(control_dt[FRACTION == frac][DEPTH==y][[variable]]%>% is.na)) >2) &\n",
        "#     (length(!(exp_dt[FRACTION == frac][DEPTH==y][[variable]] %>% is.na)) >2) ){\n",
        "      # print((length(!(control_dt[FRACTION == frac][DEPTH==y][[variable]]%>% is.na)) >2))\n",
        "      # print((length(!(exp_dt[FRACTION == frac][DEPTH==y][[variable]] %>% is.na)) >2) )\n",
        "      # print(frac)\n",
        "      # print(variable)\n",
        "t_result <- t.test(control_dt[FRACTION == frac][DEPTH==y][[variable]] ,exp_dt[FRACTION == frac][DEPTH==y][[variable]] )\n",
        "data.table(fraction=frac,\n",
        "          variable=variable,\n",
        "          burn_severity = unique(exp_dt$burn_severity),\n",
        "          depth=y,p=t_result$p.value,\n",
        "          control_m = mean(control_dt[FRACTION == frac][DEPTH==y][[variable]],na.rm=T),\n",
        "          control_sd = sd(control_dt[FRACTION == frac][DEPTH==y][[variable]],na.rm=T),\n",
        "          control_n = length(control_dt[FRACTION == frac][DEPTH==y][[variable]] ),\n",
        "          exp_m = mean(exp_dt[FRACTION == frac][DEPTH==y][[variable]],na.rm=T),\n",
        "          exp_sd = sd(exp_dt[FRACTION == frac][DEPTH==y][[variable]],na.rm=T),\n",
        "          exp_n = length(exp_dt[FRACTION == frac][DEPTH==y][[variable]] ),\n",
        "          exp_group = group\n",
        "          )\n",
        "# }else(return(NULL))\n",
        "}) %>% rbindlist\n",
        "}) %>% rbindlist\n",
        "}) %>% rbindlist\n",
        "}) %>% rbindlist"
      ],
      "metadata": {
        "id": "XwgeWml-F9mN"
      },
      "execution_count": 380,
      "outputs": []
    },
    {
      "cell_type": "code",
      "source": [
        "t_tests_dwd_dt"
      ],
      "metadata": {
        "colab": {
          "base_uri": "https://localhost:8080/",
          "height": 850
        },
        "id": "ljpO0fnWG3wN",
        "outputId": "2ed135e4-264e-4d57-a8f1-a371a3440d9c"
      },
      "execution_count": 382,
      "outputs": [
        {
          "output_type": "display_data",
          "data": {
            "text/html": [
              "<table class=\"dataframe\">\n",
              "<caption>A data.table: 24 × 11</caption>\n",
              "<thead>\n",
              "\t<tr><th scope=col>fraction</th><th scope=col>variable</th><th scope=col>depth</th><th scope=col>p</th><th scope=col>control_m</th><th scope=col>control_sd</th><th scope=col>control_n</th><th scope=col>exp_m</th><th scope=col>exp_sd</th><th scope=col>exp_n</th><th scope=col>exp_group</th></tr>\n",
              "\t<tr><th scope=col>&lt;chr&gt;</th><th scope=col>&lt;chr&gt;</th><th scope=col>&lt;chr&gt;</th><th scope=col>&lt;dbl&gt;</th><th scope=col>&lt;dbl&gt;</th><th scope=col>&lt;dbl&gt;</th><th scope=col>&lt;int&gt;</th><th scope=col>&lt;dbl&gt;</th><th scope=col>&lt;dbl&gt;</th><th scope=col>&lt;int&gt;</th><th scope=col>&lt;chr&gt;</th></tr>\n",
              "</thead>\n",
              "<tbody>\n",
              "\t<tr><td>BULK</td><td>total_input           </td><td>0-5</td><td>0.03147256</td><td>17.2744723</td><td> 9.6389385</td><td>5</td><td> 3.6549369</td><td> 5.40115652</td><td>5</td><td>L</td></tr>\n",
              "\t<tr><td>BULK</td><td>wood_input_rate       </td><td>0-5</td><td>0.03496690</td><td> 0.6526469</td><td> 0.3166049</td><td>5</td><td> 0.2052226</td><td> 0.21883326</td><td>5</td><td>L</td></tr>\n",
              "\t<tr><td>BULK</td><td>burn_decayed_mass_kg  </td><td>0-5</td><td>0.03505987</td><td> 7.9907489</td><td> 5.1173596</td><td>5</td><td> 0.9037810</td><td> 0.94237035</td><td>5</td><td>L</td></tr>\n",
              "\t<tr><td>BULK</td><td>years_to_recovery     </td><td>0-5</td><td>0.03588031</td><td> 0.0000000</td><td> 0.0000000</td><td>5</td><td>19.1400956</td><td>13.76266569</td><td>5</td><td>H</td></tr>\n",
              "\t<tr><td>BULK</td><td>wood_accumulation_rate</td><td>0-5</td><td>0.03893278</td><td> 0.3782011</td><td> 0.1735129</td><td>5</td><td> 0.1374881</td><td> 0.12555380</td><td>5</td><td>L</td></tr>\n",
              "\t<tr><td>BULK</td><td>wood_departure_rate   </td><td>0-5</td><td>0.03978186</td><td> 0.2744458</td><td> 0.1543035</td><td>5</td><td> 0.0677345</td><td> 0.09523897</td><td>5</td><td>L</td></tr>\n",
              "\t<tr><td>BULK</td><td>years_to_recovery     </td><td>0-5</td><td>0.04403296</td><td> 0.4231477</td><td> 0.9250462</td><td>5</td><td> 9.9710665</td><td> 7.39246188</td><td>5</td><td>M</td></tr>\n",
              "\t<tr><td>BULK</td><td>years_to_recovery     </td><td>0-5</td><td>0.06012672</td><td> 0.0000000</td><td> 0.0000000</td><td>5</td><td> 5.6457076</td><td> 4.85777773</td><td>5</td><td>L</td></tr>\n",
              "\t<tr><td>BULK</td><td>decayed_mass_kg       </td><td>0-5</td><td>0.06293637</td><td> 7.9907489</td><td> 5.1173596</td><td>5</td><td> 2.0677433</td><td> 2.89063439</td><td>5</td><td>L</td></tr>\n",
              "\t<tr><td>BULK</td><td>years_to_capacity     </td><td>0-5</td><td>0.06448364</td><td>20.3247840</td><td> 7.6212281</td><td>5</td><td>11.0926576</td><td> 5.69056006</td><td>5</td><td>L</td></tr>\n",
              "\t<tr><td>BULK</td><td>burn_decayed_mass_kg  </td><td>0-5</td><td>0.14850514</td><td> 6.7648940</td><td> 7.7184833</td><td>5</td><td> 0.5957299</td><td> 0.59884457</td><td>5</td><td>H</td></tr>\n",
              "\t<tr><td>BULK</td><td>burn_decayed_mass_kg  </td><td>0-5</td><td>0.17175069</td><td> 7.8587053</td><td> 7.4831768</td><td>5</td><td> 2.1485254</td><td> 3.05569191</td><td>5</td><td>M</td></tr>\n",
              "\t<tr><td>BULK</td><td>total_input           </td><td>0-5</td><td>0.25276153</td><td>17.9799330</td><td>14.9395318</td><td>5</td><td> 8.3778907</td><td> 8.17379346</td><td>5</td><td>M</td></tr>\n",
              "\t<tr><td>BULK</td><td>years_to_capacity     </td><td>0-5</td><td>0.25447365</td><td>22.8249934</td><td>12.3027971</td><td>5</td><td>15.0818735</td><td> 6.01476010</td><td>5</td><td>M</td></tr>\n",
              "\t<tr><td>BULK</td><td>wood_departure_rate   </td><td>0-5</td><td>0.32680027</td><td> 0.2790273</td><td> 0.2318556</td><td>5</td><td> 0.1502283</td><td> 0.14238733</td><td>5</td><td>M</td></tr>\n",
              "\t<tr><td>BULK</td><td>years_to_capacity     </td><td>0-5</td><td>0.37388762</td><td>14.3601293</td><td> 8.4846163</td><td>5</td><td>21.7054703</td><td>14.93029133</td><td>5</td><td>H</td></tr>\n",
              "\t<tr><td>BULK</td><td>total_input           </td><td>0-5</td><td>0.40615155</td><td>15.5145154</td><td>18.0512457</td><td>5</td><td> 7.3295117</td><td> 9.78162595</td><td>5</td><td>H</td></tr>\n",
              "\t<tr><td>BULK</td><td>wood_departure_rate   </td><td>0-5</td><td>0.47369004</td><td> 0.2356114</td><td> 0.2530026</td><td>5</td><td> 0.1316726</td><td> 0.17426671</td><td>5</td><td>H</td></tr>\n",
              "\t<tr><td>BULK</td><td>decayed_mass_kg       </td><td>0-5</td><td>0.49776310</td><td> 7.3840250</td><td> 8.1291751</td><td>5</td><td> 4.2105675</td><td> 5.71684183</td><td>5</td><td>H</td></tr>\n",
              "\t<tr><td>BULK</td><td>decayed_mass_kg       </td><td>0-5</td><td>0.56679701</td><td> 8.0135940</td><td> 7.7261069</td><td>5</td><td> 5.4575227</td><td> 5.57591801</td><td>5</td><td>M</td></tr>\n",
              "\t<tr><td>BULK</td><td>wood_input_rate       </td><td>0-5</td><td>0.59405106</td><td> 0.6147571</td><td> 0.5561569</td><td>5</td><td> 0.4365661</td><td> 0.45198897</td><td>5</td><td>H</td></tr>\n",
              "\t<tr><td>BULK</td><td>wood_input_rate       </td><td>0-5</td><td>0.64292500</td><td> 0.7120789</td><td> 0.6096684</td><td>5</td><td> 0.5308145</td><td> 0.57983008</td><td>5</td><td>M</td></tr>\n",
              "\t<tr><td>BULK</td><td>wood_accumulation_rate</td><td>0-5</td><td>0.71560178</td><td> 0.3791456</td><td> 0.3060171</td><td>5</td><td> 0.3048934</td><td> 0.31584354</td><td>5</td><td>H</td></tr>\n",
              "\t<tr><td>BULK</td><td>wood_accumulation_rate</td><td>0-5</td><td>0.85194423</td><td> 0.4330516</td><td> 0.4096590</td><td>5</td><td> 0.3805861</td><td> 0.44983344</td><td>5</td><td>M</td></tr>\n",
              "</tbody>\n",
              "</table>\n"
            ],
            "text/markdown": "\nA data.table: 24 × 11\n\n| fraction &lt;chr&gt; | variable &lt;chr&gt; | depth &lt;chr&gt; | p &lt;dbl&gt; | control_m &lt;dbl&gt; | control_sd &lt;dbl&gt; | control_n &lt;int&gt; | exp_m &lt;dbl&gt; | exp_sd &lt;dbl&gt; | exp_n &lt;int&gt; | exp_group &lt;chr&gt; |\n|---|---|---|---|---|---|---|---|---|---|---|\n| BULK | total_input            | 0-5 | 0.03147256 | 17.2744723 |  9.6389385 | 5 |  3.6549369 |  5.40115652 | 5 | L |\n| BULK | wood_input_rate        | 0-5 | 0.03496690 |  0.6526469 |  0.3166049 | 5 |  0.2052226 |  0.21883326 | 5 | L |\n| BULK | burn_decayed_mass_kg   | 0-5 | 0.03505987 |  7.9907489 |  5.1173596 | 5 |  0.9037810 |  0.94237035 | 5 | L |\n| BULK | years_to_recovery      | 0-5 | 0.03588031 |  0.0000000 |  0.0000000 | 5 | 19.1400956 | 13.76266569 | 5 | H |\n| BULK | wood_accumulation_rate | 0-5 | 0.03893278 |  0.3782011 |  0.1735129 | 5 |  0.1374881 |  0.12555380 | 5 | L |\n| BULK | wood_departure_rate    | 0-5 | 0.03978186 |  0.2744458 |  0.1543035 | 5 |  0.0677345 |  0.09523897 | 5 | L |\n| BULK | years_to_recovery      | 0-5 | 0.04403296 |  0.4231477 |  0.9250462 | 5 |  9.9710665 |  7.39246188 | 5 | M |\n| BULK | years_to_recovery      | 0-5 | 0.06012672 |  0.0000000 |  0.0000000 | 5 |  5.6457076 |  4.85777773 | 5 | L |\n| BULK | decayed_mass_kg        | 0-5 | 0.06293637 |  7.9907489 |  5.1173596 | 5 |  2.0677433 |  2.89063439 | 5 | L |\n| BULK | years_to_capacity      | 0-5 | 0.06448364 | 20.3247840 |  7.6212281 | 5 | 11.0926576 |  5.69056006 | 5 | L |\n| BULK | burn_decayed_mass_kg   | 0-5 | 0.14850514 |  6.7648940 |  7.7184833 | 5 |  0.5957299 |  0.59884457 | 5 | H |\n| BULK | burn_decayed_mass_kg   | 0-5 | 0.17175069 |  7.8587053 |  7.4831768 | 5 |  2.1485254 |  3.05569191 | 5 | M |\n| BULK | total_input            | 0-5 | 0.25276153 | 17.9799330 | 14.9395318 | 5 |  8.3778907 |  8.17379346 | 5 | M |\n| BULK | years_to_capacity      | 0-5 | 0.25447365 | 22.8249934 | 12.3027971 | 5 | 15.0818735 |  6.01476010 | 5 | M |\n| BULK | wood_departure_rate    | 0-5 | 0.32680027 |  0.2790273 |  0.2318556 | 5 |  0.1502283 |  0.14238733 | 5 | M |\n| BULK | years_to_capacity      | 0-5 | 0.37388762 | 14.3601293 |  8.4846163 | 5 | 21.7054703 | 14.93029133 | 5 | H |\n| BULK | total_input            | 0-5 | 0.40615155 | 15.5145154 | 18.0512457 | 5 |  7.3295117 |  9.78162595 | 5 | H |\n| BULK | wood_departure_rate    | 0-5 | 0.47369004 |  0.2356114 |  0.2530026 | 5 |  0.1316726 |  0.17426671 | 5 | H |\n| BULK | decayed_mass_kg        | 0-5 | 0.49776310 |  7.3840250 |  8.1291751 | 5 |  4.2105675 |  5.71684183 | 5 | H |\n| BULK | decayed_mass_kg        | 0-5 | 0.56679701 |  8.0135940 |  7.7261069 | 5 |  5.4575227 |  5.57591801 | 5 | M |\n| BULK | wood_input_rate        | 0-5 | 0.59405106 |  0.6147571 |  0.5561569 | 5 |  0.4365661 |  0.45198897 | 5 | H |\n| BULK | wood_input_rate        | 0-5 | 0.64292500 |  0.7120789 |  0.6096684 | 5 |  0.5308145 |  0.57983008 | 5 | M |\n| BULK | wood_accumulation_rate | 0-5 | 0.71560178 |  0.3791456 |  0.3060171 | 5 |  0.3048934 |  0.31584354 | 5 | H |\n| BULK | wood_accumulation_rate | 0-5 | 0.85194423 |  0.4330516 |  0.4096590 | 5 |  0.3805861 |  0.44983344 | 5 | M |\n\n",
            "text/latex": "A data.table: 24 × 11\n\\begin{tabular}{lllllllllll}\n fraction & variable & depth & p & control\\_m & control\\_sd & control\\_n & exp\\_m & exp\\_sd & exp\\_n & exp\\_group\\\\\n <chr> & <chr> & <chr> & <dbl> & <dbl> & <dbl> & <int> & <dbl> & <dbl> & <int> & <chr>\\\\\n\\hline\n\t BULK & total\\_input            & 0-5 & 0.03147256 & 17.2744723 &  9.6389385 & 5 &  3.6549369 &  5.40115652 & 5 & L\\\\\n\t BULK & wood\\_input\\_rate        & 0-5 & 0.03496690 &  0.6526469 &  0.3166049 & 5 &  0.2052226 &  0.21883326 & 5 & L\\\\\n\t BULK & burn\\_decayed\\_mass\\_kg   & 0-5 & 0.03505987 &  7.9907489 &  5.1173596 & 5 &  0.9037810 &  0.94237035 & 5 & L\\\\\n\t BULK & years\\_to\\_recovery      & 0-5 & 0.03588031 &  0.0000000 &  0.0000000 & 5 & 19.1400956 & 13.76266569 & 5 & H\\\\\n\t BULK & wood\\_accumulation\\_rate & 0-5 & 0.03893278 &  0.3782011 &  0.1735129 & 5 &  0.1374881 &  0.12555380 & 5 & L\\\\\n\t BULK & wood\\_departure\\_rate    & 0-5 & 0.03978186 &  0.2744458 &  0.1543035 & 5 &  0.0677345 &  0.09523897 & 5 & L\\\\\n\t BULK & years\\_to\\_recovery      & 0-5 & 0.04403296 &  0.4231477 &  0.9250462 & 5 &  9.9710665 &  7.39246188 & 5 & M\\\\\n\t BULK & years\\_to\\_recovery      & 0-5 & 0.06012672 &  0.0000000 &  0.0000000 & 5 &  5.6457076 &  4.85777773 & 5 & L\\\\\n\t BULK & decayed\\_mass\\_kg        & 0-5 & 0.06293637 &  7.9907489 &  5.1173596 & 5 &  2.0677433 &  2.89063439 & 5 & L\\\\\n\t BULK & years\\_to\\_capacity      & 0-5 & 0.06448364 & 20.3247840 &  7.6212281 & 5 & 11.0926576 &  5.69056006 & 5 & L\\\\\n\t BULK & burn\\_decayed\\_mass\\_kg   & 0-5 & 0.14850514 &  6.7648940 &  7.7184833 & 5 &  0.5957299 &  0.59884457 & 5 & H\\\\\n\t BULK & burn\\_decayed\\_mass\\_kg   & 0-5 & 0.17175069 &  7.8587053 &  7.4831768 & 5 &  2.1485254 &  3.05569191 & 5 & M\\\\\n\t BULK & total\\_input            & 0-5 & 0.25276153 & 17.9799330 & 14.9395318 & 5 &  8.3778907 &  8.17379346 & 5 & M\\\\\n\t BULK & years\\_to\\_capacity      & 0-5 & 0.25447365 & 22.8249934 & 12.3027971 & 5 & 15.0818735 &  6.01476010 & 5 & M\\\\\n\t BULK & wood\\_departure\\_rate    & 0-5 & 0.32680027 &  0.2790273 &  0.2318556 & 5 &  0.1502283 &  0.14238733 & 5 & M\\\\\n\t BULK & years\\_to\\_capacity      & 0-5 & 0.37388762 & 14.3601293 &  8.4846163 & 5 & 21.7054703 & 14.93029133 & 5 & H\\\\\n\t BULK & total\\_input            & 0-5 & 0.40615155 & 15.5145154 & 18.0512457 & 5 &  7.3295117 &  9.78162595 & 5 & H\\\\\n\t BULK & wood\\_departure\\_rate    & 0-5 & 0.47369004 &  0.2356114 &  0.2530026 & 5 &  0.1316726 &  0.17426671 & 5 & H\\\\\n\t BULK & decayed\\_mass\\_kg        & 0-5 & 0.49776310 &  7.3840250 &  8.1291751 & 5 &  4.2105675 &  5.71684183 & 5 & H\\\\\n\t BULK & decayed\\_mass\\_kg        & 0-5 & 0.56679701 &  8.0135940 &  7.7261069 & 5 &  5.4575227 &  5.57591801 & 5 & M\\\\\n\t BULK & wood\\_input\\_rate        & 0-5 & 0.59405106 &  0.6147571 &  0.5561569 & 5 &  0.4365661 &  0.45198897 & 5 & H\\\\\n\t BULK & wood\\_input\\_rate        & 0-5 & 0.64292500 &  0.7120789 &  0.6096684 & 5 &  0.5308145 &  0.57983008 & 5 & M\\\\\n\t BULK & wood\\_accumulation\\_rate & 0-5 & 0.71560178 &  0.3791456 &  0.3060171 & 5 &  0.3048934 &  0.31584354 & 5 & H\\\\\n\t BULK & wood\\_accumulation\\_rate & 0-5 & 0.85194423 &  0.4330516 &  0.4096590 & 5 &  0.3805861 &  0.44983344 & 5 & M\\\\\n\\end{tabular}\n",
            "text/plain": [
              "   fraction variable               depth p          control_m  control_sd\n",
              "1  BULK     total_input            0-5   0.03147256 17.2744723  9.6389385\n",
              "2  BULK     wood_input_rate        0-5   0.03496690  0.6526469  0.3166049\n",
              "3  BULK     burn_decayed_mass_kg   0-5   0.03505987  7.9907489  5.1173596\n",
              "4  BULK     years_to_recovery      0-5   0.03588031  0.0000000  0.0000000\n",
              "5  BULK     wood_accumulation_rate 0-5   0.03893278  0.3782011  0.1735129\n",
              "6  BULK     wood_departure_rate    0-5   0.03978186  0.2744458  0.1543035\n",
              "7  BULK     years_to_recovery      0-5   0.04403296  0.4231477  0.9250462\n",
              "8  BULK     years_to_recovery      0-5   0.06012672  0.0000000  0.0000000\n",
              "9  BULK     decayed_mass_kg        0-5   0.06293637  7.9907489  5.1173596\n",
              "10 BULK     years_to_capacity      0-5   0.06448364 20.3247840  7.6212281\n",
              "11 BULK     burn_decayed_mass_kg   0-5   0.14850514  6.7648940  7.7184833\n",
              "12 BULK     burn_decayed_mass_kg   0-5   0.17175069  7.8587053  7.4831768\n",
              "13 BULK     total_input            0-5   0.25276153 17.9799330 14.9395318\n",
              "14 BULK     years_to_capacity      0-5   0.25447365 22.8249934 12.3027971\n",
              "15 BULK     wood_departure_rate    0-5   0.32680027  0.2790273  0.2318556\n",
              "16 BULK     years_to_capacity      0-5   0.37388762 14.3601293  8.4846163\n",
              "17 BULK     total_input            0-5   0.40615155 15.5145154 18.0512457\n",
              "18 BULK     wood_departure_rate    0-5   0.47369004  0.2356114  0.2530026\n",
              "19 BULK     decayed_mass_kg        0-5   0.49776310  7.3840250  8.1291751\n",
              "20 BULK     decayed_mass_kg        0-5   0.56679701  8.0135940  7.7261069\n",
              "21 BULK     wood_input_rate        0-5   0.59405106  0.6147571  0.5561569\n",
              "22 BULK     wood_input_rate        0-5   0.64292500  0.7120789  0.6096684\n",
              "23 BULK     wood_accumulation_rate 0-5   0.71560178  0.3791456  0.3060171\n",
              "24 BULK     wood_accumulation_rate 0-5   0.85194423  0.4330516  0.4096590\n",
              "   control_n exp_m      exp_sd      exp_n exp_group\n",
              "1  5          3.6549369  5.40115652 5     L        \n",
              "2  5          0.2052226  0.21883326 5     L        \n",
              "3  5          0.9037810  0.94237035 5     L        \n",
              "4  5         19.1400956 13.76266569 5     H        \n",
              "5  5          0.1374881  0.12555380 5     L        \n",
              "6  5          0.0677345  0.09523897 5     L        \n",
              "7  5          9.9710665  7.39246188 5     M        \n",
              "8  5          5.6457076  4.85777773 5     L        \n",
              "9  5          2.0677433  2.89063439 5     L        \n",
              "10 5         11.0926576  5.69056006 5     L        \n",
              "11 5          0.5957299  0.59884457 5     H        \n",
              "12 5          2.1485254  3.05569191 5     M        \n",
              "13 5          8.3778907  8.17379346 5     M        \n",
              "14 5         15.0818735  6.01476010 5     M        \n",
              "15 5          0.1502283  0.14238733 5     M        \n",
              "16 5         21.7054703 14.93029133 5     H        \n",
              "17 5          7.3295117  9.78162595 5     H        \n",
              "18 5          0.1316726  0.17426671 5     H        \n",
              "19 5          4.2105675  5.71684183 5     H        \n",
              "20 5          5.4575227  5.57591801 5     M        \n",
              "21 5          0.4365661  0.45198897 5     H        \n",
              "22 5          0.5308145  0.57983008 5     M        \n",
              "23 5          0.3048934  0.31584354 5     H        \n",
              "24 5          0.3805861  0.44983344 5     M        "
            ]
          },
          "metadata": {}
        }
      ]
    },
    {
      "cell_type": "code",
      "source": [
        "t_tests_dt <- rbindlist(list(t_tests_fractions_dt,t_tests_bpca_dt,t_tests_dwd_dt))"
      ],
      "metadata": {
        "id": "CCNA-9izAkJg"
      },
      "execution_count": 383,
      "outputs": []
    },
    {
      "cell_type": "code",
      "source": [
        "# t_tests_dt[fraction =='BULK'][order(p)]"
      ],
      "metadata": {
        "id": "4WKmAJHk5WCX"
      },
      "execution_count": 385,
      "outputs": []
    },
    {
      "cell_type": "code",
      "source": [
        "t_tests_dt$variable %>% unique"
      ],
      "metadata": {
        "colab": {
          "base_uri": "https://localhost:8080/",
          "height": 34
        },
        "id": "gEzXzKYECbNz",
        "outputId": "faf2cfa5-7136-4b04-e3aa-4b872ab405b8"
      },
      "execution_count": 364,
      "outputs": [
        {
          "output_type": "display_data",
          "data": {
            "text/html": [
              "<style>\n",
              ".list-inline {list-style: none; margin:0; padding: 0}\n",
              ".list-inline>li {display: inline-block}\n",
              ".list-inline>li:not(:last-child)::after {content: \"\\00b7\"; padding: 0 .5ex}\n",
              "</style>\n",
              "<ol class=list-inline><li>'C_N'</li><li>'C_PERC'</li><li>'N_PERC'</li><li>'carbon_stock'</li><li>'CONC_MEAN'</li><li>'mg_ml_bpca'</li><li>'g_kg_bpca_lf'</li><li>'per_bpca_carb_lf'</li></ol>\n"
            ],
            "text/markdown": "1. 'C_N'\n2. 'C_PERC'\n3. 'N_PERC'\n4. 'carbon_stock'\n5. 'CONC_MEAN'\n6. 'mg_ml_bpca'\n7. 'g_kg_bpca_lf'\n8. 'per_bpca_carb_lf'\n\n\n",
            "text/latex": "\\begin{enumerate*}\n\\item 'C\\_N'\n\\item 'C\\_PERC'\n\\item 'N\\_PERC'\n\\item 'carbon\\_stock'\n\\item 'CONC\\_MEAN'\n\\item 'mg\\_ml\\_bpca'\n\\item 'g\\_kg\\_bpca\\_lf'\n\\item 'per\\_bpca\\_carb\\_lf'\n\\end{enumerate*}\n",
            "text/plain": [
              "[1] \"C_N\"              \"C_PERC\"           \"N_PERC\"           \"carbon_stock\"    \n",
              "[5] \"CONC_MEAN\"        \"mg_ml_bpca\"       \"g_kg_bpca_lf\"     \"per_bpca_carb_lf\""
            ]
          },
          "metadata": {}
        }
      ]
    },
    {
      "cell_type": "code",
      "source": [
        "t_tests_dt[,exp_m_norm := exp_m/control_m]\n",
        "\n",
        "t_tests_dt[fraction!='BULK' & variable=='C_N'] %>%\n",
        "aov(exp_m_norm ~ exp_group+depth+fraction, data = .) %>%\n",
        "summary()\n",
        "\n",
        "t_tests_dt[fraction!='BULK' &variable=='C_PERC'] %>%\n",
        "aov(exp_m_norm ~ exp_group+depth+fraction, data = .) %>%\n",
        "summary()\n",
        "\n",
        "t_tests_dt[fraction!='BULK' &variable=='N_PERC'] %>%\n",
        "aov(exp_m_norm ~ exp_group+depth+fraction, data = .) %>%\n",
        "summary()\n",
        "\n",
        "t_tests_dt[fraction!='BULK' &variable=='carbon_stock'] %>%\n",
        "aov(exp_m_norm ~ exp_group+depth+fraction, data = .) %>%\n",
        "summary()\n",
        "\n",
        "t_tests_dt[fraction=='LF' &variable=='CONC_MEAN'] %>%\n",
        "aov(exp_m_norm ~ exp_group+depth, data = .) %>%\n",
        "summary()\n",
        "\n",
        "t_tests_dt[fraction=='LF' &variable=='mg_ml_bpca'] %>%\n",
        "aov(exp_m_norm ~ exp_group+depth, data = .) %>%\n",
        "summary()\n",
        "\n",
        "t_tests_dt[fraction=='LF' &variable=='g_kg_bpca_lf'] %>%\n",
        "aov(exp_m_norm ~ exp_group+depth, data = .) %>%\n",
        "summary()\n",
        "\n",
        "t_tests_dt[fraction=='LF' &variable=='per_bpca_carb_lf'] %>%\n",
        "aov(exp_m_norm ~ exp_group+depth, data = .) %>%\n",
        "summary()"
      ],
      "metadata": {
        "colab": {
          "base_uri": "https://localhost:8080/",
          "height": 746
        },
        "id": "TGHr-u2CB-i6",
        "outputId": "aa3260fa-33f3-4274-8314-607837d4a1e6"
      },
      "execution_count": 386,
      "outputs": [
        {
          "output_type": "display_data",
          "data": {
            "text/plain": [
              "            Df Sum Sq Mean Sq F value Pr(>F)  \n",
              "exp_group    2 0.4807  0.2403   2.766 0.0912 .\n",
              "depth        3 0.3352  0.1117   1.286 0.3113  \n",
              "fraction     1 0.0620  0.0620   0.713 0.4100  \n",
              "Residuals   17 1.4773  0.0869                 \n",
              "---\n",
              "Signif. codes:  0 ‘***’ 0.001 ‘**’ 0.01 ‘*’ 0.05 ‘.’ 0.1 ‘ ’ 1"
            ]
          },
          "metadata": {}
        },
        {
          "output_type": "display_data",
          "data": {
            "text/plain": [
              "            Df Sum Sq Mean Sq F value Pr(>F)\n",
              "exp_group    2 0.1459 0.07295   2.519  0.110\n",
              "depth        3 0.1071 0.03571   1.233  0.328\n",
              "fraction     1 0.0016 0.00161   0.055  0.817\n",
              "Residuals   17 0.4923 0.02896               "
            ]
          },
          "metadata": {}
        },
        {
          "output_type": "display_data",
          "data": {
            "text/plain": [
              "            Df Sum Sq Mean Sq F value Pr(>F)\n",
              "exp_group    2 0.0577 0.02883   1.122  0.349\n",
              "depth        3 0.0949 0.03164   1.232  0.329\n",
              "fraction     1 0.0000 0.00003   0.001  0.973\n",
              "Residuals   17 0.4367 0.02569               "
            ]
          },
          "metadata": {}
        },
        {
          "output_type": "display_data",
          "data": {
            "text/plain": [
              "            Df  Sum Sq Mean Sq F value Pr(>F)  \n",
              "exp_group    2 0.10069 0.05035   2.842 0.0861 .\n",
              "depth        3 0.01157 0.00386   0.218 0.8828  \n",
              "fraction     1 0.00009 0.00009   0.005 0.9445  \n",
              "Residuals   17 0.30111 0.01771                 \n",
              "---\n",
              "Signif. codes:  0 ‘***’ 0.001 ‘**’ 0.01 ‘*’ 0.05 ‘.’ 0.1 ‘ ’ 1"
            ]
          },
          "metadata": {}
        },
        {
          "output_type": "display_data",
          "data": {
            "text/plain": [
              "            Df Sum Sq Mean Sq F value Pr(>F)\n",
              "exp_group    2 0.2985 0.14927   1.995  0.217\n",
              "depth        3 0.0693 0.02311   0.309  0.819\n",
              "Residuals    6 0.4489 0.07481               "
            ]
          },
          "metadata": {}
        },
        {
          "output_type": "display_data",
          "data": {
            "text/plain": [
              "            Df Sum Sq Mean Sq F value Pr(>F)\n",
              "exp_group    2 0.3996 0.19981   2.812  0.138\n",
              "depth        3 0.0986 0.03287   0.463  0.719\n",
              "Residuals    6 0.4264 0.07106               "
            ]
          },
          "metadata": {}
        },
        {
          "output_type": "display_data",
          "data": {
            "text/plain": [
              "            Df Sum Sq Mean Sq F value Pr(>F)\n",
              "exp_group    2 0.0341 0.01706   0.181  0.838\n",
              "depth        3 0.2079 0.06931   0.737  0.567\n",
              "Residuals    6 0.5642 0.09403               "
            ]
          },
          "metadata": {}
        },
        {
          "output_type": "display_data",
          "data": {
            "text/plain": [
              "            Df Sum Sq Mean Sq F value Pr(>F)\n",
              "exp_group    2 0.0711 0.03556   0.659  0.551\n",
              "depth        3 0.1126 0.03752   0.695  0.588\n",
              "Residuals    6 0.3239 0.05398               "
            ]
          },
          "metadata": {}
        }
      ]
    },
    {
      "cell_type": "code",
      "source": [
        "analysis_full_bpca_exp_dt%>%\n",
        "  ggplot(aes(x=C_PERC))+\n",
        "    geom_histogram()+\n",
        "    facet_grid(FRACTION~BURN_SEVERITY)"
      ],
      "metadata": {
        "colab": {
          "base_uri": "https://localhost:8080/",
          "height": 455
        },
        "id": "D5dDGxZWf3JX",
        "outputId": "8f0836fe-404b-4808-95cc-9e2830cb5a4b"
      },
      "execution_count": 366,
      "outputs": [
        {
          "output_type": "stream",
          "name": "stderr",
          "text": [
            "\u001b[1m\u001b[22m`stat_bin()` using `bins = 30`. Pick better value with `binwidth`.\n"
          ]
        },
        {
          "output_type": "display_data",
          "data": {
            "text/plain": [
              "plot without title"
            ],
            "image/png": "[encoded data removed]"
          },
          "metadata": {
            "image/png": {
              "width": 420,
              "height": 420
            }
          }
        }
      ]
    },
    {
      "cell_type": "code",
      "source": [
        "means_data <- analysis_full_bpca_exp_dt[ ,\n",
        "                          .(CONC_MEAN = mean(CONC_MEAN, na.rm = TRUE)*100),\n",
        "                          by = .(BURN_SEVERITY, DEPTH)]\n",
        "\n",
        "analysis_full_bpca_exp_dt %>%\n",
        "ggplot(  aes(x = BURN_SEVERITY, y = CONC_MEAN*100)) +\n",
        "  geom_boxplot() +\n",
        "  geom_point(data = means_data, aes(y = CONC_MEAN), color = \"red\", size = 2) +\n",
        "  facet_grid(. ~ DEPTH) +\n",
        "  ylab('Percent B6CA in POM') +\n",
        "  xlab('Burn Severity Class') +\n",
        "  theme_bw()+\n",
        "  theme(axis.text.x = element_text(angle = 45, hjust = 1), text = element_text(size = 14))\n"
      ],
      "metadata": {
        "colab": {
          "base_uri": "https://localhost:8080/",
          "height": 473
        },
        "id": "e7isOB8_lQG5",
        "outputId": "b4db628f-214f-435d-8fe8-924037bb97a7"
      },
      "execution_count": 367,
      "outputs": [
        {
          "output_type": "stream",
          "name": "stderr",
          "text": [
            "Warning message:\n",
            "“\u001b[1m\u001b[22mRemoved 247 rows containing non-finite values (`stat_boxplot()`).”\n"
          ]
        },
        {
          "output_type": "display_data",
          "data": {
            "text/plain": [
              "plot without title"
            ],
            "image/png": "[encoded data removed]"
          },
          "metadata": {
            "image/png": {
              "width": 420,
              "height": 420
            }
          }
        }
      ]
    },
    {
      "cell_type": "code",
      "source": [
        "means_data <- analysis_full_bpca_exp_dt[ ,\n",
        "                          .(C_PERC = mean(C_PERC, na.rm = TRUE)),\n",
        "                          by = .(BURN_SEVERITY,FRACTION, DEPTH)]\n",
        "\n",
        "analysis_full_bpca_exp_dt %>%\n",
        "ggplot( aes(x = BURN_SEVERITY, y = C_PERC)) +\n",
        "    geom_boxplot( ) +\n",
        "    geom_point(data = means_data, aes(y = C_PERC), color = \"red\", size = 2) +\n",
        "    ylab('Percent C') +\n",
        "    # geom_signif(aes(),comparisons = list(c(1,2),c(1,3),c(1,4)),\n",
        "    #         map_signif_level=TRUE,step_increase=.05) +\n",
        "    theme_bw()+\n",
        "    xlab('Burn Severity Class') +\n",
        "        theme(axis.text.x = element_text(angle = 45, hjust=1))+\n",
        "    facet_grid(FRACTION~DEPTH,scales = 'free_y')"
      ],
      "metadata": {
        "colab": {
          "base_uri": "https://localhost:8080/",
          "height": 437
        },
        "id": "pXxAT18GtSsu",
        "outputId": "5c3e7c4b-b996-4126-d9bc-0cd9cec858be"
      },
      "execution_count": 368,
      "outputs": [
        {
          "output_type": "display_data",
          "data": {
            "text/plain": [
              "plot without title"
            ],
            "image/png": "[encoded data removed]"
          },
          "metadata": {
            "image/png": {
              "width": 420,
              "height": 420
            }
          }
        }
      ]
    },
    {
      "cell_type": "code",
      "source": [
        "means_data <- analysis_full_bpca_exp_dt[ ,\n",
        "                          .(CONC_MEAN = mean(CONC_MEAN, na.rm = TRUE)*100),\n",
        "                          by = .(BURN_SEVERITY)]\n",
        "\n",
        "analysis_full_bpca_exp_dt %>%\n",
        "ggplot( aes(x = BURN_SEVERITY, y = CONC_MEAN*100)) +\n",
        "    geom_boxplot( ) +\n",
        "    geom_point(data = means_data, aes(y = CONC_MEAN), color = \"red\", size = 2) +\n",
        "    ylab('Percent B6CA in POM') +\n",
        "    geom_signif(aes(),comparisons = list(c(1,2),c(1,3),c(1,4)),\n",
        "            map_signif_level=TRUE,step_increase=.05) +\n",
        "    theme_bw()+\n",
        "    xlab('Burn Severity Class') +\n",
        "        theme(axis.text.x = element_text(angle = 45, hjust=1))"
      ],
      "metadata": {
        "colab": {
          "base_uri": "https://localhost:8080/",
          "height": 510
        },
        "id": "c-x-VrDJVsNK",
        "outputId": "00de7457-8aac-44b7-8c91-a7e9a431a7c3"
      },
      "execution_count": 369,
      "outputs": [
        {
          "output_type": "stream",
          "name": "stderr",
          "text": [
            "Warning message:\n",
            "“\u001b[1m\u001b[22mRemoved 247 rows containing non-finite values (`stat_boxplot()`).”\n",
            "Warning message:\n",
            "“\u001b[1m\u001b[22mRemoved 247 rows containing non-finite values (`stat_signif()`).”\n"
          ]
        },
        {
          "output_type": "display_data",
          "data": {
            "text/plain": [
              "plot without title"
            ],
            "image/png": "[encoded data removed]"
          },
          "metadata": {
            "image/png": {
              "width": 420,
              "height": 420
            }
          }
        }
      ]
    },
    {
      "cell_type": "code",
      "source": [
        "\n",
        "\n",
        "LF_stoic_dt[!is.na(Depth)][,list(conc_avg = mean(conc_avg,na.rm=T)),by=.(site,burn_severity)] %>%\n",
        "ggplot(aes(y=conc_avg,x=burn_severity))+\n",
        "  geom_signif(aes(),comparisons = list(c(1,2),c(1,3),c(1,4)),\n",
        "            map_signif_level=TRUE,step_increase=.05) +\n",
        "    geom_boxplot(aes(group=burn_severity))\n",
        "    # facet_wrap(.~.)"
      ],
      "metadata": {
        "colab": {
          "base_uri": "https://localhost:8080/",
          "height": 199
        },
        "id": "_-azAIijtaNt",
        "outputId": "29c67908-57cd-4d18-b98a-d866a75ee198"
      },
      "execution_count": 370,
      "outputs": [
        {
          "output_type": "error",
          "ename": "ERROR",
          "evalue": "Error in eval(expr, envir, enclos): object 'LF_stoic_dt' not found\n",
          "traceback": [
            "Error in eval(expr, envir, enclos): object 'LF_stoic_dt' not found\nTraceback:\n",
            "1. LF_stoic_dt[!is.na(Depth)][, list(conc_avg = mean(conc_avg, na.rm = T)), \n .     by = .(site, burn_severity)] %>% ggplot(aes(y = conc_avg, \n .     x = burn_severity))",
            "2. ggplot(., aes(y = conc_avg, x = burn_severity))"
          ]
        }
      ]
    },
    {
      "cell_type": "code",
      "source": [
        "# (conc_240/bpca_starting_mass_mg)*(fractionation_mass_recovered_g/starting_fract_mass_soil_g)*(C/100)\n",
        "LF_stoic_dt[,g_kg := (conc_avg/bpca_starting_mass_mg) ]\n",
        "LF_stoic_dt[,g_kg := mass_proportion_recovered/conc_avg,by=1:nrow(LF_stoic_dt)]\n",
        "LF_stoic_dt$g_kg <- (LF_stoic_dt$conc_avg/LF_stoic_dt$bpca_starting_mass_mg)\n",
        "LF_stoic_dt[!is.na(Depth)&!is.na(burn_severity),list(g_kg=mean(g_kg,na.rm = T)),by=.(burn_severity,site)] %>%\n",
        "ggplot(aes(x = burn_severity, y = g_kg)) +\n",
        "  geom_boxplot() +\n",
        "  # geom_point(aes(y=group_mean),color='red')+\n",
        "  #(bquote('Mean light fraction soil carbon content ('*mg~ 'C' ~g^-1~'soil'*')'))\n",
        "  ylab(bquote('PyC concentration ('*g~ 'B6CA'~kg^-1~' C'*')'))+\n",
        "  xlab('Soil Burn Severity Class') +\n",
        "      theme_bw()+\n",
        "      theme(text = element_text(size=15),axis.text.x = element_text(angle = 45, hjust=1)) +\n",
        "  geom_signif(aes(),comparisons = list(c(1,2),c(1,3),c(1,4)),\n",
        "            map_signif_level=TRUE,step_increase=.05) +\n",
        "  # facet_grid(.~Depth) +\n",
        "  coord_cartesian(expand=TRUE)"
      ],
      "metadata": {
        "id": "a2F5SU0Utf9A"
      },
      "execution_count": null,
      "outputs": []
    },
    {
      "cell_type": "code",
      "source": [
        "\n",
        "LF_stoic_dt$g_kg <- (LF_stoic_dt$conc_avg/LF_stoic_dt$bpca_starting_mass_mg)\n",
        "LF_stoic_dt[!is.na(Depth)&!is.na(burn_severity),list(g_kg=mean(g_kg,na.rm = T)),by=.(burn_severity,site,Depth)] %>%\n",
        "aov(g_kg ~ burn_severity, data = .) %>%\n",
        "summary()"
      ],
      "metadata": {
        "id": "7XEjT7ansZRw"
      },
      "execution_count": null,
      "outputs": []
    },
    {
      "cell_type": "code",
      "source": [
        "LF_stoic_dt[!is.na(Depth)&!is.na(burn_severity),][fraction !='BULK'][C_perc/N_perc <100] %>%\n",
        "ggplot(aes(x = burn_severity, y =C_N)) +\n",
        "  geom_boxplot() +\n",
        "  # geom_point(aes(y=group_mean),color='red')+\n",
        "  #(bquote('Mean light fraction soil carbon content ('*mg~ 'C' ~g^-1~'soil'*')'))\n",
        "  ylab(bquote('PyC concentration ('*g~ 'B6CA'~kg^-1~' C'*')'))+\n",
        "  xlab('Soil Burn Severity Class') +\n",
        "      theme_bw()+\n",
        "      theme(text = element_text(size=15),axis.text.x = element_text(angle = 45, hjust=1)) +\n",
        "  # geom_signif(aes(),comparisons = list(c(1,2),c(1,3),c(1,4)),\n",
        "  #           map_signif_level=TRUE,step_increase=.05) +\n",
        "  facet_grid(fraction~Depth,scales = 'free_y') +\n",
        "  coord_cartesian(expand=TRUE)"
      ],
      "metadata": {
        "id": "nOGTzIWMtxMR"
      },
      "execution_count": null,
      "outputs": []
    },
    {
      "cell_type": "code",
      "source": [
        "LF_stoic_dt[!is.na(Depth)&!is.na(burn_severity),][fraction !='BULK'][C_perc/N_perc <100] %>%\n",
        "ggplot(aes(x = burn_severity, y =C_N,group=burn_severity)) +\n",
        "  geom_boxplot() +\n",
        "  # geom_point(aes(y=group_mean),color='red')+\n",
        "  #(bquote('Mean light fraction soil carbon content ('*mg~ 'C' ~g^-1~'soil'*')'))\n",
        "  #ylab(bquote('PyC concentration ('*g~ 'B6CA'~kg^-1~' C'*')'))+\n",
        "  ylab('') +\n",
        "  xlab('Soil Burn Severity Class') +\n",
        "      theme_bw()+\n",
        "      theme(text = element_text(size=15),axis.text.x = element_text(angle = 45, hjust=1)) +\n",
        "  # geom_signif(aes(),comparisons = list(c(1,2),c(1,3),c(1,4)),\n",
        "  #           map_signif_level=TRUE,step_increase=.05) +\n",
        "  facet_grid(fraction~Depth,scales = 'free_y') +\n",
        "  coord_cartesian(expand=TRUE)"
      ],
      "metadata": {
        "id": "ebp0fgoPt0cX"
      },
      "execution_count": null,
      "outputs": []
    }
  ]
}