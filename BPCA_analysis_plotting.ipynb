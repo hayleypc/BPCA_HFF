{
  "nbformat": 4,
  "nbformat_minor": 0,
  "metadata": {
    "colab": {
      "provenance": [],
      "authorship_tag": "ABX9TyOpmAoFq8MHMyKIVbSBzcJ/",
      "include_colab_link": true
    },
    "kernelspec": {
      "name": "ir",
      "display_name": "R"
    },
    "language_info": {
      "name": "R"
    }
  },
  "cells": [
    {
      "cell_type": "markdown",
      "metadata": {
        "id": "view-in-github",
        "colab_type": "text"
      },
      "source": [
        "<a href=\"https://colab.research.google.com/github/hayleypc/BPCA_HFF/blob/main/BPCA_analysis_plotting.ipynb\" target=\"_parent\"><img src=\"https://colab.research.google.com/assets/colab-badge.svg\" alt=\"Open In Colab\"/></a>"
      ]
    },
    {
      "cell_type": "code",
      "source": [
        "install.packages(c('data.table','ggplot2','magrittr','rstatix','plotrix','ggsignif',\"googledrive\",'openxlsx'))"
      ],
      "metadata": {
        "colab": {
          "base_uri": "https://localhost:8080/"
        },
        "id": "Weq65XrlMbXx",
        "outputId": "feb0059a-664f-44a7-96c3-ab8a3ff69cf0"
      },
      "execution_count": 3,
      "outputs": [
        {
          "output_type": "stream",
          "name": "stderr",
          "text": [
            "Installing packages into ‘/usr/local/lib/R/site-library’\n",
            "(as ‘lib’ is unspecified)\n",
            "\n",
            "also installing the dependencies ‘numDeriv’, ‘SparseM’, ‘MatrixModels’, ‘minqa’, ‘nloptr’, ‘RcppEigen’, ‘carData’, ‘abind’, ‘pbkrtest’, ‘quantreg’, ‘lme4’, ‘corrplot’, ‘car’, ‘Rcpp’\n",
            "\n",
            "\n"
          ]
        }
      ]
    },
    {
      "cell_type": "code",
      "source": [
        "library(data.table)\n",
        "library(ggplot2)\n",
        "library(magrittr)\n",
        "library(rstatix)\n",
        "library(ggsignif)\n",
        "library(plotrix)\n",
        "library(googledrive)\n",
        "library(openxlsx)"
      ],
      "metadata": {
        "colab": {
          "base_uri": "https://localhost:8080/"
        },
        "id": "sXmKHIq0MfZW",
        "outputId": "ee0afe73-0bbe-4a59-e5b2-52d56fec0d63"
      },
      "execution_count": 4,
      "outputs": [
        {
          "output_type": "stream",
          "name": "stderr",
          "text": [
            "\n",
            "Attaching package: ‘rstatix’\n",
            "\n",
            "\n",
            "The following object is masked from ‘package:stats’:\n",
            "\n",
            "    filter\n",
            "\n",
            "\n"
          ]
        }
      ]
    },
    {
      "cell_type": "code",
      "source": [
        "drive_auth(use_oob = TRUE, cache = FALSE)"
      ],
      "metadata": {
        "colab": {
          "base_uri": "https://localhost:8080/"
        },
        "id": "ClsFSfbxMkft",
        "outputId": "1f6afac9-d8cd-438e-ba00-24f4293e2828"
      },
      "execution_count": 5,
      "outputs": [
        {
          "output_type": "stream",
          "name": "stderr",
          "text": [
            "Please point your browser to the following url: \n",
            "\n",
            "https://accounts.google.com/o/oauth2/v2/auth?client_id=603366585132-frjlouoa3s2ono25d2l9ukvhlsrlnr7k.apps.googleusercontent.com&scope=https%3A%2F%2Fwww.googleapis.com%2Fauth%2Fdrive%20https%3A%2F%2Fwww.googleapis.com%2Fauth%2Fuserinfo.email&redirect_uri=https%3A%2F%2Fwww.tidyverse.org%2Fgoogle-callback%2F&response_type=code&state=bf481dc2501a8c4e362c857eb8d19670&access_type=offline&prompt=consent\n",
            "\n"
          ]
        },
        {
          "name": "stdout",
          "output_type": "stream",
          "text": [
            "Enter authorization code: eyJjb2RlIjoiNC8wQWZKb2hYbGlDeXl0UjVLQzhYMWY2Zl8xd1RMYkJ6d1Zoa1cyd1p4NGI3bDRaV0dBMDBhbHdheFpzSDNEay0yS21TaGs1QSIsInN0YXRlIjoiYmY0ODFkYzI1MDFhOGM0ZTM2MmM4NTdlYjhkMTk2NzAifQ==\n"
          ]
        }
      ]
    },
    {
      "cell_type": "code",
      "source": [
        "\n",
        "# https://drive.google.com/file/d/1HlTOdV5IfKyUPac13dOoKbng7VKLvqVv/view?usp=drive_link\n",
        "drive_download(file = as_id('1HlTOdV5IfKyUPac13dOoKbng7VKLvqVv'), path = '/content/firehistory_region_intersect.gpkg', overwrite = TRUE)"
      ],
      "metadata": {
        "colab": {
          "base_uri": "https://localhost:8080/"
        },
        "id": "bFo_f73jm8ue",
        "outputId": "a759b990-ee53-43d1-a93a-2af375e0d292"
      },
      "execution_count": 7,
      "outputs": [
        {
          "output_type": "stream",
          "name": "stderr",
          "text": [
            "File downloaded:\n",
            "\n",
            "• \u001b[36mfirehistory_region_intersect.gpkg\u001b[39m \u001b[90m<id: 1HlTOdV5IfKyUPac13dOoKbng7VKLvqVv>\u001b[39m\n",
            "\n",
            "Saved locally as:\n",
            "\n",
            "• \u001b[34m/content/firehistory_region_intersect.gpkg\u001b[39m\n",
            "\n"
          ]
        }
      ]
    },
    {
      "cell_type": "code",
      "source": [
        "# Coarse Woody Debris\n",
        "# https://drive.google.com/file/d/1pXM6XIxxWL_Lsqyms1jtuuFcEHCjyLF0/view?usp=drive_link\n",
        "drive_download(file = as_id('1pXM6XIxxWL_Lsqyms1jtuuFcEHCjyLF0'), path = '/content/cwd_rate_table.csv', overwrite = TRUE)"
      ],
      "metadata": {
        "colab": {
          "base_uri": "https://localhost:8080/"
        },
        "id": "ahkDEkfQMlJt",
        "outputId": "43f5a592-cba1-4c71-926e-f3d979e2f745"
      },
      "execution_count": 8,
      "outputs": [
        {
          "output_type": "stream",
          "name": "stderr",
          "text": [
            "File downloaded:\n",
            "\n",
            "• \u001b[36mcwd_rate_table.csv\u001b[39m \u001b[90m<id: 1pXM6XIxxWL_Lsqyms1jtuuFcEHCjyLF0>\u001b[39m\n",
            "\n",
            "Saved locally as:\n",
            "\n",
            "• \u001b[34m/content/cwd_rate_table.csv\u001b[39m\n",
            "\n"
          ]
        }
      ]
    },
    {
      "cell_type": "code",
      "source": [
        "# LF fractionation\n",
        "file_id <- (drive_ls(path = as_id('1zi4l899vHE0cXpNpOkbafP3cmdkXhwKm')) %>% data.table)[name == 'full_bpca_exp_dt.csv']$id\n",
        "\n",
        "drive_download(file = as_id(file_id), path = '/content/full_bpca_exp_dt.csv', overwrite = TRUE)"
      ],
      "metadata": {
        "colab": {
          "base_uri": "https://localhost:8080/"
        },
        "id": "Om9VDXVoOX1G",
        "outputId": "9fb4e710-a19e-4c58-d059-0863e33b8745"
      },
      "execution_count": 23,
      "outputs": [
        {
          "output_type": "stream",
          "name": "stderr",
          "text": [
            "File downloaded:\n",
            "\n",
            "• \u001b[36mfull_bpca_exp_dt.csv\u001b[39m \u001b[90m<id: 1664xblDUK5yG4zzhhXXomgwK-wR6p31b>\u001b[39m\n",
            "\n",
            "Saved locally as:\n",
            "\n",
            "• \u001b[34m/content/full_bpca_exp_dt.csv\u001b[39m\n",
            "\n"
          ]
        }
      ]
    },
    {
      "cell_type": "code",
      "source": [
        "# LF fractionation\n",
        "file_id <- (drive_ls(path = as_id('1zi4l899vHE0cXpNpOkbafP3cmdkXhwKm')) %>% data.table)[name == 'standards.csv']$id\n",
        "\n",
        "drive_download(file = as_id(file_id), path = '/content/standards.csv', overwrite = TRUE)"
      ],
      "metadata": {
        "colab": {
          "base_uri": "https://localhost:8080/"
        },
        "id": "aJPaxL93BJzs",
        "outputId": "2f716b1f-dad4-4e7b-d17b-3329d621cf51"
      },
      "execution_count": 10,
      "outputs": [
        {
          "output_type": "stream",
          "name": "stderr",
          "text": [
            "File downloaded:\n",
            "\n",
            "• \u001b[36mstandards.csv\u001b[39m \u001b[90m<id: 1zNR-qpUKPnO6OpArQYuuweoMG505F7pw>\u001b[39m\n",
            "\n",
            "Saved locally as:\n",
            "\n",
            "• \u001b[34m/content/standards.csv\u001b[39m\n",
            "\n"
          ]
        }
      ]
    },
    {
      "cell_type": "code",
      "source": [
        "cwd_rate_table <- fread('/content/cwd_rate_table.csv')"
      ],
      "metadata": {
        "id": "wdlrkZFRUFmw"
      },
      "execution_count": 12,
      "outputs": []
    },
    {
      "cell_type": "code",
      "source": [
        "full_bpca_exp_dt <- fread('/content/full_bpca_exp_dt.csv')"
      ],
      "metadata": {
        "id": "VVnqOiigBjOz"
      },
      "execution_count": 24,
      "outputs": []
    },
    {
      "cell_type": "code",
      "source": [
        "full_bpca_exp_dt$V1 <- NULL"
      ],
      "metadata": {
        "id": "mevCy7BOBnFi"
      },
      "execution_count": 25,
      "outputs": []
    },
    {
      "cell_type": "code",
      "source": [
        "full_bpca_exp_dt$FRACTION <- full_bpca_exp_dt$FRACTION  %>% factor(levels = c('LF','HF','BULK'))\n",
        "full_bpca_exp_dt$DEPTH <- full_bpca_exp_dt$DEPTH  %>% factor(levels = c('0-5','5-10','10-20','20-30'))\n",
        "full_bpca_exp_dt$BURN_SEVERITY <- full_bpca_exp_dt$BURN_SEVERITY  %>% factor(levels = c('control','low','moderate','high'))"
      ],
      "metadata": {
        "id": "1Hb0yGktGAZs"
      },
      "execution_count": 41,
      "outputs": []
    },
    {
      "cell_type": "code",
      "source": [
        "full_bpca_exp_dt %>% names"
      ],
      "metadata": {
        "colab": {
          "base_uri": "https://localhost:8080/",
          "height": 52
        },
        "id": "0mTaWrhMO2MI",
        "outputId": "e26971d7-a6d0-40f6-ad6e-3d8faa0a7c30"
      },
      "execution_count": 73,
      "outputs": [
        {
          "output_type": "display_data",
          "data": {
            "text/html": [
              "<style>\n",
              ".list-inline {list-style: none; margin:0; padding: 0}\n",
              ".list-inline>li {display: inline-block}\n",
              ".list-inline>li:not(:last-child)::after {content: \"\\00b7\"; padding: 0 .5ex}\n",
              "</style>\n",
              "<ol class=list-inline><li>'SITE'</li><li>'FRACTION'</li><li>'DEPTH'</li><li>'BURN_SEVERITY'</li><li>'TREATMENT'</li><li>'DEPTH_UPPER'</li><li>'DEPTH_LOWER'</li><li>'CONC_240'</li><li>'CONC_216'</li><li>'CONC_MEAN'</li><li>'PEARSONS'</li><li>'FRACTIONATION_MASS_RECOVERED_G'</li><li>'STARTING_FRACT_MASS_SOIL_G'</li><li>'MASS_PROPORTION_RECOVERED'</li><li>'RECOVERY'</li><li>'C_PERC'</li><li>'N_PERC'</li><li>'ACCEPT'</li><li>'BPCA_STARTING_MASS_MG'</li><li>'mg_ml_bpca'</li><li>'g_kg_bpca_lf'</li></ol>\n"
            ],
            "text/markdown": "1. 'SITE'\n2. 'FRACTION'\n3. 'DEPTH'\n4. 'BURN_SEVERITY'\n5. 'TREATMENT'\n6. 'DEPTH_UPPER'\n7. 'DEPTH_LOWER'\n8. 'CONC_240'\n9. 'CONC_216'\n10. 'CONC_MEAN'\n11. 'PEARSONS'\n12. 'FRACTIONATION_MASS_RECOVERED_G'\n13. 'STARTING_FRACT_MASS_SOIL_G'\n14. 'MASS_PROPORTION_RECOVERED'\n15. 'RECOVERY'\n16. 'C_PERC'\n17. 'N_PERC'\n18. 'ACCEPT'\n19. 'BPCA_STARTING_MASS_MG'\n20. 'mg_ml_bpca'\n21. 'g_kg_bpca_lf'\n\n\n",
            "text/latex": "\\begin{enumerate*}\n\\item 'SITE'\n\\item 'FRACTION'\n\\item 'DEPTH'\n\\item 'BURN\\_SEVERITY'\n\\item 'TREATMENT'\n\\item 'DEPTH\\_UPPER'\n\\item 'DEPTH\\_LOWER'\n\\item 'CONC\\_240'\n\\item 'CONC\\_216'\n\\item 'CONC\\_MEAN'\n\\item 'PEARSONS'\n\\item 'FRACTIONATION\\_MASS\\_RECOVERED\\_G'\n\\item 'STARTING\\_FRACT\\_MASS\\_SOIL\\_G'\n\\item 'MASS\\_PROPORTION\\_RECOVERED'\n\\item 'RECOVERY'\n\\item 'C\\_PERC'\n\\item 'N\\_PERC'\n\\item 'ACCEPT'\n\\item 'BPCA\\_STARTING\\_MASS\\_MG'\n\\item 'mg\\_ml\\_bpca'\n\\item 'g\\_kg\\_bpca\\_lf'\n\\end{enumerate*}\n",
            "text/plain": [
              " [1] \"SITE\"                           \"FRACTION\"                      \n",
              " [3] \"DEPTH\"                          \"BURN_SEVERITY\"                 \n",
              " [5] \"TREATMENT\"                      \"DEPTH_UPPER\"                   \n",
              " [7] \"DEPTH_LOWER\"                    \"CONC_240\"                      \n",
              " [9] \"CONC_216\"                       \"CONC_MEAN\"                     \n",
              "[11] \"PEARSONS\"                       \"FRACTIONATION_MASS_RECOVERED_G\"\n",
              "[13] \"STARTING_FRACT_MASS_SOIL_G\"     \"MASS_PROPORTION_RECOVERED\"     \n",
              "[15] \"RECOVERY\"                       \"C_PERC\"                        \n",
              "[17] \"N_PERC\"                         \"ACCEPT\"                        \n",
              "[19] \"BPCA_STARTING_MASS_MG\"          \"mg_ml_bpca\"                    \n",
              "[21] \"g_kg_bpca_lf\"                  "
            ]
          },
          "metadata": {}
        }
      ]
    },
    {
      "cell_type": "code",
      "source": [
        "full_bpca_exp_dt[,mg_ml_bpca := (CONC_MEAN/BPCA_STARTING_MASS_MG) ]\n",
        "full_bpca_exp_dt[,g_kg_bpca_lf := MASS_PROPORTION_RECOVERED*mg_ml_bpca,by=1:nrow(full_bpca_exp_dt)]\n",
        "full_bpca_exp_dt[,per_bpca_carb_lf := mg_ml_bpca/(C_PERC/100),by=1:nrow(full_bpca_exp_dt)]"
      ],
      "metadata": {
        "id": "iOKJ8frbR0TT"
      },
      "execution_count": 81,
      "outputs": []
    },
    {
      "cell_type": "code",
      "source": [
        "analysis_full_bpca_exp_dt <-\n",
        "full_bpca_exp_dt[ACCEPT =='T' &!is.na(DEPTH),list(\n",
        "  CONC_MEAN=mean(CONC_MEAN,na.rm=T),\n",
        "  C_PERC=mean(C_PERC,na.rm=T),\n",
        "  N_PERC=mean(N_PERC,na.rm=T),\n",
        "  mg_ml_bpca=mean(mg_ml_bpca,na.rm=T),\n",
        "  g_kg_bpca_lf=mean(g_kg_bpca_lf,na.rm=T),\n",
        "  per_bpca_carb_lf = mean(per_bpca_carb_lf,na.rm=T),\n",
        "  MASS_PROPORTION_RECOVERED=mean(MASS_PROPORTION_RECOVERED,na.rm=T)\n",
        "  ),by=c('SITE','FRACTION','DEPTH','BURN_SEVERITY','TREATMENT','DEPTH_UPPER','DEPTH_LOWER')]"
      ],
      "metadata": {
        "id": "LP2oqhBbWeYv"
      },
      "execution_count": 102,
      "outputs": []
    },
    {
      "cell_type": "code",
      "source": [
        "analysis_full_bpca_exp_dt%>%\n",
        "  ggplot(aes(x=C_PERC))+\n",
        "    geom_histogram()+\n",
        "    facet_grid(FRACTION~BURN_SEVERITY)"
      ],
      "metadata": {
        "colab": {
          "base_uri": "https://localhost:8080/",
          "height": 454
        },
        "id": "D5dDGxZWf3JX",
        "outputId": "d57d4aaa-64fb-4c8b-ab0d-4d6482c64af7"
      },
      "execution_count": 103,
      "outputs": [
        {
          "output_type": "stream",
          "name": "stderr",
          "text": [
            "\u001b[1m\u001b[22m`stat_bin()` using `bins = 30`. Pick better value with `binwidth`.\n"
          ]
        },
        {
          "output_type": "display_data",
          "data": {
            "text/plain": [
              "plot without title"
            ],
            "image/png": "[encoded data removed]"
          },
          "metadata": {
            "image/png": {
              "width": 420,
              "height": 420
            }
          }
        }
      ]
    },
    {
      "cell_type": "code",
      "source": [
        "means_data <- analysis_full_bpca_exp_dt[ ,\n",
        "                          .(CONC_MEAN = mean(CONC_MEAN, na.rm = TRUE)*100),\n",
        "                          by = .(BURN_SEVERITY, DEPTH)]\n",
        "\n",
        "analysis_full_bpca_exp_dt %>%\n",
        "ggplot(  aes(x = BURN_SEVERITY, y = CONC_MEAN*100)) +\n",
        "  geom_boxplot() +\n",
        "  geom_point(data = means_data, aes(y = CONC_MEAN), color = \"red\", size = 2) +\n",
        "  facet_grid(. ~ DEPTH) +\n",
        "  ylab('Percent B6CA in POM soil fraction') +\n",
        "  xlab('Burn Severity Class') +\n",
        "  theme_bw()+\n",
        "  theme(axis.text.x = element_text(angle = 45, hjust = 1), text = element_text(size = 14))\n"
      ],
      "metadata": {
        "colab": {
          "base_uri": "https://localhost:8080/",
          "height": 472
        },
        "id": "e7isOB8_lQG5",
        "outputId": "b8c4167f-5f01-495e-be74-3b824bd26e97"
      },
      "execution_count": 106,
      "outputs": [
        {
          "output_type": "stream",
          "name": "stderr",
          "text": [
            "Warning message:\n",
            "“\u001b[1m\u001b[22mRemoved 247 rows containing non-finite values (`stat_boxplot()`).”\n"
          ]
        },
        {
          "output_type": "display_data",
          "data": {
            "text/plain": [
              "plot without title"
            ],
            "image/png": "[encoded data removed]"
          },
          "metadata": {
            "image/png": {
              "width": 420,
              "height": 420
            }
          }
        }
      ]
    },
    {
      "cell_type": "code",
      "source": [
        "means_data <- LF_stoic_dt[!is.na(burn_severity) & burn_severity != 'blank' & Depth != '10-30 cm',\n",
        "                          .(mean_conc = mean(conc_avg, na.rm = TRUE)*100),\n",
        "                          by = .(burn_severity)]\n",
        "\n",
        "ggplot(LF_stoic_dt, aes(x = burn_severity, y = conc_avg*100)) +\n",
        "    geom_boxplot( ) +\n",
        "    geom_point(data = means_data, aes(y = mean_conc), color = \"red\", size = 2) +\n",
        "    # facet_grid(.~.) +\n",
        "    # ylim(0,1000000)+\n",
        "    xlab('Burn Severity Class') +\n",
        "        theme(axis.text.x = element_text(angle = 45, hjust=1))"
      ],
      "metadata": {
        "colab": {
          "base_uri": "https://localhost:8080/",
          "height": 472
        },
        "id": "pXxAT18GtSsu",
        "outputId": "0be9f765-98dd-4922-b7f1-c44a79b57c6c"
      },
      "execution_count": 20,
      "outputs": [
        {
          "output_type": "stream",
          "name": "stderr",
          "text": [
            "Warning message:\n",
            "“\u001b[1m\u001b[22mRemoved 323 rows containing non-finite values (`stat_boxplot()`).”\n"
          ]
        },
        {
          "output_type": "display_data",
          "data": {
            "text/plain": [
              "plot without title"
            ],
            "image/png": "[encoded data removed]"
          },
          "metadata": {
            "image/png": {
              "width": 420,
              "height": 420
            }
          }
        }
      ]
    },
    {
      "cell_type": "code",
      "source": [
        "bpca_dt[!is.na(`Burn_severity`) &\n",
        "        Burn_severity != 'blank'  &\n",
        "        Depth != '10-30' ] %>%\n",
        "\n",
        "ggplot(aes(x = factor(Burn_severity,\n",
        "        level=c('control', 'low', 'moderate','high')),\n",
        "        y = conc_mean)) +\n",
        "    geom_boxplot( ) +\n",
        "    geom_point()+\n",
        "    # geom_smooth(method = 'lm')+\n",
        "    # facet_grid(.~.) +\n",
        "    #  ylim(0,10000000)+\n",
        "#   geom_smooth(method = 'lm')+\n",
        "    xlab('Burn Severity Class') +\n",
        "        theme(axis.text.x = element_text(angle = 45, hjust=1))"
      ],
      "metadata": {
        "colab": {
          "base_uri": "https://localhost:8080/",
          "height": 210
        },
        "id": "ppkxaDJvtW5B",
        "outputId": "9a030fa3-d5bd-4704-d627-c27c45db0ef3"
      },
      "execution_count": 21,
      "outputs": [
        {
          "output_type": "error",
          "ename": "ERROR",
          "evalue": "Error in eval(expr, envir, enclos): object 'bpca_dt' not found\n",
          "traceback": [
            "Error in eval(expr, envir, enclos): object 'bpca_dt' not found\nTraceback:\n",
            "1. bpca_dt[!is.na(Burn_severity) & Burn_severity != \"blank\" & Depth != \n .     \"10-30\"] %>% ggplot(aes(x = factor(Burn_severity, level = c(\"control\", \n .     \"low\", \"moderate\", \"high\")), y = conc_mean))",
            "2. ggplot(., aes(x = factor(Burn_severity, level = c(\"control\", \n .     \"low\", \"moderate\", \"high\")), y = conc_mean))"
          ]
        }
      ]
    },
    {
      "cell_type": "code",
      "source": [
        "\n",
        "LF_stoic_dt[,Depth := factor(Depth, levels = c('0-5','5-10','10-20','20-30'))]\n",
        "LF_stoic_dt[,conc_avg := mean(c(conc_216,conc_240),na.rm=T),by=1:nrow(LF_stoic_dt)]\n",
        "\n",
        "\n",
        "\n",
        "LF_stoic_dt[!is.na(Depth)][,list(conc_avg = mean(conc_avg,na.rm=T)),by=.(site,burn_severity)] %>%\n",
        "ggplot(aes(y=conc_avg,x=burn_severity))+\n",
        "  geom_signif(aes(),comparisons = list(c(1,2),c(1,3),c(1,4)),\n",
        "            map_signif_level=TRUE,step_increase=.05) +\n",
        "    geom_boxplot(aes(group=burn_severity))\n",
        "    # facet_wrap(.~.)"
      ],
      "metadata": {
        "id": "_-azAIijtaNt"
      },
      "execution_count": null,
      "outputs": []
    },
    {
      "cell_type": "code",
      "source": [
        "LF_stoic_dt %>% names"
      ],
      "metadata": {
        "id": "kQkWRfhVsin5"
      },
      "execution_count": null,
      "outputs": []
    },
    {
      "cell_type": "code",
      "source": [
        "# LF_stoic_dt <- fread\n",
        "LF_stoic_dt[,Depth := paste0(depth_upper_cm %>% as.numeric,'-',depth_lower_cm %>% as.numeric) %>%  factor(levels= c('0-5','5-10','10-20','10-30','20-30','blank'))]"
      ],
      "metadata": {
        "id": "wzTP2w6gs7lJ"
      },
      "execution_count": null,
      "outputs": []
    },
    {
      "cell_type": "code",
      "source": [
        "LF_stoic_dt %>% names"
      ],
      "metadata": {
        "id": "bLoGTPpnXKSa"
      },
      "execution_count": null,
      "outputs": []
    },
    {
      "cell_type": "code",
      "source": [
        "# (conc_240/bpca_starting_mass_mg)*(fractionation_mass_recovered_g/starting_fract_mass_soil_g)*(C/100)\n",
        "LF_stoic_dt[,g_kg := (conc_avg/bpca_starting_mass_mg) ]\n",
        "LF_stoic_dt[,g_kg := mass_proportion_recovered/conc_avg,by=1:nrow(LF_stoic_dt)]\n",
        "LF_stoic_dt$g_kg <- (LF_stoic_dt$conc_avg/LF_stoic_dt$bpca_starting_mass_mg)\n",
        "LF_stoic_dt[!is.na(Depth)&!is.na(burn_severity),list(g_kg=mean(g_kg,na.rm = T)),by=.(burn_severity,site)] %>%\n",
        "ggplot(aes(x = burn_severity, y = g_kg)) +\n",
        "  geom_boxplot() +\n",
        "  # geom_point(aes(y=group_mean),color='red')+\n",
        "  #(bquote('Mean light fraction soil carbon content ('*mg~ 'C' ~g^-1~'soil'*')'))\n",
        "  ylab(bquote('PyC concentration ('*g~ 'B6CA'~kg^-1~' C'*')'))+\n",
        "  xlab('Soil Burn Severity Class') +\n",
        "      theme_bw()+\n",
        "      theme(text = element_text(size=15),axis.text.x = element_text(angle = 45, hjust=1)) +\n",
        "  geom_signif(aes(),comparisons = list(c(1,2),c(1,3),c(1,4)),\n",
        "            map_signif_level=TRUE,step_increase=.05) +\n",
        "  # facet_grid(.~Depth) +\n",
        "  coord_cartesian(expand=TRUE)"
      ],
      "metadata": {
        "colab": {
          "base_uri": "https://localhost:8080/",
          "height": 106
        },
        "id": "a2F5SU0Utf9A",
        "outputId": "3632bd29-0af5-4cab-9cdc-796a0e65e59d"
      },
      "execution_count": 77,
      "outputs": [
        {
          "output_type": "error",
          "ename": "ERROR",
          "evalue": "Error in eval(expr, envir, enclos): object 'LF_stoic_dt' not found\n",
          "traceback": [
            "Error in eval(expr, envir, enclos): object 'LF_stoic_dt' not found\nTraceback:\n"
          ]
        }
      ]
    },
    {
      "cell_type": "code",
      "source": [
        "\n",
        "LF_stoic_dt$g_kg <- (LF_stoic_dt$conc_avg/LF_stoic_dt$bpca_starting_mass_mg)\n",
        "LF_stoic_dt[!is.na(Depth)&!is.na(burn_severity),list(g_kg=mean(g_kg,na.rm = T)),by=.(burn_severity,site,Depth)] %>%\n",
        "aov(g_kg ~ burn_severity, data = .) %>%\n",
        "summary()"
      ],
      "metadata": {
        "id": "7XEjT7ansZRw"
      },
      "execution_count": null,
      "outputs": []
    },
    {
      "cell_type": "code",
      "source": [
        "\n",
        "LF_stoic_dt$g_kg <- (LF_stoic_dt$conc_avg/LF_stoic_dt$bpca_starting_mass_mg)\n",
        "LF_stoic_dt[!is.na(Depth)&!is.na(burn_severity),] %>%\n",
        "ggplot(aes(x = burn_severity, y = g_kg)) +\n",
        "  geom_boxplot() +\n",
        "  # geom_point(aes(y=group_mean),color='red')+\n",
        "  #(bquote('Mean light fraction soil carbon content ('*mg~ 'C' ~g^-1~'soil'*')'))\n",
        "  ylab(bquote('PyC concentration ('*g~ 'B6CA'~kg^-1~' C'*')'))+\n",
        "  xlab('Soil Burn Severity Class') +\n",
        "      theme_bw()+\n",
        "      theme(text = element_text(size=15),axis.text.x = element_text(angle = 45, hjust=1)) +\n",
        "  geom_signif(aes(),comparisons = list(c(1,2),c(1,3),c(1,4)),\n",
        "            map_signif_level=TRUE,step_increase=.05) +\n",
        "  facet_grid(.~Depth) +\n",
        "  coord_cartesian(expand=TRUE)"
      ],
      "metadata": {
        "id": "RGkSx-oNtoCe"
      },
      "execution_count": null,
      "outputs": []
    },
    {
      "cell_type": "code",
      "source": [
        "LF_stoic_dt$g_kg <- (LF_stoic_dt$conc_avg/LF_stoic_dt$bpca_starting_mass_mg)\n",
        "LF_stoic_dt[!is.na(Depth)&!is.na(burn_severity)&fraction!='BULK',] %>%\n",
        "ggplot(aes(x = burn_severity, y = C_perc)) +\n",
        "  geom_boxplot() +\n",
        "  # geom_point(aes(y=group_mean),color='red')+\n",
        "  #(bquote('Mean light fraction soil carbon content ('*mg~ 'C' ~g^-1~'soil'*')'))\n",
        "  ylab(bquote('PyC concentration ('*g~ 'B6CA'~kg^-1~' C'*')'))+\n",
        "  xlab('Soil Burn Severity Class') +\n",
        "      theme_bw()+\n",
        "      theme(text = element_text(size=15),axis.text.x = element_text(angle = 45, hjust=1)) +\n",
        "  # geom_signif(aes(),comparisons = list(c(1,2),c(1,3),c(1,4)),\n",
        "  #           map_signif_level=TRUE,step_increase=.05) +\n",
        "  facet_grid(fraction~Depth,scales='free') +\n",
        "  coord_cartesian(expand=TRUE)"
      ],
      "metadata": {
        "id": "d2i9UhExts9d"
      },
      "execution_count": null,
      "outputs": []
    },
    {
      "cell_type": "code",
      "source": [
        "LF_stoic_dt[!is.na(Depth)&!is.na(burn_severity),][fraction !='BULK'][C_perc/N_perc <100] %>%\n",
        "ggplot(aes(x = burn_severity, y =C_N)) +\n",
        "  geom_boxplot() +\n",
        "  # geom_point(aes(y=group_mean),color='red')+\n",
        "  #(bquote('Mean light fraction soil carbon content ('*mg~ 'C' ~g^-1~'soil'*')'))\n",
        "  ylab(bquote('PyC concentration ('*g~ 'B6CA'~kg^-1~' C'*')'))+\n",
        "  xlab('Soil Burn Severity Class') +\n",
        "      theme_bw()+\n",
        "      theme(text = element_text(size=15),axis.text.x = element_text(angle = 45, hjust=1)) +\n",
        "  # geom_signif(aes(),comparisons = list(c(1,2),c(1,3),c(1,4)),\n",
        "  #           map_signif_level=TRUE,step_increase=.05) +\n",
        "  facet_grid(fraction~Depth,scales = 'free_y') +\n",
        "  coord_cartesian(expand=TRUE)"
      ],
      "metadata": {
        "id": "nOGTzIWMtxMR"
      },
      "execution_count": null,
      "outputs": []
    },
    {
      "cell_type": "code",
      "source": [
        "LF_stoic_dt[!is.na(Depth)&!is.na(burn_severity),][fraction !='BULK'][C_perc/N_perc <100] %>%\n",
        "ggplot(aes(x = burn_severity, y =C_N,group=burn_severity)) +\n",
        "  geom_boxplot() +\n",
        "  # geom_point(aes(y=group_mean),color='red')+\n",
        "  #(bquote('Mean light fraction soil carbon content ('*mg~ 'C' ~g^-1~'soil'*')'))\n",
        "  #ylab(bquote('PyC concentration ('*g~ 'B6CA'~kg^-1~' C'*')'))+\n",
        "  ylab('') +\n",
        "  xlab('Soil Burn Severity Class') +\n",
        "      theme_bw()+\n",
        "      theme(text = element_text(size=15),axis.text.x = element_text(angle = 45, hjust=1)) +\n",
        "  # geom_signif(aes(),comparisons = list(c(1,2),c(1,3),c(1,4)),\n",
        "  #           map_signif_level=TRUE,step_increase=.05) +\n",
        "  facet_grid(fraction~Depth,scales = 'free_y') +\n",
        "  coord_cartesian(expand=TRUE)"
      ],
      "metadata": {
        "id": "ebp0fgoPt0cX"
      },
      "execution_count": null,
      "outputs": []
    }
  ]
}