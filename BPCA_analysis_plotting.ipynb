{
  "nbformat": 4,
  "nbformat_minor": 0,
  "metadata": {
    "colab": {
      "provenance": [],
      "authorship_tag": "ABX9TyMzGOWfVmF9w+boOOinEN/q",
      "include_colab_link": true
    },
    "kernelspec": {
      "name": "ir",
      "display_name": "R"
    },
    "language_info": {
      "name": "R"
    }
  },
  "cells": [
    {
      "cell_type": "markdown",
      "metadata": {
        "id": "view-in-github",
        "colab_type": "text"
      },
      "source": [
        "<a href=\"https://colab.research.google.com/github/hayleypc/BPCA_HFF/blob/main/BPCA_analysis_plotting.ipynb\" target=\"_parent\"><img src=\"https://colab.research.google.com/assets/colab-badge.svg\" alt=\"Open In Colab\"/></a>"
      ]
    },
    {
      "cell_type": "code",
      "source": [
        "install.packages(c('data.table','ggplot2','magrittr','rstatix','plotrix','ggsignif',\"googledrive\",'openxlsx','sf','ggpubr','forcats'))"
      ],
      "metadata": {
        "colab": {
          "base_uri": "https://localhost:8080/"
        },
        "id": "Weq65XrlMbXx",
        "outputId": "7385fe9f-d5be-4d33-af25-744f7458aa4a"
      },
      "execution_count": 1,
      "outputs": [
        {
          "output_type": "stream",
          "name": "stderr",
          "text": [
            "Installing packages into ‘/usr/local/lib/R/site-library’\n",
            "(as ‘lib’ is unspecified)\n",
            "\n",
            "also installing the dependencies ‘numDeriv’, ‘SparseM’, ‘MatrixModels’, ‘minqa’, ‘nloptr’, ‘RcppEigen’, ‘proxy’, ‘carData’, ‘abind’, ‘pbkrtest’, ‘quantreg’, ‘lme4’, ‘e1071’, ‘wk’, ‘corrplot’, ‘car’, ‘Rcpp’, ‘classInt’, ‘s2’, ‘units’, ‘ggrepel’, ‘ggsci’, ‘cowplot’, ‘gridExtra’, ‘polynom’\n",
            "\n",
            "\n"
          ]
        }
      ]
    },
    {
      "cell_type": "code",
      "source": [
        "library(data.table)\n",
        "library(ggplot2)\n",
        "library(magrittr)\n",
        "library(rstatix)\n",
        "library(ggsignif)\n",
        "library(plotrix)\n",
        "library(googledrive)\n",
        "library(openxlsx)\n",
        "library(sf)\n",
        "library(ggpubr)\n",
        "library(forcats)"
      ],
      "metadata": {
        "colab": {
          "base_uri": "https://localhost:8080/"
        },
        "id": "sXmKHIq0MfZW",
        "outputId": "7a2cd8b0-28ba-42d3-b25a-b9a084af32d0"
      },
      "execution_count": 2,
      "outputs": [
        {
          "output_type": "stream",
          "name": "stderr",
          "text": [
            "\n",
            "Attaching package: ‘rstatix’\n",
            "\n",
            "\n",
            "The following object is masked from ‘package:stats’:\n",
            "\n",
            "    filter\n",
            "\n",
            "\n",
            "Linking to GEOS 3.10.2, GDAL 3.4.3, PROJ 8.2.1; sf_use_s2() is TRUE\n",
            "\n"
          ]
        }
      ]
    },
    {
      "cell_type": "code",
      "source": [
        "drive_auth(use_oob = TRUE, cache = FALSE)"
      ],
      "metadata": {
        "colab": {
          "base_uri": "https://localhost:8080/"
        },
        "id": "ClsFSfbxMkft",
        "outputId": "69611a7b-4428-43a0-ee71-1aa12f64b827"
      },
      "execution_count": 3,
      "outputs": [
        {
          "output_type": "stream",
          "name": "stderr",
          "text": [
            "Please point your browser to the following url: \n",
            "\n",
            "https://accounts.google.com/o/oauth2/v2/auth?client_id=603366585132-frjlouoa3s2ono25d2l9ukvhlsrlnr7k.apps.googleusercontent.com&scope=https%3A%2F%2Fwww.googleapis.com%2Fauth%2Fdrive%20https%3A%2F%2Fwww.googleapis.com%2Fauth%2Fuserinfo.email&redirect_uri=https%3A%2F%2Fwww.tidyverse.org%2Fgoogle-callback%2F&response_type=code&state=e2041fc63844f3c3b0e89ff5b7ae9c22&access_type=offline&prompt=consent\n",
            "\n"
          ]
        },
        {
          "name": "stdout",
          "output_type": "stream",
          "text": [
            "Enter authorization code: eyJjb2RlIjoiNC8wQWZKb2hYazZOcUF4Qm5KdHVpNUs1dG9yd0JodndFbWlmdzhnMm5JM1pvQVFQaFdsa3lBSF9JdDdBQ0xXTVlaXzZvRlJXZyIsInN0YXRlIjoiZTIwNDFmYzYzODQ0ZjNjM2IwZTg5ZmY1YjdhZTljMjIifQ==\n"
          ]
        }
      ]
    },
    {
      "cell_type": "code",
      "source": [
        "\n",
        "# https://drive.google.com/file/d/1HlTOdV5IfKyUPac13dOoKbng7VKLvqVv/view?usp=drive_link\n",
        "drive_download(file = as_id('1HlTOdV5IfKyUPac13dOoKbng7VKLvqVv'), path = '/content/firehistory_region_intersect.gpkg', overwrite = TRUE)"
      ],
      "metadata": {
        "colab": {
          "base_uri": "https://localhost:8080/"
        },
        "id": "bFo_f73jm8ue",
        "outputId": "f2b2a462-a793-4d51-94bb-d2d65ef1c13d"
      },
      "execution_count": 4,
      "outputs": [
        {
          "output_type": "stream",
          "name": "stderr",
          "text": [
            "File downloaded:\n",
            "\n",
            "• \u001b[36mfirehistory_region_intersect.gpkg\u001b[39m \u001b[90m<id: 1HlTOdV5IfKyUPac13dOoKbng7VKLvqVv>\u001b[39m\n",
            "\n",
            "Saved locally as:\n",
            "\n",
            "• \u001b[34m/content/firehistory_region_intersect.gpkg\u001b[39m\n",
            "\n"
          ]
        }
      ]
    },
    {
      "cell_type": "code",
      "source": [
        "# Coarse Woody Debris\n",
        "# https://drive.google.com/file/d/1pXM6XIxxWL_Lsqyms1jtuuFcEHCjyLF0/view?usp=drive_link\n",
        "drive_download(file = as_id('1pXM6XIxxWL_Lsqyms1jtuuFcEHCjyLF0'), path = '/content/cwd_rate_table.csv', overwrite = TRUE)"
      ],
      "metadata": {
        "colab": {
          "base_uri": "https://localhost:8080/"
        },
        "id": "ahkDEkfQMlJt",
        "outputId": "47954aa1-89ca-45d0-84b8-762df6fc88a2"
      },
      "execution_count": 5,
      "outputs": [
        {
          "output_type": "stream",
          "name": "stderr",
          "text": [
            "File downloaded:\n",
            "\n",
            "• \u001b[36mcwd_rate_table.csv\u001b[39m \u001b[90m<id: 1pXM6XIxxWL_Lsqyms1jtuuFcEHCjyLF0>\u001b[39m\n",
            "\n",
            "Saved locally as:\n",
            "\n",
            "• \u001b[34m/content/cwd_rate_table.csv\u001b[39m\n",
            "\n"
          ]
        }
      ]
    },
    {
      "cell_type": "code",
      "source": [
        "# LF fractionation\n",
        "file_id <- (drive_ls(path = as_id('1zi4l899vHE0cXpNpOkbafP3cmdkXhwKm')) %>% data.table)[name == 'full_bpca_exp_dt.csv']$id\n",
        "\n",
        "drive_download(file = as_id(file_id), path = '/content/full_bpca_exp_dt.csv', overwrite = TRUE)"
      ],
      "metadata": {
        "colab": {
          "base_uri": "https://localhost:8080/"
        },
        "id": "Om9VDXVoOX1G",
        "outputId": "065f20db-337c-417a-83a5-79599d0bb722"
      },
      "execution_count": 6,
      "outputs": [
        {
          "output_type": "stream",
          "name": "stderr",
          "text": [
            "File downloaded:\n",
            "\n",
            "• \u001b[36mfull_bpca_exp_dt.csv\u001b[39m \u001b[90m<id: 1664xblDUK5yG4zzhhXXomgwK-wR6p31b>\u001b[39m\n",
            "\n",
            "Saved locally as:\n",
            "\n",
            "• \u001b[34m/content/full_bpca_exp_dt.csv\u001b[39m\n",
            "\n"
          ]
        }
      ]
    },
    {
      "cell_type": "code",
      "source": [
        "# BPCA Standards\n",
        "file_id <- (drive_ls(path = as_id('1zi4l899vHE0cXpNpOkbafP3cmdkXhwKm')) %>% data.table)[name == 'standards.csv']$id\n",
        "\n",
        "drive_download(file = as_id(file_id), path = '/content/standards.csv', overwrite = TRUE)"
      ],
      "metadata": {
        "colab": {
          "base_uri": "https://localhost:8080/"
        },
        "id": "aJPaxL93BJzs",
        "outputId": "8baac33d-ed9c-483c-d174-9eec49e0302c"
      },
      "execution_count": 7,
      "outputs": [
        {
          "output_type": "stream",
          "name": "stderr",
          "text": [
            "File downloaded:\n",
            "\n",
            "• \u001b[36mstandards.csv\u001b[39m \u001b[90m<id: 1zNR-qpUKPnO6OpArQYuuweoMG505F7pw>\u001b[39m\n",
            "\n",
            "Saved locally as:\n",
            "\n",
            "• \u001b[34m/content/standards.csv\u001b[39m\n",
            "\n"
          ]
        }
      ]
    },
    {
      "cell_type": "code",
      "source": [
        "# Site level data\n",
        "#https://drive.google.com/file/d/1jl5hrmDSY_4Fw6C7y0tXifYITMI7EzIh/view?usp=drive_link\n",
        "\n",
        "file_id <- (drive_ls(path = as_id('1zi4l899vHE0cXpNpOkbafP3cmdkXhwKm')) %>% data.table)[name == '2023_01_07_HFF_site_level.csv']$id\n",
        "\n",
        "drive_download(file = as_id(file_id), path = '/content/2023_01_07_HFF_site_level.csv', overwrite = TRUE)"
      ],
      "metadata": {
        "colab": {
          "base_uri": "https://localhost:8080/"
        },
        "id": "XeP8XlrOpKVJ",
        "outputId": "637cb51a-b931-46f8-c1b4-a3985ddabf67"
      },
      "execution_count": 8,
      "outputs": [
        {
          "output_type": "stream",
          "name": "stderr",
          "text": [
            "File downloaded:\n",
            "\n",
            "• \u001b[36m2023_01_07_HFF_site_level.csv\u001b[39m \u001b[90m<id: 1jl5hrmDSY_4Fw6C7y0tXifYITMI7EzIh>\u001b[39m\n",
            "\n",
            "Saved locally as:\n",
            "\n",
            "• \u001b[34m/content/2023_01_07_HFF_site_level.csv\u001b[39m\n",
            "\n"
          ]
        }
      ]
    },
    {
      "cell_type": "code",
      "source": [
        "# Bulk Density\n",
        "\n",
        "#https://drive.google.com/file/d/1qc7PMNOWeV-XAByKg157Ztvtnxj_7D35/view?usp=drive_link\n",
        "\n",
        "file_id <- (drive_ls(path = as_id('1zi4l899vHE0cXpNpOkbafP3cmdkXhwKm')) %>% data.table)[name == 'HFF_soil_Db.csv']$id\n",
        "\n",
        "drive_download(file = as_id(file_id), path = '/content/HFF_soil_Db.csv', overwrite = TRUE)"
      ],
      "metadata": {
        "colab": {
          "base_uri": "https://localhost:8080/"
        },
        "id": "8vRKdHR3pSgY",
        "outputId": "e5bd5746-71d4-4a2b-8299-64d4249d4a1e"
      },
      "execution_count": 9,
      "outputs": [
        {
          "output_type": "stream",
          "name": "stderr",
          "text": [
            "File downloaded:\n",
            "\n",
            "• \u001b[36mHFF_soil_Db.csv\u001b[39m \u001b[90m<id: 1qc7PMNOWeV-XAByKg157Ztvtnxj_7D35>\u001b[39m\n",
            "\n",
            "Saved locally as:\n",
            "\n",
            "• \u001b[34m/content/HFF_soil_Db.csv\u001b[39m\n",
            "\n"
          ]
        }
      ]
    },
    {
      "cell_type": "code",
      "source": [
        "cwd_rate_table <- fread('/content/cwd_rate_table.csv')"
      ],
      "metadata": {
        "id": "wdlrkZFRUFmw"
      },
      "execution_count": 107,
      "outputs": []
    },
    {
      "cell_type": "code",
      "source": [
        "full_bpca_exp_dt <- fread('/content/full_bpca_exp_dt.csv')"
      ],
      "metadata": {
        "id": "VVnqOiigBjOz"
      },
      "execution_count": 108,
      "outputs": []
    },
    {
      "cell_type": "code",
      "source": [
        "sites_dt <- fread('/content/2023_01_07_HFF_site_level.csv')"
      ],
      "metadata": {
        "id": "2Ro2RRpAvAPq"
      },
      "execution_count": 109,
      "outputs": []
    },
    {
      "cell_type": "code",
      "source": [
        "stocks_dt <- fread('/content/HFF_soil_Db.csv')"
      ],
      "metadata": {
        "id": "0TZ9XzBIu_-9"
      },
      "execution_count": 110,
      "outputs": []
    },
    {
      "cell_type": "code",
      "source": [
        "firehist_dt <- st_read('/content/firehistory_region_intersect.gpkg') %>% as.data.table"
      ],
      "metadata": {
        "colab": {
          "base_uri": "https://localhost:8080/"
        },
        "id": "izPvoHzjhsMq",
        "outputId": "fc688b87-0ed0-49d6-c151-bb970b8ae5c2"
      },
      "execution_count": 111,
      "outputs": [
        {
          "output_type": "stream",
          "name": "stdout",
          "text": [
            "Reading layer `firehistory_region_intersect' from data source \n",
            "  `/content/firehistory_region_intersect.gpkg' using driver `GPKG'\n",
            "Simple feature collection with 2624 features and 25 fields\n",
            "Geometry type: POINT\n",
            "Dimension:     XY\n",
            "Bounding box:  xmin: -122.2572 ymin: 44.20016 xmax: -122.2167 ymax: 44.22144\n",
            "Geodetic CRS:  WGS 84\n"
          ]
        }
      ]
    },
    {
      "cell_type": "code",
      "source": [
        "firehist_dt[,years_after:=2023-EPISODE]\n",
        "events_dt <- firehist_dt[EPISODE>0,list(SITE=Site,fire_count=length(unique(EPISODE)),fire_frequency = mean(unique(years_after))/length(unique(years_after))),by=\n",
        "  c('Site')]\n",
        "  events_dt$Site <- NULL\n",
        "# events_dt"
      ],
      "metadata": {
        "id": "0q58OddWhzR1"
      },
      "execution_count": 112,
      "outputs": []
    },
    {
      "cell_type": "code",
      "source": [
        "full_bpca_exp_dt$V1 <- NULL"
      ],
      "metadata": {
        "id": "mevCy7BOBnFi"
      },
      "execution_count": 113,
      "outputs": []
    },
    {
      "cell_type": "code",
      "source": [
        "cwd_rate_table$V1 <- NULL\n",
        "names(cwd_rate_table)[1] <- 'SITE'"
      ],
      "metadata": {
        "id": "1zuu058563lh"
      },
      "execution_count": 114,
      "outputs": []
    },
    {
      "cell_type": "code",
      "source": [
        "full_bpca_exp_dt <- merge(full_bpca_exp_dt,stocks_dt[,c('SITE','DEPTH','BULKD')],by=c('SITE','DEPTH'))"
      ],
      "metadata": {
        "id": "6uZoDv2I1QIO"
      },
      "execution_count": 115,
      "outputs": []
    },
    {
      "cell_type": "code",
      "source": [
        "full_bpca_exp_dt <- merge(full_bpca_exp_dt,cwd_rate_table,by=c('SITE'))"
      ],
      "metadata": {
        "id": "tRUuxZbHFXnR"
      },
      "execution_count": 116,
      "outputs": []
    },
    {
      "cell_type": "code",
      "source": [
        "#full_bpca_exp_dt <- merge(full_bpca_exp_dt,events_dt,by=c('SITE'))"
      ],
      "metadata": {
        "id": "JRn8Kav8iPmc"
      },
      "execution_count": 117,
      "outputs": []
    },
    {
      "cell_type": "code",
      "source": [
        "full_bpca_exp_dt$FRACTION <- full_bpca_exp_dt$FRACTION  %>% factor(levels = c('LF','HF','BULK'))\n",
        "full_bpca_exp_dt$DEPTH <- full_bpca_exp_dt$DEPTH  %>% factor(levels = c('0-5','5-10','10-20','20-30'))\n",
        "full_bpca_exp_dt$BURN_SEVERITY <- full_bpca_exp_dt$BURN_SEVERITY  %>% factor(levels = c('control','low','moderate','high'))"
      ],
      "metadata": {
        "id": "1Hb0yGktGAZs"
      },
      "execution_count": 118,
      "outputs": []
    },
    {
      "cell_type": "code",
      "source": [
        "full_bpca_exp_dt %>% names"
      ],
      "metadata": {
        "colab": {
          "base_uri": "https://localhost:8080/",
          "height": 86
        },
        "id": "CxJVXXC5FqoL",
        "outputId": "52668f4c-ef28-4379-8f62-b1a1754f9acd"
      },
      "execution_count": 119,
      "outputs": [
        {
          "output_type": "display_data",
          "data": {
            "text/html": [
              "<style>\n",
              ".list-inline {list-style: none; margin:0; padding: 0}\n",
              ".list-inline>li {display: inline-block}\n",
              ".list-inline>li:not(:last-child)::after {content: \"\\00b7\"; padding: 0 .5ex}\n",
              "</style>\n",
              "<ol class=list-inline><li>'SITE'</li><li>'DEPTH'</li><li>'FRACTION'</li><li>'BURN_SEVERITY'</li><li>'TREATMENT'</li><li>'DEPTH_UPPER'</li><li>'DEPTH_LOWER'</li><li>'CONC_240'</li><li>'CONC_216'</li><li>'CONC_MEAN'</li><li>'PEARSONS'</li><li>'FRACTIONATION_MASS_RECOVERED_G'</li><li>'STARTING_FRACT_MASS_SOIL_G'</li><li>'MASS_PROPORTION_RECOVERED'</li><li>'RECOVERY'</li><li>'C_PERC'</li><li>'N_PERC'</li><li>'ACCEPT'</li><li>'BPCA_STARTING_MASS_MG'</li><li>'BULKD'</li><li>'decayed_mass_kg'</li><li>'total_input'</li><li>'burn_decayed_mass_kg'</li><li>'wood_input_rate'</li><li>'wood_departure_rate'</li><li>'wood_accumulation_rate'</li><li>'years_to_capacity'</li><li>'years_to_recovery'</li></ol>\n"
            ],
            "text/markdown": "1. 'SITE'\n2. 'DEPTH'\n3. 'FRACTION'\n4. 'BURN_SEVERITY'\n5. 'TREATMENT'\n6. 'DEPTH_UPPER'\n7. 'DEPTH_LOWER'\n8. 'CONC_240'\n9. 'CONC_216'\n10. 'CONC_MEAN'\n11. 'PEARSONS'\n12. 'FRACTIONATION_MASS_RECOVERED_G'\n13. 'STARTING_FRACT_MASS_SOIL_G'\n14. 'MASS_PROPORTION_RECOVERED'\n15. 'RECOVERY'\n16. 'C_PERC'\n17. 'N_PERC'\n18. 'ACCEPT'\n19. 'BPCA_STARTING_MASS_MG'\n20. 'BULKD'\n21. 'decayed_mass_kg'\n22. 'total_input'\n23. 'burn_decayed_mass_kg'\n24. 'wood_input_rate'\n25. 'wood_departure_rate'\n26. 'wood_accumulation_rate'\n27. 'years_to_capacity'\n28. 'years_to_recovery'\n\n\n",
            "text/latex": "\\begin{enumerate*}\n\\item 'SITE'\n\\item 'DEPTH'\n\\item 'FRACTION'\n\\item 'BURN\\_SEVERITY'\n\\item 'TREATMENT'\n\\item 'DEPTH\\_UPPER'\n\\item 'DEPTH\\_LOWER'\n\\item 'CONC\\_240'\n\\item 'CONC\\_216'\n\\item 'CONC\\_MEAN'\n\\item 'PEARSONS'\n\\item 'FRACTIONATION\\_MASS\\_RECOVERED\\_G'\n\\item 'STARTING\\_FRACT\\_MASS\\_SOIL\\_G'\n\\item 'MASS\\_PROPORTION\\_RECOVERED'\n\\item 'RECOVERY'\n\\item 'C\\_PERC'\n\\item 'N\\_PERC'\n\\item 'ACCEPT'\n\\item 'BPCA\\_STARTING\\_MASS\\_MG'\n\\item 'BULKD'\n\\item 'decayed\\_mass\\_kg'\n\\item 'total\\_input'\n\\item 'burn\\_decayed\\_mass\\_kg'\n\\item 'wood\\_input\\_rate'\n\\item 'wood\\_departure\\_rate'\n\\item 'wood\\_accumulation\\_rate'\n\\item 'years\\_to\\_capacity'\n\\item 'years\\_to\\_recovery'\n\\end{enumerate*}\n",
            "text/plain": [
              " [1] \"SITE\"                           \"DEPTH\"                         \n",
              " [3] \"FRACTION\"                       \"BURN_SEVERITY\"                 \n",
              " [5] \"TREATMENT\"                      \"DEPTH_UPPER\"                   \n",
              " [7] \"DEPTH_LOWER\"                    \"CONC_240\"                      \n",
              " [9] \"CONC_216\"                       \"CONC_MEAN\"                     \n",
              "[11] \"PEARSONS\"                       \"FRACTIONATION_MASS_RECOVERED_G\"\n",
              "[13] \"STARTING_FRACT_MASS_SOIL_G\"     \"MASS_PROPORTION_RECOVERED\"     \n",
              "[15] \"RECOVERY\"                       \"C_PERC\"                        \n",
              "[17] \"N_PERC\"                         \"ACCEPT\"                        \n",
              "[19] \"BPCA_STARTING_MASS_MG\"          \"BULKD\"                         \n",
              "[21] \"decayed_mass_kg\"                \"total_input\"                   \n",
              "[23] \"burn_decayed_mass_kg\"           \"wood_input_rate\"               \n",
              "[25] \"wood_departure_rate\"            \"wood_accumulation_rate\"        \n",
              "[27] \"years_to_capacity\"              \"years_to_recovery\"             "
            ]
          },
          "metadata": {}
        }
      ]
    },
    {
      "cell_type": "code",
      "source": [
        "full_bpca_exp_dt$DEPTH_UPPER  <- full_bpca_exp_dt$DEPTH %>% paste0 %>% strsplit('-') %>% lapply(function(x){x[1]}) %>% unlist %>% as.numeric\n",
        "full_bpca_exp_dt$DEPTH_LOWER  <- full_bpca_exp_dt$DEPTH %>% paste0 %>% strsplit('-') %>% lapply(function(x){x[2]}) %>% unlist %>% as.numeric\n",
        "full_bpca_exp_dt[,mg_ml_bpca := (CONC_MEAN/BPCA_STARTING_MASS_MG) ]\n",
        "full_bpca_exp_dt[,g_kg_bpca_lf := MASS_PROPORTION_RECOVERED*mg_ml_bpca,by=1:nrow(full_bpca_exp_dt)]\n",
        "#full_bpca_exp_dt[,g_PyC_kg_LF_C := (mg_ml_bpca/1000)/((C_PERC/100)*(1/1000)*MASS_PROPORTION_RECOVERED),by=1:nrow(full_bpca_exp_dt)]\n",
        "full_bpca_exp_dt[,g_PyC_kg_LF_C := (CONC_MEAN*BPCA_STARTING_MASS_MG/1000)/((C_PERC/100)*(1/1000)*MASS_PROPORTION_RECOVERED),by=1:nrow(full_bpca_exp_dt)]\n",
        "full_bpca_exp_dt[,per_bpca_carb_lf := mg_ml_bpca/(C_PERC/100),by=1:nrow(full_bpca_exp_dt)]\n",
        "full_bpca_exp_dt[,C_N := C_PERC/N_PERC,by=1:nrow(full_bpca_exp_dt)]\n",
        "full_bpca_exp_dt[,carbon_stock:= (DEPTH_LOWER %>% as.numeric - DEPTH_UPPER%>% as.numeric )*((BULKD %>% as.numeric ))*(C_PERC/100)*100]\n",
        "full_bpca_exp_dt[BURN_SEVERITY!='control',TREATMENT := 'treatment']\n",
        "full_bpca_exp_dt[BURN_SEVERITY=='control',TREATMENT := 'control']\n",
        "full_bpca_exp_dt[ ,TREATMENT := 'control']\n",
        "full_bpca_exp_dt[,exp_group:= SITE %>% gsub('C','',.) %>% substr(1,1)]"
      ],
      "metadata": {
        "id": "iOKJ8frbR0TT"
      },
      "execution_count": 120,
      "outputs": []
    },
    {
      "cell_type": "code",
      "source": [
        "full_bpca_exp_dt$g_PyC_kg_LF_C %>% qplot"
      ],
      "metadata": {
        "colab": {
          "base_uri": "https://localhost:8080/",
          "height": 492
        },
        "id": "225ylMF1iNpe",
        "outputId": "323a4086-10d5-4da8-cd95-a74a1daa479f"
      },
      "execution_count": 121,
      "outputs": [
        {
          "output_type": "stream",
          "name": "stderr",
          "text": [
            "\u001b[1m\u001b[22m`stat_bin()` using `bins = 30`. Pick better value with `binwidth`.\n",
            "Warning message:\n",
            "“\u001b[1m\u001b[22mRemoved 295 rows containing non-finite values (`stat_bin()`).”\n"
          ]
        },
        {
          "output_type": "display_data",
          "data": {
            "text/plain": [
              "plot without title"
            ],
            "image/png": "[encoded data removed]"
          },
          "metadata": {
            "image/png": {
              "width": 420,
              "height": 420
            }
          }
        }
      ]
    },
    {
      "cell_type": "code",
      "source": [
        "analysis_full_bpca_exp_dt <-\n",
        "full_bpca_exp_dt[ACCEPT =='T' &!is.na(DEPTH),list(\n",
        "  CONC_MEAN=mean(CONC_MEAN,na.rm=T),\n",
        "  C_PERC=mean(C_PERC,na.rm=T),\n",
        "  N_PERC=mean(N_PERC,na.rm=T),\n",
        "  C_N = mean(C_N,na.rm=T),\n",
        "  mg_ml_bpca=mean(mg_ml_bpca,na.rm=T),\n",
        "  g_kg_bpca_lf=mean(g_kg_bpca_lf,na.rm=T),\n",
        "  per_bpca_carb_lf = mean(per_bpca_carb_lf,na.rm=T),\n",
        "  carbon_stock = mean(carbon_stock,na.rm=T),\n",
        "  MASS_PROPORTION_RECOVERED=mean(MASS_PROPORTION_RECOVERED,na.rm=T),\n",
        "  decayed_mass_kg = mean(decayed_mass_kg,na.rm=T),\n",
        "  total_input = mean(total_input,na.rm=T),\n",
        "  burn_decayed_mass_kg = mean(burn_decayed_mass_kg,na.rm=T),\n",
        "  wood_input_rate = mean(wood_input_rate,na.rm=T),\n",
        "  wood_departure_rate = mean(wood_departure_rate,na.rm=T),\n",
        "  wood_accumulation_rate = mean(wood_accumulation_rate,na.rm=T),\n",
        "  years_to_capacity = mean(years_to_capacity,na.rm=T),\n",
        "  years_to_recovery = mean(years_to_recovery,na.rm=T)\n",
        " # fire_count = mean(fire_count,na.rm=T),\n",
        "#  fire_frequency = mean(fire_frequency,na.rm=T)\n",
        "  # 'decayed_mass_kg''total_input''burn_decayed_mass_kg''wood_input_rate''wood_departure_rate''wood_accumulation_rate''years_to_capacity''years_to_recovery\n",
        "  ),by=c('SITE','exp_group','FRACTION','DEPTH','BURN_SEVERITY','TREATMENT','DEPTH_UPPER','DEPTH_LOWER')]"
      ],
      "metadata": {
        "id": "LP2oqhBbWeYv"
      },
      "execution_count": 124,
      "outputs": []
    },
    {
      "cell_type": "code",
      "source": [
        "analysis_full_bpca_exp_dt$BURN_SEVERITY %>% table"
      ],
      "metadata": {
        "colab": {
          "base_uri": "https://localhost:8080/",
          "height": 72
        },
        "id": "-ggJWZRzO7J4",
        "outputId": "a6571acd-58f3-4a0d-b38a-dc7f7a7a0fdb"
      },
      "execution_count": 125,
      "outputs": [
        {
          "output_type": "display_data",
          "data": {
            "text/plain": [
              ".\n",
              " control      low moderate     high \n",
              "     180       60       60       60 "
            ]
          },
          "metadata": {}
        }
      ]
    },
    {
      "cell_type": "code",
      "source": [
        "names(analysis_full_bpca_exp_dt)"
      ],
      "metadata": {
        "colab": {
          "base_uri": "https://localhost:8080/",
          "height": 69
        },
        "id": "R3ktogAi97mg",
        "outputId": "da3ad792-aff4-4bfa-fa46-5eb662c165d6"
      },
      "execution_count": 126,
      "outputs": [
        {
          "output_type": "display_data",
          "data": {
            "text/html": [
              "<style>\n",
              ".list-inline {list-style: none; margin:0; padding: 0}\n",
              ".list-inline>li {display: inline-block}\n",
              ".list-inline>li:not(:last-child)::after {content: \"\\00b7\"; padding: 0 .5ex}\n",
              "</style>\n",
              "<ol class=list-inline><li>'SITE'</li><li>'exp_group'</li><li>'FRACTION'</li><li>'DEPTH'</li><li>'BURN_SEVERITY'</li><li>'TREATMENT'</li><li>'DEPTH_UPPER'</li><li>'DEPTH_LOWER'</li><li>'CONC_MEAN'</li><li>'C_PERC'</li><li>'N_PERC'</li><li>'C_N'</li><li>'mg_ml_bpca'</li><li>'g_kg_bpca_lf'</li><li>'per_bpca_carb_lf'</li><li>'carbon_stock'</li><li>'MASS_PROPORTION_RECOVERED'</li><li>'decayed_mass_kg'</li><li>'total_input'</li><li>'burn_decayed_mass_kg'</li><li>'wood_input_rate'</li><li>'wood_departure_rate'</li><li>'wood_accumulation_rate'</li><li>'years_to_capacity'</li><li>'years_to_recovery'</li></ol>\n"
            ],
            "text/markdown": "1. 'SITE'\n2. 'exp_group'\n3. 'FRACTION'\n4. 'DEPTH'\n5. 'BURN_SEVERITY'\n6. 'TREATMENT'\n7. 'DEPTH_UPPER'\n8. 'DEPTH_LOWER'\n9. 'CONC_MEAN'\n10. 'C_PERC'\n11. 'N_PERC'\n12. 'C_N'\n13. 'mg_ml_bpca'\n14. 'g_kg_bpca_lf'\n15. 'per_bpca_carb_lf'\n16. 'carbon_stock'\n17. 'MASS_PROPORTION_RECOVERED'\n18. 'decayed_mass_kg'\n19. 'total_input'\n20. 'burn_decayed_mass_kg'\n21. 'wood_input_rate'\n22. 'wood_departure_rate'\n23. 'wood_accumulation_rate'\n24. 'years_to_capacity'\n25. 'years_to_recovery'\n\n\n",
            "text/latex": "\\begin{enumerate*}\n\\item 'SITE'\n\\item 'exp\\_group'\n\\item 'FRACTION'\n\\item 'DEPTH'\n\\item 'BURN\\_SEVERITY'\n\\item 'TREATMENT'\n\\item 'DEPTH\\_UPPER'\n\\item 'DEPTH\\_LOWER'\n\\item 'CONC\\_MEAN'\n\\item 'C\\_PERC'\n\\item 'N\\_PERC'\n\\item 'C\\_N'\n\\item 'mg\\_ml\\_bpca'\n\\item 'g\\_kg\\_bpca\\_lf'\n\\item 'per\\_bpca\\_carb\\_lf'\n\\item 'carbon\\_stock'\n\\item 'MASS\\_PROPORTION\\_RECOVERED'\n\\item 'decayed\\_mass\\_kg'\n\\item 'total\\_input'\n\\item 'burn\\_decayed\\_mass\\_kg'\n\\item 'wood\\_input\\_rate'\n\\item 'wood\\_departure\\_rate'\n\\item 'wood\\_accumulation\\_rate'\n\\item 'years\\_to\\_capacity'\n\\item 'years\\_to\\_recovery'\n\\end{enumerate*}\n",
            "text/plain": [
              " [1] \"SITE\"                      \"exp_group\"                \n",
              " [3] \"FRACTION\"                  \"DEPTH\"                    \n",
              " [5] \"BURN_SEVERITY\"             \"TREATMENT\"                \n",
              " [7] \"DEPTH_UPPER\"               \"DEPTH_LOWER\"              \n",
              " [9] \"CONC_MEAN\"                 \"C_PERC\"                   \n",
              "[11] \"N_PERC\"                    \"C_N\"                      \n",
              "[13] \"mg_ml_bpca\"                \"g_kg_bpca_lf\"             \n",
              "[15] \"per_bpca_carb_lf\"          \"carbon_stock\"             \n",
              "[17] \"MASS_PROPORTION_RECOVERED\" \"decayed_mass_kg\"          \n",
              "[19] \"total_input\"               \"burn_decayed_mass_kg\"     \n",
              "[21] \"wood_input_rate\"           \"wood_departure_rate\"      \n",
              "[23] \"wood_accumulation_rate\"    \"years_to_capacity\"        \n",
              "[25] \"years_to_recovery\"        "
            ]
          },
          "metadata": {}
        }
      ]
    },
    {
      "cell_type": "code",
      "source": [
        "t_tests_fractions_dt <-\n",
        "c('HF','LF','BULK') %>%\n",
        "lapply(function(frac){\n",
        "# ,'CONC_MEAN','mg_ml_bpca','g_kg_bpca_lf','per_bpca_carb_lf'\n",
        "c('C_N','C_PERC','N_PERC','carbon_stock') %>%\n",
        "lapply(function(variable){\n",
        "c('H','M','L') %>%\n",
        "lapply(function(group){\n",
        "control_dt <- analysis_full_bpca_exp_dt[exp_group ==group][BURN_SEVERITY=='control'][FRACTION == frac]\n",
        "exp_dt <- analysis_full_bpca_exp_dt[exp_group ==group][BURN_SEVERITY!='control'][FRACTION == frac]\n",
        "\n",
        "\n",
        "exp_dt$DEPTH %>% levels %>%\n",
        "lapply(function(y){\n",
        "\n",
        "# if( (length(!(control_dt[FRACTION == frac][DEPTH==y][[variable]]%>% is.na)) >2) &\n",
        "#     (length(!(exp_dt[FRACTION == frac][DEPTH==y][[variable]] %>% is.na)) >2) ){\n",
        "      # print((length(!(control_dt[FRACTION == frac][DEPTH==y][[variable]]%>% is.na)) >2))\n",
        "      # print((length(!(exp_dt[FRACTION == frac][DEPTH==y][[variable]] %>% is.na)) >2) )\n",
        "      # print(frac)\n",
        "      # print(variable)\n",
        "t_result <- t.test(control_dt[FRACTION == frac][DEPTH==y][[variable]] ,exp_dt[FRACTION == frac][DEPTH==y][[variable]] )\n",
        "data.table(fraction=frac,\n",
        "          variable=variable,\n",
        "          burn_severity = unique(exp_dt$burn_severity),\n",
        "          depth=y,p=t_result$p.value,\n",
        "          control_m = mean(control_dt[FRACTION == frac][DEPTH==y][[variable]],na.rm=T),\n",
        "          control_sd = sd(control_dt[FRACTION == frac][DEPTH==y][[variable]],na.rm=T),\n",
        "          control_n = length(control_dt[FRACTION == frac][DEPTH==y][[variable]] ),\n",
        "          exp_m = mean(exp_dt[FRACTION == frac][DEPTH==y][[variable]],na.rm=T),\n",
        "          exp_sd = sd(exp_dt[FRACTION == frac][DEPTH==y][[variable]],na.rm=T),\n",
        "          exp_n = length(exp_dt[FRACTION == frac][DEPTH==y][[variable]] ),\n",
        "          exp_group = group\n",
        "          )\n",
        "# }else(return(NULL))\n",
        "}) %>% rbindlist\n",
        "}) %>% rbindlist\n",
        "}) %>% rbindlist\n",
        "}) %>% rbindlist"
      ],
      "metadata": {
        "id": "bdUjqxg1wV8k"
      },
      "execution_count": 128,
      "outputs": []
    },
    {
      "cell_type": "code",
      "source": [
        "t_tests_bpca_dt <-\n",
        "c( 'LF') %>%\n",
        "lapply(function(frac){\n",
        "# ,'CONC_MEAN','mg_ml_bpca','g_kg_bpca_lf','per_bpca_carb_lf'\n",
        "c('CONC_MEAN','mg_ml_bpca','g_kg_bpca_lf','per_bpca_carb_lf') %>%\n",
        "lapply(function(variable){\n",
        "c('H','M','L') %>%\n",
        "lapply(function(group){\n",
        "control_dt <- analysis_full_bpca_exp_dt[exp_group ==group][BURN_SEVERITY=='control'][FRACTION == frac]\n",
        "exp_dt <- analysis_full_bpca_exp_dt[exp_group ==group][BURN_SEVERITY!='control'][FRACTION == frac]\n",
        "\n",
        "\n",
        "exp_dt$DEPTH %>% levels %>%\n",
        "lapply(function(y){\n",
        "\n",
        "# if( (length(!(control_dt[FRACTION == frac][DEPTH==y][[variable]]%>% is.na)) >2) &\n",
        "#     (length(!(exp_dt[FRACTION == frac][DEPTH==y][[variable]] %>% is.na)) >2) ){\n",
        "      # print((length(!(control_dt[FRACTION == frac][DEPTH==y][[variable]]%>% is.na)) >2))\n",
        "      # print((length(!(exp_dt[FRACTION == frac][DEPTH==y][[variable]] %>% is.na)) >2) )\n",
        "      # print(frac)\n",
        "      # print(variable)\n",
        "t_result <- t.test(control_dt[FRACTION == frac][DEPTH==y][[variable]] ,exp_dt[FRACTION == frac][DEPTH==y][[variable]] )\n",
        "data.table(fraction=frac,\n",
        "          variable=variable,\n",
        "          burn_severity = unique(exp_dt$burn_severity),\n",
        "          depth=y,p=t_result$p.value,\n",
        "          control_m = mean(control_dt[FRACTION == frac][DEPTH==y][[variable]],na.rm=T),\n",
        "          control_sd = sd(control_dt[FRACTION == frac][DEPTH==y][[variable]],na.rm=T),\n",
        "          control_n = length(control_dt[FRACTION == frac][DEPTH==y][[variable]] ),\n",
        "          exp_m = mean(exp_dt[FRACTION == frac][DEPTH==y][[variable]],na.rm=T),\n",
        "          exp_sd = sd(exp_dt[FRACTION == frac][DEPTH==y][[variable]],na.rm=T),\n",
        "          exp_n = length(exp_dt[FRACTION == frac][DEPTH==y][[variable]] ),\n",
        "          exp_group = group\n",
        "          )\n",
        "# }else(return(NULL))\n",
        "}) %>% rbindlist\n",
        "}) %>% rbindlist\n",
        "}) %>% rbindlist\n",
        "}) %>% rbindlist"
      ],
      "metadata": {
        "id": "EUWoaAKYAXDb"
      },
      "execution_count": 129,
      "outputs": []
    },
    {
      "cell_type": "code",
      "source": [
        "t_tests_dwd_dt <-\n",
        "c('BULK') %>%\n",
        "lapply(function(frac){\n",
        "# ,'CONC_MEAN','mg_ml_bpca','g_kg_bpca_lf','per_bpca_carb_lf'\n",
        "c('decayed_mass_kg','total_input','burn_decayed_mass_kg','wood_input_rate','wood_departure_rate','wood_accumulation_rate','years_to_capacity','years_to_recovery') %>%\n",
        "lapply(function(variable){\n",
        "c('H','M','L') %>%\n",
        "lapply(function(group){\n",
        "control_dt <- analysis_full_bpca_exp_dt[exp_group ==group][BURN_SEVERITY=='control'][FRACTION == frac]\n",
        "exp_dt <- analysis_full_bpca_exp_dt[exp_group ==group][BURN_SEVERITY!='control'][FRACTION == frac]\n",
        "\n",
        "\n",
        "(exp_dt$DEPTH %>% levels)[1] %>%\n",
        "lapply(function(y){\n",
        "\n",
        "# if( (length(!(control_dt[FRACTION == frac][DEPTH==y][[variable]]%>% is.na)) >2) &\n",
        "#     (length(!(exp_dt[FRACTION == frac][DEPTH==y][[variable]] %>% is.na)) >2) ){\n",
        "      # print((length(!(control_dt[FRACTION == frac][DEPTH==y][[variable]]%>% is.na)) >2))\n",
        "      # print((length(!(exp_dt[FRACTION == frac][DEPTH==y][[variable]] %>% is.na)) >2) )\n",
        "      # print(frac)\n",
        "      # print(variable)\n",
        "t_result <- t.test(control_dt[FRACTION == frac][DEPTH==y][[variable]] ,exp_dt[FRACTION == frac][DEPTH==y][[variable]] )\n",
        "data.table(fraction=frac,\n",
        "          variable=variable,\n",
        "          burn_severity = unique(exp_dt$burn_severity),\n",
        "          depth=y,p=t_result$p.value,\n",
        "          control_m = mean(control_dt[FRACTION == frac][DEPTH==y][[variable]],na.rm=T),\n",
        "          control_sd = sd(control_dt[FRACTION == frac][DEPTH==y][[variable]],na.rm=T),\n",
        "          control_n = length(control_dt[FRACTION == frac][DEPTH==y][[variable]] ),\n",
        "          exp_m = mean(exp_dt[FRACTION == frac][DEPTH==y][[variable]],na.rm=T),\n",
        "          exp_sd = sd(exp_dt[FRACTION == frac][DEPTH==y][[variable]],na.rm=T),\n",
        "          exp_n = length(exp_dt[FRACTION == frac][DEPTH==y][[variable]] ),\n",
        "          exp_group = group\n",
        "          )\n",
        "# }else(return(NULL))\n",
        "}) %>% rbindlist\n",
        "}) %>% rbindlist\n",
        "}) %>% rbindlist\n",
        "}) %>% rbindlist"
      ],
      "metadata": {
        "id": "XwgeWml-F9mN"
      },
      "execution_count": 130,
      "outputs": []
    },
    {
      "cell_type": "code",
      "source": [
        "t_tests_dwd_dt[variable=='burn_decayed_mass_kg']"
      ],
      "metadata": {
        "colab": {
          "base_uri": "https://localhost:8080/",
          "height": 192
        },
        "id": "ljpO0fnWG3wN",
        "outputId": "5ac82d9c-cea8-47ec-8ecf-a40f092994e1"
      },
      "execution_count": 131,
      "outputs": [
        {
          "output_type": "display_data",
          "data": {
            "text/html": [
              "<table class=\"dataframe\">\n",
              "<caption>A data.table: 3 × 11</caption>\n",
              "<thead>\n",
              "\t<tr><th scope=col>fraction</th><th scope=col>variable</th><th scope=col>depth</th><th scope=col>p</th><th scope=col>control_m</th><th scope=col>control_sd</th><th scope=col>control_n</th><th scope=col>exp_m</th><th scope=col>exp_sd</th><th scope=col>exp_n</th><th scope=col>exp_group</th></tr>\n",
              "\t<tr><th scope=col>&lt;chr&gt;</th><th scope=col>&lt;chr&gt;</th><th scope=col>&lt;chr&gt;</th><th scope=col>&lt;dbl&gt;</th><th scope=col>&lt;dbl&gt;</th><th scope=col>&lt;dbl&gt;</th><th scope=col>&lt;int&gt;</th><th scope=col>&lt;dbl&gt;</th><th scope=col>&lt;dbl&gt;</th><th scope=col>&lt;int&gt;</th><th scope=col>&lt;chr&gt;</th></tr>\n",
              "</thead>\n",
              "<tbody>\n",
              "\t<tr><td>BULK</td><td>burn_decayed_mass_kg</td><td>0-5</td><td>0.14850514</td><td>6.764894</td><td>7.718483</td><td>5</td><td>0.5957299</td><td>0.5988446</td><td>5</td><td>H</td></tr>\n",
              "\t<tr><td>BULK</td><td>burn_decayed_mass_kg</td><td>0-5</td><td>0.17175069</td><td>7.858705</td><td>7.483177</td><td>5</td><td>2.1485254</td><td>3.0556919</td><td>5</td><td>M</td></tr>\n",
              "\t<tr><td>BULK</td><td>burn_decayed_mass_kg</td><td>0-5</td><td>0.03505987</td><td>7.990749</td><td>5.117360</td><td>5</td><td>0.9037810</td><td>0.9423704</td><td>5</td><td>L</td></tr>\n",
              "</tbody>\n",
              "</table>\n"
            ],
            "text/markdown": "\nA data.table: 3 × 11\n\n| fraction &lt;chr&gt; | variable &lt;chr&gt; | depth &lt;chr&gt; | p &lt;dbl&gt; | control_m &lt;dbl&gt; | control_sd &lt;dbl&gt; | control_n &lt;int&gt; | exp_m &lt;dbl&gt; | exp_sd &lt;dbl&gt; | exp_n &lt;int&gt; | exp_group &lt;chr&gt; |\n|---|---|---|---|---|---|---|---|---|---|---|\n| BULK | burn_decayed_mass_kg | 0-5 | 0.14850514 | 6.764894 | 7.718483 | 5 | 0.5957299 | 0.5988446 | 5 | H |\n| BULK | burn_decayed_mass_kg | 0-5 | 0.17175069 | 7.858705 | 7.483177 | 5 | 2.1485254 | 3.0556919 | 5 | M |\n| BULK | burn_decayed_mass_kg | 0-5 | 0.03505987 | 7.990749 | 5.117360 | 5 | 0.9037810 | 0.9423704 | 5 | L |\n\n",
            "text/latex": "A data.table: 3 × 11\n\\begin{tabular}{lllllllllll}\n fraction & variable & depth & p & control\\_m & control\\_sd & control\\_n & exp\\_m & exp\\_sd & exp\\_n & exp\\_group\\\\\n <chr> & <chr> & <chr> & <dbl> & <dbl> & <dbl> & <int> & <dbl> & <dbl> & <int> & <chr>\\\\\n\\hline\n\t BULK & burn\\_decayed\\_mass\\_kg & 0-5 & 0.14850514 & 6.764894 & 7.718483 & 5 & 0.5957299 & 0.5988446 & 5 & H\\\\\n\t BULK & burn\\_decayed\\_mass\\_kg & 0-5 & 0.17175069 & 7.858705 & 7.483177 & 5 & 2.1485254 & 3.0556919 & 5 & M\\\\\n\t BULK & burn\\_decayed\\_mass\\_kg & 0-5 & 0.03505987 & 7.990749 & 5.117360 & 5 & 0.9037810 & 0.9423704 & 5 & L\\\\\n\\end{tabular}\n",
            "text/plain": [
              "  fraction variable             depth p          control_m control_sd control_n\n",
              "1 BULK     burn_decayed_mass_kg 0-5   0.14850514 6.764894  7.718483   5        \n",
              "2 BULK     burn_decayed_mass_kg 0-5   0.17175069 7.858705  7.483177   5        \n",
              "3 BULK     burn_decayed_mass_kg 0-5   0.03505987 7.990749  5.117360   5        \n",
              "  exp_m     exp_sd    exp_n exp_group\n",
              "1 0.5957299 0.5988446 5     H        \n",
              "2 2.1485254 3.0556919 5     M        \n",
              "3 0.9037810 0.9423704 5     L        "
            ]
          },
          "metadata": {}
        }
      ]
    },
    {
      "cell_type": "code",
      "source": [
        "t_tests_dt <- rbindlist(list(t_tests_fractions_dt,t_tests_bpca_dt,t_tests_dwd_dt))"
      ],
      "metadata": {
        "id": "CCNA-9izAkJg"
      },
      "execution_count": 132,
      "outputs": []
    },
    {
      "cell_type": "code",
      "source": [
        "# t_tests_dt[fraction =='BULK'][order(p)]"
      ],
      "metadata": {
        "id": "4WKmAJHk5WCX"
      },
      "execution_count": 133,
      "outputs": []
    },
    {
      "cell_type": "code",
      "source": [
        "t_tests_dt"
      ],
      "metadata": {
        "colab": {
          "base_uri": "https://localhost:8080/",
          "height": 1000
        },
        "id": "gEzXzKYECbNz",
        "outputId": "29f751a4-8f3e-4e88-e2e2-a00953f2d88c"
      },
      "execution_count": 134,
      "outputs": [
        {
          "output_type": "display_data",
          "data": {
            "text/html": [
              "<table class=\"dataframe\">\n",
              "<caption>A data.table: 216 × 11</caption>\n",
              "<thead>\n",
              "\t<tr><th scope=col>fraction</th><th scope=col>variable</th><th scope=col>depth</th><th scope=col>p</th><th scope=col>control_m</th><th scope=col>control_sd</th><th scope=col>control_n</th><th scope=col>exp_m</th><th scope=col>exp_sd</th><th scope=col>exp_n</th><th scope=col>exp_group</th></tr>\n",
              "\t<tr><th scope=col>&lt;chr&gt;</th><th scope=col>&lt;chr&gt;</th><th scope=col>&lt;chr&gt;</th><th scope=col>&lt;dbl&gt;</th><th scope=col>&lt;dbl&gt;</th><th scope=col>&lt;dbl&gt;</th><th scope=col>&lt;int&gt;</th><th scope=col>&lt;dbl&gt;</th><th scope=col>&lt;dbl&gt;</th><th scope=col>&lt;int&gt;</th><th scope=col>&lt;chr&gt;</th></tr>\n",
              "</thead>\n",
              "<tbody>\n",
              "\t<tr><td>HF</td><td>C_N   </td><td>0-5  </td><td>0.3654726</td><td>14.719339</td><td> 4.10621204</td><td>5</td><td>12.70217</td><td>2.08150755</td><td>5</td><td>H</td></tr>\n",
              "\t<tr><td>HF</td><td>C_N   </td><td>5-10 </td><td>0.5626481</td><td>12.573846</td><td> 1.78622200</td><td>5</td><td>13.54977</td><td>3.09692183</td><td>5</td><td>H</td></tr>\n",
              "\t<tr><td>HF</td><td>C_N   </td><td>10-20</td><td>0.8710895</td><td>11.663369</td><td> 2.72290143</td><td>5</td><td>11.93427</td><td>2.37494582</td><td>5</td><td>H</td></tr>\n",
              "\t<tr><td>HF</td><td>C_N   </td><td>20-30</td><td>0.5596922</td><td> 9.968718</td><td> 2.21198409</td><td>5</td><td>12.25981</td><td>7.85279474</td><td>5</td><td>H</td></tr>\n",
              "\t<tr><td>HF</td><td>C_N   </td><td>0-5  </td><td>0.6919287</td><td>11.838889</td><td> 1.64759341</td><td>5</td><td>11.42226</td><td>1.55709390</td><td>5</td><td>M</td></tr>\n",
              "\t<tr><td>HF</td><td>C_N   </td><td>5-10 </td><td>0.9051597</td><td>12.161364</td><td> 0.63823004</td><td>5</td><td>11.97573</td><td>3.22380941</td><td>5</td><td>M</td></tr>\n",
              "\t<tr><td>HF</td><td>C_N   </td><td>10-20</td><td>0.5775302</td><td>12.813725</td><td> 4.74831544</td><td>5</td><td>11.36653</td><td>2.81638133</td><td>5</td><td>M</td></tr>\n",
              "\t<tr><td>HF</td><td>C_N   </td><td>20-30</td><td>0.4299605</td><td>12.109744</td><td> 3.13803083</td><td>5</td><td>10.73338</td><td>1.88240982</td><td>5</td><td>M</td></tr>\n",
              "\t<tr><td>HF</td><td>C_N   </td><td>0-5  </td><td>0.3197805</td><td>17.911905</td><td>10.13099295</td><td>5</td><td>12.76295</td><td>0.76906703</td><td>5</td><td>L</td></tr>\n",
              "\t<tr><td>HF</td><td>C_N   </td><td>5-10 </td><td>0.9507490</td><td>12.401709</td><td> 1.76527283</td><td>5</td><td>12.48044</td><td>2.12086882</td><td>5</td><td>L</td></tr>\n",
              "\t<tr><td>HF</td><td>C_N   </td><td>10-20</td><td>0.3929090</td><td>11.005673</td><td> 2.06661716</td><td>5</td><td>12.34843</td><td>2.59288164</td><td>5</td><td>L</td></tr>\n",
              "\t<tr><td>HF</td><td>C_N   </td><td>20-30</td><td>0.7797395</td><td>10.989567</td><td> 3.02783517</td><td>5</td><td>11.44191</td><td>1.68288607</td><td>5</td><td>L</td></tr>\n",
              "\t<tr><td>HF</td><td>C_PERC</td><td>0-5  </td><td>0.4378404</td><td> 2.512000</td><td> 1.30580244</td><td>5</td><td> 1.96600</td><td>0.67322359</td><td>5</td><td>H</td></tr>\n",
              "\t<tr><td>HF</td><td>C_PERC</td><td>5-10 </td><td>0.9059465</td><td> 1.994000</td><td> 0.76136719</td><td>5</td><td> 1.93600</td><td>0.74248232</td><td>5</td><td>H</td></tr>\n",
              "\t<tr><td>HF</td><td>C_PERC</td><td>10-20</td><td>0.8363462</td><td> 1.558000</td><td> 0.77338218</td><td>5</td><td> 1.68400</td><td>1.06490845</td><td>5</td><td>H</td></tr>\n",
              "\t<tr><td>HF</td><td>C_PERC</td><td>20-30</td><td>0.2479505</td><td> 1.230000</td><td> 0.56404787</td><td>5</td><td> 2.10200</td><td>1.39169681</td><td>5</td><td>H</td></tr>\n",
              "\t<tr><td>HF</td><td>C_PERC</td><td>0-5  </td><td>0.9570296</td><td> 1.922000</td><td> 0.97019070</td><td>5</td><td> 1.89400</td><td>0.55401264</td><td>5</td><td>M</td></tr>\n",
              "\t<tr><td>HF</td><td>C_PERC</td><td>5-10 </td><td>0.9041100</td><td> 1.620000</td><td> 0.82085321</td><td>5</td><td> 1.68200</td><td>0.75413527</td><td>5</td><td>M</td></tr>\n",
              "\t<tr><td>HF</td><td>C_PERC</td><td>10-20</td><td>0.9411558</td><td> 1.482000</td><td> 0.78868245</td><td>5</td><td> 1.44800</td><td>0.60849815</td><td>5</td><td>M</td></tr>\n",
              "\t<tr><td>HF</td><td>C_PERC</td><td>20-30</td><td>0.8834938</td><td> 1.302000</td><td> 0.58285504</td><td>5</td><td> 1.35200</td><td>0.45196239</td><td>5</td><td>M</td></tr>\n",
              "\t<tr><td>HF</td><td>C_PERC</td><td>0-5  </td><td>0.4757758</td><td> 2.008000</td><td> 0.90225828</td><td>5</td><td> 2.36000</td><td>0.51478151</td><td>5</td><td>L</td></tr>\n",
              "\t<tr><td>HF</td><td>C_PERC</td><td>5-10 </td><td>0.8042647</td><td> 1.832000</td><td> 1.05283902</td><td>5</td><td> 1.97400</td><td>0.63704788</td><td>5</td><td>L</td></tr>\n",
              "\t<tr><td>HF</td><td>C_PERC</td><td>10-20</td><td>0.7357013</td><td> 1.362000</td><td> 0.71110477</td><td>5</td><td> 1.50400</td><td>0.56252111</td><td>5</td><td>L</td></tr>\n",
              "\t<tr><td>HF</td><td>C_PERC</td><td>20-30</td><td>0.7050058</td><td> 1.202000</td><td> 0.96856595</td><td>5</td><td> 1.39400</td><td>0.47673892</td><td>5</td><td>L</td></tr>\n",
              "\t<tr><td>HF</td><td>N_PERC</td><td>0-5  </td><td>0.7705152</td><td> 0.162000</td><td> 0.04658326</td><td>5</td><td> 0.15400</td><td>0.03646917</td><td>5</td><td>H</td></tr>\n",
              "\t<tr><td>HF</td><td>N_PERC</td><td>5-10 </td><td>0.7946042</td><td> 0.154000</td><td> 0.04335897</td><td>5</td><td> 0.14600</td><td>0.05029911</td><td>5</td><td>H</td></tr>\n",
              "\t<tr><td>HF</td><td>N_PERC</td><td>10-20</td><td>0.8121036</td><td> 0.128000</td><td> 0.04024922</td><td>5</td><td> 0.13600</td><td>0.06024948</td><td>5</td><td>H</td></tr>\n",
              "\t<tr><td>HF</td><td>N_PERC</td><td>20-30</td><td>0.1791890</td><td> 0.118000</td><td> 0.03563706</td><td>5</td><td> 0.20000</td><td>0.11113055</td><td>5</td><td>H</td></tr>\n",
              "\t<tr><td>HF</td><td>N_PERC</td><td>0-5  </td><td>0.7659510</td><td> 0.156000</td><td> 0.06066300</td><td>5</td><td> 0.16600</td><td>0.03911521</td><td>5</td><td>M</td></tr>\n",
              "\t<tr><td>HF</td><td>N_PERC</td><td>5-10 </td><td>0.8498091</td><td> 0.132000</td><td> 0.06099180</td><td>5</td><td> 0.13800</td><td>0.02949576</td><td>5</td><td>M</td></tr>\n",
              "\t<tr><td>⋮</td><td>⋮</td><td>⋮</td><td>⋮</td><td>⋮</td><td>⋮</td><td>⋮</td><td>⋮</td><td>⋮</td><td>⋮</td><td>⋮</td></tr>\n",
              "\t<tr><td>LF  </td><td>per_bpca_carb_lf      </td><td>10-20</td><td>0.09211006</td><td> 0.11289627</td><td> 0.03543142</td><td>5</td><td> 0.05184150</td><td> 0.05943950</td><td>5</td><td>M</td></tr>\n",
              "\t<tr><td>LF  </td><td>per_bpca_carb_lf      </td><td>20-30</td><td>0.57287724</td><td> 0.11950598</td><td> 0.05279542</td><td>5</td><td> 0.09352547</td><td> 0.08267958</td><td>5</td><td>M</td></tr>\n",
              "\t<tr><td>LF  </td><td>per_bpca_carb_lf      </td><td>0-5  </td><td>0.71968190</td><td> 0.08031184</td><td> 0.06677506</td><td>5</td><td> 0.06622127</td><td> 0.05187085</td><td>5</td><td>L</td></tr>\n",
              "\t<tr><td>LF  </td><td>per_bpca_carb_lf      </td><td>5-10 </td><td>0.32583329</td><td> 0.13744709</td><td> 0.09004311</td><td>5</td><td> 0.07804828</td><td> 0.07171227</td><td>5</td><td>L</td></tr>\n",
              "\t<tr><td>LF  </td><td>per_bpca_carb_lf      </td><td>10-20</td><td>0.13438133</td><td> 0.12824017</td><td> 0.09586636</td><td>5</td><td> 0.04488644</td><td> 0.04884992</td><td>5</td><td>L</td></tr>\n",
              "\t<tr><td>LF  </td><td>per_bpca_carb_lf      </td><td>20-30</td><td>0.04567321</td><td> 0.14087772</td><td> 0.09702855</td><td>5</td><td> 0.01890610</td><td> 0.03197810</td><td>5</td><td>L</td></tr>\n",
              "\t<tr><td>BULK</td><td>decayed_mass_kg       </td><td>0-5  </td><td>0.49776310</td><td> 7.38402504</td><td> 8.12917513</td><td>5</td><td> 4.21056753</td><td> 5.71684183</td><td>5</td><td>H</td></tr>\n",
              "\t<tr><td>BULK</td><td>decayed_mass_kg       </td><td>0-5  </td><td>0.56679701</td><td> 8.01359405</td><td> 7.72610688</td><td>5</td><td> 5.45752269</td><td> 5.57591801</td><td>5</td><td>M</td></tr>\n",
              "\t<tr><td>BULK</td><td>decayed_mass_kg       </td><td>0-5  </td><td>0.06293637</td><td> 7.99074888</td><td> 5.11735957</td><td>5</td><td> 2.06774333</td><td> 2.89063439</td><td>5</td><td>L</td></tr>\n",
              "\t<tr><td>BULK</td><td>total_input           </td><td>0-5  </td><td>0.40615155</td><td>15.51451537</td><td>18.05124573</td><td>5</td><td> 7.32951167</td><td> 9.78162595</td><td>5</td><td>H</td></tr>\n",
              "\t<tr><td>BULK</td><td>total_input           </td><td>0-5  </td><td>0.25276153</td><td>17.97993299</td><td>14.93953183</td><td>5</td><td> 8.37789073</td><td> 8.17379346</td><td>5</td><td>M</td></tr>\n",
              "\t<tr><td>BULK</td><td>total_input           </td><td>0-5  </td><td>0.03147256</td><td>17.27447231</td><td> 9.63893845</td><td>5</td><td> 3.65493693</td><td> 5.40115652</td><td>5</td><td>L</td></tr>\n",
              "\t<tr><td>BULK</td><td>burn_decayed_mass_kg  </td><td>0-5  </td><td>0.14850514</td><td> 6.76489400</td><td> 7.71848326</td><td>5</td><td> 0.59572995</td><td> 0.59884457</td><td>5</td><td>H</td></tr>\n",
              "\t<tr><td>BULK</td><td>burn_decayed_mass_kg  </td><td>0-5  </td><td>0.17175069</td><td> 7.85870527</td><td> 7.48317684</td><td>5</td><td> 2.14852543</td><td> 3.05569191</td><td>5</td><td>M</td></tr>\n",
              "\t<tr><td>BULK</td><td>burn_decayed_mass_kg  </td><td>0-5  </td><td>0.03505987</td><td> 7.99074888</td><td> 5.11735957</td><td>5</td><td> 0.90378101</td><td> 0.94237035</td><td>5</td><td>L</td></tr>\n",
              "\t<tr><td>BULK</td><td>wood_input_rate       </td><td>0-5  </td><td>0.59405106</td><td> 0.61475706</td><td> 0.55615689</td><td>5</td><td> 0.43656608</td><td> 0.45198897</td><td>5</td><td>H</td></tr>\n",
              "\t<tr><td>BULK</td><td>wood_input_rate       </td><td>0-5  </td><td>0.64292500</td><td> 0.71207889</td><td> 0.60966838</td><td>5</td><td> 0.53081446</td><td> 0.57983008</td><td>5</td><td>M</td></tr>\n",
              "\t<tr><td>BULK</td><td>wood_input_rate       </td><td>0-5  </td><td>0.03496690</td><td> 0.65264690</td><td> 0.31660494</td><td>5</td><td> 0.20522262</td><td> 0.21883326</td><td>5</td><td>L</td></tr>\n",
              "\t<tr><td>BULK</td><td>wood_departure_rate   </td><td>0-5  </td><td>0.47369004</td><td> 0.23561143</td><td> 0.25300263</td><td>5</td><td> 0.13167264</td><td> 0.17426671</td><td>5</td><td>H</td></tr>\n",
              "\t<tr><td>BULK</td><td>wood_departure_rate   </td><td>0-5  </td><td>0.32680027</td><td> 0.27902732</td><td> 0.23185559</td><td>5</td><td> 0.15022833</td><td> 0.14238733</td><td>5</td><td>M</td></tr>\n",
              "\t<tr><td>BULK</td><td>wood_departure_rate   </td><td>0-5  </td><td>0.03978186</td><td> 0.27444576</td><td> 0.15430351</td><td>5</td><td> 0.06773450</td><td> 0.09523897</td><td>5</td><td>L</td></tr>\n",
              "\t<tr><td>BULK</td><td>wood_accumulation_rate</td><td>0-5  </td><td>0.71560178</td><td> 0.37914563</td><td> 0.30601708</td><td>5</td><td> 0.30489343</td><td> 0.31584354</td><td>5</td><td>H</td></tr>\n",
              "\t<tr><td>BULK</td><td>wood_accumulation_rate</td><td>0-5  </td><td>0.85194423</td><td> 0.43305157</td><td> 0.40965902</td><td>5</td><td> 0.38058613</td><td> 0.44983344</td><td>5</td><td>M</td></tr>\n",
              "\t<tr><td>BULK</td><td>wood_accumulation_rate</td><td>0-5  </td><td>0.03893278</td><td> 0.37820114</td><td> 0.17351290</td><td>5</td><td> 0.13748812</td><td> 0.12555380</td><td>5</td><td>L</td></tr>\n",
              "\t<tr><td>BULK</td><td>years_to_capacity     </td><td>0-5  </td><td>0.37388762</td><td>14.36012931</td><td> 8.48461630</td><td>5</td><td>21.70547025</td><td>14.93029133</td><td>5</td><td>H</td></tr>\n",
              "\t<tr><td>BULK</td><td>years_to_capacity     </td><td>0-5  </td><td>0.25447365</td><td>22.82499342</td><td>12.30279713</td><td>5</td><td>15.08187351</td><td> 6.01476010</td><td>5</td><td>M</td></tr>\n",
              "\t<tr><td>BULK</td><td>years_to_capacity     </td><td>0-5  </td><td>0.06448364</td><td>20.32478402</td><td> 7.62122811</td><td>5</td><td>11.09265762</td><td> 5.69056006</td><td>5</td><td>L</td></tr>\n",
              "\t<tr><td>BULK</td><td>years_to_recovery     </td><td>0-5  </td><td>0.03588031</td><td> 0.00000000</td><td> 0.00000000</td><td>5</td><td>19.14009556</td><td>13.76266569</td><td>5</td><td>H</td></tr>\n",
              "\t<tr><td>BULK</td><td>years_to_recovery     </td><td>0-5  </td><td>0.04403296</td><td> 0.42314775</td><td> 0.92504615</td><td>5</td><td> 9.97106651</td><td> 7.39246188</td><td>5</td><td>M</td></tr>\n",
              "\t<tr><td>BULK</td><td>years_to_recovery     </td><td>0-5  </td><td>0.06012672</td><td> 0.00000000</td><td> 0.00000000</td><td>5</td><td> 5.64570757</td><td> 4.85777773</td><td>5</td><td>L</td></tr>\n",
              "</tbody>\n",
              "</table>\n"
            ],
            "text/markdown": "\nA data.table: 216 × 11\n\n| fraction &lt;chr&gt; | variable &lt;chr&gt; | depth &lt;chr&gt; | p &lt;dbl&gt; | control_m &lt;dbl&gt; | control_sd &lt;dbl&gt; | control_n &lt;int&gt; | exp_m &lt;dbl&gt; | exp_sd &lt;dbl&gt; | exp_n &lt;int&gt; | exp_group &lt;chr&gt; |\n|---|---|---|---|---|---|---|---|---|---|---|\n| HF | C_N    | 0-5   | 0.3654726 | 14.719339 |  4.10621204 | 5 | 12.70217 | 2.08150755 | 5 | H |\n| HF | C_N    | 5-10  | 0.5626481 | 12.573846 |  1.78622200 | 5 | 13.54977 | 3.09692183 | 5 | H |\n| HF | C_N    | 10-20 | 0.8710895 | 11.663369 |  2.72290143 | 5 | 11.93427 | 2.37494582 | 5 | H |\n| HF | C_N    | 20-30 | 0.5596922 |  9.968718 |  2.21198409 | 5 | 12.25981 | 7.85279474 | 5 | H |\n| HF | C_N    | 0-5   | 0.6919287 | 11.838889 |  1.64759341 | 5 | 11.42226 | 1.55709390 | 5 | M |\n| HF | C_N    | 5-10  | 0.9051597 | 12.161364 |  0.63823004 | 5 | 11.97573 | 3.22380941 | 5 | M |\n| HF | C_N    | 10-20 | 0.5775302 | 12.813725 |  4.74831544 | 5 | 11.36653 | 2.81638133 | 5 | M |\n| HF | C_N    | 20-30 | 0.4299605 | 12.109744 |  3.13803083 | 5 | 10.73338 | 1.88240982 | 5 | M |\n| HF | C_N    | 0-5   | 0.3197805 | 17.911905 | 10.13099295 | 5 | 12.76295 | 0.76906703 | 5 | L |\n| HF | C_N    | 5-10  | 0.9507490 | 12.401709 |  1.76527283 | 5 | 12.48044 | 2.12086882 | 5 | L |\n| HF | C_N    | 10-20 | 0.3929090 | 11.005673 |  2.06661716 | 5 | 12.34843 | 2.59288164 | 5 | L |\n| HF | C_N    | 20-30 | 0.7797395 | 10.989567 |  3.02783517 | 5 | 11.44191 | 1.68288607 | 5 | L |\n| HF | C_PERC | 0-5   | 0.4378404 |  2.512000 |  1.30580244 | 5 |  1.96600 | 0.67322359 | 5 | H |\n| HF | C_PERC | 5-10  | 0.9059465 |  1.994000 |  0.76136719 | 5 |  1.93600 | 0.74248232 | 5 | H |\n| HF | C_PERC | 10-20 | 0.8363462 |  1.558000 |  0.77338218 | 5 |  1.68400 | 1.06490845 | 5 | H |\n| HF | C_PERC | 20-30 | 0.2479505 |  1.230000 |  0.56404787 | 5 |  2.10200 | 1.39169681 | 5 | H |\n| HF | C_PERC | 0-5   | 0.9570296 |  1.922000 |  0.97019070 | 5 |  1.89400 | 0.55401264 | 5 | M |\n| HF | C_PERC | 5-10  | 0.9041100 |  1.620000 |  0.82085321 | 5 |  1.68200 | 0.75413527 | 5 | M |\n| HF | C_PERC | 10-20 | 0.9411558 |  1.482000 |  0.78868245 | 5 |  1.44800 | 0.60849815 | 5 | M |\n| HF | C_PERC | 20-30 | 0.8834938 |  1.302000 |  0.58285504 | 5 |  1.35200 | 0.45196239 | 5 | M |\n| HF | C_PERC | 0-5   | 0.4757758 |  2.008000 |  0.90225828 | 5 |  2.36000 | 0.51478151 | 5 | L |\n| HF | C_PERC | 5-10  | 0.8042647 |  1.832000 |  1.05283902 | 5 |  1.97400 | 0.63704788 | 5 | L |\n| HF | C_PERC | 10-20 | 0.7357013 |  1.362000 |  0.71110477 | 5 |  1.50400 | 0.56252111 | 5 | L |\n| HF | C_PERC | 20-30 | 0.7050058 |  1.202000 |  0.96856595 | 5 |  1.39400 | 0.47673892 | 5 | L |\n| HF | N_PERC | 0-5   | 0.7705152 |  0.162000 |  0.04658326 | 5 |  0.15400 | 0.03646917 | 5 | H |\n| HF | N_PERC | 5-10  | 0.7946042 |  0.154000 |  0.04335897 | 5 |  0.14600 | 0.05029911 | 5 | H |\n| HF | N_PERC | 10-20 | 0.8121036 |  0.128000 |  0.04024922 | 5 |  0.13600 | 0.06024948 | 5 | H |\n| HF | N_PERC | 20-30 | 0.1791890 |  0.118000 |  0.03563706 | 5 |  0.20000 | 0.11113055 | 5 | H |\n| HF | N_PERC | 0-5   | 0.7659510 |  0.156000 |  0.06066300 | 5 |  0.16600 | 0.03911521 | 5 | M |\n| HF | N_PERC | 5-10  | 0.8498091 |  0.132000 |  0.06099180 | 5 |  0.13800 | 0.02949576 | 5 | M |\n| ⋮ | ⋮ | ⋮ | ⋮ | ⋮ | ⋮ | ⋮ | ⋮ | ⋮ | ⋮ | ⋮ |\n| LF   | per_bpca_carb_lf       | 10-20 | 0.09211006 |  0.11289627 |  0.03543142 | 5 |  0.05184150 |  0.05943950 | 5 | M |\n| LF   | per_bpca_carb_lf       | 20-30 | 0.57287724 |  0.11950598 |  0.05279542 | 5 |  0.09352547 |  0.08267958 | 5 | M |\n| LF   | per_bpca_carb_lf       | 0-5   | 0.71968190 |  0.08031184 |  0.06677506 | 5 |  0.06622127 |  0.05187085 | 5 | L |\n| LF   | per_bpca_carb_lf       | 5-10  | 0.32583329 |  0.13744709 |  0.09004311 | 5 |  0.07804828 |  0.07171227 | 5 | L |\n| LF   | per_bpca_carb_lf       | 10-20 | 0.13438133 |  0.12824017 |  0.09586636 | 5 |  0.04488644 |  0.04884992 | 5 | L |\n| LF   | per_bpca_carb_lf       | 20-30 | 0.04567321 |  0.14087772 |  0.09702855 | 5 |  0.01890610 |  0.03197810 | 5 | L |\n| BULK | decayed_mass_kg        | 0-5   | 0.49776310 |  7.38402504 |  8.12917513 | 5 |  4.21056753 |  5.71684183 | 5 | H |\n| BULK | decayed_mass_kg        | 0-5   | 0.56679701 |  8.01359405 |  7.72610688 | 5 |  5.45752269 |  5.57591801 | 5 | M |\n| BULK | decayed_mass_kg        | 0-5   | 0.06293637 |  7.99074888 |  5.11735957 | 5 |  2.06774333 |  2.89063439 | 5 | L |\n| BULK | total_input            | 0-5   | 0.40615155 | 15.51451537 | 18.05124573 | 5 |  7.32951167 |  9.78162595 | 5 | H |\n| BULK | total_input            | 0-5   | 0.25276153 | 17.97993299 | 14.93953183 | 5 |  8.37789073 |  8.17379346 | 5 | M |\n| BULK | total_input            | 0-5   | 0.03147256 | 17.27447231 |  9.63893845 | 5 |  3.65493693 |  5.40115652 | 5 | L |\n| BULK | burn_decayed_mass_kg   | 0-5   | 0.14850514 |  6.76489400 |  7.71848326 | 5 |  0.59572995 |  0.59884457 | 5 | H |\n| BULK | burn_decayed_mass_kg   | 0-5   | 0.17175069 |  7.85870527 |  7.48317684 | 5 |  2.14852543 |  3.05569191 | 5 | M |\n| BULK | burn_decayed_mass_kg   | 0-5   | 0.03505987 |  7.99074888 |  5.11735957 | 5 |  0.90378101 |  0.94237035 | 5 | L |\n| BULK | wood_input_rate        | 0-5   | 0.59405106 |  0.61475706 |  0.55615689 | 5 |  0.43656608 |  0.45198897 | 5 | H |\n| BULK | wood_input_rate        | 0-5   | 0.64292500 |  0.71207889 |  0.60966838 | 5 |  0.53081446 |  0.57983008 | 5 | M |\n| BULK | wood_input_rate        | 0-5   | 0.03496690 |  0.65264690 |  0.31660494 | 5 |  0.20522262 |  0.21883326 | 5 | L |\n| BULK | wood_departure_rate    | 0-5   | 0.47369004 |  0.23561143 |  0.25300263 | 5 |  0.13167264 |  0.17426671 | 5 | H |\n| BULK | wood_departure_rate    | 0-5   | 0.32680027 |  0.27902732 |  0.23185559 | 5 |  0.15022833 |  0.14238733 | 5 | M |\n| BULK | wood_departure_rate    | 0-5   | 0.03978186 |  0.27444576 |  0.15430351 | 5 |  0.06773450 |  0.09523897 | 5 | L |\n| BULK | wood_accumulation_rate | 0-5   | 0.71560178 |  0.37914563 |  0.30601708 | 5 |  0.30489343 |  0.31584354 | 5 | H |\n| BULK | wood_accumulation_rate | 0-5   | 0.85194423 |  0.43305157 |  0.40965902 | 5 |  0.38058613 |  0.44983344 | 5 | M |\n| BULK | wood_accumulation_rate | 0-5   | 0.03893278 |  0.37820114 |  0.17351290 | 5 |  0.13748812 |  0.12555380 | 5 | L |\n| BULK | years_to_capacity      | 0-5   | 0.37388762 | 14.36012931 |  8.48461630 | 5 | 21.70547025 | 14.93029133 | 5 | H |\n| BULK | years_to_capacity      | 0-5   | 0.25447365 | 22.82499342 | 12.30279713 | 5 | 15.08187351 |  6.01476010 | 5 | M |\n| BULK | years_to_capacity      | 0-5   | 0.06448364 | 20.32478402 |  7.62122811 | 5 | 11.09265762 |  5.69056006 | 5 | L |\n| BULK | years_to_recovery      | 0-5   | 0.03588031 |  0.00000000 |  0.00000000 | 5 | 19.14009556 | 13.76266569 | 5 | H |\n| BULK | years_to_recovery      | 0-5   | 0.04403296 |  0.42314775 |  0.92504615 | 5 |  9.97106651 |  7.39246188 | 5 | M |\n| BULK | years_to_recovery      | 0-5   | 0.06012672 |  0.00000000 |  0.00000000 | 5 |  5.64570757 |  4.85777773 | 5 | L |\n\n",
            "text/latex": "A data.table: 216 × 11\n\\begin{tabular}{lllllllllll}\n fraction & variable & depth & p & control\\_m & control\\_sd & control\\_n & exp\\_m & exp\\_sd & exp\\_n & exp\\_group\\\\\n <chr> & <chr> & <chr> & <dbl> & <dbl> & <dbl> & <int> & <dbl> & <dbl> & <int> & <chr>\\\\\n\\hline\n\t HF & C\\_N    & 0-5   & 0.3654726 & 14.719339 &  4.10621204 & 5 & 12.70217 & 2.08150755 & 5 & H\\\\\n\t HF & C\\_N    & 5-10  & 0.5626481 & 12.573846 &  1.78622200 & 5 & 13.54977 & 3.09692183 & 5 & H\\\\\n\t HF & C\\_N    & 10-20 & 0.8710895 & 11.663369 &  2.72290143 & 5 & 11.93427 & 2.37494582 & 5 & H\\\\\n\t HF & C\\_N    & 20-30 & 0.5596922 &  9.968718 &  2.21198409 & 5 & 12.25981 & 7.85279474 & 5 & H\\\\\n\t HF & C\\_N    & 0-5   & 0.6919287 & 11.838889 &  1.64759341 & 5 & 11.42226 & 1.55709390 & 5 & M\\\\\n\t HF & C\\_N    & 5-10  & 0.9051597 & 12.161364 &  0.63823004 & 5 & 11.97573 & 3.22380941 & 5 & M\\\\\n\t HF & C\\_N    & 10-20 & 0.5775302 & 12.813725 &  4.74831544 & 5 & 11.36653 & 2.81638133 & 5 & M\\\\\n\t HF & C\\_N    & 20-30 & 0.4299605 & 12.109744 &  3.13803083 & 5 & 10.73338 & 1.88240982 & 5 & M\\\\\n\t HF & C\\_N    & 0-5   & 0.3197805 & 17.911905 & 10.13099295 & 5 & 12.76295 & 0.76906703 & 5 & L\\\\\n\t HF & C\\_N    & 5-10  & 0.9507490 & 12.401709 &  1.76527283 & 5 & 12.48044 & 2.12086882 & 5 & L\\\\\n\t HF & C\\_N    & 10-20 & 0.3929090 & 11.005673 &  2.06661716 & 5 & 12.34843 & 2.59288164 & 5 & L\\\\\n\t HF & C\\_N    & 20-30 & 0.7797395 & 10.989567 &  3.02783517 & 5 & 11.44191 & 1.68288607 & 5 & L\\\\\n\t HF & C\\_PERC & 0-5   & 0.4378404 &  2.512000 &  1.30580244 & 5 &  1.96600 & 0.67322359 & 5 & H\\\\\n\t HF & C\\_PERC & 5-10  & 0.9059465 &  1.994000 &  0.76136719 & 5 &  1.93600 & 0.74248232 & 5 & H\\\\\n\t HF & C\\_PERC & 10-20 & 0.8363462 &  1.558000 &  0.77338218 & 5 &  1.68400 & 1.06490845 & 5 & H\\\\\n\t HF & C\\_PERC & 20-30 & 0.2479505 &  1.230000 &  0.56404787 & 5 &  2.10200 & 1.39169681 & 5 & H\\\\\n\t HF & C\\_PERC & 0-5   & 0.9570296 &  1.922000 &  0.97019070 & 5 &  1.89400 & 0.55401264 & 5 & M\\\\\n\t HF & C\\_PERC & 5-10  & 0.9041100 &  1.620000 &  0.82085321 & 5 &  1.68200 & 0.75413527 & 5 & M\\\\\n\t HF & C\\_PERC & 10-20 & 0.9411558 &  1.482000 &  0.78868245 & 5 &  1.44800 & 0.60849815 & 5 & M\\\\\n\t HF & C\\_PERC & 20-30 & 0.8834938 &  1.302000 &  0.58285504 & 5 &  1.35200 & 0.45196239 & 5 & M\\\\\n\t HF & C\\_PERC & 0-5   & 0.4757758 &  2.008000 &  0.90225828 & 5 &  2.36000 & 0.51478151 & 5 & L\\\\\n\t HF & C\\_PERC & 5-10  & 0.8042647 &  1.832000 &  1.05283902 & 5 &  1.97400 & 0.63704788 & 5 & L\\\\\n\t HF & C\\_PERC & 10-20 & 0.7357013 &  1.362000 &  0.71110477 & 5 &  1.50400 & 0.56252111 & 5 & L\\\\\n\t HF & C\\_PERC & 20-30 & 0.7050058 &  1.202000 &  0.96856595 & 5 &  1.39400 & 0.47673892 & 5 & L\\\\\n\t HF & N\\_PERC & 0-5   & 0.7705152 &  0.162000 &  0.04658326 & 5 &  0.15400 & 0.03646917 & 5 & H\\\\\n\t HF & N\\_PERC & 5-10  & 0.7946042 &  0.154000 &  0.04335897 & 5 &  0.14600 & 0.05029911 & 5 & H\\\\\n\t HF & N\\_PERC & 10-20 & 0.8121036 &  0.128000 &  0.04024922 & 5 &  0.13600 & 0.06024948 & 5 & H\\\\\n\t HF & N\\_PERC & 20-30 & 0.1791890 &  0.118000 &  0.03563706 & 5 &  0.20000 & 0.11113055 & 5 & H\\\\\n\t HF & N\\_PERC & 0-5   & 0.7659510 &  0.156000 &  0.06066300 & 5 &  0.16600 & 0.03911521 & 5 & M\\\\\n\t HF & N\\_PERC & 5-10  & 0.8498091 &  0.132000 &  0.06099180 & 5 &  0.13800 & 0.02949576 & 5 & M\\\\\n\t ⋮ & ⋮ & ⋮ & ⋮ & ⋮ & ⋮ & ⋮ & ⋮ & ⋮ & ⋮ & ⋮\\\\\n\t LF   & per\\_bpca\\_carb\\_lf       & 10-20 & 0.09211006 &  0.11289627 &  0.03543142 & 5 &  0.05184150 &  0.05943950 & 5 & M\\\\\n\t LF   & per\\_bpca\\_carb\\_lf       & 20-30 & 0.57287724 &  0.11950598 &  0.05279542 & 5 &  0.09352547 &  0.08267958 & 5 & M\\\\\n\t LF   & per\\_bpca\\_carb\\_lf       & 0-5   & 0.71968190 &  0.08031184 &  0.06677506 & 5 &  0.06622127 &  0.05187085 & 5 & L\\\\\n\t LF   & per\\_bpca\\_carb\\_lf       & 5-10  & 0.32583329 &  0.13744709 &  0.09004311 & 5 &  0.07804828 &  0.07171227 & 5 & L\\\\\n\t LF   & per\\_bpca\\_carb\\_lf       & 10-20 & 0.13438133 &  0.12824017 &  0.09586636 & 5 &  0.04488644 &  0.04884992 & 5 & L\\\\\n\t LF   & per\\_bpca\\_carb\\_lf       & 20-30 & 0.04567321 &  0.14087772 &  0.09702855 & 5 &  0.01890610 &  0.03197810 & 5 & L\\\\\n\t BULK & decayed\\_mass\\_kg        & 0-5   & 0.49776310 &  7.38402504 &  8.12917513 & 5 &  4.21056753 &  5.71684183 & 5 & H\\\\\n\t BULK & decayed\\_mass\\_kg        & 0-5   & 0.56679701 &  8.01359405 &  7.72610688 & 5 &  5.45752269 &  5.57591801 & 5 & M\\\\\n\t BULK & decayed\\_mass\\_kg        & 0-5   & 0.06293637 &  7.99074888 &  5.11735957 & 5 &  2.06774333 &  2.89063439 & 5 & L\\\\\n\t BULK & total\\_input            & 0-5   & 0.40615155 & 15.51451537 & 18.05124573 & 5 &  7.32951167 &  9.78162595 & 5 & H\\\\\n\t BULK & total\\_input            & 0-5   & 0.25276153 & 17.97993299 & 14.93953183 & 5 &  8.37789073 &  8.17379346 & 5 & M\\\\\n\t BULK & total\\_input            & 0-5   & 0.03147256 & 17.27447231 &  9.63893845 & 5 &  3.65493693 &  5.40115652 & 5 & L\\\\\n\t BULK & burn\\_decayed\\_mass\\_kg   & 0-5   & 0.14850514 &  6.76489400 &  7.71848326 & 5 &  0.59572995 &  0.59884457 & 5 & H\\\\\n\t BULK & burn\\_decayed\\_mass\\_kg   & 0-5   & 0.17175069 &  7.85870527 &  7.48317684 & 5 &  2.14852543 &  3.05569191 & 5 & M\\\\\n\t BULK & burn\\_decayed\\_mass\\_kg   & 0-5   & 0.03505987 &  7.99074888 &  5.11735957 & 5 &  0.90378101 &  0.94237035 & 5 & L\\\\\n\t BULK & wood\\_input\\_rate        & 0-5   & 0.59405106 &  0.61475706 &  0.55615689 & 5 &  0.43656608 &  0.45198897 & 5 & H\\\\\n\t BULK & wood\\_input\\_rate        & 0-5   & 0.64292500 &  0.71207889 &  0.60966838 & 5 &  0.53081446 &  0.57983008 & 5 & M\\\\\n\t BULK & wood\\_input\\_rate        & 0-5   & 0.03496690 &  0.65264690 &  0.31660494 & 5 &  0.20522262 &  0.21883326 & 5 & L\\\\\n\t BULK & wood\\_departure\\_rate    & 0-5   & 0.47369004 &  0.23561143 &  0.25300263 & 5 &  0.13167264 &  0.17426671 & 5 & H\\\\\n\t BULK & wood\\_departure\\_rate    & 0-5   & 0.32680027 &  0.27902732 &  0.23185559 & 5 &  0.15022833 &  0.14238733 & 5 & M\\\\\n\t BULK & wood\\_departure\\_rate    & 0-5   & 0.03978186 &  0.27444576 &  0.15430351 & 5 &  0.06773450 &  0.09523897 & 5 & L\\\\\n\t BULK & wood\\_accumulation\\_rate & 0-5   & 0.71560178 &  0.37914563 &  0.30601708 & 5 &  0.30489343 &  0.31584354 & 5 & H\\\\\n\t BULK & wood\\_accumulation\\_rate & 0-5   & 0.85194423 &  0.43305157 &  0.40965902 & 5 &  0.38058613 &  0.44983344 & 5 & M\\\\\n\t BULK & wood\\_accumulation\\_rate & 0-5   & 0.03893278 &  0.37820114 &  0.17351290 & 5 &  0.13748812 &  0.12555380 & 5 & L\\\\\n\t BULK & years\\_to\\_capacity      & 0-5   & 0.37388762 & 14.36012931 &  8.48461630 & 5 & 21.70547025 & 14.93029133 & 5 & H\\\\\n\t BULK & years\\_to\\_capacity      & 0-5   & 0.25447365 & 22.82499342 & 12.30279713 & 5 & 15.08187351 &  6.01476010 & 5 & M\\\\\n\t BULK & years\\_to\\_capacity      & 0-5   & 0.06448364 & 20.32478402 &  7.62122811 & 5 & 11.09265762 &  5.69056006 & 5 & L\\\\\n\t BULK & years\\_to\\_recovery      & 0-5   & 0.03588031 &  0.00000000 &  0.00000000 & 5 & 19.14009556 & 13.76266569 & 5 & H\\\\\n\t BULK & years\\_to\\_recovery      & 0-5   & 0.04403296 &  0.42314775 &  0.92504615 & 5 &  9.97106651 &  7.39246188 & 5 & M\\\\\n\t BULK & years\\_to\\_recovery      & 0-5   & 0.06012672 &  0.00000000 &  0.00000000 & 5 &  5.64570757 &  4.85777773 & 5 & L\\\\\n\\end{tabular}\n",
            "text/plain": [
              "    fraction variable               depth p          control_m   control_sd \n",
              "1   HF       C_N                    0-5   0.3654726  14.719339    4.10621204\n",
              "2   HF       C_N                    5-10  0.5626481  12.573846    1.78622200\n",
              "3   HF       C_N                    10-20 0.8710895  11.663369    2.72290143\n",
              "4   HF       C_N                    20-30 0.5596922   9.968718    2.21198409\n",
              "5   HF       C_N                    0-5   0.6919287  11.838889    1.64759341\n",
              "6   HF       C_N                    5-10  0.9051597  12.161364    0.63823004\n",
              "7   HF       C_N                    10-20 0.5775302  12.813725    4.74831544\n",
              "8   HF       C_N                    20-30 0.4299605  12.109744    3.13803083\n",
              "9   HF       C_N                    0-5   0.3197805  17.911905   10.13099295\n",
              "10  HF       C_N                    5-10  0.9507490  12.401709    1.76527283\n",
              "11  HF       C_N                    10-20 0.3929090  11.005673    2.06661716\n",
              "12  HF       C_N                    20-30 0.7797395  10.989567    3.02783517\n",
              "13  HF       C_PERC                 0-5   0.4378404   2.512000    1.30580244\n",
              "14  HF       C_PERC                 5-10  0.9059465   1.994000    0.76136719\n",
              "15  HF       C_PERC                 10-20 0.8363462   1.558000    0.77338218\n",
              "16  HF       C_PERC                 20-30 0.2479505   1.230000    0.56404787\n",
              "17  HF       C_PERC                 0-5   0.9570296   1.922000    0.97019070\n",
              "18  HF       C_PERC                 5-10  0.9041100   1.620000    0.82085321\n",
              "19  HF       C_PERC                 10-20 0.9411558   1.482000    0.78868245\n",
              "20  HF       C_PERC                 20-30 0.8834938   1.302000    0.58285504\n",
              "21  HF       C_PERC                 0-5   0.4757758   2.008000    0.90225828\n",
              "22  HF       C_PERC                 5-10  0.8042647   1.832000    1.05283902\n",
              "23  HF       C_PERC                 10-20 0.7357013   1.362000    0.71110477\n",
              "24  HF       C_PERC                 20-30 0.7050058   1.202000    0.96856595\n",
              "25  HF       N_PERC                 0-5   0.7705152   0.162000    0.04658326\n",
              "26  HF       N_PERC                 5-10  0.7946042   0.154000    0.04335897\n",
              "27  HF       N_PERC                 10-20 0.8121036   0.128000    0.04024922\n",
              "28  HF       N_PERC                 20-30 0.1791890   0.118000    0.03563706\n",
              "29  HF       N_PERC                 0-5   0.7659510   0.156000    0.06066300\n",
              "30  HF       N_PERC                 5-10  0.8498091   0.132000    0.06099180\n",
              "⋮   ⋮        ⋮                      ⋮     ⋮          ⋮           ⋮          \n",
              "187 LF       per_bpca_carb_lf       10-20 0.09211006  0.11289627  0.03543142\n",
              "188 LF       per_bpca_carb_lf       20-30 0.57287724  0.11950598  0.05279542\n",
              "189 LF       per_bpca_carb_lf       0-5   0.71968190  0.08031184  0.06677506\n",
              "190 LF       per_bpca_carb_lf       5-10  0.32583329  0.13744709  0.09004311\n",
              "191 LF       per_bpca_carb_lf       10-20 0.13438133  0.12824017  0.09586636\n",
              "192 LF       per_bpca_carb_lf       20-30 0.04567321  0.14087772  0.09702855\n",
              "193 BULK     decayed_mass_kg        0-5   0.49776310  7.38402504  8.12917513\n",
              "194 BULK     decayed_mass_kg        0-5   0.56679701  8.01359405  7.72610688\n",
              "195 BULK     decayed_mass_kg        0-5   0.06293637  7.99074888  5.11735957\n",
              "196 BULK     total_input            0-5   0.40615155 15.51451537 18.05124573\n",
              "197 BULK     total_input            0-5   0.25276153 17.97993299 14.93953183\n",
              "198 BULK     total_input            0-5   0.03147256 17.27447231  9.63893845\n",
              "199 BULK     burn_decayed_mass_kg   0-5   0.14850514  6.76489400  7.71848326\n",
              "200 BULK     burn_decayed_mass_kg   0-5   0.17175069  7.85870527  7.48317684\n",
              "201 BULK     burn_decayed_mass_kg   0-5   0.03505987  7.99074888  5.11735957\n",
              "202 BULK     wood_input_rate        0-5   0.59405106  0.61475706  0.55615689\n",
              "203 BULK     wood_input_rate        0-5   0.64292500  0.71207889  0.60966838\n",
              "204 BULK     wood_input_rate        0-5   0.03496690  0.65264690  0.31660494\n",
              "205 BULK     wood_departure_rate    0-5   0.47369004  0.23561143  0.25300263\n",
              "206 BULK     wood_departure_rate    0-5   0.32680027  0.27902732  0.23185559\n",
              "207 BULK     wood_departure_rate    0-5   0.03978186  0.27444576  0.15430351\n",
              "208 BULK     wood_accumulation_rate 0-5   0.71560178  0.37914563  0.30601708\n",
              "209 BULK     wood_accumulation_rate 0-5   0.85194423  0.43305157  0.40965902\n",
              "210 BULK     wood_accumulation_rate 0-5   0.03893278  0.37820114  0.17351290\n",
              "211 BULK     years_to_capacity      0-5   0.37388762 14.36012931  8.48461630\n",
              "212 BULK     years_to_capacity      0-5   0.25447365 22.82499342 12.30279713\n",
              "213 BULK     years_to_capacity      0-5   0.06448364 20.32478402  7.62122811\n",
              "214 BULK     years_to_recovery      0-5   0.03588031  0.00000000  0.00000000\n",
              "215 BULK     years_to_recovery      0-5   0.04403296  0.42314775  0.92504615\n",
              "216 BULK     years_to_recovery      0-5   0.06012672  0.00000000  0.00000000\n",
              "    control_n exp_m       exp_sd      exp_n exp_group\n",
              "1   5         12.70217    2.08150755  5     H        \n",
              "2   5         13.54977    3.09692183  5     H        \n",
              "3   5         11.93427    2.37494582  5     H        \n",
              "4   5         12.25981    7.85279474  5     H        \n",
              "5   5         11.42226    1.55709390  5     M        \n",
              "6   5         11.97573    3.22380941  5     M        \n",
              "7   5         11.36653    2.81638133  5     M        \n",
              "8   5         10.73338    1.88240982  5     M        \n",
              "9   5         12.76295    0.76906703  5     L        \n",
              "10  5         12.48044    2.12086882  5     L        \n",
              "11  5         12.34843    2.59288164  5     L        \n",
              "12  5         11.44191    1.68288607  5     L        \n",
              "13  5          1.96600    0.67322359  5     H        \n",
              "14  5          1.93600    0.74248232  5     H        \n",
              "15  5          1.68400    1.06490845  5     H        \n",
              "16  5          2.10200    1.39169681  5     H        \n",
              "17  5          1.89400    0.55401264  5     M        \n",
              "18  5          1.68200    0.75413527  5     M        \n",
              "19  5          1.44800    0.60849815  5     M        \n",
              "20  5          1.35200    0.45196239  5     M        \n",
              "21  5          2.36000    0.51478151  5     L        \n",
              "22  5          1.97400    0.63704788  5     L        \n",
              "23  5          1.50400    0.56252111  5     L        \n",
              "24  5          1.39400    0.47673892  5     L        \n",
              "25  5          0.15400    0.03646917  5     H        \n",
              "26  5          0.14600    0.05029911  5     H        \n",
              "27  5          0.13600    0.06024948  5     H        \n",
              "28  5          0.20000    0.11113055  5     H        \n",
              "29  5          0.16600    0.03911521  5     M        \n",
              "30  5          0.13800    0.02949576  5     M        \n",
              "⋮   ⋮         ⋮           ⋮           ⋮     ⋮        \n",
              "187 5          0.05184150  0.05943950 5     M        \n",
              "188 5          0.09352547  0.08267958 5     M        \n",
              "189 5          0.06622127  0.05187085 5     L        \n",
              "190 5          0.07804828  0.07171227 5     L        \n",
              "191 5          0.04488644  0.04884992 5     L        \n",
              "192 5          0.01890610  0.03197810 5     L        \n",
              "193 5          4.21056753  5.71684183 5     H        \n",
              "194 5          5.45752269  5.57591801 5     M        \n",
              "195 5          2.06774333  2.89063439 5     L        \n",
              "196 5          7.32951167  9.78162595 5     H        \n",
              "197 5          8.37789073  8.17379346 5     M        \n",
              "198 5          3.65493693  5.40115652 5     L        \n",
              "199 5          0.59572995  0.59884457 5     H        \n",
              "200 5          2.14852543  3.05569191 5     M        \n",
              "201 5          0.90378101  0.94237035 5     L        \n",
              "202 5          0.43656608  0.45198897 5     H        \n",
              "203 5          0.53081446  0.57983008 5     M        \n",
              "204 5          0.20522262  0.21883326 5     L        \n",
              "205 5          0.13167264  0.17426671 5     H        \n",
              "206 5          0.15022833  0.14238733 5     M        \n",
              "207 5          0.06773450  0.09523897 5     L        \n",
              "208 5          0.30489343  0.31584354 5     H        \n",
              "209 5          0.38058613  0.44983344 5     M        \n",
              "210 5          0.13748812  0.12555380 5     L        \n",
              "211 5         21.70547025 14.93029133 5     H        \n",
              "212 5         15.08187351  6.01476010 5     M        \n",
              "213 5         11.09265762  5.69056006 5     L        \n",
              "214 5         19.14009556 13.76266569 5     H        \n",
              "215 5          9.97106651  7.39246188 5     M        \n",
              "216 5          5.64570757  4.85777773 5     L        "
            ]
          },
          "metadata": {}
        }
      ]
    },
    {
      "cell_type": "code",
      "source": [
        "t_tests_dt[,exp_m_norm := exp_m/control_m]\n",
        "\n",
        "t_tests_dt[fraction!='BULK' & variable=='C_N'] %>%\n",
        "aov(exp_m_norm ~ exp_group+depth+fraction, data = .) %>%\n",
        "summary()\n",
        "\n",
        "t_tests_dt[fraction!='BULK' &variable=='C_PERC'] %>%\n",
        "aov(exp_m_norm ~ exp_group+depth+fraction, data = .) %>%\n",
        "summary()\n",
        "\n",
        "t_tests_dt[fraction!='BULK' &variable=='N_PERC'] %>%\n",
        "aov(exp_m_norm ~ exp_group+depth+fraction, data = .) %>%\n",
        "summary()\n",
        "\n",
        "t_tests_dt[fraction!='BULK' &variable=='carbon_stock'] %>%\n",
        "aov(exp_m_norm ~ exp_group+depth+fraction, data = .) %>%\n",
        "summary()\n",
        "\n",
        "t_tests_dt[fraction=='LF' &variable=='CONC_MEAN'] %>%\n",
        "aov(exp_m_norm ~ exp_group+depth, data = .) %>%\n",
        "summary()\n",
        "\n",
        "t_tests_dt[fraction=='LF' &variable=='mg_ml_bpca'] %>%\n",
        "aov(exp_m_norm ~ exp_group+depth, data = .) %>%\n",
        "summary()\n",
        "\n",
        "t_tests_dt[fraction=='LF' &variable=='g_kg_bpca_lf'] %>%\n",
        "aov(exp_m_norm ~ exp_group+depth, data = .) %>%\n",
        "summary()\n",
        "\n",
        "t_tests_dt[fraction=='LF' &variable=='per_bpca_carb_lf'] %>%\n",
        "aov(exp_m_norm ~ exp_group+depth, data = .) %>%\n",
        "summary()"
      ],
      "metadata": {
        "colab": {
          "base_uri": "https://localhost:8080/",
          "height": 746
        },
        "id": "TGHr-u2CB-i6",
        "outputId": "859b7588-a0b9-42e7-b288-192311a07419"
      },
      "execution_count": 135,
      "outputs": [
        {
          "output_type": "display_data",
          "data": {
            "text/plain": [
              "            Df Sum Sq Mean Sq F value Pr(>F)  \n",
              "exp_group    2 0.4807  0.2403   2.766 0.0912 .\n",
              "depth        3 0.3352  0.1117   1.286 0.3113  \n",
              "fraction     1 0.0620  0.0620   0.713 0.4100  \n",
              "Residuals   17 1.4773  0.0869                 \n",
              "---\n",
              "Signif. codes:  0 ‘***’ 0.001 ‘**’ 0.01 ‘*’ 0.05 ‘.’ 0.1 ‘ ’ 1"
            ]
          },
          "metadata": {}
        },
        {
          "output_type": "display_data",
          "data": {
            "text/plain": [
              "            Df Sum Sq Mean Sq F value Pr(>F)\n",
              "exp_group    2 0.1459 0.07295   2.519  0.110\n",
              "depth        3 0.1071 0.03571   1.233  0.328\n",
              "fraction     1 0.0016 0.00161   0.055  0.817\n",
              "Residuals   17 0.4923 0.02896               "
            ]
          },
          "metadata": {}
        },
        {
          "output_type": "display_data",
          "data": {
            "text/plain": [
              "            Df Sum Sq Mean Sq F value Pr(>F)\n",
              "exp_group    2 0.0577 0.02883   1.122  0.349\n",
              "depth        3 0.0949 0.03164   1.232  0.329\n",
              "fraction     1 0.0000 0.00003   0.001  0.973\n",
              "Residuals   17 0.4367 0.02569               "
            ]
          },
          "metadata": {}
        },
        {
          "output_type": "display_data",
          "data": {
            "text/plain": [
              "            Df  Sum Sq Mean Sq F value Pr(>F)  \n",
              "exp_group    2 0.10069 0.05035   2.842 0.0861 .\n",
              "depth        3 0.01157 0.00386   0.218 0.8828  \n",
              "fraction     1 0.00009 0.00009   0.005 0.9445  \n",
              "Residuals   17 0.30111 0.01771                 \n",
              "---\n",
              "Signif. codes:  0 ‘***’ 0.001 ‘**’ 0.01 ‘*’ 0.05 ‘.’ 0.1 ‘ ’ 1"
            ]
          },
          "metadata": {}
        },
        {
          "output_type": "display_data",
          "data": {
            "text/plain": [
              "            Df Sum Sq Mean Sq F value Pr(>F)\n",
              "exp_group    2 0.2985 0.14927   1.995  0.217\n",
              "depth        3 0.0693 0.02311   0.309  0.819\n",
              "Residuals    6 0.4489 0.07481               "
            ]
          },
          "metadata": {}
        },
        {
          "output_type": "display_data",
          "data": {
            "text/plain": [
              "            Df Sum Sq Mean Sq F value Pr(>F)\n",
              "exp_group    2 0.3996 0.19981   2.812  0.138\n",
              "depth        3 0.0986 0.03287   0.463  0.719\n",
              "Residuals    6 0.4264 0.07106               "
            ]
          },
          "metadata": {}
        },
        {
          "output_type": "display_data",
          "data": {
            "text/plain": [
              "            Df Sum Sq Mean Sq F value Pr(>F)\n",
              "exp_group    2 0.0341 0.01706   0.181  0.838\n",
              "depth        3 0.2079 0.06931   0.737  0.567\n",
              "Residuals    6 0.5642 0.09403               "
            ]
          },
          "metadata": {}
        },
        {
          "output_type": "display_data",
          "data": {
            "text/plain": [
              "            Df Sum Sq Mean Sq F value Pr(>F)\n",
              "exp_group    2 0.0711 0.03556   0.659  0.551\n",
              "depth        3 0.1126 0.03752   0.695  0.588\n",
              "Residuals    6 0.3239 0.05398               "
            ]
          },
          "metadata": {}
        }
      ]
    },
    {
      "cell_type": "code",
      "source": [
        "analysis_full_bpca_exp_dt%>%\n",
        "  ggplot(aes(x=C_PERC))+\n",
        "    geom_histogram()+\n",
        "    facet_grid(FRACTION~BURN_SEVERITY)"
      ],
      "metadata": {
        "colab": {
          "base_uri": "https://localhost:8080/",
          "height": 455
        },
        "id": "D5dDGxZWf3JX",
        "outputId": "1dfb3b1a-ec15-431e-feb2-b1b66ccea7d2"
      },
      "execution_count": 136,
      "outputs": [
        {
          "output_type": "stream",
          "name": "stderr",
          "text": [
            "\u001b[1m\u001b[22m`stat_bin()` using `bins = 30`. Pick better value with `binwidth`.\n"
          ]
        },
        {
          "output_type": "display_data",
          "data": {
            "text/plain": [
              "plot without title"
            ],
            "image/png": "[encoded data removed]"
          },
          "metadata": {
            "image/png": {
              "width": 420,
              "height": 420
            }
          }
        }
      ]
    },
    {
      "cell_type": "code",
      "source": [
        "new_labels <- c(\"0-5 cm\", \"5-10 cm\", \"10-20 cm\", \"20-30 cm\")\n",
        "\n",
        "# Replace levels in the DEPTH column\n",
        "analysis_full_bpca_exp_dt[, DEPTH := factor(analysis_full_bpca_exp_dt$DEPTH,\n",
        "                                            levels = levels(analysis_full_bpca_exp_dt$DEPTH),\n",
        "                                            labels = new_labels)]\n",
        "\n"
      ],
      "metadata": {
        "id": "kYbimt4b8wBr"
      },
      "execution_count": 137,
      "outputs": []
    },
    {
      "cell_type": "code",
      "source": [
        "means_data <- analysis_full_bpca_exp_dt[ ,\n",
        "                          .(CONC_MEAN = mean(CONC_MEAN, na.rm = TRUE)*100),\n",
        "                          by = .(BURN_SEVERITY, DEPTH)]\n",
        "\n",
        "analysis_full_bpca_exp_dt %>%\n",
        "ggplot(  aes(x = BURN_SEVERITY, y = CONC_MEAN*100)) +\n",
        "  geom_boxplot() +\n",
        "  geom_point(data = means_data, aes(y = CONC_MEAN), color = \"red\", size = 2) +\n",
        "  facet_grid(. ~ DEPTH) +\n",
        "  ylab('Percent B6CA in POM') +\n",
        "  xlab('Burn Severity Class') +\n",
        "  theme_bw()+\n",
        "  theme(axis.text.x = element_text(angle = 45, hjust = 1), text = element_text(size = 14))\n"
      ],
      "metadata": {
        "colab": {
          "base_uri": "https://localhost:8080/",
          "height": 473
        },
        "id": "e7isOB8_lQG5",
        "outputId": "a2caea99-9c91-4581-fcef-c35155ee413b"
      },
      "execution_count": 138,
      "outputs": [
        {
          "output_type": "stream",
          "name": "stderr",
          "text": [
            "Warning message:\n",
            "“\u001b[1m\u001b[22mRemoved 247 rows containing non-finite values (`stat_boxplot()`).”\n"
          ]
        },
        {
          "output_type": "display_data",
          "data": {
            "text/plain": [
              "plot without title"
            ],
            "image/png": "[encoded data removed]"
          },
          "metadata": {
            "image/png": {
              "width": 420,
              "height": 420
            }
          }
        }
      ]
    },
    {
      "cell_type": "code",
      "source": [
        "means_data <- analysis_full_bpca_exp_dt[ ,\n",
        "                          .(C_PERC = mean(C_PERC, na.rm = TRUE)),\n",
        "                          by = .(BURN_SEVERITY,FRACTION,DEPTH)]\n",
        "\n",
        "analysis_full_bpca_exp_dt %>%\n",
        "ggplot( aes(x = BURN_SEVERITY, y = C_PERC)) +\n",
        "    geom_boxplot( ) +\n",
        "    geom_point(data = means_data, aes(y = C_PERC), color = \"red\", size = 2) +\n",
        "    ylab('Percent C') +\n",
        "    theme_bw()+\n",
        "    xlab('Burn Severity Class') +\n",
        "        theme(axis.text.x = element_text(angle = 45, hjust=1))+\n",
        "    facet_grid(FRACTION~DEPTH,scales = 'free_y')"
      ],
      "metadata": {
        "colab": {
          "base_uri": "https://localhost:8080/",
          "height": 437
        },
        "id": "pXxAT18GtSsu",
        "outputId": "7f5004f7-4292-4d16-c2de-2cb789b1237f"
      },
      "execution_count": 139,
      "outputs": [
        {
          "output_type": "display_data",
          "data": {
            "text/plain": [
              "plot without title"
            ],
            "image/png": "[encoded data removed]"
          },
          "metadata": {
            "image/png": {
              "width": 420,
              "height": 420
            }
          }
        }
      ]
    },
    {
      "cell_type": "code",
      "source": [
        "means_data <- analysis_full_bpca_exp_dt[ ,\n",
        "                          .(CONC_MEAN = mean(CONC_MEAN, na.rm = TRUE)*100),\n",
        "                          by = .(BURN_SEVERITY)]\n",
        "\n",
        "analysis_full_bpca_exp_dt %>%\n",
        "ggplot( aes(x = BURN_SEVERITY, y = CONC_MEAN*100)) +\n",
        "    geom_boxplot( ) +\n",
        "    geom_point(data = means_data, aes(y = CONC_MEAN), color = \"red\", size = 2) +\n",
        "    ylab('Percent B6CA in POM') +\n",
        "    geom_signif(aes(),comparisons = list(c(1,2),c(1,3),c(1,4)),\n",
        "            map_signif_level=TRUE,step_increase=.05) +\n",
        "    theme_bw()+\n",
        "    xlab('Burn Severity Class')\n",
        ""
      ],
      "metadata": {
        "colab": {
          "base_uri": "https://localhost:8080/",
          "height": 510
        },
        "id": "c-x-VrDJVsNK",
        "outputId": "d4d32aa1-3555-4b1f-fb5a-2ee761e767eb"
      },
      "execution_count": 140,
      "outputs": [
        {
          "output_type": "stream",
          "name": "stderr",
          "text": [
            "Warning message:\n",
            "“\u001b[1m\u001b[22mRemoved 247 rows containing non-finite values (`stat_boxplot()`).”\n",
            "Warning message:\n",
            "“\u001b[1m\u001b[22mRemoved 247 rows containing non-finite values (`stat_signif()`).”\n"
          ]
        },
        {
          "output_type": "display_data",
          "data": {
            "text/plain": [
              "plot without title"
            ],
            "image/png": "[encoded data removed]"
          },
          "metadata": {
            "image/png": {
              "width": 420,
              "height": 420
            }
          }
        }
      ]
    },
    {
      "cell_type": "code",
      "source": [
        "means_data <- analysis_full_bpca_exp_dt[, .(\n",
        "  CONC_MEAN = mean(CONC_MEAN, na.rm = TRUE) * 100,\n",
        "  SE = sd(CONC_MEAN, na.rm = TRUE) / sqrt(.N) * 100\n",
        "), by = .(BURN_SEVERITY)]\n",
        "\n",
        "ggplot(means_data, aes(x = BURN_SEVERITY, y = CONC_MEAN)) +\n",
        "  geom_bar(stat = \"identity\", fill = \"darkslategray\") +\n",
        "  geom_errorbar(\n",
        "    aes(ymin = CONC_MEAN - SE, ymax = CONC_MEAN + SE),\n",
        "    width = 0.2,\n",
        "    position = position_dodge(0.9)\n",
        "  ) +\n",
        "  ylab('Percent B6CA in POM') +\n",
        "  xlab('Burn Severity Class') +\n",
        "  theme_bw() +\n",
        " geom_signif(data=analysis_full_bpca_exp_dt,aes(),comparisons = list(c(1,2),c(1,3),c(1,4)),\n",
        "            map_signif_level=TRUE,step_increase=.05)\n",
        "  #  geom_signif(\n",
        "  #   comparisons = list(c(\"control\", \"low\"), c(\"moderate\", \"high\")),\n",
        "  #   map_signif_level = TRUE,\n",
        "  #   step_increase = 0.05,\n",
        "  #   textsize = 4\n",
        "  # )"
      ],
      "metadata": {
        "colab": {
          "base_uri": "https://localhost:8080/",
          "height": 510
        },
        "id": "FOOyYtYEJfab",
        "outputId": "bd960754-dc44-4889-85ad-b9314bbeb5f5"
      },
      "execution_count": 141,
      "outputs": [
        {
          "output_type": "stream",
          "name": "stderr",
          "text": [
            "Warning message in geom_signif(data = analysis_full_bpca_exp_dt, aes(), comparisons = list(c(1, :\n",
            "“You have set data and mapping, are you sure that manual = FALSE is correct?”\n",
            "Warning message:\n",
            "“\u001b[1m\u001b[22mRemoved 247 rows containing non-finite values (`stat_signif()`).”\n"
          ]
        },
        {
          "output_type": "display_data",
          "data": {
            "text/plain": [
              "plot without title"
            ],
            "image/png": "[encoded data removed]"
          },
          "metadata": {
            "image/png": {
              "width": 420,
              "height": 420
            }
          }
        }
      ]
    },
    {
      "cell_type": "code",
      "source": [
        "ggplot(analysis_full_bpca_exp_dt,aes(x = BURN_SEVERITY, y = g_kg)) +\n",
        "  geom_boxplot() +\n",
        "  # geom_point(aes(y=group_mean),color='red')+\n",
        "  #(bquote('Mean light fraction soil carbon content ('*mg~ 'C' ~g^-1~'soil'*')'))\n",
        "  ylab(bquote('PyC concentration ('*g~ 'B6CA'~kg^-1~' C'*')'))+\n",
        "  xlab('Soil Burn Severity Class') +\n",
        "      theme_bw()+\n",
        "      theme(text = element_text(size=15),axis.text.x = element_text(angle = 45, hjust=1)) +\n",
        "  geom_signif(aes(),comparisons = list(c(1,2),c(1,3),c(1,4)),\n",
        "            map_signif_level=TRUE,step_increase=.05) +\n",
        "  # facet_grid(.~Depth) +\n",
        "  coord_cartesian(expand=TRUE)"
      ],
      "metadata": {
        "id": "a2F5SU0Utf9A"
      },
      "execution_count": null,
      "outputs": []
    },
    {
      "cell_type": "code",
      "source": [
        "\n",
        "LF_stoic_dt$g_kg <- (LF_stoic_dt$conc_avg/LF_stoic_dt$bpca_starting_mass_mg)\n",
        "LF_stoic_dt[!is.na(Depth)&!is.na(burn_severity),list(g_kg=mean(g_kg,na.rm = T)),by=.(burn_severity,site,Depth)] %>%\n",
        "aov(g_kg ~ burn_severity, data = .) %>%\n",
        "summary()"
      ],
      "metadata": {
        "id": "7XEjT7ansZRw"
      },
      "execution_count": null,
      "outputs": []
    },
    {
      "cell_type": "code",
      "source": [
        "LF_stoic_dt[!is.na(Depth)&!is.na(burn_severity),][fraction !='BULK'][C_perc/N_perc <100] %>%\n",
        "ggplot(aes(x = burn_severity, y =C_N)) +\n",
        "  geom_boxplot() +\n",
        "  # geom_point(aes(y=group_mean),color='red')+\n",
        "  #(bquote('Mean light fraction soil carbon content ('*mg~ 'C' ~g^-1~'soil'*')'))\n",
        "  ylab(bquote('PyC concentration ('*g~ 'B6CA'~kg^-1~' C'*')'))+\n",
        "  xlab('Soil Burn Severity Class') +\n",
        "      theme_bw()+\n",
        "      theme(text = element_text(size=15),axis.text.x = element_text(angle = 45, hjust=1)) +\n",
        "  # geom_signif(aes(),comparisons = list(c(1,2),c(1,3),c(1,4)),\n",
        "  #           map_signif_level=TRUE,step_increase=.05) +\n",
        "  facet_grid(fraction~Depth,scales = 'free_y') +\n",
        "  coord_cartesian(expand=TRUE)"
      ],
      "metadata": {
        "id": "nOGTzIWMtxMR"
      },
      "execution_count": null,
      "outputs": []
    },
    {
      "cell_type": "code",
      "source": [
        "LF_stoic_dt[!is.na(Depth)&!is.na(burn_severity),][fraction !='BULK'][C_perc/N_perc <100] %>%\n",
        "ggplot(aes(x = burn_severity, y =C_N,group=burn_severity)) +\n",
        "  geom_boxplot() +\n",
        "  # geom_point(aes(y=group_mean),color='red')+\n",
        "  #(bquote('Mean light fraction soil carbon content ('*mg~ 'C' ~g^-1~'soil'*')'))\n",
        "  #ylab(bquote('PyC concentration ('*g~ 'B6CA'~kg^-1~' C'*')'))+\n",
        "  ylab('') +\n",
        "  xlab('Soil Burn Severity Class') +\n",
        "      theme_bw()+\n",
        "      theme(text = element_text(size=15),axis.text.x = element_text(angle = 45, hjust=1)) +\n",
        "  # geom_signif(aes(),comparisons = list(c(1,2),c(1,3),c(1,4)),\n",
        "  #           map_signif_level=TRUE,step_increase=.05) +\n",
        "  facet_grid(fraction~Depth,scales = 'free_y') +\n",
        "  coord_cartesian(expand=TRUE)"
      ],
      "metadata": {
        "id": "ebp0fgoPt0cX"
      },
      "execution_count": null,
      "outputs": []
    },
    {
      "cell_type": "code",
      "source": [
        "#model <- lm(bpca_conc_240_per * 1000 ~ count, data = events_dt) %>% print\n",
        "#rsquared <- summary(model)$r.squared %>% print"
      ],
      "metadata": {
        "id": "YLqhrxPDbbqm"
      },
      "execution_count": null,
      "outputs": []
    },
    {
      "cell_type": "code",
      "source": [
        "analysis_full_bpca_exp_dt[!is.na(fire_count) &FRACTION =='LF' &DEPTH =='0-5'] %>% names"
      ],
      "metadata": {
        "id": "a2Kegq2hi7D-"
      },
      "execution_count": null,
      "outputs": []
    },
    {
      "cell_type": "code",
      "source": [
        "model <- lm(mg_ml_bpca ~ fire_count, data = analysis_full_bpca_exp_dt) %>% print\n",
        "rsquared <- summary(model)$r.squared %>% print"
      ],
      "metadata": {
        "id": "kv8Mi_XOEcfR"
      },
      "execution_count": null,
      "outputs": []
    },
    {
      "cell_type": "code",
      "source": [
        "# full_bpca_exp_dt$DEPTH_UPPER  <- full_bpca_exp_dt$DEPTH %>% paste0 %>% strsplit('-') %>% lapply(function(x){x[1]}) %>% unlist %>% as.numeric\n",
        "# full_bpca_exp_dt$DEPTH_LOWER  <- full_bpca_exp_dt$DEPTH %>% paste0 %>% strsplit('-') %>% lapply(function(x){x[2]}) %>% unlist %>% as.numeric\n",
        "# full_bpca_exp_dt[,mg_ml_bpca := (CONC_MEAN/BPCA_STARTING_MASS_MG) ]\n",
        "# full_bpca_exp_dt[,g_kg_bpca_lf := MASS_PROPORTION_RECOVERED*mg_ml_bpca,by=1:nrow(full_bpca_exp_dt)]\n",
        "# full_bpca_exp_dt[,per_bpca_carb_lf := mg_ml_bpca/(C_PERC/100),by=1:nrow(full_bpca_exp_dt)]\n",
        "# full_bpca_exp_dt[,C_N := C_PERC/N_PERC,by=1:nrow(full_bpca_exp_dt)]\n",
        "# full_bpca_exp_dt[,carbon_stock:= (DEPTH_LOWER %>% as.numeric - DEPTH_UPPER%>% as.numeric )*((BULKD %>% as.numeric ))*(C_PERC/100)*100]\n",
        "# full_bpca_exp_dt[BURN_SEVERITY!='control',TREATMENT := 'treatment']\n",
        "# full_bpca_exp_dt[BURN_SEVERITY=='control',TREATMENT := 'control']\n",
        "# full_bpca_exp_dt[ ,TREATMENT := 'control']\n",
        "# full_bpca_exp_dt[,exp_group:= SITE %>% gsub('C','',.) %>% substr(1,1)]"
      ],
      "metadata": {
        "id": "CYKUukfQkqDG"
      },
      "execution_count": null,
      "outputs": []
    },
    {
      "cell_type": "code",
      "source": [
        "analysis_full_bpca_exp_dt %>% names"
      ],
      "metadata": {
        "id": "7fiX74CWo2OD"
      },
      "execution_count": null,
      "outputs": []
    },
    {
      "cell_type": "code",
      "source": [
        "analysis_full_bpca_exp_dt$MASS_PROPORTION_RECOVERED"
      ],
      "metadata": {
        "id": "dJVBz5wKpsxf"
      },
      "execution_count": null,
      "outputs": []
    },
    {
      "cell_type": "code",
      "source": [
        "# conc g BPCA / kg C = conc BPCA g/kg / mass of C in soil LF kg\n",
        "# (analysis_full_bpca_exp_dt$C_PERC/100) * MASS_PROPORTION_RECOVERED  = mg C\n",
        "\n",
        "#  (mg_ml_bpca)/ mg C * (1/1000 g/mg) * (1/1000 kg/g) = g B6CA / kg C\n",
        "\n",
        "#  full_bpca_exp_dt[,g_PyC_kg_C := mg_ml_bpca/(C_PERC/100)*(1/1000)*(1/1000),by=1:nrow(full_bpca_exp_dt)]"
      ],
      "metadata": {
        "id": "D7jbs4BwmS4u"
      },
      "execution_count": null,
      "outputs": []
    },
    {
      "cell_type": "code",
      "source": [
        "\n",
        "#'whitesmoke'\n",
        "\n",
        "analysis_full_bpca_exp_dt[!is.na(fire_count) &FRACTION =='LF' &!(DEPTH %in% c('0-5','5-10'))&fire_count>2][,list(CONC_MEAN = mean(mg_ml_bpca)),by=.(SITE,fire_count,fire_frequency,BURN_SEVERITY)] %>%\n",
        "ggplot(aes(y = CONC_MEAN*1000, x = fire_count)) +\n",
        "  geom_smooth(method = 'lm',\n",
        "              se = TRUE,\n",
        "              colour = 'darkgray',\n",
        "              fill = 'lightgray') +\n",
        "  geom_point(aes(color = BURN_SEVERITY), size = 3) +\n",
        "  # geom_text(aes(label = paste(\"R² =\", round(rsquared, 3))),\n",
        "  #           x = max(events_dt$count), y = max(events_dt$bpca_conc_240_per * 1000),\n",
        "  #           hjust = 1, vjust = 1, color = \"black\", size = 5) +\n",
        "  theme_classic() +\n",
        "  #theme(legend.position = \"none\",text = element_text(size = 13),\n",
        "  #                        axis.text = element_text(size = 12)) +\n",
        "  theme(legend.position = c(.3, .92), text = element_text(size = 13),\n",
        "        axis.text = element_text(size = 12)) +\n",
        "  scale_color_manual(values = c('LightSlateGray', 'darkolivegreen', 'DarkOrange'),\n",
        "                      name = 'Soil Burn Severity - Holiday Farm Fire',\n",
        "                      labels = c('unburned', 'low', 'moderate')) +\n",
        "   # ylab('Mean years to CWD capacity')       +\n",
        "  #  ylab(bquote('Mean annual CWD accumulation rate ('*~kg ~ m ^-2~') '))       +\n",
        " # ylab(bquote('PyC concentration in POM (' * g ~ 'B6CA' ~ kg^-1 ~ 'C' * ')')) +\n",
        "   ylab(bquote('Mean PyC concentration in subsoil ('* g ~ 'B6CA' ~ kg^-1 ~ 'POM'*')')) +\n",
        "  xlab('Count of fires since 1800')\n",
        "  #ylim(0,1)"
      ],
      "metadata": {
        "id": "1ok7tarPQ-KJ"
      },
      "execution_count": null,
      "outputs": []
    }
  ]
}