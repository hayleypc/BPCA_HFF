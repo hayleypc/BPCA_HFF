{
  "nbformat": 4,
  "nbformat_minor": 0,
  "metadata": {
    "colab": {
      "provenance": [],
      "authorship_tag": "ABX9TyNnIJ+Z3+XkY4MXOW8qj4SP",
      "include_colab_link": true
    },
    "kernelspec": {
      "name": "ir",
      "display_name": "R"
    },
    "language_info": {
      "name": "R"
    }
  },
  "cells": [
    {
      "cell_type": "markdown",
      "metadata": {
        "id": "view-in-github",
        "colab_type": "text"
      },
      "source": [
        "<a href=\"https://colab.research.google.com/github/hayleypc/BPCA_HFF/blob/main/2024_BPCA_munging.ipynb\" target=\"_parent\"><img src=\"https://colab.research.google.com/assets/colab-badge.svg\" alt=\"Open In Colab\"/></a>"
      ]
    },
    {
      "cell_type": "code",
      "execution_count": 1,
      "metadata": {
        "id": "DZcQbTkPIObK"
      },
      "outputs": [],
      "source": [
        "# read in these files: /content/2024_holidayfarmfire.xlsx, /content/BPCA6_standards.csv, /content/sample_data, /content/BPCA_HPLC_LF.csv, /content/C_Mg_ha.csv,\n",
        "# /content/Postfire Soils BPCA - LF_subset.csv, /content/cwd_rate_table.csv, /content/image.png, /content/lines.gpkg, /content/points.gpkg, /content/spatial_cwd.gpkg,\n",
        "# /content/transect_data.gpkg"
      ]
    },
    {
      "cell_type": "code",
      "source": [
        "install.packages(c('data.table','ggplot2','magrittr','rstatix','plotrix','ggsignif',\"googledrive\",'openxlsx'))"
      ],
      "metadata": {
        "colab": {
          "base_uri": "https://localhost:8080/"
        },
        "id": "iH9W0PLbIcrk",
        "outputId": "12fb38d4-625c-456f-eba1-556277bbd8e6"
      },
      "execution_count": 2,
      "outputs": [
        {
          "output_type": "stream",
          "name": "stderr",
          "text": [
            "Installing packages into ‘/usr/local/lib/R/site-library’\n",
            "(as ‘lib’ is unspecified)\n",
            "\n",
            "also installing the dependencies ‘numDeriv’, ‘SparseM’, ‘MatrixModels’, ‘minqa’, ‘nloptr’, ‘RcppEigen’, ‘carData’, ‘abind’, ‘pbkrtest’, ‘quantreg’, ‘lme4’, ‘corrplot’, ‘car’, ‘Rcpp’\n",
            "\n",
            "\n"
          ]
        }
      ]
    },
    {
      "cell_type": "code",
      "source": [
        "library(data.table)\n",
        "library(ggplot2)\n",
        "library(magrittr)\n",
        "library(rstatix)\n",
        "library(ggsignif)\n",
        "library(plotrix)\n",
        "library(googledrive)\n",
        "library(openxlsx)"
      ],
      "metadata": {
        "colab": {
          "base_uri": "https://localhost:8080/"
        },
        "id": "fnUYbPsJIiLu",
        "outputId": "52b53baf-0ff2-4bcb-986a-1f81fa9b1a11"
      },
      "execution_count": 1,
      "outputs": [
        {
          "output_type": "stream",
          "name": "stderr",
          "text": [
            "\n",
            "Attaching package: ‘rstatix’\n",
            "\n",
            "\n",
            "The following object is masked from ‘package:stats’:\n",
            "\n",
            "    filter\n",
            "\n",
            "\n"
          ]
        }
      ]
    },
    {
      "cell_type": "code",
      "source": [
        "drive_auth(use_oob = TRUE, cache = FALSE)"
      ],
      "metadata": {
        "colab": {
          "base_uri": "https://localhost:8080/"
        },
        "id": "_MXNgAa-J1XE",
        "outputId": "fb7b9030-8498-4d83-b4dc-17eec6887a97"
      },
      "execution_count": 2,
      "outputs": [
        {
          "output_type": "stream",
          "name": "stderr",
          "text": [
            "Please point your browser to the following url: \n",
            "\n",
            "https://accounts.google.com/o/oauth2/v2/auth?client_id=603366585132-frjlouoa3s2ono25d2l9ukvhlsrlnr7k.apps.googleusercontent.com&scope=https%3A%2F%2Fwww.googleapis.com%2Fauth%2Fdrive%20https%3A%2F%2Fwww.googleapis.com%2Fauth%2Fuserinfo.email&redirect_uri=https%3A%2F%2Fwww.tidyverse.org%2Fgoogle-callback%2F&response_type=code&state=8a476f957104bb75441564928c5bc84c&access_type=offline&prompt=consent\n",
            "\n"
          ]
        },
        {
          "name": "stdout",
          "output_type": "stream",
          "text": [
            "Enter authorization code: eyJjb2RlIjoiNC8wQWZKb2hYa3BQXzA5bURFWmZfS19SSHV3UEoxbkVMUVAzN0ZNNG03SzlxYmdCRlhhYmRvYmg2bUxJc2xZVUhpb191RnpZZyIsInN0YXRlIjoiOGE0NzZmOTU3MTA0YmI3NTQ0MTU2NDkyOGM1YmM4NGMifQ==\n"
          ]
        }
      ]
    },
    {
      "cell_type": "code",
      "source": [
        "# bpca_dt <- fread('/content/BPCA_HPLC_LF.csv')\n",
        "# standards_dt <- fread('/content/BPCA6_standards.csv')\n",
        "LF_stoic_dt_old <- fread('/content/Postfire Soils BPCA - LF_subset.csv')"
      ],
      "metadata": {
        "id": "cxWUi_JMJ7s2"
      },
      "execution_count": 37,
      "outputs": []
    },
    {
      "cell_type": "code",
      "source": [
        "# https://docs.google.com/spreadsheets/d/1uoBy87pdp8sByoTocX6MGIIBpW9KIGC8oZWwzlbXj7Y/edit?usp=sharing"
      ],
      "metadata": {
        "id": "46Qr6PCiKBgR"
      },
      "execution_count": 6,
      "outputs": []
    },
    {
      "cell_type": "code",
      "source": [
        "# Hawaii GEDI data ## even though it's not HI GEDI data\n",
        "# https://drive.google.com/file/d/1UY3lxML0Y7bat_9-xEZQQHDkYRcODDZy/view?usp=drive_link\n",
        "drive_download(file = as_id('1uoBy87pdp8sByoTocX6MGIIBpW9KIGC8oZWwzlbXj7Y'), path =  '/content/2024_holidayfarmfire.xlsx', overwrite = FALSE)\n",
        "# gedi_sf <- st_read('/content/predictor_variables/Hawaii_GEDI_4A.gpkg')"
      ],
      "metadata": {
        "colab": {
          "base_uri": "https://localhost:8080/",
          "height": 297
        },
        "id": "DmbWunomKFlu",
        "outputId": "acbb7e65-781c-465f-bbaf-5667c380576e"
      },
      "execution_count": 4,
      "outputs": [
        {
          "output_type": "error",
          "ename": "ERROR",
          "evalue": "\u001b[1m\u001b[33mError\u001b[39m in `drive_download()`:\u001b[22m\n\u001b[1m\u001b[22m\u001b[33m!\u001b[39m Local `path` already exists and overwrite is `FALSE`:\n\u001b[36m•\u001b[39m \u001b[34m/content/2024_holidayfarmfire.xlsx\u001b[39m\n",
          "traceback": [
            "\u001b[1m\u001b[33mError\u001b[39m in `drive_download()`:\u001b[22m\n\u001b[1m\u001b[22m\u001b[33m!\u001b[39m Local `path` already exists and overwrite is `FALSE`:\n\u001b[36m•\u001b[39m \u001b[34m/content/2024_holidayfarmfire.xlsx\u001b[39m\nTraceback:\n",
            "1. drive_download(file = as_id(\"1uoBy87pdp8sByoTocX6MGIIBpW9KIGC8oZWwzlbXj7Y\"), \n .     path = \"/content/2024_holidayfarmfire.xlsx\", overwrite = FALSE)",
            "2. drive_abort(c(\"Local {.arg path} already exists and overwrite is {.code FALSE}:\", \n .     bulletize(gargle_map_cli(path, \"{.path <<x>>}\"))))",
            "3. cli::cli_abort(message = message, ..., .envir = .envir)",
            "4. rlang::abort(message, ..., call = call, use_cli_format = TRUE, \n .     .frame = .frame)",
            "5. signal_abort(cnd, .file)"
          ]
        }
      ]
    },
    {
      "cell_type": "code",
      "source": [
        "# https://drive.google.com/file/d/1tVMe4VeUT06QLF_iOirdcLZ_4aT-cQCg/view?usp=drive_link\n",
        "drive_download(file = as_id('1tVMe4VeUT06QLF_iOirdcLZ_4aT-cQCg'), path =  '/content/cwd_rate_table.csv', overwrite = FALSE)"
      ],
      "metadata": {
        "colab": {
          "base_uri": "https://localhost:8080/",
          "height": 297
        },
        "id": "5gwn_fgmKNmi",
        "outputId": "84f53782-6f5b-4e3d-ce73-e0e769cb4065"
      },
      "execution_count": 5,
      "outputs": [
        {
          "output_type": "error",
          "ename": "ERROR",
          "evalue": "\u001b[1m\u001b[33mError\u001b[39m in `drive_download()`:\u001b[22m\n\u001b[1m\u001b[22m\u001b[33m!\u001b[39m Local `path` already exists and overwrite is `FALSE`:\n\u001b[36m•\u001b[39m \u001b[34m/content/cwd_rate_table.csv\u001b[39m\n",
          "traceback": [
            "\u001b[1m\u001b[33mError\u001b[39m in `drive_download()`:\u001b[22m\n\u001b[1m\u001b[22m\u001b[33m!\u001b[39m Local `path` already exists and overwrite is `FALSE`:\n\u001b[36m•\u001b[39m \u001b[34m/content/cwd_rate_table.csv\u001b[39m\nTraceback:\n",
            "1. drive_download(file = as_id(\"1tVMe4VeUT06QLF_iOirdcLZ_4aT-cQCg\"), \n .     path = \"/content/cwd_rate_table.csv\", overwrite = FALSE)",
            "2. drive_abort(c(\"Local {.arg path} already exists and overwrite is {.code FALSE}:\", \n .     bulletize(gargle_map_cli(path, \"{.path <<x>>}\"))))",
            "3. cli::cli_abort(message = message, ..., .envir = .envir)",
            "4. rlang::abort(message, ..., call = call, use_cli_format = TRUE, \n .     .frame = .frame)",
            "5. signal_abort(cnd, .file)"
          ]
        }
      ]
    },
    {
      "cell_type": "code",
      "source": [
        "cwd_rate_table <- fread('/content/cwd_rate_table.csv')"
      ],
      "metadata": {
        "id": "JGtuBuJQSmzZ"
      },
      "execution_count": 6,
      "outputs": []
    },
    {
      "cell_type": "code",
      "source": [
        "SheetNames<-getSheetNames('/content/2024_holidayfarmfire.xlsx')\n",
        "print(SheetNames)\n",
        "\n",
        "data_list <- SheetNames %>%\n",
        "             lapply(function(x){\n",
        "                #Read the i'th sheet\n",
        "             openxlsx::read.xlsx('/content/2024_holidayfarmfire.xlsx', x) %>% data.table\n",
        "             })\n",
        "\n",
        "names(data_list) <- SheetNames"
      ],
      "metadata": {
        "colab": {
          "base_uri": "https://localhost:8080/"
        },
        "id": "-bxe308USnos",
        "outputId": "ceab028d-3a2e-47d2-9f79-f03c7e1a62ab"
      },
      "execution_count": 7,
      "outputs": [
        {
          "output_type": "stream",
          "name": "stdout",
          "text": [
            "[1] \"Site Locations\"         \"Soil Samples\"           \"CWD\"                   \n",
            "[4] \"Decay and burn classes\" \"Frac BPCA\"              \"BPCA Standards\"        \n"
          ]
        }
      ]
    },
    {
      "cell_type": "code",
      "source": [
        "standards_2_dt <- data_list[['BPCA Standards']][Treatment == 'standard']"
      ],
      "metadata": {
        "id": "pALKdiFTSq34"
      },
      "execution_count": 8,
      "outputs": []
    },
    {
      "cell_type": "code",
      "source": [
        "standards_2_dt$stock_concentration_mg_per_ml <- c(1/800,1/400,1/200,1/100,1/50,1/10,1)*(2/3)\n",
        "# standards_2_dt$stock_concentration_mg_per_ml_alt <- c(1/800,1/400,1/200,1/100,1/50,1/10,1)\n",
        "standards_2_dt$PA_240_nm  <- standards_2_dt$`240_nm_PA`\n",
        "standards_2_dt$PA_216_nm  <- standards_2_dt$`216_nm_PA`"
      ],
      "metadata": {
        "id": "ZKVUm6WKSv2m"
      },
      "execution_count": 9,
      "outputs": []
    },
    {
      "cell_type": "code",
      "source": [
        "# standards_dt %>% head\n",
        "# lm('stock_concentration_mg_per_ml~PA_216_nm',standards_dt) %>% summary\n",
        "conc_240_lm <- lm('stock_concentration_mg_per_ml~PA_240_nm',standards_2_dt)\n",
        "conc_216_lm <- lm('stock_concentration_mg_per_ml~PA_216_nm',standards_2_dt)\n",
        "conc_240_lm %>% summary\n",
        "conc_216_lm %>% summary"
      ],
      "metadata": {
        "colab": {
          "base_uri": "https://localhost:8080/",
          "height": 642
        },
        "id": "CCdX5aUHSyDG",
        "outputId": "23192f4b-ff71-4ca4-be66-be3a5a44c8ad"
      },
      "execution_count": 10,
      "outputs": [
        {
          "output_type": "display_data",
          "data": {
            "text/plain": [
              "\n",
              "Call:\n",
              "lm(formula = \"stock_concentration_mg_per_ml~PA_240_nm\", data = standards_2_dt)\n",
              "\n",
              "Residuals:\n",
              "        1         2         3         4         5         6         7 \n",
              " 0.010089  0.010557  0.009807  0.005208 -0.002146 -0.040517  0.007002 \n",
              "\n",
              "Coefficients:\n",
              "              Estimate Std. Error t value Pr(>|t|)    \n",
              "(Intercept) -1.106e-02  8.600e-03  -1.285    0.255    \n",
              "PA_240_nm    3.858e-08  1.288e-09  29.960 7.77e-07 ***\n",
              "---\n",
              "Signif. codes:  0 ‘***’ 0.001 ‘**’ 0.01 ‘*’ 0.05 ‘.’ 0.1 ‘ ’ 1\n",
              "\n",
              "Residual standard error: 0.02016 on 5 degrees of freedom\n",
              "Multiple R-squared:  0.9945,\tAdjusted R-squared:  0.9934 \n",
              "F-statistic: 897.6 on 1 and 5 DF,  p-value: 7.77e-07\n"
            ]
          },
          "metadata": {}
        },
        {
          "output_type": "display_data",
          "data": {
            "text/plain": [
              "\n",
              "Call:\n",
              "lm(formula = \"stock_concentration_mg_per_ml~PA_216_nm\", data = standards_2_dt)\n",
              "\n",
              "Residuals:\n",
              "        1         2         3         4         5         6         7 \n",
              " 0.006833  0.007300  0.006870  0.003657 -0.002204 -0.026349  0.003894 \n",
              "\n",
              "Coefficients:\n",
              "              Estimate Std. Error t value Pr(>|t|)    \n",
              "(Intercept) -8.507e-03  5.616e-03  -1.515     0.19    \n",
              "PA_216_nm    1.731e-08  3.785e-10  45.731 9.44e-08 ***\n",
              "---\n",
              "Signif. codes:  0 ‘***’ 0.001 ‘**’ 0.01 ‘*’ 0.05 ‘.’ 0.1 ‘ ’ 1\n",
              "\n",
              "Residual standard error: 0.01323 on 5 degrees of freedom\n",
              "Multiple R-squared:  0.9976,\tAdjusted R-squared:  0.9971 \n",
              "F-statistic:  2091 on 1 and 5 DF,  p-value: 9.441e-08\n"
            ]
          },
          "metadata": {}
        }
      ]
    },
    {
      "cell_type": "code",
      "source": [
        "bpca_dt <- data_list[['BPCA Standards']]\n",
        "\n",
        "bpca_dt$PA_240_nm  <- bpca_dt$`240_nm_PA`\n",
        "bpca_dt$PA_216_nm  <- bpca_dt$`216_nm_PA`"
      ],
      "metadata": {
        "id": "bXXTk60-S2Ck"
      },
      "execution_count": 18,
      "outputs": []
    },
    {
      "cell_type": "code",
      "source": [
        " bpca_dt[BPCA_ID == 'R65 V22']$PA_240_nm <- NA #Has a reading of >1 in 240 (1.2)\n",
        " bpca_dt[BPCA_ID == 'R65 V22']"
      ],
      "metadata": {
        "id": "wUF1HwYuuI_k",
        "outputId": "aed7be80-5733-4a2c-f334-c19dcaf004f7",
        "colab": {
          "base_uri": "https://localhost:8080/",
          "height": 129
        }
      },
      "execution_count": 19,
      "outputs": [
        {
          "output_type": "display_data",
          "data": {
            "text/html": [
              "<table class=\"dataframe\">\n",
              "<caption>A data.table: 1 × 13</caption>\n",
              "<thead>\n",
              "\t<tr><th scope=col>BPCA_ID</th><th scope=col>Sample_ID</th><th scope=col>Treatment</th><th scope=col>Fraction</th><th scope=col>Depth_upper</th><th scope=col>Depth_lower</th><th scope=col>Site</th><th scope=col>Burn_severity</th><th scope=col>240_nm_PA</th><th scope=col>216_nm_PA</th><th scope=col>notes</th><th scope=col>PA_240_nm</th><th scope=col>PA_216_nm</th></tr>\n",
              "\t<tr><th scope=col>&lt;chr&gt;</th><th scope=col>&lt;chr&gt;</th><th scope=col>&lt;chr&gt;</th><th scope=col>&lt;chr&gt;</th><th scope=col>&lt;dbl&gt;</th><th scope=col>&lt;dbl&gt;</th><th scope=col>&lt;chr&gt;</th><th scope=col>&lt;chr&gt;</th><th scope=col>&lt;dbl&gt;</th><th scope=col>&lt;dbl&gt;</th><th scope=col>&lt;chr&gt;</th><th scope=col>&lt;dbl&gt;</th><th scope=col>&lt;dbl&gt;</th></tr>\n",
              "</thead>\n",
              "<tbody>\n",
              "\t<tr><td>R65 V22</td><td>CL2 10-20 LF</td><td>control</td><td>LF</td><td>10</td><td>20</td><td>CL2</td><td>control</td><td>32555238</td><td>65637752</td><td>NA</td><td>NA</td><td>65637752</td></tr>\n",
              "</tbody>\n",
              "</table>\n"
            ],
            "text/markdown": "\nA data.table: 1 × 13\n\n| BPCA_ID &lt;chr&gt; | Sample_ID &lt;chr&gt; | Treatment &lt;chr&gt; | Fraction &lt;chr&gt; | Depth_upper &lt;dbl&gt; | Depth_lower &lt;dbl&gt; | Site &lt;chr&gt; | Burn_severity &lt;chr&gt; | 240_nm_PA &lt;dbl&gt; | 216_nm_PA &lt;dbl&gt; | notes &lt;chr&gt; | PA_240_nm &lt;dbl&gt; | PA_216_nm &lt;dbl&gt; |\n|---|---|---|---|---|---|---|---|---|---|---|---|---|\n| R65 V22 | CL2 10-20 LF | control | LF | 10 | 20 | CL2 | control | 32555238 | 65637752 | NA | NA | 65637752 |\n\n",
            "text/latex": "A data.table: 1 × 13\n\\begin{tabular}{lllllllllllll}\n BPCA\\_ID & Sample\\_ID & Treatment & Fraction & Depth\\_upper & Depth\\_lower & Site & Burn\\_severity & 240\\_nm\\_PA & 216\\_nm\\_PA & notes & PA\\_240\\_nm & PA\\_216\\_nm\\\\\n <chr> & <chr> & <chr> & <chr> & <dbl> & <dbl> & <chr> & <chr> & <dbl> & <dbl> & <chr> & <dbl> & <dbl>\\\\\n\\hline\n\t R65 V22 & CL2 10-20 LF & control & LF & 10 & 20 & CL2 & control & 32555238 & 65637752 & NA & NA & 65637752\\\\\n\\end{tabular}\n",
            "text/plain": [
              "  BPCA_ID Sample_ID    Treatment Fraction Depth_upper Depth_lower Site\n",
              "1 R65 V22 CL2 10-20 LF control   LF       10          20          CL2 \n",
              "  Burn_severity 240_nm_PA 216_nm_PA notes PA_240_nm PA_216_nm\n",
              "1 control       32555238  65637752  NA    NA        65637752 "
            ]
          },
          "metadata": {}
        }
      ]
    },
    {
      "cell_type": "code",
      "source": [
        "bpca_dt[,conc_240  := predict(conc_240_lm,data.frame(PA_240_nm=PA_240_nm))]\n",
        "bpca_dt[,conc_216  := predict(conc_216_lm,data.frame(PA_216_nm= (PA_216_nm )))]\n",
        "bpca_dt[Treatment!='standard',conc_216  := ((conc_216 ^2)/10)*sign(conc_216)]\n",
        "bpca_dt[,conc_mean:= mean(c(conc_240[conc_240>0],conc_216[conc_216>0]),na.rm=T),by=1:nrow(bpca_dt)]"
      ],
      "metadata": {
        "id": "qpW2g37pS2r8"
      },
      "execution_count": 20,
      "outputs": []
    },
    {
      "cell_type": "code",
      "source": [
        "bpca_dt[!is.na(conc_mean)]$conc_mean %>% min"
      ],
      "metadata": {
        "id": "Uu62gYltoyK_",
        "outputId": "1295ff87-9208-444a-d0a6-b51229d3a67a",
        "colab": {
          "base_uri": "https://localhost:8080/",
          "height": 34
        }
      },
      "execution_count": 21,
      "outputs": [
        {
          "output_type": "display_data",
          "data": {
            "text/html": [
              "3.17063508608567e-07"
            ],
            "text/markdown": "3.17063508608567e-07",
            "text/latex": "3.17063508608567e-07",
            "text/plain": [
              "[1] 3.170635e-07"
            ]
          },
          "metadata": {}
        }
      ]
    },
    {
      "cell_type": "code",
      "source": [
        "bpca_dt[Treatment=='standard',Site:='standard']\n",
        "bpca_dt[Treatment=='blank',Site:='blank']\n",
        "bpca_dt[,pearsons:=cor(conc_240[!is.na(conc_240) & !is.na(conc_216)],conc_216[!is.na(conc_240) & !is.na(conc_216)]),by = .(Site)]\n",
        "\n",
        "# bpca_dt[pearsons < .95][,list(pearsons = pearsons[1]),by=Site]\n",
        "bpca_dt[Treatment=='blank']$pearsons %>% mean\n",
        "bpca_dt[ ] %>%\n",
        "  ggplot(aes(x=conc_216 ,y=conc_240)) +\n",
        "  geom_point(aes(color=Site))+\n",
        "  # geom_abline(color='red')+\n",
        "  geom_hline(yintercept = 0,color='red')+\n",
        "    geom_vline(xintercept = 0,color='red')+\n",
        "\n",
        "  geom_smooth(method='lm')+\n",
        "    # xlim(-.05,0.01)+\n",
        "    # ylim(-.05,0.01)+\n",
        "\n",
        "  # geom_point(data=bpca_dt[conc_240<1 &Site == 'CL2'],method='lm',color='orange')+\n",
        "\n",
        "  # geom_smooth(data=bpca_dt[conc_240<1 &Site == 'CL2'],method='lm',color='orange')+\n",
        "  facet_wrap(Treatment~.,scales = 'free')\n",
        "\n",
        "bpca_dt[Treatment %in% c('control','treatment')  ]  %>%\n",
        "  ggplot(aes(y=pearsons,x=Site)) +\n",
        "  geom_boxplot(aes(color=Site))+\n",
        "  theme(legend.position = \"none\")  +\n",
        "  geom_hline(yintercept = .95,color='red',linetype='dashed')+\n",
        "  # geom_abline(color='red')+\n",
        "  # geom_smooth(method='lm')+\n",
        "  facet_wrap(Treatment~.)"
      ],
      "metadata": {
        "colab": {
          "base_uri": "https://localhost:8080/",
          "height": 961
        },
        "id": "GQtgZIpOS7WJ",
        "outputId": "5398988e-02da-4329-a9cc-cedb9ecd30d2"
      },
      "execution_count": 23,
      "outputs": [
        {
          "output_type": "display_data",
          "data": {
            "text/html": [
              "0.991204650965051"
            ],
            "text/markdown": "0.991204650965051",
            "text/latex": "0.991204650965051",
            "text/plain": [
              "[1] 0.9912047"
            ]
          },
          "metadata": {}
        },
        {
          "output_type": "stream",
          "name": "stderr",
          "text": [
            "\u001b[1m\u001b[22m`geom_smooth()` using formula = 'y ~ x'\n",
            "Warning message:\n",
            "“\u001b[1m\u001b[22mRemoved 7 rows containing non-finite values (`stat_smooth()`).”\n",
            "Warning message:\n",
            "“\u001b[1m\u001b[22mRemoved 7 rows containing missing values (`geom_point()`).”\n"
          ]
        },
        {
          "output_type": "display_data",
          "data": {
            "text/plain": [
              "plot without title"
            ],
            "image/png": "[encoded data removed]"
          },
          "metadata": {
            "image/png": {
              "width": 420,
              "height": 420
            }
          }
        },
        {
          "output_type": "display_data",
          "data": {
            "text/plain": [
              "plot without title"
            ],
            "image/png": "[encoded data removed]"
          },
          "metadata": {
            "image/png": {
              "width": 420,
              "height": 420
            }
          }
        }
      ]
    },
    {
      "cell_type": "code",
      "source": [
        "bpca_dt[,.(conc_240,conc_216,conc_mean)]"
      ],
      "metadata": {
        "id": "cbJDPK2Mg9Rt",
        "outputId": "c1014f28-6f3a-4a8e-bbb5-1ae647fe7255",
        "colab": {
          "base_uri": "https://localhost:8080/",
          "height": 1000
        }
      },
      "execution_count": 26,
      "outputs": [
        {
          "output_type": "display_data",
          "data": {
            "text/html": [
              "<table class=\"dataframe\">\n",
              "<caption>A data.table: 150 × 3</caption>\n",
              "<thead>\n",
              "\t<tr><th scope=col>conc_240</th><th scope=col>conc_216</th><th scope=col>conc_mean</th></tr>\n",
              "\t<tr><th scope=col>&lt;dbl&gt;</th><th scope=col>&lt;dbl&gt;</th><th scope=col>&lt;dbl&gt;</th></tr>\n",
              "</thead>\n",
              "<tbody>\n",
              "\t<tr><td> 0.0489071854</td><td> 5.259535e-02</td><td>5.075127e-02</td></tr>\n",
              "\t<tr><td> 0.0210096226</td><td> 1.778472e-02</td><td>1.939717e-02</td></tr>\n",
              "\t<tr><td> 0.1485253993</td><td> 1.600520e-01</td><td>1.542887e-01</td></tr>\n",
              "\t<tr><td>           NA</td><td>           NA</td><td>         NaN</td></tr>\n",
              "\t<tr><td>-0.0031479951</td><td> 2.877661e-04</td><td>2.877661e-04</td></tr>\n",
              "\t<tr><td> 0.1156152011</td><td> 1.093653e-01</td><td>1.124903e-01</td></tr>\n",
              "\t<tr><td> 0.1101276410</td><td> 1.029391e-01</td><td>1.065334e-01</td></tr>\n",
              "\t<tr><td> 0.2023328630</td><td> 1.659853e-01</td><td>1.841591e-01</td></tr>\n",
              "\t<tr><td> 0.1140240297</td><td> 7.463108e-02</td><td>9.432756e-02</td></tr>\n",
              "\t<tr><td> 0.1435082501</td><td> 1.047797e-01</td><td>1.241440e-01</td></tr>\n",
              "\t<tr><td> 0.0467546307</td><td> 2.870660e-02</td><td>3.773061e-02</td></tr>\n",
              "\t<tr><td> 0.0887696485</td><td> 4.253812e-02</td><td>6.565389e-02</td></tr>\n",
              "\t<tr><td> 0.2757141686</td><td> 2.027264e-01</td><td>2.392203e-01</td></tr>\n",
              "\t<tr><td> 0.2572455778</td><td> 1.926422e-01</td><td>2.249439e-01</td></tr>\n",
              "\t<tr><td> 0.0009419129</td><td> 1.019016e-03</td><td>9.804646e-04</td></tr>\n",
              "\t<tr><td>-0.0082432697</td><td> 4.013840e-05</td><td>4.013840e-05</td></tr>\n",
              "\t<tr><td> 0.1354948313</td><td> 1.333316e-01</td><td>1.344132e-01</td></tr>\n",
              "\t<tr><td> 0.1304611697</td><td> 1.302926e-01</td><td>1.303769e-01</td></tr>\n",
              "\t<tr><td>-0.0038227663</td><td> 8.219994e-05</td><td>8.219994e-05</td></tr>\n",
              "\t<tr><td> 0.0396948809</td><td> 2.756092e-02</td><td>3.362790e-02</td></tr>\n",
              "\t<tr><td> 0.0355865315</td><td> 3.506617e-02</td><td>3.532635e-02</td></tr>\n",
              "\t<tr><td> 0.0400282927</td><td> 3.908727e-02</td><td>3.955778e-02</td></tr>\n",
              "\t<tr><td> 0.0971197969</td><td> 8.796721e-02</td><td>9.254350e-02</td></tr>\n",
              "\t<tr><td> 0.0932319345</td><td> 9.388282e-02</td><td>9.355738e-02</td></tr>\n",
              "\t<tr><td> 0.0741288119</td><td> 7.688214e-02</td><td>7.550548e-02</td></tr>\n",
              "\t<tr><td>           NA</td><td> 1.271416e-01</td><td>1.271416e-01</td></tr>\n",
              "\t<tr><td> 0.1375683348</td><td> 1.583090e-01</td><td>1.479387e-01</td></tr>\n",
              "\t<tr><td> 0.0993333087</td><td> 1.019309e-01</td><td>1.006321e-01</td></tr>\n",
              "\t<tr><td>-0.0095005277</td><td>-6.632060e-06</td><td>         NaN</td></tr>\n",
              "\t<tr><td> 0.1756703358</td><td> 1.781081e-01</td><td>1.768892e-01</td></tr>\n",
              "\t<tr><td>⋮</td><td>⋮</td><td>⋮</td></tr>\n",
              "\t<tr><td>-0.004910579</td><td> 9.996806e-06</td><td>9.996806e-06</td></tr>\n",
              "\t<tr><td> 0.110506886</td><td> 9.479220e-02</td><td>1.026495e-01</td></tr>\n",
              "\t<tr><td> 0.105012498</td><td> 9.996112e-02</td><td>1.024868e-01</td></tr>\n",
              "\t<tr><td>-0.002682253</td><td> 1.935948e-04</td><td>1.935948e-04</td></tr>\n",
              "\t<tr><td> 0.008372035</td><td> 1.215574e-02</td><td>1.026389e-02</td></tr>\n",
              "\t<tr><td>-0.003687503</td><td> 1.128087e-04</td><td>1.128087e-04</td></tr>\n",
              "\t<tr><td> 0.019485465</td><td> 1.364069e-02</td><td>1.656308e-02</td></tr>\n",
              "\t<tr><td> 0.146661117</td><td> 1.529297e-01</td><td>1.497954e-01</td></tr>\n",
              "\t<tr><td> 0.124197719</td><td> 1.282685e-01</td><td>1.262331e-01</td></tr>\n",
              "\t<tr><td> 0.006552197</td><td>           NA</td><td>6.552197e-03</td></tr>\n",
              "\t<tr><td>-0.010644012</td><td>-5.249422e-06</td><td>         NaN</td></tr>\n",
              "\t<tr><td> 0.032564876</td><td> 3.186066e-02</td><td>3.221277e-02</td></tr>\n",
              "\t<tr><td> 0.138793803</td><td> 1.644610e-01</td><td>1.516274e-01</td></tr>\n",
              "\t<tr><td> 0.040335470</td><td> 4.062777e-02</td><td>4.048162e-02</td></tr>\n",
              "\t<tr><td> 0.031562403</td><td> 2.931923e-02</td><td>3.044082e-02</td></tr>\n",
              "\t<tr><td> 0.042810788</td><td> 4.221774e-02</td><td>4.251427e-02</td></tr>\n",
              "\t<tr><td>-0.006693958</td><td> 9.183924e-04</td><td>9.183924e-04</td></tr>\n",
              "\t<tr><td>-0.003299732</td><td> 2.164024e-05</td><td>2.164024e-05</td></tr>\n",
              "\t<tr><td> 0.076361807</td><td> 7.908773e-02</td><td>7.772477e-02</td></tr>\n",
              "\t<tr><td> 0.028887585</td><td>           NA</td><td>2.888759e-02</td></tr>\n",
              "\t<tr><td> 0.025765428</td><td> 2.793017e-02</td><td>2.684780e-02</td></tr>\n",
              "\t<tr><td> 0.035612612</td><td> 3.006109e-02</td><td>3.283685e-02</td></tr>\n",
              "\t<tr><td>-0.005107879</td><td>-1.908933e-06</td><td>         NaN</td></tr>\n",
              "\t<tr><td>-0.009255619</td><td>-5.999420e-03</td><td>         NaN</td></tr>\n",
              "\t<tr><td>-0.008890031</td><td>-5.633782e-03</td><td>         NaN</td></tr>\n",
              "\t<tr><td>-0.006474011</td><td>-3.536535e-03</td><td>         NaN</td></tr>\n",
              "\t<tr><td> 0.001458659</td><td> 3.009777e-03</td><td>2.234218e-03</td></tr>\n",
              "\t<tr><td> 0.015479161</td><td> 1.553758e-02</td><td>1.550837e-02</td></tr>\n",
              "\t<tr><td> 0.107184150</td><td> 9.301597e-02</td><td>1.001001e-01</td></tr>\n",
              "\t<tr><td> 0.659664359</td><td> 6.627731e-01</td><td>6.612187e-01</td></tr>\n",
              "</tbody>\n",
              "</table>\n"
            ],
            "text/markdown": "\nA data.table: 150 × 3\n\n| conc_240 &lt;dbl&gt; | conc_216 &lt;dbl&gt; | conc_mean &lt;dbl&gt; |\n|---|---|---|\n|  0.0489071854 |  5.259535e-02 | 5.075127e-02 |\n|  0.0210096226 |  1.778472e-02 | 1.939717e-02 |\n|  0.1485253993 |  1.600520e-01 | 1.542887e-01 |\n|            NA |            NA |          NaN |\n| -0.0031479951 |  2.877661e-04 | 2.877661e-04 |\n|  0.1156152011 |  1.093653e-01 | 1.124903e-01 |\n|  0.1101276410 |  1.029391e-01 | 1.065334e-01 |\n|  0.2023328630 |  1.659853e-01 | 1.841591e-01 |\n|  0.1140240297 |  7.463108e-02 | 9.432756e-02 |\n|  0.1435082501 |  1.047797e-01 | 1.241440e-01 |\n|  0.0467546307 |  2.870660e-02 | 3.773061e-02 |\n|  0.0887696485 |  4.253812e-02 | 6.565389e-02 |\n|  0.2757141686 |  2.027264e-01 | 2.392203e-01 |\n|  0.2572455778 |  1.926422e-01 | 2.249439e-01 |\n|  0.0009419129 |  1.019016e-03 | 9.804646e-04 |\n| -0.0082432697 |  4.013840e-05 | 4.013840e-05 |\n|  0.1354948313 |  1.333316e-01 | 1.344132e-01 |\n|  0.1304611697 |  1.302926e-01 | 1.303769e-01 |\n| -0.0038227663 |  8.219994e-05 | 8.219994e-05 |\n|  0.0396948809 |  2.756092e-02 | 3.362790e-02 |\n|  0.0355865315 |  3.506617e-02 | 3.532635e-02 |\n|  0.0400282927 |  3.908727e-02 | 3.955778e-02 |\n|  0.0971197969 |  8.796721e-02 | 9.254350e-02 |\n|  0.0932319345 |  9.388282e-02 | 9.355738e-02 |\n|  0.0741288119 |  7.688214e-02 | 7.550548e-02 |\n|            NA |  1.271416e-01 | 1.271416e-01 |\n|  0.1375683348 |  1.583090e-01 | 1.479387e-01 |\n|  0.0993333087 |  1.019309e-01 | 1.006321e-01 |\n| -0.0095005277 | -6.632060e-06 |          NaN |\n|  0.1756703358 |  1.781081e-01 | 1.768892e-01 |\n| ⋮ | ⋮ | ⋮ |\n| -0.004910579 |  9.996806e-06 | 9.996806e-06 |\n|  0.110506886 |  9.479220e-02 | 1.026495e-01 |\n|  0.105012498 |  9.996112e-02 | 1.024868e-01 |\n| -0.002682253 |  1.935948e-04 | 1.935948e-04 |\n|  0.008372035 |  1.215574e-02 | 1.026389e-02 |\n| -0.003687503 |  1.128087e-04 | 1.128087e-04 |\n|  0.019485465 |  1.364069e-02 | 1.656308e-02 |\n|  0.146661117 |  1.529297e-01 | 1.497954e-01 |\n|  0.124197719 |  1.282685e-01 | 1.262331e-01 |\n|  0.006552197 |            NA | 6.552197e-03 |\n| -0.010644012 | -5.249422e-06 |          NaN |\n|  0.032564876 |  3.186066e-02 | 3.221277e-02 |\n|  0.138793803 |  1.644610e-01 | 1.516274e-01 |\n|  0.040335470 |  4.062777e-02 | 4.048162e-02 |\n|  0.031562403 |  2.931923e-02 | 3.044082e-02 |\n|  0.042810788 |  4.221774e-02 | 4.251427e-02 |\n| -0.006693958 |  9.183924e-04 | 9.183924e-04 |\n| -0.003299732 |  2.164024e-05 | 2.164024e-05 |\n|  0.076361807 |  7.908773e-02 | 7.772477e-02 |\n|  0.028887585 |            NA | 2.888759e-02 |\n|  0.025765428 |  2.793017e-02 | 2.684780e-02 |\n|  0.035612612 |  3.006109e-02 | 3.283685e-02 |\n| -0.005107879 | -1.908933e-06 |          NaN |\n| -0.009255619 | -5.999420e-03 |          NaN |\n| -0.008890031 | -5.633782e-03 |          NaN |\n| -0.006474011 | -3.536535e-03 |          NaN |\n|  0.001458659 |  3.009777e-03 | 2.234218e-03 |\n|  0.015479161 |  1.553758e-02 | 1.550837e-02 |\n|  0.107184150 |  9.301597e-02 | 1.001001e-01 |\n|  0.659664359 |  6.627731e-01 | 6.612187e-01 |\n\n",
            "text/latex": "A data.table: 150 × 3\n\\begin{tabular}{lll}\n conc\\_240 & conc\\_216 & conc\\_mean\\\\\n <dbl> & <dbl> & <dbl>\\\\\n\\hline\n\t  0.0489071854 &  5.259535e-02 & 5.075127e-02\\\\\n\t  0.0210096226 &  1.778472e-02 & 1.939717e-02\\\\\n\t  0.1485253993 &  1.600520e-01 & 1.542887e-01\\\\\n\t            NA &            NA &          NaN\\\\\n\t -0.0031479951 &  2.877661e-04 & 2.877661e-04\\\\\n\t  0.1156152011 &  1.093653e-01 & 1.124903e-01\\\\\n\t  0.1101276410 &  1.029391e-01 & 1.065334e-01\\\\\n\t  0.2023328630 &  1.659853e-01 & 1.841591e-01\\\\\n\t  0.1140240297 &  7.463108e-02 & 9.432756e-02\\\\\n\t  0.1435082501 &  1.047797e-01 & 1.241440e-01\\\\\n\t  0.0467546307 &  2.870660e-02 & 3.773061e-02\\\\\n\t  0.0887696485 &  4.253812e-02 & 6.565389e-02\\\\\n\t  0.2757141686 &  2.027264e-01 & 2.392203e-01\\\\\n\t  0.2572455778 &  1.926422e-01 & 2.249439e-01\\\\\n\t  0.0009419129 &  1.019016e-03 & 9.804646e-04\\\\\n\t -0.0082432697 &  4.013840e-05 & 4.013840e-05\\\\\n\t  0.1354948313 &  1.333316e-01 & 1.344132e-01\\\\\n\t  0.1304611697 &  1.302926e-01 & 1.303769e-01\\\\\n\t -0.0038227663 &  8.219994e-05 & 8.219994e-05\\\\\n\t  0.0396948809 &  2.756092e-02 & 3.362790e-02\\\\\n\t  0.0355865315 &  3.506617e-02 & 3.532635e-02\\\\\n\t  0.0400282927 &  3.908727e-02 & 3.955778e-02\\\\\n\t  0.0971197969 &  8.796721e-02 & 9.254350e-02\\\\\n\t  0.0932319345 &  9.388282e-02 & 9.355738e-02\\\\\n\t  0.0741288119 &  7.688214e-02 & 7.550548e-02\\\\\n\t            NA &  1.271416e-01 & 1.271416e-01\\\\\n\t  0.1375683348 &  1.583090e-01 & 1.479387e-01\\\\\n\t  0.0993333087 &  1.019309e-01 & 1.006321e-01\\\\\n\t -0.0095005277 & -6.632060e-06 &          NaN\\\\\n\t  0.1756703358 &  1.781081e-01 & 1.768892e-01\\\\\n\t ⋮ & ⋮ & ⋮\\\\\n\t -0.004910579 &  9.996806e-06 & 9.996806e-06\\\\\n\t  0.110506886 &  9.479220e-02 & 1.026495e-01\\\\\n\t  0.105012498 &  9.996112e-02 & 1.024868e-01\\\\\n\t -0.002682253 &  1.935948e-04 & 1.935948e-04\\\\\n\t  0.008372035 &  1.215574e-02 & 1.026389e-02\\\\\n\t -0.003687503 &  1.128087e-04 & 1.128087e-04\\\\\n\t  0.019485465 &  1.364069e-02 & 1.656308e-02\\\\\n\t  0.146661117 &  1.529297e-01 & 1.497954e-01\\\\\n\t  0.124197719 &  1.282685e-01 & 1.262331e-01\\\\\n\t  0.006552197 &            NA & 6.552197e-03\\\\\n\t -0.010644012 & -5.249422e-06 &          NaN\\\\\n\t  0.032564876 &  3.186066e-02 & 3.221277e-02\\\\\n\t  0.138793803 &  1.644610e-01 & 1.516274e-01\\\\\n\t  0.040335470 &  4.062777e-02 & 4.048162e-02\\\\\n\t  0.031562403 &  2.931923e-02 & 3.044082e-02\\\\\n\t  0.042810788 &  4.221774e-02 & 4.251427e-02\\\\\n\t -0.006693958 &  9.183924e-04 & 9.183924e-04\\\\\n\t -0.003299732 &  2.164024e-05 & 2.164024e-05\\\\\n\t  0.076361807 &  7.908773e-02 & 7.772477e-02\\\\\n\t  0.028887585 &            NA & 2.888759e-02\\\\\n\t  0.025765428 &  2.793017e-02 & 2.684780e-02\\\\\n\t  0.035612612 &  3.006109e-02 & 3.283685e-02\\\\\n\t -0.005107879 & -1.908933e-06 &          NaN\\\\\n\t -0.009255619 & -5.999420e-03 &          NaN\\\\\n\t -0.008890031 & -5.633782e-03 &          NaN\\\\\n\t -0.006474011 & -3.536535e-03 &          NaN\\\\\n\t  0.001458659 &  3.009777e-03 & 2.234218e-03\\\\\n\t  0.015479161 &  1.553758e-02 & 1.550837e-02\\\\\n\t  0.107184150 &  9.301597e-02 & 1.001001e-01\\\\\n\t  0.659664359 &  6.627731e-01 & 6.612187e-01\\\\\n\\end{tabular}\n",
            "text/plain": [
              "    conc_240      conc_216      conc_mean   \n",
              "1    0.0489071854  5.259535e-02 5.075127e-02\n",
              "2    0.0210096226  1.778472e-02 1.939717e-02\n",
              "3    0.1485253993  1.600520e-01 1.542887e-01\n",
              "4              NA            NA          NaN\n",
              "5   -0.0031479951  2.877661e-04 2.877661e-04\n",
              "6    0.1156152011  1.093653e-01 1.124903e-01\n",
              "7    0.1101276410  1.029391e-01 1.065334e-01\n",
              "8    0.2023328630  1.659853e-01 1.841591e-01\n",
              "9    0.1140240297  7.463108e-02 9.432756e-02\n",
              "10   0.1435082501  1.047797e-01 1.241440e-01\n",
              "11   0.0467546307  2.870660e-02 3.773061e-02\n",
              "12   0.0887696485  4.253812e-02 6.565389e-02\n",
              "13   0.2757141686  2.027264e-01 2.392203e-01\n",
              "14   0.2572455778  1.926422e-01 2.249439e-01\n",
              "15   0.0009419129  1.019016e-03 9.804646e-04\n",
              "16  -0.0082432697  4.013840e-05 4.013840e-05\n",
              "17   0.1354948313  1.333316e-01 1.344132e-01\n",
              "18   0.1304611697  1.302926e-01 1.303769e-01\n",
              "19  -0.0038227663  8.219994e-05 8.219994e-05\n",
              "20   0.0396948809  2.756092e-02 3.362790e-02\n",
              "21   0.0355865315  3.506617e-02 3.532635e-02\n",
              "22   0.0400282927  3.908727e-02 3.955778e-02\n",
              "23   0.0971197969  8.796721e-02 9.254350e-02\n",
              "24   0.0932319345  9.388282e-02 9.355738e-02\n",
              "25   0.0741288119  7.688214e-02 7.550548e-02\n",
              "26             NA  1.271416e-01 1.271416e-01\n",
              "27   0.1375683348  1.583090e-01 1.479387e-01\n",
              "28   0.0993333087  1.019309e-01 1.006321e-01\n",
              "29  -0.0095005277 -6.632060e-06          NaN\n",
              "30   0.1756703358  1.781081e-01 1.768892e-01\n",
              "⋮   ⋮             ⋮             ⋮           \n",
              "121 -0.004910579   9.996806e-06 9.996806e-06\n",
              "122  0.110506886   9.479220e-02 1.026495e-01\n",
              "123  0.105012498   9.996112e-02 1.024868e-01\n",
              "124 -0.002682253   1.935948e-04 1.935948e-04\n",
              "125  0.008372035   1.215574e-02 1.026389e-02\n",
              "126 -0.003687503   1.128087e-04 1.128087e-04\n",
              "127  0.019485465   1.364069e-02 1.656308e-02\n",
              "128  0.146661117   1.529297e-01 1.497954e-01\n",
              "129  0.124197719   1.282685e-01 1.262331e-01\n",
              "130  0.006552197             NA 6.552197e-03\n",
              "131 -0.010644012  -5.249422e-06          NaN\n",
              "132  0.032564876   3.186066e-02 3.221277e-02\n",
              "133  0.138793803   1.644610e-01 1.516274e-01\n",
              "134  0.040335470   4.062777e-02 4.048162e-02\n",
              "135  0.031562403   2.931923e-02 3.044082e-02\n",
              "136  0.042810788   4.221774e-02 4.251427e-02\n",
              "137 -0.006693958   9.183924e-04 9.183924e-04\n",
              "138 -0.003299732   2.164024e-05 2.164024e-05\n",
              "139  0.076361807   7.908773e-02 7.772477e-02\n",
              "140  0.028887585             NA 2.888759e-02\n",
              "141  0.025765428   2.793017e-02 2.684780e-02\n",
              "142  0.035612612   3.006109e-02 3.283685e-02\n",
              "143 -0.005107879  -1.908933e-06          NaN\n",
              "144 -0.009255619  -5.999420e-03          NaN\n",
              "145 -0.008890031  -5.633782e-03          NaN\n",
              "146 -0.006474011  -3.536535e-03          NaN\n",
              "147  0.001458659   3.009777e-03 2.234218e-03\n",
              "148  0.015479161   1.553758e-02 1.550837e-02\n",
              "149  0.107184150   9.301597e-02 1.001001e-01\n",
              "150  0.659664359   6.627731e-01 6.612187e-01"
            ]
          },
          "metadata": {}
        }
      ]
    },
    {
      "cell_type": "code",
      "source": [
        "bpca_dt[,Depth := paste0(Depth_upper,'-',Depth_lower) %>%  factor(levels= c('0-5','5-10','10-20','10-30','20-30','blank'))]\n",
        "\n",
        "bpca_dt[is.na(Depth),Depth:='blank']"
      ],
      "metadata": {
        "id": "GKwYthLTTEo9"
      },
      "execution_count": 27,
      "outputs": []
    },
    {
      "cell_type": "code",
      "source": [
        "(bpca_dt[!(Treatment %in% c('blank','standard'))]$conc_mean == 0) %>% table"
      ],
      "metadata": {
        "id": "xZGziu2jiJt_",
        "outputId": "152fea2d-da1d-4ea5-9c2f-69a20ea58c92",
        "colab": {
          "base_uri": "https://localhost:8080/",
          "height": 69
        }
      },
      "execution_count": 30,
      "outputs": [
        {
          "output_type": "display_data",
          "data": {
            "text/plain": [
              ".\n",
              "FALSE \n",
              "  125 "
            ]
          },
          "metadata": {}
        }
      ]
    },
    {
      "cell_type": "code",
      "source": [
        "LF_stoic_dt <- data_list[[\"Frac BPCA\"]]\n",
        "LF_stoic_dt[,Depth := paste0(depth_upper_cm %>% as.numeric,'-',depth_lower_cm %>% as.numeric) %>%  factor(levels= c('0-5','5-10','10-20','10-30','20-30','blank'))]"
      ],
      "metadata": {
        "colab": {
          "base_uri": "https://localhost:8080/"
        },
        "id": "ZJUpfrxbTp9B",
        "outputId": "767a0c7c-93ef-4109-cc1e-5f9a45d8ce62"
      },
      "execution_count": 31,
      "outputs": [
        {
          "output_type": "stream",
          "name": "stderr",
          "text": [
            "Warning message in depth_upper_cm %>% as.numeric:\n",
            "“NAs introduced by coercion”\n",
            "Warning message in depth_lower_cm %>% as.numeric:\n",
            "“NAs introduced by coercion”\n"
          ]
        }
      ]
    },
    {
      "cell_type": "code",
      "source": [
        "LF_stoic_dt[,Depth := factor(Depth, levels = c('0-5','5-10','10-20','20-30'))]"
      ],
      "metadata": {
        "id": "ML7RAaynT2cH"
      },
      "execution_count": 32,
      "outputs": []
    },
    {
      "cell_type": "code",
      "source": [
        "LF_stoic_dt_old %>% print"
      ],
      "metadata": {
        "id": "WdaoD-PXu_PS",
        "outputId": "70699a6b-10c0-4ac4-9ddf-9e2ec990993e",
        "colab": {
          "base_uri": "https://localhost:8080/"
        }
      },
      "execution_count": 35,
      "outputs": [
        {
          "output_type": "stream",
          "name": "stdout",
          "text": [
            "Null data.table (0 rows and 0 cols)\n"
          ]
        }
      ]
    },
    {
      "cell_type": "code",
      "source": [
        "join_dt <- LF_stoic_dt_old[,.(Site,Depth,Fract,bpca_starting_mass_mg)]"
      ],
      "metadata": {
        "id": "kU7-9UayUIEk"
      },
      "execution_count": 38,
      "outputs": []
    },
    {
      "cell_type": "code",
      "source": [
        "bpca_dt %>% names\n",
        "# bpca_dt %>% head\n",
        "bpca_dt$Treatment %>% table\n",
        "bpca_exp_dt <- bpca_dt[Treatment %in% c('control','treatment'),.(Treatment,Fraction,Depth,Depth_upper,Depth_lower,Site,Burn_severity,conc_240,conc_216,conc_mean,pearsons)]\n",
        "\n",
        "standards_dt <- bpca_dt[Treatment %in% c('standard','control','treatment'),.(Treatment,Fraction,Depth,Depth_upper,Depth_lower,Site,Burn_severity,PA_240_nm,PA_216_nm,conc_240,conc_216,conc_mean,pearsons)]"
      ],
      "metadata": {
        "colab": {
          "base_uri": "https://localhost:8080/",
          "height": 104
        },
        "id": "Bn1HUZ75cbPs",
        "outputId": "da753f6b-8ceb-4650-e854-fc8df915ea45"
      },
      "execution_count": 92,
      "outputs": [
        {
          "output_type": "display_data",
          "data": {
            "text/html": [
              "<style>\n",
              ".list-inline {list-style: none; margin:0; padding: 0}\n",
              ".list-inline>li {display: inline-block}\n",
              ".list-inline>li:not(:last-child)::after {content: \"\\00b7\"; padding: 0 .5ex}\n",
              "</style>\n",
              "<ol class=list-inline><li>'BPCA_ID'</li><li>'Sample_ID'</li><li>'Treatment'</li><li>'Fraction'</li><li>'Depth_upper'</li><li>'Depth_lower'</li><li>'Site'</li><li>'Burn_severity'</li><li>'240_nm_PA'</li><li>'216_nm_PA'</li><li>'notes'</li><li>'PA_240_nm'</li><li>'PA_216_nm'</li><li>'conc_240'</li><li>'conc_216'</li><li>'conc_mean'</li><li>'pearsons'</li><li>'Depth'</li></ol>\n"
            ],
            "text/markdown": "1. 'BPCA_ID'\n2. 'Sample_ID'\n3. 'Treatment'\n4. 'Fraction'\n5. 'Depth_upper'\n6. 'Depth_lower'\n7. 'Site'\n8. 'Burn_severity'\n9. '240_nm_PA'\n10. '216_nm_PA'\n11. 'notes'\n12. 'PA_240_nm'\n13. 'PA_216_nm'\n14. 'conc_240'\n15. 'conc_216'\n16. 'conc_mean'\n17. 'pearsons'\n18. 'Depth'\n\n\n",
            "text/latex": "\\begin{enumerate*}\n\\item 'BPCA\\_ID'\n\\item 'Sample\\_ID'\n\\item 'Treatment'\n\\item 'Fraction'\n\\item 'Depth\\_upper'\n\\item 'Depth\\_lower'\n\\item 'Site'\n\\item 'Burn\\_severity'\n\\item '240\\_nm\\_PA'\n\\item '216\\_nm\\_PA'\n\\item 'notes'\n\\item 'PA\\_240\\_nm'\n\\item 'PA\\_216\\_nm'\n\\item 'conc\\_240'\n\\item 'conc\\_216'\n\\item 'conc\\_mean'\n\\item 'pearsons'\n\\item 'Depth'\n\\end{enumerate*}\n",
            "text/plain": [
              " [1] \"BPCA_ID\"       \"Sample_ID\"     \"Treatment\"     \"Fraction\"     \n",
              " [5] \"Depth_upper\"   \"Depth_lower\"   \"Site\"          \"Burn_severity\"\n",
              " [9] \"240_nm_PA\"     \"216_nm_PA\"     \"notes\"         \"PA_240_nm\"    \n",
              "[13] \"PA_216_nm\"     \"conc_240\"      \"conc_216\"      \"conc_mean\"    \n",
              "[17] \"pearsons\"      \"Depth\"        "
            ]
          },
          "metadata": {}
        },
        {
          "output_type": "display_data",
          "data": {
            "text/plain": [
              ".\n",
              "    blank   control  standard treatment \n",
              "       10        64         7        69 "
            ]
          },
          "metadata": {}
        }
      ]
    },
    {
      "cell_type": "code",
      "source": [
        "LF_stoic_dt <- merge(LF_stoic_dt,join_dt,by=c('site','Depth','fraction'),all = T)"
      ],
      "metadata": {
        "id": "-U1JkTG7brHU"
      },
      "execution_count": 41,
      "outputs": []
    },
    {
      "cell_type": "code",
      "source": [
        "names(bpca_exp_dt) <- names(bpca_exp_dt) %>% toupper\n",
        "names(LF_stoic_dt) <- names(LF_stoic_dt) %>% toupper"
      ],
      "metadata": {
        "id": "MUqdAFA2eoVc"
      },
      "execution_count": 94,
      "outputs": []
    },
    {
      "cell_type": "code",
      "source": [
        "which(names(LF_stoic_dt) == 'ACCEPT')"
      ],
      "metadata": {
        "id": "3BYFaPoADV90",
        "outputId": "dc7e0473-3ee7-4986-c37b-1b307c5a7921",
        "colab": {
          "base_uri": "https://localhost:8080/",
          "height": 34
        }
      },
      "execution_count": 140,
      "outputs": [
        {
          "output_type": "display_data",
          "data": {
            "text/html": [
              "15"
            ],
            "text/markdown": "15",
            "text/latex": "15",
            "text/plain": [
              "[1] 15"
            ]
          },
          "metadata": {}
        }
      ]
    },
    {
      "cell_type": "code",
      "source": [
        "full_bpca_exp_dt <- merge(bpca_exp_dt,LF_stoic_dt[,c(1:4,7:12,15,length(names(LF_stoic_dt))),with=F],by=c('SITE','FRACTION','DEPTH','BURN_SEVERITY'),all=T)"
      ],
      "metadata": {
        "id": "m_yp4Vo71rxF"
      },
      "execution_count": 141,
      "outputs": []
    },
    {
      "cell_type": "code",
      "source": [
        "names(standards_dt)  <-  names(standards_dt) %>% toupper"
      ],
      "metadata": {
        "id": "kx7MLqzC39bb"
      },
      "execution_count": 99,
      "outputs": []
    },
    {
      "cell_type": "code",
      "source": [
        "standards_dt$test <- NULL"
      ],
      "metadata": {
        "id": "1hUh1VE69T4G"
      },
      "execution_count": 119,
      "outputs": []
    },
    {
      "cell_type": "code",
      "source": [
        "\n",
        "# LF_stoic_dt\n",
        "# bpca_dt\n",
        "# cwd_rate_table\n",
        "\n",
        "write.csv (standards_dt ,'/content/standards.csv')\n",
        "\n",
        "write.csv (full_bpca_exp_dt ,'/content/full_bpca_exp_dt.csv')"
      ],
      "metadata": {
        "id": "CQegqj3_5gOb"
      },
      "execution_count": 142,
      "outputs": []
    },
    {
      "cell_type": "code",
      "source": [
        "folder_id <- \"1zi4l899vHE0cXpNpOkbafP3cmdkXhwKm\"\n",
        "# https://drive.google.com/drive/folders/1zi4l899vHE0cXpNpOkbafP3cmdkXhwKm?usp=drive_link\n",
        "\n",
        "file_path <- '/content/standards.csv'\n",
        "\n",
        "drive_upload(media = '/content/standards.csv' , path = as_id(folder_id),overwrite=TRUE)"
      ],
      "metadata": {
        "id": "JZ4Jd3cD5ez9",
        "outputId": "011008d5-dbd7-452d-8dc9-b2fd615600b6",
        "colab": {
          "base_uri": "https://localhost:8080/"
        }
      },
      "execution_count": 121,
      "outputs": [
        {
          "output_type": "stream",
          "name": "stderr",
          "text": [
            "File trashed:\n",
            "\n",
            "• \u001b[36mstandards.csv\u001b[39m \u001b[90m<id: 1IQGkNctgR6F0mwwGoHb86dFHlH77QCSC>\u001b[39m\n",
            "\n",
            "Local file:\n",
            "\n",
            "• \u001b[34m/content/standards.csv\u001b[39m\n",
            "\n",
            "Uploaded into Drive file:\n",
            "\n",
            "• \u001b[36mstandards.csv\u001b[39m \u001b[90m<id: 1zNR-qpUKPnO6OpArQYuuweoMG505F7pw>\u001b[39m\n",
            "\n",
            "With MIME type:\n",
            "\n",
            "• \u001b[32mtext/csv\u001b[39m\n",
            "\n"
          ]
        }
      ]
    },
    {
      "cell_type": "code",
      "source": [
        "folder_id <- \"1zi4l899vHE0cXpNpOkbafP3cmdkXhwKm\"\n",
        "# https://drive.google.com/drive/folders/1zi4l899vHE0cXpNpOkbafP3cmdkXhwKm?usp=drive_link\n",
        "\n",
        "file_path <- '/content/full_bpca_exp_dt.csv'\n",
        "\n",
        "drive_upload(media = '/content/full_bpca_exp_dt.csv' , path = as_id(folder_id),overwrite=TRUE)"
      ],
      "metadata": {
        "id": "ppphhJGf9j-v",
        "outputId": "52e93db5-f9ef-42cf-b858-995f4969d88f",
        "colab": {
          "base_uri": "https://localhost:8080/"
        }
      },
      "execution_count": 143,
      "outputs": [
        {
          "output_type": "stream",
          "name": "stderr",
          "text": [
            "File trashed:\n",
            "\n",
            "• \u001b[36mfull_bpca_exp_dt.csv\u001b[39m \u001b[90m<id: 11s1Do0Dy8_KOkKL5HUYjwTiVflD9hiyP>\u001b[39m\n",
            "\n",
            "Local file:\n",
            "\n",
            "• \u001b[34m/content/full_bpca_exp_dt.csv\u001b[39m\n",
            "\n",
            "Uploaded into Drive file:\n",
            "\n",
            "• \u001b[36mfull_bpca_exp_dt.csv\u001b[39m \u001b[90m<id: 1664xblDUK5yG4zzhhXXomgwK-wR6p31b>\u001b[39m\n",
            "\n",
            "With MIME type:\n",
            "\n",
            "• \u001b[32mtext/csv\u001b[39m\n",
            "\n"
          ]
        }
      ]
    },
    {
      "cell_type": "code",
      "source": [
        "# https://drive.google.com/drive/folders/1zi4l899vHE0cXpNpOkbafP3cmdkXhwKm?usp=drive_link"
      ],
      "metadata": {
        "id": "0yfI8BiO_11Y"
      },
      "execution_count": null,
      "outputs": []
    },
    {
      "cell_type": "code",
      "source": [
        "(drive_ls(path = as_id('1zi4l899vHE0cXpNpOkbafP3cmdkXhwKm')) %>% data.table)[name == 'full_bpca_exp_dt.csv']$id\n"
      ],
      "metadata": {
        "id": "3-Z2cXGM_b73",
        "outputId": "48421cb3-7b74-4147-c859-99eb9ec8d3a2",
        "colab": {
          "base_uri": "https://localhost:8080/",
          "height": 34
        }
      },
      "execution_count": 136,
      "outputs": [
        {
          "output_type": "display_data",
          "data": {
            "text/html": [
              "'11s1Do0Dy8_KOkKL5HUYjwTiVflD9hiyP'"
            ],
            "text/markdown": "'11s1Do0Dy8_KOkKL5HUYjwTiVflD9hiyP'",
            "text/latex": "'11s1Do0Dy8\\_KOkKL5HUYjwTiVflD9hiyP'",
            "text/plain": [
              "<drive_id[1]>\n",
              "[1] 11s1Do0Dy8_KOkKL5HUYjwTiVflD9hiyP"
            ]
          },
          "metadata": {}
        }
      ]
    }
  ]
}